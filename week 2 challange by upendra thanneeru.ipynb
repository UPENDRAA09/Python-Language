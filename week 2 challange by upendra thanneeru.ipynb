{
 "cells": [
  {
   "cell_type": "markdown",
   "id": "6ed425c3",
   "metadata": {},
   "source": [
    "## Questation number 1 with solutation"
   ]
  },
  {
   "cell_type": "code",
   "execution_count": 1,
   "id": "9742aa85",
   "metadata": {},
   "outputs": [
    {
     "name": "stdout",
     "output_type": "stream",
     "text": [
      "show the sample creation:  the multi-line strings\n",
      "contain three  lines that comes \n",
      "one after one ,and get the results\n"
     ]
    }
   ],
   "source": [
    "# Demonstrate how to create simple and multi-line strings, and check whether a string can change after its creation.\n",
    "sample=''' the multi-line strings\n",
    "contain three  lines that comes \n",
    "one after one ,and get the results'''\n",
    "print('show the sample creation:',sample)\n"
   ]
  },
  {
   "cell_type": "markdown",
   "id": "cc3b4e73",
   "metadata": {},
   "source": [
    "## Questation number 2 with solutation"
   ]
  },
  {
   "cell_type": "code",
   "execution_count": 2,
   "id": "80afb15c",
   "metadata": {},
   "outputs": [
    {
     "name": "stdout",
     "output_type": "stream",
     "text": [
      "Hw\n",
      "oo\n",
      "llo world\n",
      "!dlrow\n",
      "olleH\n",
      "world!\n",
      "Hello\n"
     ]
    }
   ],
   "source": [
    "#‘Hello World!’, extract the following:H W ,o o ,llorld, !dlroW, olleH, World!, Hello .slicing operation\n",
    "str1='Hello world!'\n",
    "print(str1[0]+str1[6])\n",
    "print(str1[4]+str1[7])\n",
    "print(str1[2:11])\n",
    "print(str1[11]+str1[10]+str1[9]+str1[8]+str1[7]+str1[6])\n",
    "print(str1[4]+str1[3]+str1[2]+str1[1]+str1[0])\n",
    "print(str1[6:12])\n",
    "print(str1[:5])"
   ]
  },
  {
   "cell_type": "markdown",
   "id": "848a4515",
   "metadata": {},
   "source": [
    "## Questation number 3 with solutation"
   ]
  },
  {
   "cell_type": "code",
   "execution_count": 3,
   "id": "65ec5b76",
   "metadata": {},
   "outputs": [
    {
     "name": "stdout",
     "output_type": "stream",
     "text": [
      "str3.startswith('Now') True\n",
      "str3.endswith('Now') False\n",
      "str1.islower() False\n",
      "str1.isupper() False\n",
      "str2.islower() False\n",
      "str2.isupper() False\n",
      "str3.islower() False\n",
      "str3.isupper() False\n",
      "str4.islower() False\n",
      "str4.isupper() False\n",
      "str5.islower() False\n",
      "str5.isupper() False\n",
      "str5.isalnum() False\n",
      "str4.isalnum() True\n",
      "str3.isalnum() False\n",
      "str2.isalnum() False\n",
      "str1.isalnum() True\n",
      "str1.isdigit() False\n",
      "str2.isdigit() False\n",
      "str3.isdigit() False\n",
      "str4.isdigit() True\n",
      "str5.isdigit() False\n",
      "str1.isalpha() True\n",
      "str2.isalpha() False\n",
      "str3.isalpha() False\n",
      "str4.isalpha() False\n",
      "str5.isalpha() False\n"
     ]
    }
   ],
   "source": [
    "# only alphabets, only digits, alphanumeric, which are in lowercase, and which are in uppercase. \n",
    "# Also check whether str3 begins or ends with the word “Now”.\n",
    "str1 ='Welcome'\n",
    "str2 ='Hello World!'\n",
    "str3 ='Now is the best time ever!'\n",
    "str4 ='500017'\n",
    "str5 ='IPhone 6'\n",
    "print(\"str3.startswith('Now')\",str3.startswith('Now'))#starts,ends operatations\n",
    "print(\"str3.endswith('Now')\",str3.endswith('Now'))\n",
    "print(\"str1.islower()\",str1.islower())#lower and upper operatations\n",
    "print(\"str1.isupper()\",str1.isupper())\n",
    "print(\"str2.islower()\",str2.islower())\n",
    "print(\"str2.isupper()\",str2.isupper())\n",
    "print(\"str3.islower()\",str3.islower())\n",
    "print(\"str3.isupper()\",str3.isupper())\n",
    "print(\"str4.islower()\",str4.islower())\n",
    "print(\"str4.isupper()\",str4.isupper())\n",
    "print(\"str5.islower()\",str4.islower())\n",
    "print(\"str5.isupper()\",str5.isupper())\n",
    "print(\"str5.isalnum()\",str5.isalnum())\n",
    "print(\"str4.isalnum()\",str4.isalnum())\n",
    "print(\"str3.isalnum()\",str3.isalnum())\n",
    "print(\"str2.isalnum()\",str2.isalnum())\n",
    "print(\"str1.isalnum()\",str1.isalnum())\n",
    "print(\"str1.isdigit()\",str1.isdigit())\n",
    "print(\"str2.isdigit()\",str2.isdigit())\n",
    "print(\"str3.isdigit()\",str3.isdigit())\n",
    "print(\"str4.isdigit()\",str4.isdigit())\n",
    "print(\"str5.isdigit()\",str5.isdigit())\n",
    "print(\"str1.isalpha()\",str1.isalpha())\n",
    "print(\"str2.isalpha()\",str2.isalpha())\n",
    "print(\"str3.isalpha()\",str3.isalpha())\n",
    "print(\"str4.isalpha()\",str4.isalpha())\n",
    "print(\"str5.isalpha()\",str5.isalpha())"
   ]
  },
  {
   "cell_type": "markdown",
   "id": "6c35e0da",
   "metadata": {},
   "source": [
    "## Questation number 4 with solutation"
   ]
  },
  {
   "cell_type": "code",
   "execution_count": 7,
   "id": "3f07ee74",
   "metadata": {},
   "outputs": [
    {
     "name": "stdout",
     "output_type": "stream",
     "text": [
      "Enter  a sentencethe sun risies in the east every day in the morning\n",
      "str1: the sun risies in the east every day in the morning\n",
      "str1.title() The Sun Risies In The East Every Day In The Morning\n"
     ]
    }
   ],
   "source": [
    "#Accept a sentence from the user. Convert the case of the input into title case.\n",
    "str1=input('Enter  a sentence')\n",
    "print(\"str1:\",str1)\n",
    "print(\"str1.title()\",str1.title())\n"
   ]
  },
  {
   "cell_type": "markdown",
   "id": "b243e23a",
   "metadata": {},
   "source": [
    "## Questation number 5 with solutation "
   ]
  },
  {
   "cell_type": "code",
   "execution_count": 8,
   "id": "3d017df8",
   "metadata": {},
   "outputs": [
    {
     "name": "stdout",
     "output_type": "stream",
     "text": [
      "Enter a integer 15\n",
      "x is odd number\n"
     ]
    }
   ],
   "source": [
    "#Write a program that reads an integer from the user. \n",
    "#Then your program should display a message indicating whether the integer is even or odd.\n",
    "x=int(input('Enter a integer '))\n",
    "if x%2 == 0:\n",
    "    print(\"x is even number\")\n",
    "else:\n",
    "    print(\"x is odd number\")"
   ]
  },
  {
   "cell_type": "markdown",
   "id": "936ad543",
   "metadata": {},
   "source": [
    "## Questation number 6 with solutation"
   ]
  },
  {
   "cell_type": "code",
   "execution_count": 9,
   "id": "b9f0b6a5",
   "metadata": {},
   "outputs": [
    {
     "name": "stdout",
     "output_type": "stream",
     "text": [
      "r\n",
      "Enter character is a consonant\n"
     ]
    }
   ],
   "source": [
    "#Create a program that reads a letter of the alphabet from the user.\n",
    "#If the user enters a, e, i, o or u then your program should display a message indicating that the entered letter is a vowel.\n",
    "#Otherwise, the program should display a message that the entered letter is a consonant\n",
    "vowels=['a','e','i','o','u']\n",
    "letter=str(input())\n",
    "if letter in vowels:\n",
    "    print(\"letter is a vowel\")\n",
    "elif letter ==\"x\":\n",
    "    print('sometimes x is a vowel and,sometimes x is a consonant')\n",
    "else:\n",
    "    print('Enter character is a consonant')"
   ]
  },
  {
   "cell_type": "markdown",
   "id": "85d23987",
   "metadata": {},
   "source": [
    "## Questation number 7 with solutation"
   ]
  },
  {
   "cell_type": "code",
   "execution_count": 14,
   "id": "0211398c",
   "metadata": {},
   "outputs": [
    {
     "name": "stdout",
     "output_type": "stream",
     "text": [
      "febreary\n",
      "Enter month have 28 or 29 days\n"
     ]
    }
   ],
   "source": [
    "# The length of a month varies from 28 to 31 days. \n",
    "#Create a program that reads the name of a month from the user as a string. \n",
    "#Then your program should display the number of days in that month.\n",
    "#Display “28 or 29 days” for February so that leap years is addressed.\n",
    "emonths=['january','march','may','july','august','october','december']\n",
    "omonths=['aprial','june','setember','november']\n",
    "amonths=['febreary']\n",
    "month=str(input())\n",
    "if month in emonths :\n",
    "     print(\"Enter month have 31 days only\")\n",
    "elif month in omonths:\n",
    "     print(\"Enter month have 30 days only \")\n",
    "elif month in amonths:\n",
    "     print(\"Enter month have 28 or 29 days\")\n",
    "else:\n",
    "    print('invalid month')"
   ]
  },
  {
   "cell_type": "markdown",
   "id": "cc638d00",
   "metadata": {},
   "source": [
    "## Questation number 8 with solutation"
   ]
  },
  {
   "cell_type": "code",
   "execution_count": 15,
   "id": "19838622",
   "metadata": {},
   "outputs": [
    {
     "name": "stdout",
     "output_type": "stream",
     "text": [
      "Enther the first value of a triangle:11\n",
      "Enter the second vlue of a triangle:25\n",
      "Enter the third value of a triangle:25\n",
      "x 11.0\n",
      "y: 25.0\n",
      "z: 25.0\n",
      "isosceles triangle\n"
     ]
    }
   ],
   "source": [
    "# A triangle can be classified based on the lengths of its sides as equilateral, isosceles or scalene. \n",
    "# All 3 sides of an equilateral triangle have the same length. \n",
    "# An isosceles triangle has two sides that are the same length, and a third side that is a different length. \n",
    "# If all of the sides have different lengths then the triangle is scalene. \n",
    "# Write a program that reads the lengths of 3 sides of a triangle from the user. \n",
    "# Display a message indicating the type of the triangle.\n",
    "x=float(input('Enther the first value of a triangle:'))\n",
    "y=float(input('Enter the second vlue of a triangle:'))\n",
    "z=float(input('Enter the third value of a triangle:'))\n",
    "print(\"x\",x)\n",
    "print(\"y:\",y)\n",
    "print(\"z:\",z)\n",
    "if x==y==z:\n",
    "    print('equilateral triangle')\n",
    "elif x!=y!=z:\n",
    "    print('scalean triangle' )\n",
    "else:\n",
    "    print('isosceles triangle')"
   ]
  },
  {
   "cell_type": "markdown",
   "id": "1cbacd6f",
   "metadata": {},
   "source": [
    "## Questation number 9 with solutation"
   ]
  },
  {
   "cell_type": "code",
   "execution_count": 17,
   "id": "f148f7a8",
   "metadata": {},
   "outputs": [
    {
     "name": "stdout",
     "output_type": "stream",
     "text": [
      "Enter the year:2100\n",
      "2100 is not a leap year\n"
     ]
    }
   ],
   "source": [
    "#The rules for determining whether or not a year is a leap year follow:\n",
    "#Any year that is divisible by 400 is a leap year.\n",
    "#Of the remaining years, any year that is divisible by 100 is not a leap year.\n",
    "#Of the remaining years, any year that is divisible by 4 is a leap year.\n",
    "#All other years are not leap years\n",
    "year=int(input('Enter the year:'))\n",
    "if (year%400==0):\n",
    "    print(year,' is a leap year ')\n",
    "elif(year%4==0 and year%100!=0):\n",
    "    print(year,'is a leap year')\n",
    "else:\n",
    "    print(year,'is not a leap year')"
   ]
  },
  {
   "cell_type": "markdown",
   "id": "481a0988",
   "metadata": {},
   "source": [
    "## Questation number 10 with solutation"
   ]
  },
  {
   "cell_type": "code",
   "execution_count": 33,
   "id": "e3c52eae",
   "metadata": {},
   "outputs": [
    {
     "name": "stdout",
     "output_type": "stream",
     "text": [
      "Enter the first value of a quadratic function(a!=0)5\n",
      "Enter the second value of a quadratic function15\n",
      "Enter the third value of a quadratic function10\n",
      "a 5\n",
      "b 15\n",
      "c 10\n",
      "d -203\n",
      "type of roots:two Complex Roots\n",
      "the solutations are sol1 and sol2\n"
     ]
    }
   ],
   "source": [
    "# Write a program that computes the real roots of a quadratic function. \n",
    "#Your program should begin by prompting the user for the values of a, b and c. \n",
    "#Then it should display a message indicating the number of real roots, along with the values of the real roots (if any).\n",
    "import math\n",
    "a=int(input('Enter the first value of a quadratic function(a!=0)'))\n",
    "b=int(input('Enter the second value of a quadratic function'))\n",
    "c=int(input('Enter the third value of a quadratic function'))\n",
    "print(\"a\",a)\n",
    "print(\"b\",b)\n",
    "print(\"c\",c)\n",
    "d=b^2-4*a*c\n",
    "print(\"d\",d)\n",
    "if d>0:\n",
    "    print(\"type of roots:two Distinct Real Roots\")\n",
    "elif d==0:\n",
    "    print(\"type of roots:two Equal Real Roots\")\n",
    "elif d<0:\n",
    "     print(\"type of roots:two Complex Roots\")\n",
    "s1=(-b-math.sqrt(b**2-4*a*c))/2*a\n",
    "s2=(-b+math.sqrt(b**2-4*a*c))/2*a\n",
    "print(\"the solutations are sol1 and sol2\")\n"
   ]
  },
  {
   "cell_type": "code",
   "execution_count": null,
   "id": "e8b86f8b",
   "metadata": {},
   "outputs": [],
   "source": []
  },
  {
   "cell_type": "code",
   "execution_count": null,
   "id": "3912e5c9",
   "metadata": {},
   "outputs": [],
   "source": []
  }
 ],
 "metadata": {
  "kernelspec": {
   "display_name": "Python 3 (ipykernel)",
   "language": "python",
   "name": "python3"
  },
  "language_info": {
   "codemirror_mode": {
    "name": "ipython",
    "version": 3
   },
   "file_extension": ".py",
   "mimetype": "text/x-python",
   "name": "python",
   "nbconvert_exporter": "python",
   "pygments_lexer": "ipython3",
   "version": "3.11.4"
  }
 },
 "nbformat": 4,
 "nbformat_minor": 5
}
