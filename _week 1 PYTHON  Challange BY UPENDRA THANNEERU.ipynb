{
 "cells": [
  {
   "cell_type": "markdown",
   "id": "f03aef24",
   "metadata": {},
   "source": [
    "# week 1 challange"
   ]
  },
  {
   "cell_type": "markdown",
   "id": "d61a2105",
   "metadata": {},
   "source": [
    "## Questation number 1 solutation\n"
   ]
  },
  {
   "cell_type": "code",
   "execution_count": 16,
   "id": "090c0ee3",
   "metadata": {},
   "outputs": [
    {
     "name": "stdout",
     "output_type": "stream",
     "text": [
      "THANNEERU UPENDRA\n",
      "D.No:-5/34NEAR MPUP SCHOOLAALAPADU VILLAGETSUNDUR MANDALBAPATALA DISTRICTANDHRAPRADESHPIN CODE=522212\n"
     ]
    }
   ],
   "source": [
    "print('THANNEERU UPENDRA')\n",
    "print('D.No:-5/34'\n",
    "      'NEAR MPUP SCHOOL'\n",
    "      'AALAPADU VILLAGE'\n",
    "      'TSUNDUR MANDAL'\n",
    "      'BAPATALA DISTRICT'\n",
    "      'ANDHRAPRADESH' \n",
    "      'PIN CODE=522212')"
   ]
  },
  {
   "cell_type": "markdown",
   "id": "b424edf9",
   "metadata": {},
   "source": [
    "## Questation number 2 solutation\n"
   ]
  },
  {
   "cell_type": "code",
   "execution_count": 18,
   "id": "4026ce29",
   "metadata": {},
   "outputs": [
    {
     "name": "stdout",
     "output_type": "stream",
     "text": [
      "Enter your name:THANNEERU UPENDRA\n",
      "the string Entered is: THANNEERU UPENDRA\n",
      "HELLO THANNEERU UPENDRA\n"
     ]
    }
   ],
   "source": [
    "str1=input('Enter your name:')\n",
    "print('the string Entered is:',str1)\n",
    "print('HELLO',str1)"
   ]
  },
  {
   "cell_type": "markdown",
   "id": "fdd1d308",
   "metadata": {},
   "source": [
    "## Questation number 3 solutation"
   ]
  },
  {
   "cell_type": "code",
   "execution_count": null,
   "id": "54641cf9",
   "metadata": {},
   "outputs": [],
   "source": [
    "# claculate area and circumference of a circle by giving radies  as a input\n",
    "radius=float(input('Enter the radius value of a circle'))\n",
    "area=3.14*radius*radius\n",
    "circumference=2*3.14*radius\n",
    "print('the area of a circle:',area)\n",
    "print('the circumference of a circle=',circumference)\n"
   ]
  },
  {
   "cell_type": "markdown",
   "id": "c0937a53",
   "metadata": {},
   "source": [
    "##  Questation number 4 solutation\n"
   ]
  },
  {
   "cell_type": "code",
   "execution_count": 21,
   "id": "e28ac3db",
   "metadata": {},
   "outputs": [
    {
     "name": "stdout",
     "output_type": "stream",
     "text": [
      "Enter the length value of a rectangle15\n",
      "Enter the breath value of a rectangle25\n",
      "the area of a rectangle: 375.0\n",
      "the perimeter of a rectangle: 80.0\n"
     ]
    }
   ],
   "source": [
    "#claculate area and perimeter of a rectangle by giving length and breath\n",
    "length=float(input('Enter the length value of a rectangle'))\n",
    "breath=float(input('Enter the breath value of a rectangle'))\n",
    "area=length*breath\n",
    "perimeter=(2*length)+(2*breath)\n",
    "print('the area of a rectangle:',area)\n",
    "print('the perimeter of a rectangle:',perimeter)"
   ]
  },
  {
   "cell_type": "markdown",
   "id": "ea744eb6",
   "metadata": {},
   "source": [
    "## Questation number 5 solutation\n"
   ]
  },
  {
   "cell_type": "code",
   "execution_count": 22,
   "id": "8bd48eaf",
   "metadata": {},
   "outputs": [
    {
     "name": "stdout",
     "output_type": "stream",
     "text": [
      "Enter the side value of square12\n",
      "the area of a square: 144.0\n",
      "the perimeter of a square: 48.0\n"
     ]
    }
   ],
   "source": [
    "#calculate area and perimeter of a square by giving it's side value\n",
    "side=float(input('Enter the side value of square'))\n",
    "area=side*side\n",
    "perimeter=4*side\n",
    "print('the area of a square:',area)\n",
    "print('the perimeter of a square:',perimeter)\n"
   ]
  },
  {
   "cell_type": "markdown",
   "id": "b3c6b02f",
   "metadata": {},
   "source": [
    "## Questation number 6 solutation"
   ]
  },
  {
   "cell_type": "code",
   "execution_count": 28,
   "id": "eba63b27",
   "metadata": {},
   "outputs": [
    {
     "name": "stdout",
     "output_type": "stream",
     "text": [
      "Enter the temperature value in fahrenheit59\n",
      "the overall centigrade temperature: 15.0\n"
     ]
    }
   ],
   "source": [
    " #claculate the centigrade temperature  by giving  temperature in fahrenheit value\n",
    "fahrenheit=float(input('Enter the temperature value in fahrenheit'))\n",
    "centigrade=(fahrenheit-32)*5/9\n",
    "print('the overall centigrade temperature:',centigrade)\n"
   ]
  },
  {
   "cell_type": "markdown",
   "id": "f7e1c904",
   "metadata": {},
   "source": [
    "##  Questation number 7 solutation"
   ]
  },
  {
   "cell_type": "code",
   "execution_count": 31,
   "id": "4f0d3f7c",
   "metadata": {},
   "outputs": [
    {
     "name": "stdout",
     "output_type": "stream",
     "text": [
      "the value of a: (5+8j)\n",
      "the value of b: (3-5j)\n",
      "the addition of a and b: (8+3j)\n",
      "the subtraction of b and a: (-2-13j)\n",
      "the multiplication of c and d: (23-110j)\n"
     ]
    }
   ],
   "source": [
    "# two complex numbers. Perform addition, subtraction and multiplication of these numbers an display the results to the user.\n",
    "a=5+8j\n",
    "b=3-5j\n",
    "c=a+b\n",
    "d=b-a\n",
    "e=c*d\n",
    "print('the value of a:',a)\n",
    "print('the value of b:',b)\n",
    "print('the addition of a and b:',c)\n",
    "print('the subtraction of b and a:',d)\n",
    "print('the multiplication of c and d:',e)\n"
   ]
  },
  {
   "cell_type": "markdown",
   "id": "ec2fe623",
   "metadata": {},
   "source": [
    "## Questation number 8 solutation"
   ]
  },
  {
   "cell_type": "code",
   "execution_count": 1,
   "id": "d91476b8",
   "metadata": {},
   "outputs": [
    {
     "name": "stdout",
     "output_type": "stream",
     "text": [
      "Enter the name of an employee:viswaksen\n",
      "Enter the basic salary of an employee7000000\n",
      "the dearness allowance amount: 2800000.0\n",
      "the house rent allowance amount: 1400000.0\n",
      "the gross salary amount: 11200000.0\n"
     ]
    }
   ],
   "source": [
    "#the dearness allowance as 40 % of basic and house rent allowance as 20 % of basic. Display the gross salary to the user. \n",
    "#(Hint: gross salary = basic salary + dearness allowance + house rent allowance)\n",
    "str1=input('Enter the name of an employee:')\n",
    "basicsalary=float(input('Enter the basic salary of an employee'))\n",
    "dearnessallowance=(40/100)*basicsalary\n",
    "houserentallowance =(20/100)* basicsalary\n",
    "grosssalary=basicsalary+dearnessallowance+houserentallowance\n",
    "print('the dearness allowance amount:',dearnessallowance)\n",
    "print('the house rent allowance amount:',houserentallowance)\n",
    "print('the gross salary amount:',grosssalary)\n"
   ]
  },
  {
   "cell_type": "markdown",
   "id": "d6e68161",
   "metadata": {},
   "source": [
    "## Questation number 9 solutation"
   ]
  },
  {
   "cell_type": "code",
   "execution_count": 12,
   "id": "95a5d23b",
   "metadata": {},
   "outputs": [
    {
     "name": "stdout",
     "output_type": "stream",
     "text": [
      "Enter a positive integer: -7\n",
      " Enter a positive integer greater than zero\n"
     ]
    }
   ],
   "source": [
    "#The sum of the first n positive integers can be computed using the formula: sum = (n)(n + 1)/ 2\n",
    "# Prompt the user for input and convert it to an integer\n",
    "n = int(input(\"Enter a positive integer: \"))\n",
    "if n>=0:\n",
    "    sum = (n * (n + 1)) / 2\n",
    "    print(\"The sum of the first\", n, \"positive integers is\", sum)\n",
    "else:\n",
    "    print(\" Enter a positive integer greater than zero\")\n",
    "\n"
   ]
  },
  {
   "cell_type": "markdown",
   "id": "0e83fa8b",
   "metadata": {},
   "source": [
    "## Questation number 10 solutation"
   ]
  },
  {
   "cell_type": "code",
   "execution_count": 53,
   "id": "ca45c178",
   "metadata": {},
   "outputs": [
    {
     "name": "stdout",
     "output_type": "stream",
     "text": [
      "Enter the value of a4\n",
      "Enter the value of b5\n",
      "the value of sum: 9\n",
      "the value of difference: -1\n",
      "the value of product: 20\n",
      "the value of quotient value: 0.8\n",
      "the value of remainder value: 4\n",
      "the value of result value: 1024\n"
     ]
    }
   ],
   "source": [
    "#reads two integers, a and bThe sum of a and b\n",
    "a=int(input('Enter the value of a'))\n",
    "b=int(input('Enter the value of b'))\n",
    "sum =a+b\n",
    "difference=a-b\n",
    "product=a*b\n",
    "quotient=a/b\n",
    "remainder=a%b\n",
    "result=a**b\n",
    "print('the value of sum:',sum)\n",
    "print('the value of difference:',difference)\n",
    "print('the value of product:',product)\n",
    "print('the value of quotient value:',quotient)\n",
    "print('the value of remainder value:',remainder)\n",
    "print('the value of result value:',result)\n",
    "\n"
   ]
  }
 ],
 "metadata": {
  "kernelspec": {
   "display_name": "Python 3 (ipykernel)",
   "language": "python",
   "name": "python3"
  },
  "language_info": {
   "codemirror_mode": {
    "name": "ipython",
    "version": 3
   },
   "file_extension": ".py",
   "mimetype": "text/x-python",
   "name": "python",
   "nbconvert_exporter": "python",
   "pygments_lexer": "ipython3",
   "version": "3.11.4"
  }
 },
 "nbformat": 4,
 "nbformat_minor": 5
}
