{
 "cells": [
  {
   "cell_type": "markdown",
   "id": "e9232693",
   "metadata": {},
   "source": [
    "# PYTHON PROGRAM "
   ]
  },
  {
   "cell_type": "markdown",
   "id": "06e9b4cd",
   "metadata": {},
   "source": [
    "# WEEK1_SESSION 29-02-2024"
   ]
  },
  {
   "cell_type": "markdown",
   "id": "2a9d7441",
   "metadata": {},
   "source": [
    "## TOPICS"
   ]
  },
  {
   "cell_type": "raw",
   "id": "bd989823",
   "metadata": {},
   "source": [
    "1.INTRODUCTION TO PYTHON\n",
    "2.PYTHON FEATURES\n",
    "3.USES OF PYTHON\n",
    "4.PROGRAMMING ENVIRONMENT-INSTALLATION OF ANACONDA NAVIGATOR AND VISUAL STUDIO CODE IDE\n",
    "5.FIRST PYTHON PROGRAM\n",
    "6.COMMENTS\n",
    "7.IDENTIFIERS AND KEYWORDS\n",
    "8.VARIABLES AND DATA TYPES\n",
    "9.ARITHEMETIC OPERATORS\n",
    "10.ASSIGNMENT OPERATORS\n",
    "11.THE INPUT STATEMENT"
   ]
  },
  {
   "cell_type": "markdown",
   "id": "1acf650a",
   "metadata": {},
   "source": [
    "### 1.INTRODUCTION TO PYTHON"
   ]
  },
  {
   "cell_type": "raw",
   "id": "2ee7126e",
   "metadata": {},
   "source": [
    "1. PYTHON IS AN ELEGANT AND ROBUST PROGRAMMING LANGUAGE, WITH NEAREST SEMANTICS OF HUMAN LANGUAGE.\n",
    "2. IT COMBINES THE POWER AND GENERAL APPLICABILITY OF TRADITIONAL COMPILED LANGUAGES WITH THE EASE OF USE OF SCRIPTING AND INTERPRETED LANGUAGES.\n",
    "3. IN THE LIST OF TOP PROGRAMMING LANGUAGES FOR 2019 BY THE IEEE SPECTRUM,IT IS AT #1\n",
    "4. ACCORDING TO POPULARITY OF PROGRAMMING LANGUGAE(PYPL) INDEX,PYTHON IS THE NO.1 USED LANGUAGE IN THE WORLD IN 2019.\n",
    "------------------------------------------------------------------------------------------------------------------------------\n",
    "5.  Data analysts are responsible for interpreting data and analyzing the results utilizing statistical techniques and providing ongoing reports.\n",
    "6. Python focuses on readability. Python can be considered the easiest language to learn in the current IT world. Hence it attracts lots of developers and also has a very large developer community which in turn brings out large support to everyone. Also Python has a very large library, which eases lots of tasks."
   ]
  },
  {
   "cell_type": "markdown",
   "id": "351b3752",
   "metadata": {},
   "source": [
    "## Python Libraries"
   ]
  },
  {
   "cell_type": "raw",
   "id": "1b939540",
   "metadata": {},
   "source": [
    "Numpy : \n",
    "\n",
    "This Python library offers computational tools to help you optimise your statistical and mathematical functions. Numpy Arrays (whether multidimensional or one-dimensional) allow you to effectively apply an operation to the entire   array at once, making the code both shorter and more efficient. In addition, Numpy makes it easy to perform matrix operations, which are central to many machine learning algorithms. \n",
    "\n",
    "Matplotlib: \n",
    "\n",
    "Matplotlib allows you to make data visualisations by offering graph-based representations. It also lets you control the graphs. Hence, you can alter the shape, thickness, colours, and style per your preferences. \n",
    "\n",
    "Pandas :\n",
    "\n",
    "Pandas is one of the most significant Python libraries concerning data analytics. It entails high-level data manipulation tools and structures that help during data cleaning and manipulation processes. You can clean your error-filled data and remove what’s not needed. The library allows storing data in tabular format using Data Frame. \n",
    "\n",
    "Scikit-learn : \n",
    "\n",
    "This Python library helps you execute ML models. It automates the process of generating helpful insights from massive volumes of data. \n"
   ]
  },
  {
   "cell_type": "markdown",
   "id": "359b32cd",
   "metadata": {},
   "source": [
    "## Life cycle of a Project"
   ]
  },
  {
   "cell_type": "raw",
   "id": "fe9492a4",
   "metadata": {},
   "source": [
    "Data Engineer : \n",
    "    \n",
    "It will comes under the 1st step of Data Science life cycle. It will undertsnd the business problem and \n",
    "will collect the data from different sources like App,Website and many more. It will collect the data and \n",
    "will transfer to 2nd step\n",
    "\n",
    "Data Analyst : \n",
    "    \n",
    "It will comes under 2nd and 3rd steps.It will prepared all the data and perform EDA on data means to clean data load data making visualizations . \n",
    "It will  create all the insights related to data . We can say It will extract meaningfull insights of the data in visual format.\n",
    "\n",
    "Data Science : \n",
    "    \n",
    "It will comes under 4th , 5th  and 6th  steps. In that machine learning,Deep learning will comes under the data science"
   ]
  },
  {
   "cell_type": "markdown",
   "id": "954c3548",
   "metadata": {},
   "source": [
    "### 2.PYTHON FEATURES"
   ]
  },
  {
   "cell_type": "raw",
   "id": "a9899018",
   "metadata": {},
   "source": [
    "1.SIMPLE AND EASY TO LEARN\n",
    "2.OPEN SOURCE\n",
    "3.DYNAMICALLY TYPED\n",
    "4.PLATFORM INDEPENDENT\n",
    "5.SCRIPTING LANGUAGE\n",
    "6.SCALABLE\n",
    "7.PORTABLE AND EASY TO MAINTAIN\n",
    "8.DATABASE INTERFACE\n",
    "9.GUI PROGRAMMING(GRAPHICAL USER INTERFACE)\n",
    "10.EXTENSIVE LIBRARIES\n",
    "11.EXTENSIBLE"
   ]
  },
  {
   "cell_type": "markdown",
   "id": "60709d9e",
   "metadata": {},
   "source": [
    "### 3.USES OF PYTHON"
   ]
  },
  {
   "cell_type": "raw",
   "id": "74971441",
   "metadata": {},
   "source": [
    "1. GOOGLE\n",
    "2. YOUTUBE\n",
    "3. YAHOO!\n",
    "4. DROPBOZ\n",
    "5. NASA\n",
    "6. REDDIT"
   ]
  },
  {
   "cell_type": "markdown",
   "id": "41888ff0",
   "metadata": {},
   "source": [
    "### 4.PROGRAMMING ENVIRONMENT-INSTALLATION OF ANACONDA NAVIGATOR AND VISUAL STUDIO CODE IDE"
   ]
  },
  {
   "cell_type": "markdown",
   "id": "88118af2",
   "metadata": {},
   "source": [
    " Integrated Development Environment (IDE) for Python\n",
    " Installation of Anaconda Navigator (https://www.anaconda.com/products/individual) \n",
    " Google Colaboratory (https://colab.research.google.com/notebooks/intro.ipynb)\n",
    " Kaggle (https://www.kaggle.com/notebooks)\n"
   ]
  },
  {
   "cell_type": "markdown",
   "id": "982da5de",
   "metadata": {},
   "source": [
    "WEEK1_SESSION2 01-03-2024"
   ]
  },
  {
   "cell_type": "markdown",
   "id": "aaa7b3ec",
   "metadata": {},
   "source": [
    "### 5.FIRST PYTHON PROGRAM"
   ]
  },
  {
   "cell_type": "raw",
   "id": "484cd699",
   "metadata": {},
   "source": [
    "SYNTAX:\n",
    "    PYTHON USES WHITESPACES AND INDENTS TO DENOTE BLOCKS OF CODE\n",
    "    LINES WITH THE CODE BLOCK ARE INDENTED AT THE SAME LEVEL\n",
    "    TO END A CODE BLOCK,REMOVE THE INDENTATION\n",
    "    "
   ]
  },
  {
   "cell_type": "code",
   "execution_count": 8,
   "id": "9e5cffbd",
   "metadata": {},
   "outputs": [
    {
     "name": "stdout",
     "output_type": "stream",
     "text": [
      "HELLO WORLD\n"
     ]
    }
   ],
   "source": [
    "# print a message\n",
    "print(\"HELLO WORLD\")  # print statement is the output statement of pythohn"
   ]
  },
  {
   "cell_type": "markdown",
   "id": "b9a5b334",
   "metadata": {},
   "source": [
    "### 6.COMMENTS"
   ]
  },
  {
   "cell_type": "raw",
   "id": "cf5f4403",
   "metadata": {},
   "source": [
    "There are two types of comments in Python:\n",
    "1.Single line comments: Given using #\n",
    "2.Multi-line comments: Given using triple quotes\n",
    "Example: \n"
   ]
  },
  {
   "cell_type": "code",
   "execution_count": 9,
   "id": "87e25199",
   "metadata": {},
   "outputs": [
    {
     "name": "stdout",
     "output_type": "stream",
     "text": [
      "We are out of the comment\n"
     ]
    }
   ],
   "source": [
    "# this is a single line comment\n",
    "# print(\"I will not be printed, I am a single line comment\")\n",
    "''' This is a block comment 3 single quotes\n",
    "print(\"We are in a comment\")\n",
    "print (\"We are still in a comment\")\n",
    "'''\n",
    "print(\"We are out of the comment\")\n"
   ]
  },
  {
   "cell_type": "markdown",
   "id": "b9aeaafc",
   "metadata": {},
   "source": [
    "### 7.IDENTIFIERS AND KEYWORDS"
   ]
  },
  {
   "cell_type": "raw",
   "id": "d0a28364",
   "metadata": {},
   "source": [
    "AN IDENTIFIER STARTS WITH A LETTER A TO Z OR a to z OR AN UNDERSCORE( _ ) FOLLOWED BY ZERO OR MORE LETTERS,UNDERSCORES,AND DIGITS(0TO9)\n",
    "\n",
    "PYTHON DOES NOT ALLOW SPECIAL CHARACTERS IN IDENTIFIERS\n",
    "AN IDENTIFIER MUST NOT BE A KEYWORD OF PYTHON\n",
    "PYTHON IS A CASE SENSITIVE PROGRAMMING LANGUAGE."
   ]
  },
  {
   "cell_type": "markdown",
   "id": "32cc82d3",
   "metadata": {},
   "source": [
    "## What are Python Identifiers?"
   ]
  },
  {
   "cell_type": "raw",
   "id": "a2e9cd93",
   "metadata": {},
   "source": [
    "\n",
    "Python Identifier is the name we give to identify a variable, function, class, module or other object. That means whenever we want to give an entity a name, that’s called identifier."
   ]
  },
  {
   "cell_type": "markdown",
   "id": "8aa0dce7",
   "metadata": {},
   "source": [
    "## Rules for Writing Identifiers"
   ]
  },
  {
   "cell_type": "raw",
   "id": "3aa3ef83",
   "metadata": {},
   "source": [
    "\n",
    "There are some rules for writing Identifiers. But first you must know Python is case sensitive. That means Name and name are two different identifiers in Python. Here are some rules for writing Identifiers in python.\n",
    "\n",
    "Identifiers can be combination of uppercase and lowercase letters, digits or an underscore(_). So myVariable, variable_1, variable_for_print all are valid python identifiers.\n",
    "\n",
    "An Identifier can not start with digit. \n",
    "So while variable1 is valid, 1variable is not valid.\n",
    "\n",
    "We can’t use special symbols like !,#,@,%,$ etc in our Identifier.\n",
    "\n",
    "Identifier can be of any length.\n",
    "\n",
    "Though these are hard rules for writing identifiers, also there are some naming conventions which are not mandatory but rather good practices to follow.\n",
    "\n",
    "Class names start with an uppercase letter. \n",
    "All other identifiers start with a lowercase letter.\n",
    "\n",
    "Starting an identifier with a single leading underscore indicates the identifier is private.\n",
    "\n",
    "If the identifier starts and ends with two underscores, than means the identifier is language-defined special name.\n",
    "\n",
    "While c = 10 is valid, writing count = 10 would make more sense and it would be easier to figure out what it does even when you look at your code after a long time.\n",
    "\n",
    "Multiple words can be separated using an underscore, for example this_is_a_variable.\n"
   ]
  },
  {
   "cell_type": "code",
   "execution_count": 10,
   "id": "40d1c4d6",
   "metadata": {},
   "outputs": [
    {
     "name": "stdout",
     "output_type": "stream",
     "text": [
      "['False', 'None', 'True', 'and', 'as', 'assert', 'async', 'await', 'break', 'class', 'continue', 'def', 'del', 'elif', 'else', 'except', 'finally', 'for', 'from', 'global', 'if', 'import', 'in', 'is', 'lambda', 'nonlocal', 'not', 'or', 'pass', 'raise', 'return', 'try', 'while', 'with', 'yield']\n"
     ]
    }
   ],
   "source": [
    "import keyword\n",
    "print(keyword.kwlist)"
   ]
  },
  {
   "cell_type": "markdown",
   "id": "87668ec7",
   "metadata": {},
   "source": [
    "### 8.VARIABLES AND DATA TYPES"
   ]
  },
  {
   "cell_type": "raw",
   "id": "ca55da0d",
   "metadata": {},
   "source": [
    " A variable can be considered as a container that holds value. \n",
    "    \n",
    " Python is a dynamically-typed language i.e. one which can detect data types automatically\n",
    "\n",
    " Python supports three basic data types: Number, String and Boolean\n",
    "        \n",
    " In addition, Python support the following four Data structures: List, Tuple, Set and Dictionary\n"
   ]
  },
  {
   "cell_type": "code",
   "execution_count": 12,
   "id": "9860a954",
   "metadata": {},
   "outputs": [
    {
     "name": "stdout",
     "output_type": "stream",
     "text": [
      "the value of x: 10\n",
      "the datatype of x: <class 'int'>\n"
     ]
    }
   ],
   "source": [
    "# demonstrate variables and datatypes\n",
    "x = 10 # the value 10 is stored at memory location x. x is called variable\n",
    "\n",
    "print('the value of x:',x)\n",
    "\n",
    "# the properties of variables are:name,value,Dtype\n",
    "\n",
    "print('the datatype of x:',type(x))"
   ]
  },
  {
   "cell_type": "code",
   "execution_count": 13,
   "id": "2b862ec1",
   "metadata": {},
   "outputs": [
    {
     "name": "stdout",
     "output_type": "stream",
     "text": [
      "10\n",
      "the new value of x : 20.678\n",
      "the new type of x: <class 'float'>\n"
     ]
    }
   ],
   "source": [
    "# number,string,bool\n",
    "\n",
    "# numeric Datatype of python:int,float,complex\n",
    "\n",
    "print(x)\n",
    "\n",
    "x= 20.678 # float value\n",
    "\n",
    "print('the new value of x :',x)\n",
    "print('the new type of x:',type(x))"
   ]
  },
  {
   "cell_type": "code",
   "execution_count": 15,
   "id": "1f63d0ab",
   "metadata": {},
   "outputs": [
    {
     "name": "stdout",
     "output_type": "stream",
     "text": [
      "The value of y : (4+8j)\n",
      "The datatype of y: <class 'complex'>\n"
     ]
    }
   ],
   "source": [
    "y = 4+8j # Complex number a+bj\n",
    "\n",
    "print('The value of y :',y)\n",
    "print('The datatype of y:',type(y))"
   ]
  },
  {
   "cell_type": "markdown",
   "id": "cf69c6c8",
   "metadata": {},
   "source": [
    "WEEK1_SESSION3 01-03-2024"
   ]
  },
  {
   "cell_type": "raw",
   "id": "e69997aa",
   "metadata": {},
   "source": [
    "Python has 3 numeric types:\n",
    " \n",
    "Integers\n",
    "\tEx: a = 10\n",
    " \n",
    "b. Floating Point numbers\n",
    "    Ex: a = 10.05\n",
    " \n",
    "c. Complex numbers\n",
    "    Ex: a = complex(10,5) # 10+5j\n"
   ]
  },
  {
   "cell_type": "markdown",
   "id": "fed709b2",
   "metadata": {},
   "source": [
    "## Strings"
   ]
  },
  {
   "cell_type": "raw",
   "id": "0bad2cf5",
   "metadata": {},
   "source": [
    "             String Datatype\n",
    " A string is a sequence of characters. \n",
    "In python, \n",
    "we can create a string using a single quote( ' ' ), \n",
    "double quotes (\" \") or triple quotes ( ' ' ' )\n",
    " str1 = 'Python Programming'\n",
    " str2 = \"Python Programming\"\n",
    " str3 = '''Python Programming'''  # Multi-line string\n"
   ]
  },
  {
   "cell_type": "code",
   "execution_count": 17,
   "id": "dd32d21f",
   "metadata": {},
   "outputs": [
    {
     "name": "stdout",
     "output_type": "stream",
     "text": [
      "The string str1 is : welcome to Python Programming\n"
     ]
    }
   ],
   "source": [
    "str1='welcome to Python Programming'\n",
    "\n",
    "print('The string str1 is :',str1)"
   ]
  },
  {
   "cell_type": "code",
   "execution_count": 13,
   "id": "92cc156b",
   "metadata": {},
   "outputs": [
    {
     "name": "stdout",
     "output_type": "stream",
     "text": [
      "(0, 'h')\n",
      "(1, 'e')\n",
      "(2, 'l')\n",
      "(3, 'l')\n",
      "(4, 'o')\n",
      "(5, ' ')\n",
      "(6, 'w')\n",
      "(7, 'o')\n",
      "(8, 'r')\n",
      "(9, 'l')\n",
      "(10, 'd')\n"
     ]
    }
   ],
   "source": [
    "str1='hello world'\n",
    "for i in enumerate(str1):\n",
    "    print(i)\n",
    "    "
   ]
  },
  {
   "cell_type": "code",
   "execution_count": 18,
   "id": "fc0d2ce6",
   "metadata": {},
   "outputs": [
    {
     "name": "stdout",
     "output_type": "stream",
     "text": [
      "The string str2: welcome to Strings in Python\n"
     ]
    }
   ],
   "source": [
    "str2=\"welcome to Strings in Python\"\n",
    "\n",
    "print('The string str2:',str2)"
   ]
  },
  {
   "cell_type": "code",
   "execution_count": 20,
   "id": "72b9e24e",
   "metadata": {},
   "outputs": [
    {
     "name": "stdout",
     "output_type": "stream",
     "text": [
      "the string str3: \n",
      "        welcome to multi-line\n",
      "        strings\n",
      "\n",
      "The datatypes of str1,str2,str3 are: <class 'str'> <class 'str'> <class 'str'>\n"
     ]
    }
   ],
   "source": [
    "str3='''\n",
    "        welcome to multi-line\n",
    "        strings\n",
    "'''\n",
    "print('the string str3:',str3)\n",
    "\n",
    "print('The datatypes of str1,str2,str3 are:',type(str1),type(str2),type(str3))"
   ]
  },
  {
   "cell_type": "markdown",
   "id": "add3ad96",
   "metadata": {},
   "source": [
    "## Bool Datatype"
   ]
  },
  {
   "cell_type": "raw",
   "id": "233f6511",
   "metadata": {},
   "source": [
    "             Boolean Data Type\n",
    " A boolean variable can store only one of two values: True or False\n",
    " flag1 = True\n",
    " flag2 = False\n"
   ]
  },
  {
   "cell_type": "code",
   "execution_count": 21,
   "id": "5bc88ae0",
   "metadata": {},
   "outputs": [
    {
     "name": "stdout",
     "output_type": "stream",
     "text": [
      "The value of flag: True\n",
      "The datatype of flag: <class 'bool'>\n"
     ]
    }
   ],
   "source": [
    "flag = True\n",
    "\n",
    "print('The value of flag:',flag)\n",
    "print('The datatype of flag:',type(flag))"
   ]
  },
  {
   "cell_type": "markdown",
   "id": "0a417a0e",
   "metadata": {},
   "source": [
    "### 9.ARITHEMETIC OPERATORS"
   ]
  },
  {
   "cell_type": "raw",
   "id": "faa605d7",
   "metadata": {},
   "source": [
    "  + (plus) : Adds two objects\n",
    "  - (minus) Gives the subtraction of one number from the other; if the first operand is absent it is assumed to be zero.\n",
    "  * (multiply) Gives the multiplication of the two numbers or returns the string repeated that many times.\n",
    "  ** (power) Returns x to the power of y\n",
    "  / (divide) Divide x by y\n",
    "  // (floor division) Returns the floor of the quotient\n",
    "  % (modulo) Returns the remainder of the division\n"
   ]
  },
  {
   "cell_type": "code",
   "execution_count": 24,
   "id": "07f62037",
   "metadata": {},
   "outputs": [
    {
     "data": {
      "text/plain": [
       "28"
      ]
     },
     "execution_count": 24,
     "metadata": {},
     "output_type": "execute_result"
    }
   ],
   "source": [
    "# Expressions\n",
    "x+y # x and y are called operands,+ is called binary operator"
   ]
  },
  {
   "cell_type": "markdown",
   "id": "98f203f7",
   "metadata": {},
   "source": [
    "## Unary operator"
   ]
  },
  {
   "cell_type": "code",
   "execution_count": 26,
   "id": "bc9399c6",
   "metadata": {},
   "outputs": [
    {
     "name": "stdout",
     "output_type": "stream",
     "text": [
      "x: 10 y: -10 z: 10\n"
     ]
    }
   ],
   "source": [
    "x = 10\n",
    "y = -x\n",
    "z = -y\n",
    "print('x:',x,'y:',y,'z:',z)"
   ]
  },
  {
   "cell_type": "markdown",
   "id": "14fc75b7",
   "metadata": {},
   "source": [
    "WEEK1_SESSION4 02-03-2024"
   ]
  },
  {
   "cell_type": "markdown",
   "id": "76509109",
   "metadata": {},
   "source": [
    "## PEMDAS rule:Paranthesis,exponent,(multiplication,division),(addition and subtraction)"
   ]
  },
  {
   "cell_type": "markdown",
   "id": "27a34464",
   "metadata": {},
   "source": [
    "## 10.Assignment Operators"
   ]
  },
  {
   "cell_type": "raw",
   "id": "7120fa94",
   "metadata": {},
   "source": [
    "# List of assignment operators: = , += , -=, *= , /= , %= , //= , **=\n",
    "x = 10\n",
    "y = x\n",
    "\n",
    "print ('Value of x = ',x,' Value of y = ',y)\n",
    "x += 2 # x = x + 2\n",
    "print ('Value of x after increment = ', x)\n",
    "x -= 3\n",
    "print ('Value of x after decrement of 3 = ',x)\n",
    "x *= 2 # x = x * 2\n"
   ]
  },
  {
   "cell_type": "markdown",
   "id": "70b3f7d5",
   "metadata": {},
   "source": [
    "## 11. The input() statement"
   ]
  },
  {
   "cell_type": "raw",
   "id": "6affe9a8",
   "metadata": {},
   "source": [
    " In Python, the input() statement is used to accept user input\n",
    " It returns the string read from the keyboard\n",
    " This string may have to be converted into other data type, depending on the program logic\n",
    " A string, called “prompt” can be supplied as an argument to the input statement\n",
    "\n",
    "Example: \n",
    "\n",
    "\n"
   ]
  },
  {
   "cell_type": "code",
   "execution_count": 2,
   "id": "228cec49",
   "metadata": {},
   "outputs": [
    {
     "name": "stdout",
     "output_type": "stream",
     "text": [
      " Enter a value for a :5\n"
     ]
    }
   ],
   "source": [
    "a = input(' Enter a value for a :')"
   ]
  },
  {
   "cell_type": "code",
   "execution_count": 4,
   "id": "271251e4",
   "metadata": {
    "scrolled": true
   },
   "outputs": [
    {
     "name": "stdout",
     "output_type": "stream",
     "text": [
      "Enter the radius of the circle5\n",
      "The area of the circle 78.5\n",
      "the circumferences of the circle: 31.400000000000002\n"
     ]
    }
   ],
   "source": [
    "# calculate area and circumference of a circle by accepting radius as input\n",
    "radius=float(input('Enter the radius of the circle'))\n",
    "area=3.14*radius*radius\n",
    "circumference=2*3.14*radius\n",
    "print('The area of the circle',area)\n",
    "print('the circumferences of the circle:',circumference)"
   ]
  },
  {
   "cell_type": "markdown",
   "id": "88167963",
   "metadata": {},
   "source": [
    "# week 1 challange"
   ]
  },
  {
   "cell_type": "markdown",
   "id": "8842d8fe",
   "metadata": {},
   "source": [
    "## Questation number 1 solutation"
   ]
  },
  {
   "cell_type": "code",
   "execution_count": 1,
   "id": "b03a52dc",
   "metadata": {},
   "outputs": [
    {
     "name": "stdout",
     "output_type": "stream",
     "text": [
      "THANNEERU UPENDRA\n",
      "D.No:-5/34NEAR MPUP SCHOOLAALAPADU VILLAGETSUNDUR MANDALBAPATALA DISTRICTANDHRAPRADESHPIN CODE=522212\n"
     ]
    }
   ],
   "source": [
    "print('THANNEERU UPENDRA')\n",
    "print('D.No:-5/34'\n",
    "      'NEAR MPUP SCHOOL'\n",
    "      'AALAPADU VILLAGE'\n",
    "      'TSUNDUR MANDAL'\n",
    "      'BAPATALA DISTRICT'\n",
    "      'ANDHRAPRADESH' \n",
    "      'PIN CODE=522212')"
   ]
  },
  {
   "cell_type": "markdown",
   "id": "07403d8a",
   "metadata": {},
   "source": [
    "## Questation number 2 solutation"
   ]
  },
  {
   "cell_type": "code",
   "execution_count": 2,
   "id": "f5b6dd0e",
   "metadata": {},
   "outputs": [
    {
     "name": "stdout",
     "output_type": "stream",
     "text": [
      "Enter your name:UPENDRA\n",
      "the string Entered is: UPENDRA\n",
      "HELLO UPENDRA\n"
     ]
    }
   ],
   "source": [
    "str1=input('Enter your name:')\n",
    "print('the string Entered is:',str1)\n",
    "print('HELLO',str1)"
   ]
  },
  {
   "cell_type": "markdown",
   "id": "d08a0974",
   "metadata": {},
   "source": [
    "## Questation number 3 solutation"
   ]
  },
  {
   "cell_type": "code",
   "execution_count": 3,
   "id": "9f25d505",
   "metadata": {},
   "outputs": [
    {
     "name": "stdout",
     "output_type": "stream",
     "text": [
      "Enter the radius value of a circle5\n",
      "the area of a circle: 78.5\n",
      "the circumference of a circle= 31.400000000000002\n"
     ]
    }
   ],
   "source": [
    "# claculate area and circumference of a circle by giving radies  as a input\n",
    "radius=float(input('Enter the radius value of a circle'))\n",
    "area=3.14*radius*radius\n",
    "circumference=2*3.14*radius\n",
    "print('the area of a circle:',area)\n",
    "print('the circumference of a circle=',circumference)"
   ]
  },
  {
   "cell_type": "markdown",
   "id": "d6fd18be",
   "metadata": {},
   "source": [
    "##  Questation number 4 solutation"
   ]
  },
  {
   "cell_type": "code",
   "execution_count": 4,
   "id": "24bfdbbf",
   "metadata": {},
   "outputs": [
    {
     "name": "stdout",
     "output_type": "stream",
     "text": [
      "Enter the length value of a rectangle20\n",
      "Enter the breath value of a rectangle5\n",
      "the area of a rectangle: 100.0\n",
      "the perimeter of a rectangle: 50.0\n"
     ]
    }
   ],
   "source": [
    "#claculate area and perimeter of a rectangle by giving length and breath\n",
    "length=float(input('Enter the length value of a rectangle'))\n",
    "breath=float(input('Enter the breath value of a rectangle'))\n",
    "area=length*breath\n",
    "perimeter=(2*length)+(2*breath)\n",
    "print('the area of a rectangle:',area)\n",
    "print('the perimeter of a rectangle:',perimeter)"
   ]
  },
  {
   "cell_type": "markdown",
   "id": "d4525521",
   "metadata": {},
   "source": [
    "## Questation number 5 solutation"
   ]
  },
  {
   "cell_type": "code",
   "execution_count": 5,
   "id": "75e111ac",
   "metadata": {},
   "outputs": [
    {
     "name": "stdout",
     "output_type": "stream",
     "text": [
      "Enter the side value of square5\n",
      "the area of a square: 25.0\n",
      "the perimeter of a square: 20.0\n"
     ]
    }
   ],
   "source": [
    "#calculate area and perimeter of a square by giving it's side value\n",
    "side=float(input('Enter the side value of square'))\n",
    "area=side*side\n",
    "perimeter=4*side\n",
    "print('the area of a square:',area)\n",
    "print('the perimeter of a square:',perimeter)"
   ]
  },
  {
   "cell_type": "markdown",
   "id": "b1c3f9a1",
   "metadata": {},
   "source": [
    "## Questation number 6 solutation"
   ]
  },
  {
   "cell_type": "code",
   "execution_count": 6,
   "id": "be955fb9",
   "metadata": {},
   "outputs": [
    {
     "name": "stdout",
     "output_type": "stream",
     "text": [
      "Enter the temperature value in fahrenheit59\n",
      "the overall centigrade temperature: 15.0\n"
     ]
    }
   ],
   "source": [
    " #claculate the centigrade temperature  by giving  temperature in fahrenheit value\n",
    "fahrenheit=float(input('Enter the temperature value in fahrenheit'))\n",
    "centigrade=(fahrenheit-32)*5/9\n",
    "print('the overall centigrade temperature:',centigrade)"
   ]
  },
  {
   "cell_type": "markdown",
   "id": "b6c0f0ae",
   "metadata": {},
   "source": [
    "## Questation number 7 solutation"
   ]
  },
  {
   "cell_type": "code",
   "execution_count": 7,
   "id": "04bfbfc5",
   "metadata": {},
   "outputs": [
    {
     "name": "stdout",
     "output_type": "stream",
     "text": [
      "the value of a: (5+8j)\n",
      "the value of b: (3-5j)\n",
      "the addition of a and b: (8+3j)\n",
      "the subtraction of b and a: (-2-13j)\n",
      "the multiplication of c and d: (23-110j)\n"
     ]
    }
   ],
   "source": [
    "# two complex numbers. Perform addition, subtraction and multiplication of these numbers an display the results to the user.\n",
    "a=5+8j\n",
    "b=3-5j\n",
    "c=a+b\n",
    "d=b-a\n",
    "e=c*d\n",
    "print('the value of a:',a)\n",
    "print('the value of b:',b)\n",
    "print('the addition of a and b:',c)\n",
    "print('the subtraction of b and a:',d)\n",
    "print('the multiplication of c and d:',e)\n"
   ]
  },
  {
   "cell_type": "markdown",
   "id": "7fd19f4b",
   "metadata": {},
   "source": [
    "## Questation number 8 solutation"
   ]
  },
  {
   "cell_type": "code",
   "execution_count": 8,
   "id": "10dc63c1",
   "metadata": {},
   "outputs": [
    {
     "name": "stdout",
     "output_type": "stream",
     "text": [
      "Enter the name of an employee:VISWAKSEN\n",
      "Enter the basic salary of an employee500000\n",
      "the dearness allowance amount: 200000.0\n",
      "the house rent allowance amount: 100000.0\n",
      "the gross salary amount: 800000.0\n"
     ]
    }
   ],
   "source": [
    "#the dearness allowance as 40 % of basic and house rent allowance as 20 % of basic. Display the gross salary to the user. \n",
    "#(Hint: gross salary = basic salary + dearness allowance + house rent allowance)\n",
    "str1=input('Enter the name of an employee:')\n",
    "basicsalary=float(input('Enter the basic salary of an employee'))\n",
    "dearnessallowance=(40/100)*basicsalary\n",
    "houserentallowance =(20/100)* basicsalary\n",
    "grosssalary=basicsalary+dearnessallowance+houserentallowance\n",
    "print('the dearness allowance amount:',dearnessallowance)\n",
    "print('the house rent allowance amount:',houserentallowance)\n",
    "print('the gross salary amount:',grosssalary)\n"
   ]
  },
  {
   "cell_type": "markdown",
   "id": "fa56b5ec",
   "metadata": {},
   "source": [
    "## Questation number 9 solutation"
   ]
  },
  {
   "cell_type": "code",
   "execution_count": 9,
   "id": "5a3b5059",
   "metadata": {},
   "outputs": [
    {
     "name": "stdout",
     "output_type": "stream",
     "text": [
      "Enter a positive integer: 5\n",
      "The sum of the first 5 positive integers is 15.0\n"
     ]
    }
   ],
   "source": [
    "#The sum of the first n positive integers can be computed using the formula: sum = (n)(n + 1)/ 2\n",
    "# Prompt the user for input and convert it to an integer\n",
    "n = int(input(\"Enter a positive integer: \"))\n",
    "if n>=0:\n",
    "    sum = (n * (n + 1)) / 2\n",
    "    print(\"The sum of the first\", n, \"positive integers is\", sum)\n",
    "else:\n",
    "    print(\" Enter a positive integer greater than zero\")\n"
   ]
  },
  {
   "cell_type": "markdown",
   "id": "f66453f4",
   "metadata": {},
   "source": [
    "## Questation number 10 solutation"
   ]
  },
  {
   "cell_type": "code",
   "execution_count": 11,
   "id": "a3ccf9c6",
   "metadata": {},
   "outputs": [
    {
     "name": "stdout",
     "output_type": "stream",
     "text": [
      "Enter the value of a:5\n",
      "Enter the value of b:7\n",
      "the value of sum: 12\n",
      "the value of difference: -2\n",
      "the value of product: 35\n",
      "the value of quotient value: 0.7142857142857143\n",
      "the value of remainder value: 5\n",
      "the value of result value: 78125\n"
     ]
    }
   ],
   "source": [
    "#reads two integers, a and bThe sum of a and b\n",
    "a=int(input('Enter the value of a:'))\n",
    "b=int(input('Enter the value of b:'))\n",
    "sum =a+b\n",
    "difference=a-b\n",
    "product=a*b\n",
    "quotient=a/b\n",
    "remainder=a%b\n",
    "result=a**b\n",
    "print('the value of sum:',sum)\n",
    "print('the value of difference:',difference)\n",
    "print('the value of product:',product)\n",
    "print('the value of quotient value:',quotient)\n",
    "print('the value of remainder value:',remainder)\n",
    "print('the value of result value:',result)\n",
    "\n"
   ]
  },
  {
   "cell_type": "code",
   "execution_count": 14,
   "id": "a322d92e",
   "metadata": {},
   "outputs": [],
   "source": [
    "import sys\n",
    "import keyword\n",
    "import operator\n",
    "from datetime import datetime\n",
    "import os"
   ]
  },
  {
   "cell_type": "markdown",
   "id": "52b573ce",
   "metadata": {},
   "source": [
    "# WEEK2_SESSION 17-03-2024"
   ]
  },
  {
   "cell_type": "markdown",
   "id": "32697988",
   "metadata": {},
   "source": [
    "# Strings Decision control statements"
   ]
  },
  {
   "cell_type": "markdown",
   "id": "fd57b8a8",
   "metadata": {},
   "source": [
    "## Topics"
   ]
  },
  {
   "cell_type": "raw",
   "id": "c14bdbad",
   "metadata": {},
   "source": [
    "1.Introduction to Strings\n",
    "2.Representing Strings\n",
    "3.String Operations\n",
    "4.Conditional Execution\n",
    "5.Alternative Execution\n",
    "6.Chained Conditionals\n",
    "7.Nested if statements\n"
   ]
  },
  {
   "cell_type": "markdown",
   "id": "f12fc36d",
   "metadata": {},
   "source": [
    "## 1.Introduction to Strings"
   ]
  },
  {
   "cell_type": "raw",
   "id": "8f1b2c09",
   "metadata": {},
   "source": [
    "In Python a string is a series, or sequence, of characters in order. \n",
    "In this definition a character is anything, such as a letter 'a', 'b', 'c' or a number '1', '2', '3' or a special characters such as '\\', '[', '$' etc.   \n",
    "\n",
    "A String is a type/object of ‘str’ class\n",
    "\n",
    "A space is also a character '  ', although it does not have a visible representation.\n",
    "\n",
    "It should also be noted that strings are immutable. Immutable means that once a string has been created it cannot be changed. \n",
    "\n",
    "my_string = \"Hello, world!\"\n",
    "# Attempt to modify the string\n",
    "my_string[0] = 'h'  # Raises TypeError: 'str' object does not support item assignment-----\n"
   ]
  },
  {
   "cell_type": "markdown",
   "id": "d84858e8",
   "metadata": {},
   "source": [
    "## 2.Representing Strings"
   ]
  },
  {
   "cell_type": "raw",
   "id": "b768780b",
   "metadata": {},
   "source": [
    "In Python single or double quotes can be used to define a string, for example:\n",
    "'Hello World'\n",
    "\"Hello World\"\n",
    "A third alternative is the use of triple quotes, they allow a string to support multi-line strings, for example:\n",
    "z = \"\"\"\n",
    "Hello\n",
    "World\n",
    "\"\"\"\n"
   ]
  },
  {
   "cell_type": "markdown",
   "id": "3c40701d",
   "metadata": {},
   "source": [
    "## 3.String Operations"
   ]
  },
  {
   "cell_type": "code",
   "execution_count": 20,
   "id": "361a3646",
   "metadata": {},
   "outputs": [
    {
     "name": "stdout",
     "output_type": "stream",
     "text": [
      "Good day \n",
      "Hello World\n"
     ]
    }
   ],
   "source": [
    "#             \"String Concatenation\"\n",
    "# You can concatenate two strings together using the '+' operator\n",
    "string_1 = 'Good'\n",
    "string_2 = \" day \"\n",
    "string_3 = string_1 + string_2\n",
    "print(string_3)\n",
    "print('Hello ' + 'World')\n"
   ]
  },
  {
   "cell_type": "code",
   "execution_count": 21,
   "id": "a0d77221",
   "metadata": {},
   "outputs": [
    {
     "name": "stdout",
     "output_type": "stream",
     "text": [
      "9\n"
     ]
    }
   ],
   "source": [
    "#                     \"String Length\"\n",
    "#    To find out the length of a string in Python you use the len() function, for example:\n",
    "print(len(string_3))\n",
    "# This will print out the length of the string currently being held by the variable string_3 \n",
    "# (in terms of the number of characters contained in the string).\n"
   ]
  },
  {
   "cell_type": "markdown",
   "id": "cd87e804",
   "metadata": {},
   "source": [
    "### Accessing a character"
   ]
  },
  {
   "cell_type": "raw",
   "id": "b9a73a80",
   "metadata": {},
   "source": [
    "As a string is a fixed sequence of letters, \n",
    "it is possible to use square brackets and an index (or position) to retrieve a specific character from within a string. \n",
    "For example:fruit = 'banana'\n",
    "letter = fruit[1] # stores 'a'\n",
    "The expression in brackets is called an index. \n",
    "The index indicates which character in the sequence you want (hence the name).\n"
   ]
  },
  {
   "cell_type": "markdown",
   "id": "80b80464",
   "metadata": {},
   "source": [
    "### Accessing a subset of characters"
   ]
  },
  {
   "cell_type": "raw",
   "id": "a31380d9",
   "metadata": {},
   "source": [
    "It is also possible to obtain a segment/subset of the original string, often referred to as a substring \n",
    "(of the original string)This operation is called String slicing\n",
    "This can be done using the square brackets notation but using ':' to indicate the start and end points of the sub string. \n",
    "str(n:m): The operator returns the part of the string from the “n-th” character to the “m-th” character,\n",
    "including the first but excluding the last.\n"
   ]
  },
  {
   "cell_type": "markdown",
   "id": "6e8d79e4",
   "metadata": {},
   "source": [
    "### Accessing a subset of characters (cont..)"
   ]
  },
  {
   "cell_type": "raw",
   "id": "cdba3923",
   "metadata": {},
   "source": [
    "If one of the positions is omitted then the start or end of the string is assumed (depending upon the omission)\n",
    "If you omit the first index (before the colon), the slice starts at the beginning of the string. If you omit the second index, \n",
    "the slice goes to the end of the string\n",
    "If the first index is greater than or equal to the second the result is an empty string, represented by two quotation marks ‘’. \n",
    "An empty string contains no characters and has length 0, but other than that, it is the same as any other string.\n"
   ]
  },
  {
   "cell_type": "markdown",
   "id": "1999c07e",
   "metadata": {},
   "source": [
    "### String slicing"
   ]
  },
  {
   "cell_type": "code",
   "execution_count": 25,
   "id": "86fd9bf0",
   "metadata": {},
   "outputs": [
    {
     "name": "stdout",
     "output_type": "stream",
     "text": [
      "o\n",
      "ello\n",
      "Hello\n",
      "llo World\n",
      "ban\n",
      "ana\n",
      "banana\n"
     ]
    }
   ],
   "source": [
    "# For example: \n",
    "my_string = 'Hello World'\n",
    "print(my_string[4]) # character at position 4\n",
    "print(my_string[1:5]) # from position 1 to 4\n",
    "print(my_string[:5]) # from start to position 4\n",
    "print(my_string[2:]) # from position 2 to the end\n",
    "#For example: \n",
    "fruit = 'banana'\n",
    "print(fruit[:3] ) # from position 0 to 2\n",
    "print(fruit[3:]) # from position 3 to end\n",
    "print(fruit[:]) # complete string\n"
   ]
  },
  {
   "cell_type": "markdown",
   "id": "39f4ac8c",
   "metadata": {},
   "source": [
    "### Repeating Strings"
   ]
  },
  {
   "cell_type": "code",
   "execution_count": 26,
   "id": "0a3ffad1",
   "metadata": {},
   "outputs": [
    {
     "name": "stdout",
     "output_type": "stream",
     "text": [
      "**********\n",
      "HiHiHiHiHiHiHiHiHiHi\n"
     ]
    }
   ],
   "source": [
    "# We can also use the '*' operator with strings. \n",
    "# In the case of strings this means repeat the given string a certain number of times. \n",
    "# This generates a new string containing the original string repeated n number of times.\n",
    "# For example:\n",
    "print('*' * 10)\n",
    "print('Hi' * 10)\n"
   ]
  },
  {
   "cell_type": "markdown",
   "id": "7655891c",
   "metadata": {},
   "source": [
    "### Splitting Strings"
   ]
  },
  {
   "cell_type": "code",
   "execution_count": 27,
   "id": "5a8b890d",
   "metadata": {},
   "outputs": [
    {
     "name": "stdout",
     "output_type": "stream",
     "text": [
      "Source string: Welcome, to the exciting world, of Python Programming\n",
      "Split using a space ['Welcome,', 'to', 'the', 'exciting', 'world,', 'of', 'Python', 'Programming']\n",
      "Split using a comma ['Welcome', ' to the exciting world', ' of Python Programming']\n"
     ]
    }
   ],
   "source": [
    "#The split() function is used to split a string up into multiple separate strings based on a specific character such as a space or a comma.\n",
    "#For example: \n",
    "string_1 = \"Welcome, to the exciting world, of Python Programming\"\n",
    "print('Source string:', string_1)\n",
    "print('Split using a space', string_1.split(' '))\n",
    "print('Split using a comma', string_1.split(','))\n"
   ]
  },
  {
   "cell_type": "markdown",
   "id": "3f090992",
   "metadata": {},
   "source": [
    "### Counting Strings"
   ]
  },
  {
   "cell_type": "code",
   "execution_count": 29,
   "id": "0b038e2d",
   "metadata": {},
   "outputs": [
    {
     "name": "stdout",
     "output_type": "stream",
     "text": [
      "No. of spaces in my_string: 4\n"
     ]
    }
   ],
   "source": [
    "# It is possible to find out how many times a string is repeated in another string. This is done using the count() operation.\n",
    "# For example:\n",
    "my_string = 'Count, the number of spaces'\n",
    "print(\"No. of spaces in my_string:\", my_string.count(' '))\n"
   ]
  },
  {
   "cell_type": "markdown",
   "id": "40ca5212",
   "metadata": {},
   "source": [
    "### Replacing Strings"
   ]
  },
  {
   "cell_type": "code",
   "execution_count": 30,
   "id": "22e75c90",
   "metadata": {},
   "outputs": [
    {
     "name": "stdout",
     "output_type": "stream",
     "text": [
      "Goodbye World!\n"
     ]
    }
   ],
   "source": [
    "# One string can replace a substring in another string. This is done using the replace() method on a string. \n",
    "# For example:\n",
    "welcome_message = 'Hello World!'\n",
    "print(welcome_message.replace(\"Hello\", \"Goodbye\"))\n"
   ]
  },
  {
   "cell_type": "markdown",
   "id": "dc516c71",
   "metadata": {},
   "source": [
    "### Finding String within a String"
   ]
  },
  {
   "cell_type": "raw",
   "id": "ab822a24",
   "metadata": {},
   "source": [
    "You can find out if one string is a substring of another string using the find() method. \n",
    "This method takes a second string as a parameter and checks to see if that string is in the string receiving the find() method\n",
    "Syntax:string.find(string_to_find)\n",
    "The method returns −1 if the string is not present. Otherwise it returns an index indicating the start of the substring. \n"
   ]
  },
  {
   "cell_type": "markdown",
   "id": "b12fe024",
   "metadata": {},
   "source": [
    "## Example of find()"
   ]
  },
  {
   "cell_type": "code",
   "execution_count": 32,
   "id": "94e575a6",
   "metadata": {},
   "outputs": [
    {
     "name": "stdout",
     "output_type": "stream",
     "text": [
      "9\n",
      "35\n",
      "-1\n",
      "-1\n"
     ]
    }
   ],
   "source": [
    "string_1 = \"Welcome, to the exciting world, of Python Programming\"\n",
    "print(string_1.find('to'))\n",
    "print(string_1.find('Python'))\n",
    "print(string_1.find('Java'))\n",
    "print('Hello World'.find('Bye'))\n"
   ]
  },
  {
   "cell_type": "markdown",
   "id": "1d5d6c13",
   "metadata": {},
   "source": [
    "### String Comparison"
   ]
  },
  {
   "cell_type": "code",
   "execution_count": 37,
   "id": "84b0c403",
   "metadata": {},
   "outputs": [
    {
     "name": "stdout",
     "output_type": "stream",
     "text": [
      "True\n",
      "False\n",
      "True\n"
     ]
    }
   ],
   "source": [
    "# To compare one string with another you can use the '==' equality and '!=' not equals operators. \n",
    "# These will compare two strings and return either True or False, indicating whether the strings are equal or not.\n",
    "# For example:\n",
    "print('James' == 'James') \n",
    "print('James' == 'John')\n",
    "print('James' != 'John')\n"
   ]
  },
  {
   "cell_type": "markdown",
   "id": "5f77fe34",
   "metadata": {},
   "source": [
    "### Other String Operations"
   ]
  },
  {
   "cell_type": "code",
   "execution_count": 4,
   "id": "407c3814",
   "metadata": {
    "scrolled": true
   },
   "outputs": [
    {
     "name": "stdout",
     "output_type": "stream",
     "text": [
      "some_string Hello World\n",
      "some_string.startswith('H') True\n",
      "some_string.startswith('h') False\n",
      "some_string.endswith('d') True\n",
      "some_string.istitle() True\n",
      "some_string.isupper() False\n",
      "some_string.islower() False\n",
      "some_string.isalpha() False\n",
      "some_string.isnumeric() False\n",
      "some_string.isspace() False\n"
     ]
    }
   ],
   "source": [
    "some_string = 'Hello World'\n",
    "print('some_string', some_string)\n",
    "print(\"some_string.startswith('H')\", some_string.startswith('H'))\n",
    "print(\"some_string.startswith('h')\", some_string.startswith('h'))\n",
    "print(\"some_string.endswith('d')\", some_string.endswith('d'))\n",
    "print('some_string.istitle()', some_string.istitle())\n",
    "print('some_string.isupper()', some_string.isupper())\n",
    "print('some_string.islower()', some_string.islower())\n",
    "print('some_string.isalpha()', some_string.isalpha())\n",
    "print('some_string.isnumeric()', some_string.isnumeric())\n",
    "print('some_string.isspace()', some_string.isspace())\n",
    "# len()\n",
    "# cat()\n",
    "\n"
   ]
  },
  {
   "cell_type": "markdown",
   "id": "9026e182",
   "metadata": {},
   "source": [
    "## String Functions"
   ]
  },
  {
   "cell_type": "code",
   "execution_count": 6,
   "id": "06a32c43",
   "metadata": {},
   "outputs": [],
   "source": [
    "# LEFT()-------------------mystring[:N]\n",
    "# RIGHT()--------------------mystring[-N:]\n",
    "# MID()---------------------mystring[X:Y]\n",
    "#str.split(sep='')\n",
    "#separator.join(str)\n",
    "# str.lower()\n",
    "# str.upper()\n",
    "# str.contains('pattern',case=False)\n",
    "# str.extract(regular_expression)\n",
    "# str.count('sub_string')\n",
    "# str.find()\n",
    "#separator.join(str)"
   ]
  },
  {
   "cell_type": "markdown",
   "id": "568dceb8",
   "metadata": {},
   "source": [
    "## Other String Operations (Cont..)"
   ]
  },
  {
   "cell_type": "code",
   "execution_count": 6,
   "id": "02718992",
   "metadata": {},
   "outputs": [
    {
     "name": "stdout",
     "output_type": "stream",
     "text": [
      "some_string.upper() HELLO WORLD\n",
      "some_string.lower() hello world\n",
      "some_string.title() Hello World\n",
      "some_string.swapcase() hELLO wORLD\n",
      "Strip the String leading, trailing spaces xyz\n"
     ]
    }
   ],
   "source": [
    "print('some_string.upper()', some_string.upper())\n",
    "print('some_string.lower()', some_string.lower())\n",
    "print('some_string.title()', some_string.title())\n",
    "print('some_string.swapcase()', some_string.swapcase())\n",
    "print('Strip the String leading, trailing spaces', \"    xyz    \".strip())\n"
   ]
  },
  {
   "cell_type": "markdown",
   "id": "5a3c28c0",
   "metadata": {},
   "source": [
    "## 4.Conditional Execution"
   ]
  },
  {
   "cell_type": "raw",
   "id": "7946fe3e",
   "metadata": {},
   "source": [
    "In order to write useful programs, we almost always need the ability to check conditions and change the behavior of the program accordingly. \n",
    "Conditional statements give us this ability. The simplest form is the if statement:\n",
    "if <boolean-expression>:\n",
    "    statement\n",
    "Note that indentation, this is very important in Python\n",
    "Indentation is used to determine how one piece of code should be associated with another piece of the code.\n"
   ]
  },
  {
   "cell_type": "markdown",
   "id": "d1934eca",
   "metadata": {},
   "source": [
    "## Logic of if statement"
   ]
  },
  {
   "cell_type": "raw",
   "id": "c2871803",
   "metadata": {},
   "source": [
    "if x > 0:\n",
    "    print('x is positive')\n",
    "The boolean expression after \n",
    "the if statement is called the condition. \n",
    "We end the if statement with a \n",
    "colon character (:) and the line(s) after the if statement are indented."
   ]
  },
  {
   "cell_type": "markdown",
   "id": "8c6104e1",
   "metadata": {},
   "source": [
    "## 5. Alternative Execution"
   ]
  },
  {
   "cell_type": "raw",
   "id": "edcfce14",
   "metadata": {},
   "source": [
    "A second form of the if statement is alternative execution, in which there are two possibilities and the condition determines which one gets executed.\n",
    "We can also define an else part of an if statement; this is an optional element that can be run if the conditional part of the if statement returns False. \n",
    "We are guaranteed that at least one (and at most one) of the print() statements will execute.\n",
    "\n"
   ]
  },
  {
   "cell_type": "code",
   "execution_count": 3,
   "id": "b6d74593",
   "metadata": {},
   "outputs": [
    {
     "name": "stdout",
     "output_type": "stream",
     "text": [
      "x is even\n"
     ]
    }
   ],
   "source": [
    "if  15%3 == 0:\n",
    "    print('x is even')\n",
    "else :\n",
    "    print('x is odd')"
   ]
  },
  {
   "cell_type": "markdown",
   "id": "2bf8da1f",
   "metadata": {},
   "source": [
    "## 6. Chained Conditionals"
   ]
  },
  {
   "cell_type": "raw",
   "id": "05edcb86",
   "metadata": {},
   "source": [
    "In some cases there may be several conditions you want to test, with each condition being tested if the previous one failed. \n",
    "This multiple condition checking scenario is supported in Python by the elif element of an if statement.\n",
    "Note that elif is an abbreviation of else-if\n",
    "There is no limit on the number of elif statements. If there is an else clause, it has to be at the end, but there doesn’t have to be one.\n"
   ]
  },
  {
   "cell_type": "code",
   "execution_count": 4,
   "id": "6444dfff",
   "metadata": {},
   "outputs": [
    {
     "name": "stdout",
     "output_type": "stream",
     "text": [
      "x and y are equal\n"
     ]
    }
   ],
   "source": [
    "x = 10\n",
    "y = 10\n",
    "if x < y:\n",
    "    print('x is less than y')\n",
    "elif x > y:\n",
    "    print('x is greater than y')\n",
    "else:\n",
    "    print('x and y are equal')\n"
   ]
  },
  {
   "cell_type": "markdown",
   "id": "f22bbcad",
   "metadata": {},
   "source": [
    "## 7. Nested if statements"
   ]
  },
  {
   "cell_type": "raw",
   "id": "05dcb01f",
   "metadata": {},
   "source": [
    "It is possible to nest one if statement inside another. \n",
    "This term nesting indicates that one if statement is located within part of the another if statement and can be used to refine the conditional behavior of the program. For example:\n"
   ]
  },
  {
   "cell_type": "code",
   "execution_count": 5,
   "id": "54b4ac37",
   "metadata": {},
   "outputs": [
    {
     "name": "stdout",
     "output_type": "stream",
     "text": [
      "x and y are equal\n"
     ]
    }
   ],
   "source": [
    "if x == y:\n",
    "    print('x and y are equal')\n",
    "else:\n",
    "    if x < y:\n",
    "        print('x is less than y')\n",
    "    else:\n",
    "        print('x is greater than y')\n"
   ]
  },
  {
   "cell_type": "markdown",
   "id": "74e7fd15",
   "metadata": {},
   "source": [
    "## Nested if Vs. Logical operators"
   ]
  },
  {
   "cell_type": "raw",
   "id": "4a276029",
   "metadata": {},
   "source": [
    "Nested conditionals become difficult to read very quickly. In general, it is a good idea to avoid them when you can.\n",
    "Logical operators often provide a way to simplify nested conditional statements. For example, we can rewrite the following code using a single conditional: \n"
   ]
  },
  {
   "cell_type": "code",
   "execution_count": 6,
   "id": "376705aa",
   "metadata": {},
   "outputs": [
    {
     "name": "stdout",
     "output_type": "stream",
     "text": [
      "x is a positive single-digit number.\n"
     ]
    }
   ],
   "source": [
    "if 0 < x:\n",
    "    if x < 10:\n",
    "        print('x is a positive single-digit number.')\n",
    "    if 0 < 5 and 5 < 10:\n",
    "        print('x is a positive single-digit number.')\n"
   ]
  },
  {
   "cell_type": "markdown",
   "id": "bb713c51",
   "metadata": {},
   "source": [
    "## Note on Boolean Expressions"
   ]
  },
  {
   "cell_type": "raw",
   "id": "93277351",
   "metadata": {},
   "source": [
    "Python is actually quite flexible when it comes to what actually is used to represent True and False\n",
    "The following rules apply\n",
    "1. 0 it’s indiacating false \n",
    "2. 1 or other value  it’s indiacating True.\n",
    "However, it is recommended sticking to just True and False as it is often a cleaner and safer approach.\n"
   ]
  },
  {
   "cell_type": "markdown",
   "id": "bcdec9c4",
   "metadata": {},
   "source": [
    "## Questation number 1 with solutation"
   ]
  },
  {
   "cell_type": "code",
   "execution_count": 7,
   "id": "3c9b31d1",
   "metadata": {},
   "outputs": [
    {
     "name": "stdout",
     "output_type": "stream",
     "text": [
      "show the sample creation:  the multi-line strings\n",
      "contain three  lines that comes \n",
      "one after one ,and get the results\n"
     ]
    }
   ],
   "source": [
    "# Demonstrate how to create simple and multi-line strings, and check whether a string can change after its creation.\n",
    "sample=''' the multi-line strings\n",
    "contain three  lines that comes \n",
    "one after one ,and get the results'''\n",
    "print('show the sample creation:',sample)\n"
   ]
  },
  {
   "cell_type": "markdown",
   "id": "0d56081b",
   "metadata": {},
   "source": [
    "## Questation number 2 with solutation"
   ]
  },
  {
   "cell_type": "code",
   "execution_count": 8,
   "id": "978ac769",
   "metadata": {},
   "outputs": [
    {
     "name": "stdout",
     "output_type": "stream",
     "text": [
      "Hw\n",
      "oo\n",
      "llo world\n",
      "!dlrow\n",
      "olleH\n",
      "world!\n",
      "Hello\n"
     ]
    }
   ],
   "source": [
    "#‘Hello World!’, extract the following:H W ,o o ,llorld, !dlroW, olleH, World!, Hello .slicing operation\n",
    "str1='Hello world!'\n",
    "print(str1[0]+str1[6])\n",
    "print(str1[4]+str1[7])\n",
    "print(str1[2:11])\n",
    "print(str1[11]+str1[10]+str1[9]+str1[8]+str1[7]+str1[6])\n",
    "print(str1[4]+str1[3]+str1[2]+str1[1]+str1[0])\n",
    "print(str1[6:12])\n",
    "print(str1[:5])"
   ]
  },
  {
   "cell_type": "markdown",
   "id": "5b25fcb1",
   "metadata": {},
   "source": [
    "## Questation number 3 with solutation"
   ]
  },
  {
   "cell_type": "code",
   "execution_count": 9,
   "id": "85f3f7ca",
   "metadata": {},
   "outputs": [
    {
     "name": "stdout",
     "output_type": "stream",
     "text": [
      "str3.startswith('Now') True\n",
      "str3.endswith('Now') False\n",
      "str1.islower() False\n",
      "str1.isupper() False\n",
      "str2.islower() False\n",
      "str2.isupper() False\n",
      "str3.islower() False\n",
      "str3.isupper() False\n",
      "str4.islower() False\n",
      "str4.isupper() False\n",
      "str5.islower() False\n",
      "str5.isupper() False\n",
      "str5.isalnum() False\n",
      "str4.isalnum() True\n",
      "str3.isalnum() False\n",
      "str2.isalnum() False\n",
      "str1.isalnum() True\n",
      "str1.isdigit() False\n",
      "str2.isdigit() False\n",
      "str3.isdigit() False\n",
      "str4.isdigit() True\n",
      "str5.isdigit() False\n",
      "str1.isalpha() True\n",
      "str2.isalpha() False\n",
      "str3.isalpha() False\n",
      "str4.isalpha() False\n",
      "str5.isalpha() False\n"
     ]
    }
   ],
   "source": [
    "# only alphabets, only digits, alphanumeric, which are in lowercase, and which are in uppercase. \n",
    "# Also check whether str3 begins or ends with the word “Now”.\n",
    "str1 ='Welcome'\n",
    "str2 ='Hello World!'\n",
    "str3 ='Now is the best time ever!'\n",
    "str4 ='500017'\n",
    "str5 ='IPhone 6'\n",
    "print(\"str3.startswith('Now')\",str3.startswith('Now'))#starts,ends operatations\n",
    "print(\"str3.endswith('Now')\",str3.endswith('Now'))\n",
    "print(\"str1.islower()\",str1.islower())#lower and upper operatations\n",
    "print(\"str1.isupper()\",str1.isupper())\n",
    "print(\"str2.islower()\",str2.islower())\n",
    "print(\"str2.isupper()\",str2.isupper())\n",
    "print(\"str3.islower()\",str3.islower())\n",
    "print(\"str3.isupper()\",str3.isupper())\n",
    "print(\"str4.islower()\",str4.islower())\n",
    "print(\"str4.isupper()\",str4.isupper())\n",
    "print(\"str5.islower()\",str4.islower())\n",
    "print(\"str5.isupper()\",str5.isupper())\n",
    "print(\"str5.isalnum()\",str5.isalnum())\n",
    "print(\"str4.isalnum()\",str4.isalnum())\n",
    "print(\"str3.isalnum()\",str3.isalnum())\n",
    "print(\"str2.isalnum()\",str2.isalnum())\n",
    "print(\"str1.isalnum()\",str1.isalnum())\n",
    "print(\"str1.isdigit()\",str1.isdigit())\n",
    "print(\"str2.isdigit()\",str2.isdigit())\n",
    "print(\"str3.isdigit()\",str3.isdigit())\n",
    "print(\"str4.isdigit()\",str4.isdigit())\n",
    "print(\"str5.isdigit()\",str5.isdigit())\n",
    "print(\"str1.isalpha()\",str1.isalpha())\n",
    "print(\"str2.isalpha()\",str2.isalpha())\n",
    "print(\"str3.isalpha()\",str3.isalpha())\n",
    "print(\"str4.isalpha()\",str4.isalpha())\n",
    "print(\"str5.isalpha()\",str5.isalpha())"
   ]
  },
  {
   "cell_type": "markdown",
   "id": "1da35ca8",
   "metadata": {},
   "source": [
    "## Questation number 4 with solutation"
   ]
  },
  {
   "cell_type": "code",
   "execution_count": 11,
   "id": "45bbb077",
   "metadata": {},
   "outputs": [
    {
     "name": "stdout",
     "output_type": "stream",
     "text": [
      "Enter  a sentence: sun risies in the east every day in the morning\n",
      "str1: sun risies in the east every day in the morning\n",
      "str1.title() Sun Risies In The East Every Day In The Morning\n"
     ]
    }
   ],
   "source": [
    "#Accept a sentence from the user. Convert the case of the input into title case.\n",
    "str1=input('Enter  a sentence: ')\n",
    "print(\"str1:\",str1)\n",
    "print(\"str1.title()\",str1.title())"
   ]
  },
  {
   "cell_type": "markdown",
   "id": "bd5f80d6",
   "metadata": {},
   "source": [
    "## Questation number 5 with solutation"
   ]
  },
  {
   "cell_type": "code",
   "execution_count": 12,
   "id": "740cc395",
   "metadata": {},
   "outputs": [
    {
     "name": "stdout",
     "output_type": "stream",
     "text": [
      "Enter a integer 15\n",
      "x is odd number\n"
     ]
    }
   ],
   "source": [
    "#Write a program that reads an integer from the user. \n",
    "#Then your program should display a message indicating whether the integer is even or odd.\n",
    "x=int(input('Enter a integer '))\n",
    "if x%2 == 0:\n",
    "    print(\"x is even number\")\n",
    "else:\n",
    "    print(\"x is odd number\")"
   ]
  },
  {
   "cell_type": "markdown",
   "id": "6205512d",
   "metadata": {},
   "source": [
    "## Questation number 6 with solutation"
   ]
  },
  {
   "cell_type": "code",
   "execution_count": null,
   "id": "fe878f9e",
   "metadata": {},
   "outputs": [],
   "source": [
    "#Create a program that reads a letter of the alphabet from the user.\n",
    "#If the user enters a, e, i, o or u then your program should display a message indicating that the entered letter is a vowel.\n",
    "#Otherwise, the program should display a message that the entered letter is a consonant\n",
    "vowels=['a','e','i','o','u']\n",
    "letter=str(input())\n",
    "if letter in vowels:\n",
    "    print(\"letter is a vowel\")\n",
    "elif letter ==\"x\":\n",
    "    print('sometimes x is a vowel and,sometimes x is a consonant')\n",
    "else:\n",
    "    print('Enter character is a consonant')"
   ]
  },
  {
   "cell_type": "markdown",
   "id": "892ccb3d",
   "metadata": {},
   "source": [
    "## Questation number 7 with solutation"
   ]
  },
  {
   "cell_type": "code",
   "execution_count": 13,
   "id": "06bb2169",
   "metadata": {},
   "outputs": [
    {
     "name": "stdout",
     "output_type": "stream",
     "text": [
      "march\n",
      "Enter month have 31 days only\n"
     ]
    }
   ],
   "source": [
    "# The length of a month varies from 28 to 31 days. \n",
    "#Create a program that reads the name of a month from the user as a string. \n",
    "#Then your program should display the number of days in that month.\n",
    "#Display “28 or 29 days” for February so that leap years is addressed.\n",
    "emonths=['january','march','may','july','august','october','december']\n",
    "omonths=['aprial','june','setember','november']\n",
    "amonths=['febreary']\n",
    "month=str(input())\n",
    "if month in emonths :\n",
    "     print(\"Enter month have 31 days only\")\n",
    "elif month in omonths:\n",
    "     print(\"Enter month have 30 days only \")\n",
    "elif month in amonths:\n",
    "     print(\"Enter month have 28 or 29 days\")\n",
    "else:\n",
    "    print('invalid month')"
   ]
  },
  {
   "cell_type": "markdown",
   "id": "cb9a3711",
   "metadata": {},
   "source": [
    "## Questation number 8 with solutation"
   ]
  },
  {
   "cell_type": "code",
   "execution_count": 14,
   "id": "dc301da7",
   "metadata": {},
   "outputs": [
    {
     "name": "stdout",
     "output_type": "stream",
     "text": [
      "Enther the first value of a triangle:25\n",
      "Enter the second vlue of a triangle:35\n",
      "Enter the third value of a triangle:49\n",
      "x 25.0\n",
      "y: 35.0\n",
      "z: 49.0\n",
      "scalean triangle\n"
     ]
    }
   ],
   "source": [
    "# A triangle can be classified based on the lengths of its sides as equilateral, isosceles or scalene. \n",
    "# All 3 sides of an equilateral triangle have the same length. \n",
    "# An isosceles triangle has two sides that are the same length, and a third side that is a different length. \n",
    "# If all of the sides have different lengths then the triangle is scalene. \n",
    "# Write a program that reads the lengths of 3 sides of a triangle from the user. \n",
    "# Display a message indicating the type of the triangle.\n",
    "x=float(input('Enther the first value of a triangle:'))\n",
    "y=float(input('Enter the second vlue of a triangle:'))\n",
    "z=float(input('Enter the third value of a triangle:'))\n",
    "print(\"x\",x)\n",
    "print(\"y:\",y)\n",
    "print(\"z:\",z)\n",
    "if x==y==z:\n",
    "    print('equilateral triangle')\n",
    "elif x!=y!=z:\n",
    "    print('scalean triangle' )\n",
    "else:\n",
    "    print('isosceles triangle')"
   ]
  },
  {
   "cell_type": "markdown",
   "id": "c6c6c9a5",
   "metadata": {},
   "source": [
    "## Questation number 9 with solutation"
   ]
  },
  {
   "cell_type": "code",
   "execution_count": 15,
   "id": "c02a2e1e",
   "metadata": {},
   "outputs": [
    {
     "name": "stdout",
     "output_type": "stream",
     "text": [
      "Enter the year:2047\n",
      "2047 is not a leap year\n"
     ]
    }
   ],
   "source": [
    "#The rules for determining whether or not a year is a leap year follow:\n",
    "#Any year that is divisible by 400 is a leap year.\n",
    "#Of the remaining years, any year that is divisible by 100 is not a leap year.\n",
    "#Of the remaining years, any year that is divisible by 4 is a leap year.\n",
    "#All other years are not leap years\n",
    "year=int(input('Enter the year:'))\n",
    "if (year%400==0):\n",
    "    print(year,' is a leap year ')\n",
    "elif(year%4==0 and year%100!=0):\n",
    "    print(year,'is a leap year')\n",
    "else:\n",
    "    print(year,'is not a leap year')"
   ]
  },
  {
   "cell_type": "markdown",
   "id": "011e059b",
   "metadata": {},
   "source": [
    "## Questation number 10 with solutation"
   ]
  },
  {
   "cell_type": "code",
   "execution_count": 17,
   "id": "7a2c51f7",
   "metadata": {},
   "outputs": [
    {
     "name": "stdout",
     "output_type": "stream",
     "text": [
      "Enter the first value of a quadratic function(a!=0)5\n",
      "Enter the second value of a quadratic function30\n",
      "Enter the third value of a quadratic function6\n",
      "a 5\n",
      "b 30\n",
      "c 6\n",
      "d -108\n",
      "type of roots:two Complex Roots\n",
      "the solutations are sol1 and sol2\n"
     ]
    }
   ],
   "source": [
    "# Write a program that computes the real roots of a quadratic function. \n",
    "#Your program should begin by prompting the user for the values of a, b and c. \n",
    "#Then it should display a message indicating the number of real roots, along with the values of the real roots (if any).\n",
    "import math\n",
    "a=int(input('Enter the first value of a quadratic function(a!=0)'))\n",
    "b=int(input('Enter the second value of a quadratic function'))\n",
    "c=int(input('Enter the third value of a quadratic function'))\n",
    "print(\"a\",a)\n",
    "print(\"b\",b)\n",
    "print(\"c\",c)\n",
    "d=b^2-4*a*c\n",
    "print(\"d\",d)\n",
    "if d>0:\n",
    "    print(\"type of roots:two Distinct Real Roots\")\n",
    "elif d==0:\n",
    "    print(\"type of roots:two Equal Real Roots\")\n",
    "elif d<0:\n",
    "     print(\"type of roots:two Complex Roots\")\n",
    "s1=(-b-math.sqrt(b**2-4*a*c))/2*a\n",
    "s2=(-b+math.sqrt(b**2-4*a*c))/2*a\n",
    "print(\"the solutations are sol1 and sol2\")"
   ]
  },
  {
   "cell_type": "markdown",
   "id": "ae5c0717",
   "metadata": {},
   "source": [
    "# WEEK3_SESSION 01-04-2024\n",
    "# Repetition Statements - Console input-output - Formatted output\n"
   ]
  },
  {
   "cell_type": "markdown",
   "id": "7c94d472",
   "metadata": {},
   "source": [
    "## Topics"
   ]
  },
  {
   "cell_type": "raw",
   "id": "a6c59cfd",
   "metadata": {},
   "source": [
    "1.Introduction to Iterative/Repetitive/Looping Statements\n",
    "2.The while loop\n",
    "3.The for loop\n",
    "4.break statement\n",
    "5.continue statement\n",
    "6.pass statement\n",
    "7.else statement with loops\n",
    "8.Console input\n",
    "9.Console output\n",
    "10.Formatted output\n"
   ]
  },
  {
   "cell_type": "markdown",
   "id": "7a6b95f4",
   "metadata": {},
   "source": [
    "# 1.Introduction to Iterative/Repetitive/Looping Statements\n"
   ]
  },
  {
   "cell_type": "raw",
   "id": "0a1a86cd",
   "metadata": {},
   "source": [
    "Computers are often used to automate repetitive tasks.\n",
    "Repeating identical or similar tasks without making errors is something that computers do well and people do poorly.\n",
    "Because iteration is so common, Python provides several language features (alternately called iterative, repetitive, looping statements) to implement iteration.\n",
    "In Python, while loop and for loop are the loops used to control the repeated execution of selected statements\n"
   ]
  },
  {
   "cell_type": "markdown",
   "id": "6e3996d2",
   "metadata": {},
   "source": [
    "# 2.The while loop\n"
   ]
  },
  {
   "cell_type": "raw",
   "id": "d87380d9",
   "metadata": {},
   "source": [
    "The while loop exists in almost all programming languages and is used to iterate (or repeat) one or more code statements as long as the test condition (expression) is True. \n",
    "This iteration construct is usually used when the number of times we need to repeat the block of code to execute is not known. \n",
    "Python while loop has the basic form:\n",
    "while <test-condition-is-true>:\n",
    "    statement or statements\n"
   ]
  },
  {
   "cell_type": "markdown",
   "id": "73f53469",
   "metadata": {},
   "source": [
    "### Flow of execution of while loop"
   ]
  },
  {
   "cell_type": "raw",
   "id": "77b6385e",
   "metadata": {},
   "source": [
    "The following is the flow of execution for a while statement:\n",
    "1. Evaluate the condition, yielding True or False.\n",
    "2. If the condition is false, exit the while statement and continue execution at the next statement.\n",
    "3. If the condition is true, execute the body and then go back to step 1.\n",
    "This type of flow is called a loop because the third step loops back around to the top. We call each time we execute the body of the loop an iteration.\n"
   ]
  },
  {
   "cell_type": "markdown",
   "id": "ff24a8c3",
   "metadata": {},
   "source": [
    "### Iteration Variable"
   ]
  },
  {
   "cell_type": "raw",
   "id": "96e5efcc",
   "metadata": {},
   "source": [
    "The body of the loop should change the value of one or more variables so that eventually the condition becomes false and the loop terminates. \n",
    "For example, it may need to repeat until some solution is found or the user enters a particular value. \n",
    "We call the variable that changes each time the loop executes and controls when the loop finishes the iteration variable. \n",
    "If there is no iteration variable, the loop will repeat forever, resulting in an infinite loop.Example of a while loop\n"
   ]
  },
  {
   "cell_type": "code",
   "execution_count": 18,
   "id": "093cb700",
   "metadata": {},
   "outputs": [
    {
     "name": "stdout",
     "output_type": "stream",
     "text": [
      "Starting\n",
      "0\n",
      "1\n",
      "2\n",
      "3\n",
      "4\n",
      "5\n",
      "6\n",
      "7\n",
      "8\n",
      "9\n",
      "\n",
      "Done\n"
     ]
    }
   ],
   "source": [
    "count = 0\n",
    "print('Starting')\n",
    "while count < 10:\n",
    "    print(count) \t# part of the while loop\n",
    "    count += 1 \t# also part of the while loop\n",
    "print() \t\t# not part of the while loop\n",
    "print('Done')\n"
   ]
  },
  {
   "cell_type": "code",
   "execution_count": 19,
   "id": "67cd1a5e",
   "metadata": {},
   "outputs": [
    {
     "name": "stdout",
     "output_type": "stream",
     "text": [
      "starting\n",
      "0\n",
      "2\n",
      "4\n",
      "6\n",
      "8\n",
      "10\n",
      "\n",
      "End of the code done\n"
     ]
    }
   ],
   "source": [
    "#Print numbers from 0 to 10 with an increment of 2\n",
    "count=0\n",
    "print(\"starting\")\n",
    "while count <=10:\n",
    "    print(count)\n",
    "    count +=2\n",
    "print()\n",
    "print(\"End of the code done\")"
   ]
  },
  {
   "cell_type": "code",
   "execution_count": 25,
   "id": "f22d809c",
   "metadata": {},
   "outputs": [
    {
     "name": "stdout",
     "output_type": "stream",
     "text": [
      "beginning\n",
      "9\n",
      "8\n",
      "7\n",
      "6\n",
      "5\n",
      "4\n",
      "3\n",
      "2\n",
      "1\n",
      "0\n",
      "\n",
      "End of the code\n"
     ]
    }
   ],
   "source": [
    "#Print numbers from 9 to 0\n",
    "count=9\n",
    "print(\"beginning\")\n",
    "while count >= 0:\n",
    "    print(count)\n",
    "    count -=1\n",
    "print()\n",
    "print(\"End of the code\")\n",
    "\n"
   ]
  },
  {
   "cell_type": "code",
   "execution_count": 28,
   "id": "3ac202ca",
   "metadata": {},
   "outputs": [
    {
     "name": "stdout",
     "output_type": "stream",
     "text": [
      "Enter a number5\n",
      "Enter a number:4\n",
      "Enter a number:3\n",
      "Enter a number:2\n",
      "Enter a number:1\n",
      "Enter a number:6\n",
      "The average of 5 numbers is: 3.20\n"
     ]
    }
   ],
   "source": [
    "#Calculate average of 'n'numbers\n",
    "n=int(input(\"Enter a number\"))\n",
    "Total_sum=0\n",
    "i=1\n",
    "while i <=n:\n",
    "    num=float(input(\"Enter a number:\"))\n",
    "    Total_sum += num\n",
    "    i += 1\n",
    "avg=Total_sum/n\n",
    "print(f\"The average of {n} numbers is: {avg:.2f}\")   \n"
   ]
  },
  {
   "cell_type": "markdown",
   "id": "9b390f39",
   "metadata": {},
   "source": [
    "# 3.The for loop\n"
   ]
  },
  {
   "cell_type": "raw",
   "id": "20564be0",
   "metadata": {},
   "source": [
    "Sometimes we want to loop through a set of things such as a list of words, the lines in a file, or a list of numbers. \n",
    "When we have a list of things to loop through, we can construct a definite loop using a for statement. \n",
    "We call the while statement an indefinite loop because it simply loops until some condition becomes False, whereas the for loop is looping through a known set of items so it runs through as many iterations as there are items in the set.\n"
   ]
  },
  {
   "cell_type": "markdown",
   "id": "e113bdc8",
   "metadata": {},
   "source": [
    "## Format of the for loop"
   ]
  },
  {
   "cell_type": "raw",
   "id": "956693eb",
   "metadata": {},
   "source": [
    "The format of the Python for loop when using a range of values is\n",
    "for <variable-name> in range(...):\n",
    "\tstatement\n",
    "\tstatement\n",
    "range() is actually a function that will generate the range of values to be used as the sequence in the for loop.\n",
    "\n",
    "Example of for loop\n"
   ]
  },
  {
   "cell_type": "code",
   "execution_count": 29,
   "id": "d5f321a5",
   "metadata": {},
   "outputs": [
    {
     "name": "stdout",
     "output_type": "stream",
     "text": [
      " i =  0\n",
      " i =  1\n",
      " i =  2\n",
      " i =  3\n",
      " i =  4\n",
      " i =  5\n",
      " i =  6\n",
      " i =  7\n",
      " i =  8\n",
      " i =  9\n",
      " Outside the for loop ...\n"
     ]
    }
   ],
   "source": [
    "# Write a for loop to print numbers from 0 to 9\n",
    "for i in range(0, 10): \t# i < 10        \n",
    "    print (' i = ', i)\n",
    "print (' Outside the for loop ...')\n"
   ]
  },
  {
   "cell_type": "code",
   "execution_count": 30,
   "id": "d9bd03c0",
   "metadata": {},
   "outputs": [
    {
     "name": "stdout",
     "output_type": "stream",
     "text": [
      " i =  0\n",
      " i =  2\n",
      " i =  4\n",
      " i =  6\n",
      " i =  8\n",
      " i =  10\n"
     ]
    }
   ],
   "source": [
    "# Print numbers from 0 to 10 with an increment of 2\n",
    "for i in range(0, 11, 2): \t\t# i < 11\n",
    "    print (' i = ', i)\n"
   ]
  },
  {
   "cell_type": "raw",
   "id": "f9bc8ee8",
   "metadata": {},
   "source": [
    "Flow of execution of the above for loop\n",
    "1. Initialization - only once i = 0\n",
    "2. Condition test i < 11\n",
    "3. Body \n",
    "4. Increment i = i + 2\n"
   ]
  },
  {
   "cell_type": "code",
   "execution_count": 31,
   "id": "50f1fc2d",
   "metadata": {},
   "outputs": [
    {
     "name": "stdout",
     "output_type": "stream",
     "text": [
      " i =  9\n",
      " i =  8\n",
      " i =  7\n",
      " i =  6\n",
      " i =  5\n",
      " i =  4\n",
      " i =  3\n",
      " i =  2\n",
      " i =  1\n",
      " i =  0\n"
     ]
    }
   ],
   "source": [
    "# Print numbers from 9 to 0\n",
    "for i in range (9, -1 , -1):\n",
    "    print (' i = ',i)\n"
   ]
  },
  {
   "cell_type": "raw",
   "id": "790ca46b",
   "metadata": {},
   "source": [
    "Flow of execution of the above for loop\n",
    "1. Initialization - only once i = 9\n",
    "2. Condition test i > -1\n",
    "3. Body \n",
    "4. Decrement i = i - 1\n"
   ]
  },
  {
   "cell_type": "markdown",
   "id": "e587f693",
   "metadata": {},
   "source": [
    "# 4.break statement\n"
   ]
  },
  {
   "cell_type": "raw",
   "id": "b3afa80b",
   "metadata": {},
   "source": [
    "The break statement allows you to alter the normal cycle of the loop based on some criteria which may not be predictable in advance \n",
    "The break statement, when executed, will terminate the current loop and jump the program to the first line after the loop. \n",
    "Typically, a guard statement (if statement) is placed on the break so that the break statement is conditionally applied when appropriate.\n",
    "Example of break"
   ]
  },
  {
   "cell_type": "code",
   "execution_count": 35,
   "id": "72e973fe",
   "metadata": {},
   "outputs": [
    {
     "name": "stdout",
     "output_type": "stream",
     "text": [
      "Before while ...\n",
      " i =  0\n",
      " i =  1\n",
      " i =  2\n",
      " i =  3\n",
      " i =  4\n",
      " i =  5\n",
      " i =  6\n",
      " i =  7\n",
      " Outside while ...\n"
     ]
    }
   ],
   "source": [
    "i = 0\n",
    "print ('Before while ...')\n",
    "while (i<=9):\n",
    "    print (' i = ',i)\n",
    "    if ( i == 7 ):\n",
    "        break\n",
    "    i += 1\n",
    "print (' Outside while ...')\n"
   ]
  },
  {
   "cell_type": "markdown",
   "id": "3710c4fc",
   "metadata": {},
   "source": [
    "# 5.continue statement\n"
   ]
  },
  {
   "cell_type": "raw",
   "id": "9c5dca80",
   "metadata": {},
   "source": [
    "The continue statement also affects the flow of control within the looping constructs for and while. \n",
    "However, it does not terminate the whole loop; rather it only terminates the current iteration round the loop. \n",
    "This allows you to skip over part of a loop’s iteration for a particular value, but then to continue with the remaining values in the sequence.\n",
    "A guard (if statement) can be used to determine when the continue statement should be executed.\n"
   ]
  },
  {
   "cell_type": "code",
   "execution_count": 36,
   "id": "5167ec17",
   "metadata": {},
   "outputs": [
    {
     "name": "stdout",
     "output_type": "stream",
     "text": [
      "i =  0\n",
      "i =  1\n",
      "i =  2\n",
      "i =  3\n",
      "i =  4\n",
      "i =  5\n",
      "i =  6\n",
      "i =  8\n",
      "i =  9\n"
     ]
    }
   ],
   "source": [
    "for i in range (0,10):\n",
    "    if (i == 7):\n",
    "             continue     \n",
    "    print ('i = ',i)\n"
   ]
  },
  {
   "cell_type": "markdown",
   "id": "2be2ad1c",
   "metadata": {},
   "source": [
    "# 6.pass statement\n"
   ]
  },
  {
   "cell_type": "raw",
   "id": "f0704774",
   "metadata": {},
   "source": [
    "There is no limit on the number of statements that can appear in the body of a loop, but there must be at least one. \n",
    "Occasionally, it is useful to have a body with no statements (usually as a place holder for code you haven’t written yet). \n",
    "In that case, you can use the pass statement, which does nothing. For example:\n",
    "if x < 0 :\n",
    "\tpass"
   ]
  },
  {
   "cell_type": "code",
   "execution_count": 38,
   "id": "b0866708",
   "metadata": {},
   "outputs": [
    {
     "name": "stdout",
     "output_type": "stream",
     "text": [
      "Current Letter: P\n",
      "Current Letter: y\n",
      "Current Letter: t\n",
      "Current Letter: h\n",
      "Current Letter: o\n",
      "Current Letter: n\n"
     ]
    }
   ],
   "source": [
    "for letter in 'Python':\n",
    "    if letter == 'h':\n",
    "        pass\n",
    "    print('Current Letter:', letter)\n",
    "\n",
    "# Output:\n",
    "# This is pass block\n",
    "# Current Letter: P\n",
    "# Current Letter: y\n",
    "# Current Letter: t\n",
    "# Current Letter: o\n",
    "# Current Letter: n\n",
    "\n"
   ]
  },
  {
   "cell_type": "markdown",
   "id": "ca154506",
   "metadata": {},
   "source": [
    "# 7.else statement with loops\n"
   ]
  },
  {
   "cell_type": "raw",
   "id": "df83f033",
   "metadata": {},
   "source": [
    "A for loop or while loop can have an optional else block at the end of the loop. \n",
    "The else part is executed if and only if all items in the sequence are processed. \n",
    "The loop may fail to process all elements in the loop if for some reason an error occurs in your program (for example if you have a syntax error) or if you break the loop.\n"
   ]
  },
  {
   "cell_type": "code",
   "execution_count": 39,
   "id": "478d0d71",
   "metadata": {},
   "outputs": [
    {
     "name": "stdout",
     "output_type": "stream",
     "text": [
      "i =  0\n",
      "i =  1\n",
      "i =  2\n",
      "i =  3\n",
      "i =  4\n",
      "i =  5\n",
      "i =  6\n",
      "i =  7\n",
      "Outside for ...\n"
     ]
    }
   ],
   "source": [
    "for i in range (0,10):\n",
    "    print ('i = ',i)\n",
    "    if (i == 7):\n",
    "         break       \n",
    "else:\n",
    "    print ('All iterations completed ...')\n",
    "        \n",
    "print ('Outside for ...')\n"
   ]
  },
  {
   "cell_type": "markdown",
   "id": "51497a34",
   "metadata": {},
   "source": [
    "# 8.Console input\n"
   ]
  },
  {
   "cell_type": "raw",
   "id": "ecc4eaba",
   "metadata": {},
   "source": [
    "Console input is received using the input() function\n",
    "General form of input() function is:\n",
    "\n",
    "Where prompt is string that is displayed on the screen soliciting a value from the user.\n",
    "input() function returns a string\n",
    "More than one input can be accepted by using the split() function. For example:\n",
    "\n"
   ]
  },
  {
   "cell_type": "code",
   "execution_count": 45,
   "id": "c7354f8a",
   "metadata": {},
   "outputs": [
    {
     "name": "stdout",
     "output_type": "stream",
     "text": [
      "prompt:hello world\n"
     ]
    }
   ],
   "source": [
    "s = input('prompt:')"
   ]
  },
  {
   "cell_type": "code",
   "execution_count": 51,
   "id": "e0d841d1",
   "metadata": {},
   "outputs": [
    {
     "name": "stdout",
     "output_type": "stream",
     "text": [
      "Enter the values of a,b and c:21 35 86\n"
     ]
    }
   ],
   "source": [
    "a,b,c = input('Enter the values of a,b and c:').split()        # spaces to entered another value"
   ]
  },
  {
   "cell_type": "markdown",
   "id": "6e7641d5",
   "metadata": {},
   "source": [
    "# 9.Console output\n"
   ]
  },
  {
   "cell_type": "raw",
   "id": "5444196a",
   "metadata": {},
   "source": [
    "The print() function is used to send output to the output console (usually the computer monitor)\n",
    "The print() function has the following form:\n",
    "\t\tprint(objects, sep=' ',end =' ')\n",
    "Where objects are the objects to be printed, sep indicates the separator to be used in between the printed objects, and end is the character to be printed at the end of the output. For example:\n",
    "\n"
   ]
  },
  {
   "cell_type": "code",
   "execution_count": 53,
   "id": "ceb7db0e",
   "metadata": {},
   "outputs": [
    {
     "name": "stdout",
     "output_type": "stream",
     "text": [
      "Value of a :21 "
     ]
    }
   ],
   "source": [
    "print ('Value of a ',a,sep=':',end = ' ')"
   ]
  },
  {
   "cell_type": "markdown",
   "id": "388e2896",
   "metadata": {},
   "source": [
    "# 10.Formatted output"
   ]
  },
  {
   "cell_type": "raw",
   "id": "ed0be35d",
   "metadata": {},
   "source": [
    "There are two ways to control the formatting of output:\n",
    "1. Using formatted string literals\n",
    "2. Using the format() method\n"
   ]
  },
  {
   "cell_type": "code",
   "execution_count": 54,
   "id": "b6631d62",
   "metadata": {},
   "outputs": [
    {
     "name": "stdout",
     "output_type": "stream",
     "text": [
      "radius = 1.5678\n",
      "length=10.5 breadth=12.66 radius=1.5678\n",
      "Subhash   \n",
      "Chandra   \n",
      "Bose      \n"
     ]
    }
   ],
   "source": [
    "#For example, using formatted string literals:\n",
    "r, l, b, name = 1.5678, 10.5, 12.66, 'Subhash Chandra Bose'\n",
    "print(f'radius = {r}')      # prints the value of r\n",
    "print(f'length={l} breadth={b} radius={r}')\n",
    "for n in name.split():\n",
    "    print(f'{n:10}')"
   ]
  },
  {
   "cell_type": "markdown",
   "id": "aa6c8f2e",
   "metadata": {},
   "source": [
    "### The format function"
   ]
  },
  {
   "cell_type": "raw",
   "id": "22fd78dc",
   "metadata": {},
   "source": [
    "The format() method can also be used to control the output format.\n",
    "For example, \n"
   ]
  },
  {
   "cell_type": "code",
   "execution_count": 55,
   "id": "91a7e52f",
   "metadata": {},
   "outputs": [
    {
     "name": "stdout",
     "output_type": "stream",
     "text": [
      "radius=1.5678  length=10.5  breadth=12.66 \n",
      "name=Ramesh  age=30  salary=25000\n"
     ]
    }
   ],
   "source": [
    "r, l, b = 1.5678, 10.5, 12.66\n",
    "name, age, salary = 'Ramesh', 30, 25000\n",
    "# print in order of position of variables using empty {}\n",
    "print('radius={}  length={}  breadth={} '.format(r,l,b))\n",
    "print('name={}  age={}  salary={}'.format(name,age,salary))\n"
   ]
  },
  {
   "cell_type": "code",
   "execution_count": 56,
   "id": "ee05c6b7",
   "metadata": {},
   "outputs": [
    {
     "name": "stdout",
     "output_type": "stream",
     "text": [
      "radius = 12.66  length=10.5  breadth=1.5678\n",
      "age=30  salary=25000  name=Ramesh\n",
      "name = Ramesh           salary=     25000\n",
      "radius =       1.57\n"
     ]
    }
   ],
   "source": [
    "# print in any desired order\n",
    "print('radius = {2}  length={1}  breadth={0}'.format(r,l,b))\n",
    "print('age={1}  salary={2}  name={0}'.format(name,age,salary))\n",
    "\n",
    "# print name in 15 columns and salary in 10 columns\n",
    "print('name = {0:15}  salary={1:10}'.format(name,salary))\n",
    "\n",
    "# print(radius in 10 columns, with only 2 digits after decimal point\n",
    "print('radius = {0:10.2f}'.format(r))\n"
   ]
  },
  {
   "cell_type": "markdown",
   "id": "ce546a7c",
   "metadata": {},
   "source": [
    "## Questation number 1 with solutation"
   ]
  },
  {
   "cell_type": "code",
   "execution_count": 57,
   "id": "111c4d01",
   "metadata": {},
   "outputs": [
    {
     "name": "stdout",
     "output_type": "stream",
     "text": [
      "2\n",
      "4\n",
      "6\n",
      "8\n",
      "10\n",
      "12\n",
      "14\n",
      "16\n",
      "18\n",
      "20\n",
      "22\n",
      "24\n"
     ]
    }
   ],
   "source": [
    "#Write a program to print even number using continue statement\"\n",
    "n=0\n",
    "while n < 25:\n",
    "    n += 1\n",
    "    if n % 2 == 1:\n",
    "        continue\n",
    "    print(n)\n",
    "while n >25:\n",
    "    n -=1\n",
    "    if n % 2 == 0:\n",
    "        continue \n",
    "    print(n)"
   ]
  },
  {
   "cell_type": "markdown",
   "id": "0c905f94",
   "metadata": {},
   "source": [
    "## Questation number 2 with solutation"
   ]
  },
  {
   "cell_type": "code",
   "execution_count": 58,
   "id": "682785b0",
   "metadata": {},
   "outputs": [
    {
     "name": "stdout",
     "output_type": "stream",
     "text": [
      "Enter the number7\n",
      "7 is a prime number\n"
     ]
    }
   ],
   "source": [
    "#\"Write a python program to accept number from user and check the if it is prime or not\"\n",
    "n=int(input(\"Enter the number\"))\n",
    "if n > 1:\n",
    "    for i in range(2, n):\n",
    "        if(n % i) == 0:\n",
    "            print(n,\"is not a prime number\")\n",
    "            break\n",
    "    else:\n",
    "        print(n,\"is a prime number\")\n",
    "else:(n,\"is not a prime number\")"
   ]
  },
  {
   "cell_type": "markdown",
   "id": "50771dab",
   "metadata": {},
   "source": [
    "## Questation number 3 with solutation"
   ]
  },
  {
   "cell_type": "code",
   "execution_count": 60,
   "id": "eda3335c",
   "metadata": {},
   "outputs": [
    {
     "name": "stdout",
     "output_type": "stream",
     "text": [
      "Enter the number5\n",
      "0 1 1 2 3 "
     ]
    }
   ],
   "source": [
    "# Write a python program to print the first 10 numbers Fibonacci series\"\n",
    "num=int(input(\"Enter the number\"))\n",
    "n1,n2=0,1\n",
    "a=0\n",
    "if num<=0:\n",
    "    print('please enter the number greater than zero')\n",
    "else:\n",
    "    for i in range(0,num):\n",
    "        print(a,end=\" \")\n",
    "        n1=n2\n",
    "        n2=a\n",
    "        a=n1+n2"
   ]
  },
  {
   "cell_type": "markdown",
   "id": "93ad4f78",
   "metadata": {},
   "source": [
    "## Questation number 4 with solutation"
   ]
  },
  {
   "cell_type": "code",
   "execution_count": 61,
   "id": "c3c0869f",
   "metadata": {},
   "outputs": [
    {
     "name": "stdout",
     "output_type": "stream",
     "text": [
      "4, 44, 444, 4444, 44444, "
     ]
    }
   ],
   "source": [
    "# Write a program to print the following series till terms 4,44,444china …..n termsnu\n",
    "def print_series(n):\n",
    "    s = 0\n",
    "    for i in range(1, n+1):\n",
    "        s = s*10 + 4\n",
    "        print(s, end=\", \")\n",
    "        \n",
    "print_series(5)"
   ]
  },
  {
   "cell_type": "markdown",
   "id": "5561ebb8",
   "metadata": {},
   "source": [
    "## Questation number 5 with solutation"
   ]
  },
  {
   "cell_type": "code",
   "execution_count": 62,
   "id": "a1fb52e2",
   "metadata": {},
   "outputs": [
    {
     "name": "stdout",
     "output_type": "stream",
     "text": [
      "7x1=7 7x2=14 7x3=21 7x4=28 7x5=35 7x6=42 7x7=49 7x8=56 7x9=63 7x10=70 \n"
     ]
    }
   ],
   "source": [
    "#\"Write a program to print multiplication table of 7 using break statement.\"\n",
    "def multiplication_table(number):\n",
    "    multiplier = 1\n",
    "    while multiplier <= 11:\n",
    "        result = number * multiplier\n",
    "        if result > 71:\n",
    "            break\n",
    "        print(str(number) + \"x\" + str(multiplier) + \"=\" + str(result), end=' ')\n",
    "        multiplier += 1\n",
    "    print()\n",
    "\n",
    "multiplication_table(7)"
   ]
  },
  {
   "cell_type": "markdown",
   "id": "167b74bb",
   "metadata": {},
   "source": [
    "## Questation number 6 with solutation"
   ]
  },
  {
   "cell_type": "code",
   "execution_count": 63,
   "id": "d4d88a05",
   "metadata": {},
   "outputs": [
    {
     "name": "stdout",
     "output_type": "stream",
     "text": [
      "3439\n"
     ]
    }
   ],
   "source": [
    "#Write a program to determine how many of the numbers between 1 and 10000 contain the digit 3.\"\n",
    "count = 0\n",
    "for i in range(1, 10001):\n",
    "    if '3' in str(i):\n",
    "        count += 1\n",
    "print(count)"
   ]
  },
  {
   "cell_type": "markdown",
   "id": "fbd49afb",
   "metadata": {},
   "source": [
    "## Questation number 7 with solutation"
   ]
  },
  {
   "cell_type": "code",
   "execution_count": 64,
   "id": "550244de",
   "metadata": {},
   "outputs": [
    {
     "name": "stdout",
     "output_type": "stream",
     "text": [
      "Enter a string: UPENDRA\n",
      "Enter a letter: A\n",
      " index A is 6\n"
     ]
    }
   ],
   "source": [
    "# Given a string s, s.index('x') returns the index of the first x in s and an error if there is no x.\n",
    "# ((a) Write a program that asks the user for a string and a letter. Using a while loop, \n",
    "# the program should print the index of the first occurrence of that letter and a message if the string does not contain the letter.) \n",
    "### ((b) Write the above program using a for/break loop instead of a while loop)\"\n",
    "s = input(\"Enter a string: \")\n",
    "x = input(\"Enter a letter: \")\n",
    "index = 0\n",
    "while index <len(s):\n",
    "    if s[index] == x:\n",
    "        print(\" index\", x, \"is\", index)\n",
    "        break\n",
    "    else:\n",
    "        index += 1\n",
    "if index == len(s):\n",
    "    print(\"There is no\", x, \"in\", s)"
   ]
  },
  {
   "cell_type": "code",
   "execution_count": 65,
   "id": "5aa64543",
   "metadata": {},
   "outputs": [
    {
     "name": "stdout",
     "output_type": "stream",
     "text": [
      "Enter a string: UPENDRA\n",
      "Enter a letter: A\n",
      "The first occurrence of A is at index 6\n"
     ]
    }
   ],
   "source": [
    "s = input(\"Enter a string: \")\n",
    "x = input(\"Enter a letter: \")\n",
    "for index, char in enumerate(s):\n",
    "    if char == x:\n",
    "        break\n",
    "if index < len(s) and s[index] == x:\n",
    "    print(f\"The first occurrence of {x} is at index {index}\")\n",
    "else:\n",
    "    print(f\"The string does not contain {x}\")"
   ]
  },
  {
   "cell_type": "markdown",
   "id": "df7f2d53",
   "metadata": {},
   "source": [
    "## Questation number 8 with solutation"
   ]
  },
  {
   "cell_type": "code",
   "execution_count": 66,
   "id": "3a19debc",
   "metadata": {},
   "outputs": [
    {
     "name": "stdout",
     "output_type": "stream",
     "text": [
      "2\n",
      "4\n",
      "6\n",
      "8\n",
      "10\n",
      "12\n",
      "14\n",
      "16\n",
      "18\n",
      "20\n",
      "The Sum of Even Numbers from 1 to 20 = 110\n"
     ]
    }
   ],
   "source": [
    "# \"Write a program to calculate the sum of first 10 number using for loop.\"\n",
    "sum= 0\n",
    "for i in range(1,21):\n",
    "    if(i % 2 == 0):\n",
    "        print(\"{0}\".format(i))\n",
    "        sum= sum + i\n",
    "\n",
    "print(\"The Sum of Even Numbers from 1 to {0} = {1}\".format(i,sum))"
   ]
  },
  {
   "cell_type": "markdown",
   "id": "34be0683",
   "metadata": {},
   "source": [
    "## Questation number 9 with solutation"
   ]
  },
  {
   "cell_type": "code",
   "execution_count": 67,
   "id": "e3acde07",
   "metadata": {},
   "outputs": [
    {
     "name": "stdout",
     "output_type": "stream",
     "text": [
      " Enter a value 6\n",
      "factorial of 6 is 720\n"
     ]
    }
   ],
   "source": [
    "# \"Write a program that computes the factorial of a number. \n",
    "# The factorial, n!, of a number n is the product of all the integers between 1 and n, including n.\"\n",
    "n=int(input(\" Enter a value \"))\n",
    "factorial=1\n",
    "for i in range(1,n+1):\n",
    "    factorial=factorial*i\n",
    "    \n",
    "print(\"factorial of\",n,\"is\",factorial)"
   ]
  },
  {
   "cell_type": "markdown",
   "id": "826ad2d9",
   "metadata": {},
   "source": [
    "## Questation number 10 with solutation"
   ]
  },
  {
   "cell_type": "code",
   "execution_count": 68,
   "id": "560e39d5",
   "metadata": {},
   "outputs": [
    {
     "name": "stdout",
     "output_type": "stream",
     "text": [
      "89 21\n",
      "89 22\n",
      "89 23\n",
      "89 24\n",
      "98 21\n",
      "98 22\n",
      "98 23\n",
      "98 24\n",
      "The largest palindrome is 8813200023188\n"
     ]
    }
   ],
   "source": [
    "# Adding certain numbers to their reversals sometimes produces a palindromic number. \n",
    "# For instance, 241 + 142 = 383. Sometimes, we have to repeat the process. \n",
    "# For instance, 84 + 48 = 132 and 132 + 231 = 363. \n",
    "# Write a program that finds both two-digit numbers for which this process must be repeated more than 20 times to obtain a palindromic number.\"\n",
    "max_palindrome = 0\n",
    "for num in range(10, 100):\n",
    "    current = num\n",
    "    count = 0\n",
    "    while str(current) != str(current)[::-1] and count < 1000:\n",
    "        current = current + int(str(current)[::-1])\n",
    "        count += 1\n",
    "        if count > 20:\n",
    "            max_palindrome = current\n",
    "            print(num, count)\n",
    "print(\"The largest palindrome is\", max_palindrome)"
   ]
  },
  {
   "cell_type": "markdown",
   "id": "a952fe69",
   "metadata": {},
   "source": [
    "## Questation number 11 with solutation"
   ]
  },
  {
   "cell_type": "code",
   "execution_count": 69,
   "id": "cd65ba10",
   "metadata": {},
   "outputs": [
    {
     "name": "stdout",
     "output_type": "stream",
     "text": [
      "1\n",
      "2\n",
      "3\n",
      "4\n",
      "5\n",
      "6\n"
     ]
    }
   ],
   "source": [
    "# \"What is the difference between break and continue statement. Provide the solution with coding examples\"\n",
    "# (solutation: the difference between break and continue statement is the break statement terminates the current loop\n",
    "#  and resume the code beiond the loop where as in continue statement it will skip the current iteration of the loop\n",
    "# and countinue with the next iteration)\n",
    "for i in range(1,10):\n",
    "    if i==7:\n",
    "        break\n",
    "    print(i)"
   ]
  },
  {
   "cell_type": "code",
   "execution_count": 70,
   "id": "b1739ad1",
   "metadata": {},
   "outputs": [
    {
     "name": "stdout",
     "output_type": "stream",
     "text": [
      "1\n",
      "3\n",
      "5\n",
      "7\n",
      "9\n"
     ]
    }
   ],
   "source": [
    "for i in range(1,10):\n",
    "    if i % 2 == 0:\n",
    "        continue\n",
    "    print(i)"
   ]
  },
  {
   "cell_type": "markdown",
   "id": "b4bd4611",
   "metadata": {},
   "source": [
    "## Questation number 12 with solutation"
   ]
  },
  {
   "cell_type": "code",
   "execution_count": 71,
   "id": "fda7830f",
   "metadata": {},
   "outputs": [
    {
     "name": "stdout",
     "output_type": "stream",
     "text": [
      "The final amount is 18354.38675022431\n",
      "The compound interest is 8354.386750224308\n"
     ]
    }
   ],
   "source": [
    "# \"Write a program to calculate the interest rate is 3%, \n",
    "# compound interest of each month increases by 0.4 up to 12 months and loan of 1,00,00.\"\n",
    "rate=0.03\n",
    "duration=12\n",
    "loan=10000\n",
    "amount = loan\n",
    "ci=0\n",
    "for i in range(1,duration+1):\n",
    "    intrest=amount*rate\n",
    "    amount=amount+intrest\n",
    "    ci=ci+intrest\n",
    "    rate=rate+0.004\n",
    "print(\"The final amount is\", amount)\n",
    "print(\"The compound interest is\", ci)"
   ]
  },
  {
   "cell_type": "markdown",
   "id": "c034747c",
   "metadata": {},
   "source": [
    "## Questation number 13 with solutation"
   ]
  },
  {
   "cell_type": "code",
   "execution_count": 72,
   "id": "5a9d2744",
   "metadata": {},
   "outputs": [
    {
     "name": "stdout",
     "output_type": "stream",
     "text": [
      "Enter a choice (rock, paper, scissors): rock\n",
      "You chose rock.\n",
      "Computer chose scissors.\n",
      "You win!\n",
      "Your score: 1\n",
      "Computer score: 0\n",
      "Enter a choice (rock, paper, scissors): scissors\n",
      "You chose scissors.\n",
      "Computer chose paper.\n",
      "You win!\n",
      "Your score: 2\n",
      "Computer score: 0\n",
      "Enter a choice (rock, paper, scissors): rock\n",
      "You chose rock.\n",
      "Computer chose rock.\n",
      "It's a tie.\n",
      "Your score: 2\n",
      "Computer score: 0\n",
      "Enter a choice (rock, paper, scissors): scissors\n",
      "You chose scissors.\n",
      "Computer chose scissors.\n",
      "It's a tie.\n",
      "Your score: 2\n",
      "Computer score: 0\n",
      "Enter a choice (rock, paper, scissors): scissors\n",
      "You chose scissors.\n",
      "Computer chose rock.\n",
      "You lose.\n",
      "Your score: 2\n",
      "Computer score: 1\n",
      "Enter a choice (rock, paper, scissors): rock\n",
      "You chose rock.\n",
      "Computer chose scissors.\n",
      "You win!\n",
      "Your score: 3\n",
      "Computer score: 1\n",
      "You won the game!\n"
     ]
    }
   ],
   "source": [
    "# \"Write a program that lets the user play Rock-Paper-Scissors against the computer. In that program there were exactly five rounds. \n",
    "# Rewrite the program so that it is a best 3 out of 5. That is, the first player to win three times is the winne\n",
    "import random\n",
    "choices = [\"rock\", \"paper\", \"scissors\"]\n",
    "rules = { \"rock\": \"scissors\",\"paper\": \"rock\",\"scissors\": \"paper\" }\n",
    "user_score = 0\n",
    "computer_score = 0\n",
    "while user_score < 3 and computer_score < 3:\n",
    "    user_choice = input(\"Enter a choice (rock, paper, scissors): \").lower()\n",
    "    while user_choice not in choices:\n",
    "        user_choice = input(\"Invalid choice. Please try again: \").lower()\n",
    "    print(f\"You chose {user_choice}.\")\n",
    "    computer_choice = random.choice(choices)\n",
    "    print(f\"Computer chose {computer_choice}.\")\n",
    "    if user_choice == computer_choice:\n",
    "        print(\"It's a tie.\")\n",
    "    elif rules[user_choice] == computer_choice:\n",
    "        print(\"You win!\")\n",
    "        user_score += 1\n",
    "    else:\n",
    "        print(\"You lose.\")\n",
    "        computer_score += 1\n",
    "    print(f\"Your score: {user_score}\")\n",
    "    print(f\"Computer score: {computer_score}\")\n",
    "if user_score == 3:\n",
    "    print(\"You won the game!\")\n",
    "else:\n",
    "    print(\"You lost the game.\")"
   ]
  },
  {
   "cell_type": "markdown",
   "id": "249c91bf",
   "metadata": {},
   "source": [
    "## Questation number 14 with solutation"
   ]
  },
  {
   "cell_type": "code",
   "execution_count": 73,
   "id": "f3bd1ad1",
   "metadata": {},
   "outputs": [
    {
     "name": "stdout",
     "output_type": "stream",
     "text": [
      "Enter the number of values : 6\n",
      "The sum of the series is 873.1\n"
     ]
    }
   ],
   "source": [
    "# \"Write a program to print to find the sum of series .1 + 2 + 6 + 24 +120 … n terms.\"\n",
    "n = int(input(\"Enter the number of values : \"))\n",
    "sum = 0.1\n",
    "fact = 1\n",
    "for i in range(1, n + 1):\n",
    "    fact = fact * i\n",
    "    sum = sum + fact\n",
    "print(\"The sum of the series is\", sum)"
   ]
  },
  {
   "cell_type": "markdown",
   "id": "04ecc0b9",
   "metadata": {},
   "source": [
    "## Questation number 15 with solutation"
   ]
  },
  {
   "cell_type": "code",
   "execution_count": 74,
   "id": "70ba19de",
   "metadata": {},
   "outputs": [
    {
     "name": "stdout",
     "output_type": "stream",
     "text": [
      "4 5 6 7 \n",
      "5 6 7 8 \n",
      "6 7 8 9 \n",
      "7 8 9 10 \n"
     ]
    }
   ],
   "source": [
    "# \"What is the nest loop explain by using an example\"\n",
    "# (A nested loop is a loop inside another loop .it means that the inside loop will execute all its iterations for each iteration of the outer loop\n",
    "# (nested loops are used for working with multidimensional data structures,such as arrays,lists,matrices etc)\n",
    "for i in range (1,5):\n",
    "    i=i+1\n",
    "    for j in range(1,5):\n",
    "        j=j+1\n",
    "        print(i+j,end=' ')\n",
    "    print()"
   ]
  },
  {
   "cell_type": "markdown",
   "id": "2998bf89",
   "metadata": {},
   "source": [
    "# WEEK4_SESSION 01-04-2024"
   ]
  },
  {
   "cell_type": "markdown",
   "id": "fe8a9bc9",
   "metadata": {},
   "source": [
    "## Lists - Tuples - Sets - Dictionary\n"
   ]
  },
  {
   "cell_type": "markdown",
   "id": "ba8085c7",
   "metadata": {},
   "source": [
    "## 1.Introduction to Collection types\n",
    "\n"
   ]
  },
  {
   "cell_type": "raw",
   "id": "f54a3c2e",
   "metadata": {},
   "source": [
    "Collection types are a group of built-in Python types which represent a group of other types\n",
    "Collections may also be referred to as containers (as they contain other objects). \n",
    "These collection classes are often used as the basis for more complex or application specific data structures and data types.\n",
    "There are four classes in Python that provide container like behavior; that is data types for holding collections of other objects, these are: List, Tuple, Set and Dictionary\n"
   ]
  },
  {
   "cell_type": "markdown",
   "id": "2293619c",
   "metadata": {},
   "source": [
    "## 2.List\n"
   ]
  },
  {
   "cell_type": "raw",
   "id": "f4c124cc",
   "metadata": {},
   "source": [
    "Lists are mutable ordered containers of other objects. \n",
    "Lists are mutable, i.e. it is also possible to add elements to a List, remove elements and modify elements. \n",
    "The elements in the list maintain their order \n",
    "Like a string, a list is a sequence of values. \n",
    "In a string, the values are characters; in a list, they can be any type. \n",
    "The values in list are called elements or sometimes items.\n",
    "\n",
    "There are several ways to create a new list; \n",
    "the simplest is to enclose the elements in square brackets (\"[\" and \"]\"). For example: [10, 20, 30, 40]\n",
    "The following list contains a string, a float, an integer, and another list: ['Python', 2.0, 5, [10, 20]]\n",
    "A list within another list is nested.\n",
    "A list that contains no elements is called an empty list; \n",
    "you can create one with empty brackets, [].\n",
    "You can assign list values to variables. For example: "
   ]
  },
  {
   "cell_type": "code",
   "execution_count": 75,
   "id": "5add090d",
   "metadata": {},
   "outputs": [],
   "source": [
    "student = ['Ramesh','B.Tech(CSE)',110007]"
   ]
  },
  {
   "cell_type": "code",
   "execution_count": 76,
   "id": "cadaa50f",
   "metadata": {},
   "outputs": [
    {
     "name": "stdout",
     "output_type": "stream",
     "text": [
      "['Ramesh', 'B.Tech(CSE)', 110007]\n"
     ]
    }
   ],
   "source": [
    "print(student)"
   ]
  },
  {
   "cell_type": "raw",
   "id": "9563f8e6",
   "metadata": {},
   "source": [
    "We can convert a string or any other existing type into a list. Let s=\"Hello World\"\n",
    "l1 = list(s) # Will return the elements of s into the list l1\n",
    "An empty list can also be created using the list constructor\n",
    "l1 = list()\n",
    "Length/ Number of elements in a list can be determined using the len function:\n"
   ]
  },
  {
   "cell_type": "code",
   "execution_count": 77,
   "id": "02be4912",
   "metadata": {},
   "outputs": [
    {
     "name": "stdout",
     "output_type": "stream",
     "text": [
      "3\n"
     ]
    }
   ],
   "source": [
    " print(len(student))"
   ]
  },
  {
   "cell_type": "raw",
   "id": "74005931",
   "metadata": {},
   "source": [
    "List elements can be accessed using an index (within square brackets). \n",
    "The index returns the object at that position, for example: student[1] will return 'B.Tech(CSE)'\n",
    "The list index can be any integer. If you try to read or write an element that does not exist, you get an IndexError.\n",
    "If you use a negative index such as −1 then the index is reversed so an index of −1 starts from the end of the list (−1 returns the last element, −2 the second to last etc.).\n"
   ]
  },
  {
   "cell_type": "code",
   "execution_count": 21,
   "id": "2aa2f636",
   "metadata": {},
   "outputs": [
    {
     "data": {
      "text/plain": [
       "['b', 'c']"
      ]
     },
     "execution_count": 21,
     "metadata": {},
     "output_type": "execute_result"
    }
   ],
   "source": [
    "#The slice operator also works on lists:\n",
    "t = ['a', 'b', 'c', 'd', 'e', 'f']\n",
    "t[1:3]"
   ]
  },
  {
   "cell_type": "code",
   "execution_count": 22,
   "id": "48576176",
   "metadata": {},
   "outputs": [
    {
     "data": {
      "text/plain": [
       "['a', 'b', 'c', 'd']"
      ]
     },
     "execution_count": 22,
     "metadata": {},
     "output_type": "execute_result"
    }
   ],
   "source": [
    "t[:4]"
   ]
  },
  {
   "cell_type": "code",
   "execution_count": 23,
   "id": "b67628ff",
   "metadata": {},
   "outputs": [
    {
     "data": {
      "text/plain": [
       "['d', 'e', 'f']"
      ]
     },
     "execution_count": 23,
     "metadata": {},
     "output_type": "execute_result"
    }
   ],
   "source": [
    "t[3:]"
   ]
  },
  {
   "cell_type": "code",
   "execution_count": 24,
   "id": "b8c56f1e",
   "metadata": {},
   "outputs": [
    {
     "data": {
      "text/plain": [
       "['a', 'b', 'c', 'd', 'e', 'f']"
      ]
     },
     "execution_count": 24,
     "metadata": {},
     "output_type": "execute_result"
    }
   ],
   "source": [
    "t[:]"
   ]
  },
  {
   "cell_type": "code",
   "execution_count": 25,
   "id": "bcea11e5",
   "metadata": {},
   "outputs": [
    {
     "data": {
      "text/plain": [
       "['f', 'e', 'd', 'c', 'b', 'a']"
      ]
     },
     "execution_count": 25,
     "metadata": {},
     "output_type": "execute_result"
    }
   ],
   "source": [
    "t[::-1]"
   ]
  },
  {
   "cell_type": "raw",
   "id": "3e39fa54",
   "metadata": {},
   "source": [
    "If you omit the first index, the slice starts at the beginning. \n",
    "If you omit the second, the slice goes to the end. \n",
    "So if you omit both, the slice is a copy of the whole list: t[:]\n",
    "The following is a notation to obtain reverse of a list: t[::-1]"
   ]
  },
  {
   "cell_type": "code",
   "execution_count": 26,
   "id": "0e5b1867",
   "metadata": {},
   "outputs": [
    {
     "data": {
      "text/plain": [
       "[1, 'abc', 2.3, 'x', 'y', 123]"
      ]
     },
     "execution_count": 26,
     "metadata": {},
     "output_type": "execute_result"
    }
   ],
   "source": [
    "t[5] = 'z'\n",
    "# A slice operator on the left side of an assignment can update multiple elements:\n",
    "t[1:3] = ['x', 'y']\n",
    "# Two lists can be concatenated using the ‘+’ operator\n",
    "t1 = [1,'abc',2.3]\n",
    "t2 = ['x','y',123]\n",
    "t3 = t1 + t2\n",
    "t3"
   ]
  },
  {
   "cell_type": "markdown",
   "id": "f9d5507d",
   "metadata": {},
   "source": [
    "## Adding elements to lists"
   ]
  },
  {
   "cell_type": "raw",
   "id": "c081901a",
   "metadata": {},
   "source": [
    "Elements can be added to the backend of an existing list using the append() method of the List class. The syntax of this method is:\n",
    "\t<list>.append(<object>)\n",
    "For example: t.append('i')\n",
    "Elements can be inserted at any position into a list using the insert() method. Its syntax is: \n",
    "<list>.insert(<index>, <object>)\n",
    "For example: t.insert(2,'k')\n"
   ]
  },
  {
   "cell_type": "code",
   "execution_count": 27,
   "id": "2485803e",
   "metadata": {},
   "outputs": [
    {
     "data": {
      "text/plain": [
       "[1, 'abc', 'k', 2.3, 'x', 'y', 123, 'i']"
      ]
     },
     "execution_count": 27,
     "metadata": {},
     "output_type": "execute_result"
    }
   ],
   "source": [
    "t3.append('i')\n",
    "t3.insert(2,'k')\n",
    "t3"
   ]
  },
  {
   "cell_type": "code",
   "execution_count": 28,
   "id": "0182c1a5",
   "metadata": {},
   "outputs": [
    {
     "data": {
      "text/plain": [
       "[]"
      ]
     },
     "execution_count": 28,
     "metadata": {},
     "output_type": "execute_result"
    }
   ],
   "source": [
    "t3.index('y')\n",
    "t3.clear()\n",
    "t4 = t3.copy()\n",
    "n = t3.count('x')\n",
    "t2.extend(t1)\n",
    "t3.reverse()\n",
    "t3.sort()\n",
    "t3"
   ]
  },
  {
   "cell_type": "markdown",
   "id": "ead800bf",
   "metadata": {},
   "source": [
    "## Removing elements from a list"
   ]
  },
  {
   "cell_type": "code",
   "execution_count": null,
   "id": "78b4c914",
   "metadata": {},
   "outputs": [],
   "source": [
    "The remove() method is used to remove an element from a list. Its syntax is: <list>.remove(<object>)\n",
    "For example: t3.remove(‘abc’)\n",
    "The pop() method removes an element from a list based on its index. For example: t3.pop(2)\n",
    "If no arguments are provided to the pop() method, it removes the last element from the list\n",
    "The del keyword can be used to delete a single element or a range of elements from a list. For example: del t3[1:3]\n",
    "\n"
   ]
  },
  {
   "cell_type": "code",
   "execution_count": 16,
   "id": "17170a34",
   "metadata": {},
   "outputs": [
    {
     "data": {
      "text/plain": [
       "[1, 'y', 123, 'i']"
      ]
     },
     "execution_count": 16,
     "metadata": {},
     "output_type": "execute_result"
    }
   ],
   "source": [
    "t3.remove('abc')\n",
    "t3.pop(2)\n",
    "del t3[1:3]\n",
    "t3"
   ]
  },
  {
   "cell_type": "markdown",
   "id": "3cc1928e",
   "metadata": {},
   "source": [
    "## Iterating over a List"
   ]
  },
  {
   "cell_type": "code",
   "execution_count": 31,
   "id": "a97cf2ee",
   "metadata": {},
   "outputs": [
    {
     "name": "stdout",
     "output_type": "stream",
     "text": [
      "Hello:Suresh\n",
      "Hello:Ramesh\n",
      "Hello:Mahesh\n",
      "Suresh is present\n"
     ]
    }
   ],
   "source": [
    "# We can use the for loop to iterate over a List object. For example:\n",
    "names = ['Suresh','Ramesh','Mahesh']\n",
    "for i in names:\n",
    "    print('Hello:'+i)\n",
    "# Checking an element in a List: We can check the presence of an element in a List using the 'in' operator.\n",
    "if 'Suresh'in names:\n",
    "    print ('Suresh is present')\n"
   ]
  },
  {
   "cell_type": "markdown",
   "id": "304ac218",
   "metadata": {},
   "source": [
    "## 3.Tuple\n"
   ]
  },
  {
   "cell_type": "code",
   "execution_count": null,
   "id": "c8fe8b2b",
   "metadata": {},
   "outputs": [],
   "source": [
    "Tuples are an immutable ordered collection of objects; \n",
    "that is each element in a tuple has a specific position (its index) and that position does not change over time.\n",
    "It is not possible to add or remove elements from the tuple once it has been created.\n",
    "Tuples are defined using parentheses (i.e. round brackets '()') around the elements that make up the tuple. \n",
    "This defines a new Tuple which is referenced by the variable tup1.\n",
    "\tFor example:"
   ]
  },
  {
   "cell_type": "code",
   "execution_count": 33,
   "id": "e00aa0fc",
   "metadata": {},
   "outputs": [
    {
     "data": {
      "text/plain": [
       "(1, 3, 5, 7)"
      ]
     },
     "execution_count": 33,
     "metadata": {},
     "output_type": "execute_result"
    }
   ],
   "source": [
    "tup1 = (1, 3, 5, 7)\n",
    "tup1"
   ]
  },
  {
   "cell_type": "code",
   "execution_count": null,
   "id": "36e0a9d6",
   "metadata": {},
   "outputs": [],
   "source": [
    "Tuples can be created using round brackets ()\n",
    "The tuple() function can also be used to create a new tuple from an iterable like list, set or dictionary\n",
    "The syntax of the tuple() function is:\n",
    "For example: "
   ]
  },
  {
   "cell_type": "markdown",
   "id": "796199e4",
   "metadata": {},
   "source": [
    "## Creating Tuples"
   ]
  },
  {
   "cell_type": "code",
   "execution_count": 34,
   "id": "6b3c68f2",
   "metadata": {},
   "outputs": [
    {
     "name": "stdout",
     "output_type": "stream",
     "text": [
      "(1, 2, 3)\n"
     ]
    }
   ],
   "source": [
    "list1 = [1, 2, 3]\n",
    "t1 = tuple(list1)\n",
    "print(t1)"
   ]
  },
  {
   "cell_type": "markdown",
   "id": "2a47f483",
   "metadata": {},
   "source": [
    "## Accessing elements of a Tuple"
   ]
  },
  {
   "cell_type": "code",
   "execution_count": 35,
   "id": "8970837f",
   "metadata": {},
   "outputs": [
    {
     "name": "stdout",
     "output_type": "stream",
     "text": [
      "tup1[0]: 1\n",
      "tup1[1]: 3\n",
      "tup1[2]: 5\n",
      "tup1[3]: 7\n",
      "4\n"
     ]
    }
   ],
   "source": [
    "# The elements of a Tuple can be accessed using an index in square brackets. \n",
    "# The index returns the object at that position, for example:\n",
    "print('tup1[0]:', tup1[0])\n",
    "print('tup1[1]:', tup1[1])\n",
    "print('tup1[2]:', tup1[2])\n",
    "print('tup1[3]:', tup1[3])\n",
    "# Length/ Number of elements in a tuple can be determined using the len function: \n",
    "print(len(tup1))\n"
   ]
  },
  {
   "cell_type": "markdown",
   "id": "f0971589",
   "metadata": {},
   "source": [
    "## Tuples Can Hold Different Types"
   ]
  },
  {
   "cell_type": "raw",
   "id": "e9d85585",
   "metadata": {},
   "source": [
    "Tuples can also contain a mixture of different types; \n",
    "that is they are not restricted to holding elements all of the same type. For example: tup2 = (1, 'John', True, -23.45)\n",
    "We can iterate over a tuple object. For example:\n",
    "\tfor i in tup2:\n",
    "\t\tprint (i)\n",
    "You can check to see if a specific element exists in a Tuple using the in operator, for example:\n",
    "if ‘John’ in tup2:\n",
    "\t\tprint(‘John is present’)\n"
   ]
  },
  {
   "cell_type": "code",
   "execution_count": 37,
   "id": "ee9100a7",
   "metadata": {},
   "outputs": [
    {
     "data": {
      "text/plain": [
       "(1, 'John', True, -23.45)"
      ]
     },
     "execution_count": 37,
     "metadata": {},
     "output_type": "execute_result"
    }
   ],
   "source": [
    "tup2 = (1, 'John', True, -23.45)\n",
    "tup2"
   ]
  },
  {
   "cell_type": "code",
   "execution_count": 39,
   "id": "6779078f",
   "metadata": {},
   "outputs": [
    {
     "name": "stdout",
     "output_type": "stream",
     "text": [
      "1\n",
      "John\n",
      "True\n",
      "-23.45\n"
     ]
    }
   ],
   "source": [
    "for i in tup2:\n",
    "    print(i)"
   ]
  },
  {
   "cell_type": "code",
   "execution_count": 40,
   "id": "2787d0ab",
   "metadata": {},
   "outputs": [
    {
     "name": "stdout",
     "output_type": "stream",
     "text": [
      "John is present\n"
     ]
    }
   ],
   "source": [
    "if 'John' in tup2:\n",
    "    print('John is present')"
   ]
  },
  {
   "cell_type": "markdown",
   "id": "a978a4d5",
   "metadata": {},
   "source": [
    "## Nested Tuples"
   ]
  },
  {
   "cell_type": "raw",
   "id": "7ac7c654",
   "metadata": {},
   "source": [
    "Tuples can be nested within Tuples; that is a Tuple can contain, as one of its elements, another Tuple. For example: \n",
    "tuple1 = (1, 3, 5, 7)\n",
    "tuple2 = (‘Ramesh', ‘Dinesh', ‘Suresh', ‘Mahesh’)\n",
    "tuple3 = (42, tuple1, tuple2, 5.5)\n",
    "print(tuple3)\n",
    "We say that tuple1 and tuple2 are nested within tuple3\n",
    "Note: Since tuples are immutable, we cannot add or remove elements from a Tuple, neither can we modify existing elements\n"
   ]
  },
  {
   "cell_type": "code",
   "execution_count": 41,
   "id": "22138beb",
   "metadata": {},
   "outputs": [
    {
     "name": "stdout",
     "output_type": "stream",
     "text": [
      "(42, (1, 3, 5, 7), ('Ramesh', 'Dinesh', 'Suresh', 'Mahesh'), 5.5)\n"
     ]
    }
   ],
   "source": [
    "tuple1 = (1, 3, 5, 7)\n",
    "tuple2 = ('Ramesh', 'Dinesh', 'Suresh', 'Mahesh')\n",
    "tuple3 = (42, tuple1, tuple2, 5.5)\n",
    "print(tuple3)"
   ]
  },
  {
   "cell_type": "markdown",
   "id": "26bf80ed",
   "metadata": {},
   "source": [
    "## Comparing Tuples"
   ]
  },
  {
   "cell_type": "raw",
   "id": "bee39dff",
   "metadata": {},
   "source": [
    "The comparison operators work with tuples and other sequences. \n",
    "Python starts by comparing the first element from each sequence. \n",
    "If they are equal, it goes on to the next element, and so on, until it finds elements that differ. \n",
    "Subsequent elements are not considered. \n",
    "For example: \n",
    "(0, 1, 2000000) < (0, 3, 4)    # The result is True, since 1 < 3\n"
   ]
  },
  {
   "cell_type": "code",
   "execution_count": 42,
   "id": "83ac525c",
   "metadata": {},
   "outputs": [
    {
     "data": {
      "text/plain": [
       "True"
      ]
     },
     "execution_count": 42,
     "metadata": {},
     "output_type": "execute_result"
    }
   ],
   "source": [
    "(0, 1, 2000000) < (0, 3, 4)    # The result is True, since 1 < 3"
   ]
  },
  {
   "cell_type": "markdown",
   "id": "a3474871",
   "metadata": {},
   "source": [
    "## 4.Sets\n"
   ]
  },
  {
   "cell_type": "raw",
   "id": "0f8420f1",
   "metadata": {},
   "source": [
    "A Set is an unordered (unindexed) collection of mutable objects that does not allow duplicates\n",
    "A set can be created using curly braces {}\n",
    "\tFor example: s1 = {1,'abc', 2.3334}\n",
    "Set can also be created using the set() constructor.\n",
    "\tFor example: s2=set() creates an empty set\n",
    "An existing collection type can be converted into a set\n",
    "\tFor example: l1 = [1,2,3,4]\n",
    "\ts3 = set(l1)\n"
   ]
  },
  {
   "cell_type": "code",
   "execution_count": 45,
   "id": "1fee7dfd",
   "metadata": {},
   "outputs": [
    {
     "data": {
      "text/plain": [
       "{1, 2, 3, 4}"
      ]
     },
     "execution_count": 45,
     "metadata": {},
     "output_type": "execute_result"
    }
   ],
   "source": [
    "s1 = {1,'abc', 2.3334}\n",
    "s1"
   ]
  },
  {
   "cell_type": "code",
   "execution_count": 46,
   "id": "2a9faa90",
   "metadata": {},
   "outputs": [
    {
     "data": {
      "text/plain": [
       "set()"
      ]
     },
     "execution_count": 46,
     "metadata": {},
     "output_type": "execute_result"
    }
   ],
   "source": [
    "s2=set()\n",
    "s2"
   ]
  },
  {
   "cell_type": "code",
   "execution_count": 47,
   "id": "c8cd133f",
   "metadata": {},
   "outputs": [
    {
     "data": {
      "text/plain": [
       "{1, 2, 3, 4}"
      ]
     },
     "execution_count": 47,
     "metadata": {},
     "output_type": "execute_result"
    }
   ],
   "source": [
    "l1 = [1,2,3,4]\n",
    "s3 = set(l1)\n",
    "s3"
   ]
  },
  {
   "cell_type": "markdown",
   "id": "618389ae",
   "metadata": {},
   "source": [
    "## Working with Sets"
   ]
  },
  {
   "cell_type": "raw",
   "id": "c1ada0a0",
   "metadata": {},
   "source": [
    "Consider the set \n",
    "\tbasket = {'apple', 'orange', 'apple', 'pear', 'orange', 'banana'}\n",
    "print(basket) will print the elements of the basket set\n",
    "Since elements in a set are not indexed, we can access individual elements using a for loop:\n",
    "\tfor item in basket:\n",
    "\t\tprint(item)\n",
    "To check for the presence of an element in a set the in keyword is used. For example: \n",
    "\tif ‘orange’ in basket: print(‘Orange is present’)\n"
   ]
  },
  {
   "cell_type": "code",
   "execution_count": 48,
   "id": "ef6c1aa7",
   "metadata": {},
   "outputs": [
    {
     "name": "stdout",
     "output_type": "stream",
     "text": [
      "{'pear', 'orange', 'banana', 'apple'}\n"
     ]
    }
   ],
   "source": [
    "basket = {'apple', 'orange', 'apple', 'pear', 'orange', 'banana'}\n",
    "print(basket) "
   ]
  },
  {
   "cell_type": "code",
   "execution_count": 49,
   "id": "2004ee84",
   "metadata": {},
   "outputs": [
    {
     "name": "stdout",
     "output_type": "stream",
     "text": [
      "pear\n",
      "orange\n",
      "banana\n",
      "apple\n"
     ]
    }
   ],
   "source": [
    "for item in basket:\n",
    "    print(item)"
   ]
  },
  {
   "cell_type": "code",
   "execution_count": 50,
   "id": "b333bcca",
   "metadata": {},
   "outputs": [
    {
     "name": "stdout",
     "output_type": "stream",
     "text": [
      "Orange is present\n"
     ]
    }
   ],
   "source": [
    "if 'orange' in basket: print('Orange is present')\n"
   ]
  },
  {
   "cell_type": "markdown",
   "id": "b6a7a4d8",
   "metadata": {},
   "source": [
    "## Adding items to a set"
   ]
  },
  {
   "cell_type": "raw",
   "id": "7aa07ac6",
   "metadata": {},
   "source": [
    "A single item can be added to a set using the add() method\n",
    "\tbasket.add(‘apricot’)\n",
    "More than one item can be added to a set using the update() method\n",
    "\tbasket.update([‘grapes’,’water melon’])\n",
    "The argument to update can be a set, a list, a tuple or a dictionary\n",
    "It is not possible to change the items which are already there in a Set.\n"
   ]
  },
  {
   "cell_type": "code",
   "execution_count": 51,
   "id": "721de0ce",
   "metadata": {},
   "outputs": [],
   "source": [
    "basket.add('apricot')"
   ]
  },
  {
   "cell_type": "code",
   "execution_count": 52,
   "id": "4a8f7ae5",
   "metadata": {},
   "outputs": [],
   "source": [
    "basket.update(['grapes','water melon'])"
   ]
  },
  {
   "cell_type": "code",
   "execution_count": 53,
   "id": "bac636a1",
   "metadata": {},
   "outputs": [
    {
     "data": {
      "text/plain": [
       "{'apple', 'apricot', 'banana', 'grapes', 'orange', 'pear', 'water melon'}"
      ]
     },
     "execution_count": 53,
     "metadata": {},
     "output_type": "execute_result"
    }
   ],
   "source": [
    "basket"
   ]
  },
  {
   "cell_type": "raw",
   "id": "93264f7c",
   "metadata": {},
   "source": [
    "As with other collection classes, you can find out the length of a Set using the len() function.\n",
    "\tprint (len(basket))\n",
    "You can also obtain the maximum or minimum values in a set using the max() and min() functions.\n",
    "\tprint(max(basket))\n",
    "To remove an item from a set, use the remove() method\n",
    "\tbasket.remove('apple')\n",
    "The method clear() is used to remove all elements from a Set\n",
    "\tbasket.clear()\n"
   ]
  },
  {
   "cell_type": "code",
   "execution_count": 54,
   "id": "3ec1fa3a",
   "metadata": {},
   "outputs": [
    {
     "name": "stdout",
     "output_type": "stream",
     "text": [
      "7\n"
     ]
    }
   ],
   "source": [
    "print (len(basket))"
   ]
  },
  {
   "cell_type": "code",
   "execution_count": 55,
   "id": "5e1fbf89",
   "metadata": {},
   "outputs": [
    {
     "name": "stdout",
     "output_type": "stream",
     "text": [
      "water melon\n"
     ]
    }
   ],
   "source": [
    "print(max(basket))"
   ]
  },
  {
   "cell_type": "code",
   "execution_count": 59,
   "id": "3a6c3a77",
   "metadata": {},
   "outputs": [],
   "source": [
    "basket.remove('apple')"
   ]
  },
  {
   "cell_type": "code",
   "execution_count": 60,
   "id": "1febab0a",
   "metadata": {},
   "outputs": [
    {
     "data": {
      "text/plain": [
       "{'apricot', 'banana', 'grapes', 'orange', 'pear', 'water melon'}"
      ]
     },
     "execution_count": 60,
     "metadata": {},
     "output_type": "execute_result"
    }
   ],
   "source": [
    "basket"
   ]
  },
  {
   "cell_type": "code",
   "execution_count": 61,
   "id": "0da01ffa",
   "metadata": {},
   "outputs": [],
   "source": [
    "basket.clear()"
   ]
  },
  {
   "cell_type": "code",
   "execution_count": 62,
   "id": "b41d340b",
   "metadata": {},
   "outputs": [
    {
     "data": {
      "text/plain": [
       "set()"
      ]
     },
     "execution_count": 62,
     "metadata": {},
     "output_type": "execute_result"
    }
   ],
   "source": [
    "basket"
   ]
  },
  {
   "cell_type": "markdown",
   "id": "e6b90ae1",
   "metadata": {},
   "source": [
    "## Nesting Sets"
   ]
  },
  {
   "cell_type": "raw",
   "id": "b9ad7f60",
   "metadata": {},
   "source": [
    "It is possible to hold any immutable object within a set. This means that a set can contain a reference to a Tuple (as that is immutable).\n",
    "For example:\n",
    "\ts1 = { ‘abc’, (1, 2, 3)}\n",
    "\tprint(s1)\n",
    "We cannot nest Lists or other Sets within a Set as these are not immutable types.\n"
   ]
  },
  {
   "cell_type": "code",
   "execution_count": 63,
   "id": "d80d1299",
   "metadata": {},
   "outputs": [
    {
     "name": "stdout",
     "output_type": "stream",
     "text": [
      "{(1, 2, 3), 'abc'}\n"
     ]
    }
   ],
   "source": [
    "s1 = { 'abc', (1, 2, 3)}\n",
    "print(s1)"
   ]
  },
  {
   "cell_type": "markdown",
   "id": "8150ec4d",
   "metadata": {},
   "source": [
    "## Mathematical set operations"
   ]
  },
  {
   "cell_type": "raw",
   "id": "c7d1d1e6",
   "metadata": {},
   "source": [
    "The Set container also supports mathematical set operations\n",
    "such as union (|), intersection (&), difference (−) and symmetric difference (^). These are based on simple Set theory.\n",
    "Consider two sets:\n",
    "s1 = {'apple', 'orange', 'banana'}\n",
    "s2 = {'grapefruit', 'lime', 'banana'}\n",
    "The Union of two sets represents the combination of all the values in the two sets:\n",
    "print('Union is :', s1 | s2)\n",
    "The intersection of two sets represents the common values between two sets: print('Intersection:', s1 & s2)\n",
    "The difference between two sets is the set of values in the first set that are not in the second set: \n",
    "print('Difference:', s1 - s2)\n",
    "The symmetric difference represents all the unique values in the two sets (that is it is the inverse of the intersection): print('Symmetric Difference:', s1 ^ s2)\n"
   ]
  },
  {
   "cell_type": "code",
   "execution_count": 65,
   "id": "58ec8420",
   "metadata": {},
   "outputs": [
    {
     "name": "stdout",
     "output_type": "stream",
     "text": [
      "Union is : {'grapefruit', 'lime', 'apple', 'orange', 'banana'}\n",
      "Intersection: {'banana'}\n",
      "Difference: {'orange', 'apple'}\n",
      "Symmetric Difference: {'grapefruit', 'orange', 'lime', 'apple'}\n"
     ]
    }
   ],
   "source": [
    "s1 = {'apple', 'orange', 'banana'}\n",
    "s2 = {'grapefruit', 'lime', 'banana'}\n",
    "print('Union is :', s1 | s2)\n",
    "print('Intersection:', s1 & s2)\n",
    "print('Difference:', s1 - s2)\n",
    "print('Symmetric Difference:', s1 ^ s2)"
   ]
  },
  {
   "cell_type": "markdown",
   "id": "21ef032b",
   "metadata": {},
   "source": [
    "## Mathematical Set Methods"
   ]
  },
  {
   "cell_type": "raw",
   "id": "d8b89cf3",
   "metadata": {},
   "source": [
    "In addition to the operators there are also method versions:\n",
    "s1.union(s2) is the equivalent of s1 | s2\n",
    "s1.interaction(s2) is the equivalent of s1 & s2\n",
    "s1.difference(s2) is the equivalent of s1 − s2\n",
    "s1.symmetric_difference(s2) is the equivalent of s1 ^ s2\n"
   ]
  },
  {
   "cell_type": "markdown",
   "id": "acc6fd76",
   "metadata": {},
   "source": [
    "## 5.Dictionary"
   ]
  },
  {
   "cell_type": "raw",
   "id": "a1a4f7ac",
   "metadata": {},
   "source": [
    "A Dictionary is a set of associations/mappings between a key and a value, that is unordered, changeable (mutable) and indexed.\n",
    "The association of a key and a value is called a key-value pair or sometimes an item.\n",
    "Note that in a Dictionary the keys must be unique but the values do not need to be unique\n",
    "The keys can be of any type\n"
   ]
  },
  {
   "cell_type": "markdown",
   "id": "e5683bec",
   "metadata": {},
   "source": [
    "## Creating a Dictionary"
   ]
  },
  {
   "cell_type": "raw",
   "id": "7fc2642e",
   "metadata": {},
   "source": [
    "A Dictionary is created using curly brackets ('{}') where each entry in the dictionary is a key:value pair. For example:\n",
    "\tcapitals = {'Telangana': 'Hyderabad', 'Tamil Nadu': 'Chennai', 'Andhra Pradesh': 'Hyderabad', 'Karnataka': 'Bengaluru', 'Maharashtra': 'Mumbai'}\n",
    "\tprint(capitals)\n",
    "The dict() function can be used to create a new dictionary object from an iterable or a sequence of key:value pairs.\n"
   ]
  },
  {
   "cell_type": "code",
   "execution_count": 66,
   "id": "95dffd2f",
   "metadata": {},
   "outputs": [
    {
     "name": "stdout",
     "output_type": "stream",
     "text": [
      "{'Telangana': 'Hyderabad', 'Tamil Nadu': 'Chennai', 'Andhra Pradesh': 'Hyderabad', 'Karnataka': 'Bengaluru', 'Maharashtra': 'Mumbai'}\n"
     ]
    }
   ],
   "source": [
    "capitals = {'Telangana': 'Hyderabad', 'Tamil Nadu': 'Chennai', 'Andhra Pradesh': 'Hyderabad', 'Karnataka': 'Bengaluru', 'Maharashtra': 'Mumbai'}\n",
    "print(capitals)"
   ]
  },
  {
   "cell_type": "markdown",
   "id": "472cc0ad",
   "metadata": {},
   "source": [
    "## Creating a Dictionary from other types"
   ]
  },
  {
   "cell_type": "code",
   "execution_count": 67,
   "id": "c1ef1789",
   "metadata": {},
   "outputs": [
    {
     "name": "stdout",
     "output_type": "stream",
     "text": [
      "dict1: {'uk': 'London', 'ireland': 'Dublin', 'france': 'Paris'}\n",
      "dict2: {'uk': 'London', 'ireland': 'Dublin', 'france': 'Paris'}\n",
      "dict3: {'uk': 'London', 'ireland': 'Dublin', 'france': 'Paris'}\n"
     ]
    }
   ],
   "source": [
    "# note keys are not strings\n",
    "dict1 = dict(uk='London', ireland='Dublin', france='Paris')\n",
    "print('dict1:', dict1)\n",
    "# key value pairs are tuples\n",
    "dict2 = dict([('uk', 'London'), ('ireland', 'Dublin'), ('france', 'Paris')])\n",
    "print('dict2:', dict2)\n",
    "# key value pairs are lists\n",
    "dict3 = dict((['uk', 'London'], ['ireland', 'Dublin'], ['france', 'Paris']))\n",
    "print('dict3:', dict3)\n"
   ]
  },
  {
   "cell_type": "markdown",
   "id": "a3b4c0d3",
   "metadata": {},
   "source": [
    "## Working with Dictionaries"
   ]
  },
  {
   "cell_type": "raw",
   "id": "e11a0ff1",
   "metadata": {},
   "source": [
    "You can access the values held in a Dictionary using their associated key, using the [] brackets. For example:\n",
    "\tprint(‘Capital of Telangana is :’, capitals[‘Telangana’])\n",
    "A new entry can be added to a dictionary by providing the key in square brackets and the new value to be assigned to that key:\n",
    "\tcapitals[‘Kerala’] = ‘Thiruvananthapuram’\n",
    "print(‘The modified capitals dictionary is :’, capitals)\n"
   ]
  },
  {
   "cell_type": "code",
   "execution_count": 68,
   "id": "01d4c47e",
   "metadata": {},
   "outputs": [
    {
     "name": "stdout",
     "output_type": "stream",
     "text": [
      "Capital of Telangana is : Hyderabad\n"
     ]
    }
   ],
   "source": [
    "print('Capital of Telangana is :', capitals['Telangana'])"
   ]
  },
  {
   "cell_type": "code",
   "execution_count": 69,
   "id": "a562de16",
   "metadata": {},
   "outputs": [
    {
     "name": "stdout",
     "output_type": "stream",
     "text": [
      "The modified capitals dictionary is : {'Telangana': 'Hyderabad', 'Tamil Nadu': 'Chennai', 'Andhra Pradesh': 'Hyderabad', 'Karnataka': 'Bengaluru', 'Maharashtra': 'Mumbai', 'Kerala': 'Thiruvananthapuram'}\n"
     ]
    }
   ],
   "source": [
    "capitals['Kerala'] = 'Thiruvananthapuram'\n",
    "print('The modified capitals dictionary is :', capitals)"
   ]
  },
  {
   "cell_type": "raw",
   "id": "ef19772b",
   "metadata": {},
   "source": [
    "The value associated with a key can be changed by reassigning a new value using the square bracket notation, for example:\n",
    "\tcapitals[‘Andhra Pradesh’] = ‘Amaravati’\n",
    "\t print('The capitals dictionary after updating is :', capitals)\n",
    "We check to see if a key is a member of a dictionary using the in and not in syntax. For example: print(‘Assam’ in ‘capitals’)\n",
    "You can find out the length of a Dictionary (in terms of its key:value pairs) using the len() function. \n",
    "\tFor example: print(‘No of items in capitals is :’,len(capitals)\n"
   ]
  },
  {
   "cell_type": "code",
   "execution_count": 70,
   "id": "385437f4",
   "metadata": {},
   "outputs": [
    {
     "name": "stdout",
     "output_type": "stream",
     "text": [
      "The capitals dictionary after updating is : {'Telangana': 'Hyderabad', 'Tamil Nadu': 'Chennai', 'Andhra Pradesh': 'Amaravati', 'Karnataka': 'Bengaluru', 'Maharashtra': 'Mumbai', 'Kerala': 'Thiruvananthapuram'}\n"
     ]
    }
   ],
   "source": [
    "capitals['Andhra Pradesh'] = 'Amaravati'\n",
    "print('The capitals dictionary after updating is :', capitals)"
   ]
  },
  {
   "cell_type": "code",
   "execution_count": 71,
   "id": "1a942236",
   "metadata": {},
   "outputs": [
    {
     "name": "stdout",
     "output_type": "stream",
     "text": [
      "False\n"
     ]
    }
   ],
   "source": [
    " print('Assam' in 'capitals')"
   ]
  },
  {
   "cell_type": "code",
   "execution_count": 72,
   "id": "12e6f17d",
   "metadata": {},
   "outputs": [
    {
     "name": "stdout",
     "output_type": "stream",
     "text": [
      "True\n"
     ]
    }
   ],
   "source": [
    " print('Assam' not in 'capitals')"
   ]
  },
  {
   "cell_type": "code",
   "execution_count": 74,
   "id": "c01e2e4f",
   "metadata": {},
   "outputs": [
    {
     "name": "stdout",
     "output_type": "stream",
     "text": [
      "No of items in capitals is : 6\n"
     ]
    }
   ],
   "source": [
    " print('No of items in capitals is :',len(capitals))"
   ]
  },
  {
   "cell_type": "markdown",
   "id": "2af486d8",
   "metadata": {},
   "source": [
    "## Removing an entry "
   ]
  },
  {
   "cell_type": "raw",
   "id": "551ff937",
   "metadata": {},
   "source": [
    "An entry into the dictionary can be removed using one of the methods pop() or popitem() method or the del keyword.\n",
    "The pop(<key>) method removes the entry with the specified key. This method returns the value of the key being deleted.\n",
    "The popitem() method removes the last inserted item in the dictionary\n",
    "The del keyword removes the entry with the specified key from the dictionary. This keyword just deletes the item; it does not return the associated value.\n",
    "The clear() method removes all the entries \n"
   ]
  },
  {
   "cell_type": "markdown",
   "id": "fb5ed0d1",
   "metadata": {},
   "source": [
    "## Examples of Removing entries"
   ]
  },
  {
   "cell_type": "code",
   "execution_count": 75,
   "id": "77e7807e",
   "metadata": {},
   "outputs": [
    {
     "name": "stdout",
     "output_type": "stream",
     "text": [
      "{'Telangana': 'Hyderabad', 'Tamil Nadu': 'Chennai', 'Andhra Pradesh': 'Amaravati', 'Karnataka': 'Bengaluru', 'Maharashtra': 'Mumbai', 'Kerala': 'Thiruvananthapuram'}\n",
      "The capital of Maharashtra is : Mumbai\n",
      "The value of the last item deleted is : ('Kerala', 'Thiruvananthapuram')\n",
      "The capitals dictionary after the above deletions is: {'Telangana': 'Hyderabad', 'Tamil Nadu': 'Chennai', 'Andhra Pradesh': 'Amaravati'}\n",
      "Clearing the dictionary\n"
     ]
    }
   ],
   "source": [
    "print(capitals)\n",
    "print ('The capital of Maharashtra is :',capitals.pop('Maharashtra'))\n",
    "print ('The value of the last item deleted is :',capitals.popitem())\n",
    "del capitals['Karnataka']\n",
    "print ('The capitals dictionary after the above deletions is:',capitals)\n",
    "print ('Clearing the dictionary')\n",
    "capitals.clear()\n"
   ]
  },
  {
   "cell_type": "markdown",
   "id": "ec3f27d5",
   "metadata": {},
   "source": [
    "## Iterating over keys and values"
   ]
  },
  {
   "cell_type": "code",
   "execution_count": 80,
   "id": "429e0d8a",
   "metadata": {},
   "outputs": [],
   "source": [
    "# We can loop through a dictionary using the for loop statement. \n",
    "# This can be used to access each of the values associated with the keys, for example:\n",
    "for state in capitals:\n",
    "    print (state, end=' , ')\n",
    "    print (capitals[state])\n",
    "\n"
   ]
  },
  {
   "cell_type": "code",
   "execution_count": 81,
   "id": "2e54970d",
   "metadata": {},
   "outputs": [],
   "source": [
    "# We can loop through the values of dictionary directly using the values method\n",
    "for cap in capitals.values():\n",
    "    print (cap)"
   ]
  },
  {
   "cell_type": "markdown",
   "id": "d2be8a14",
   "metadata": {},
   "source": [
    "## Accessing values, keys and items"
   ]
  },
  {
   "cell_type": "raw",
   "id": "f81596ba",
   "metadata": {},
   "source": [
    "There are three methods that allow you to obtain a view onto the contents of a dictionary, these are values(), keys() and items().\n",
    "The values() method returns a view onto the dictionary’s values. For example: print(capitals.values())\n",
    "The keys() method returns a view onto a dictionary’s keys. For example: print(capitals.keys())\n",
    "The items() method returns a view onto the dictionary’s items. For example: print(capitals.items)\n"
   ]
  },
  {
   "cell_type": "code",
   "execution_count": 82,
   "id": "298cf265",
   "metadata": {},
   "outputs": [
    {
     "name": "stdout",
     "output_type": "stream",
     "text": [
      "dict_values([])\n",
      "dict_keys([])\n",
      "<built-in method items of dict object at 0x00000220B2935680>\n"
     ]
    }
   ],
   "source": [
    "print(capitals.values())\n",
    "print(capitals.keys())\n",
    "print(capitals.items)"
   ]
  },
  {
   "cell_type": "markdown",
   "id": "8a20e2d5",
   "metadata": {},
   "source": [
    "## Nesting Dictionaries"
   ]
  },
  {
   "cell_type": "markdown",
   "id": "cdff3222",
   "metadata": {},
   "source": [
    "The key and value in a dictionary must be an object; however, everything in Python is an object and thus anything can be used as a key or a value.\n",
    "One common pattern is where the value in a dictionary is itself a container such as a List, Tuple, Set or even another Dictionary.\n",
    "The following example uses Tuples to represent the months that make up the seasons\n",
    "Each season has a Tuple for the value element of the entry. \n"
   ]
  },
  {
   "cell_type": "code",
   "execution_count": 83,
   "id": "ce13a6dc",
   "metadata": {},
   "outputs": [
    {
     "name": "stdout",
     "output_type": "stream",
     "text": [
      "('Mar', 'Apr', 'May')\n",
      "Apr\n"
     ]
    }
   ],
   "source": [
    "seasons = {'Spring': ('Mar', 'Apr', 'May'),'Summer': ('June', 'July', 'August'),'Autumn': ('September', 'October', 'November'),\n",
    "'Winter': ('December', 'January', 'February')}\n",
    "print(seasons['Spring'])\n",
    "print(seasons['Spring'][1])\n"
   ]
  },
  {
   "cell_type": "markdown",
   "id": "01c01576",
   "metadata": {},
   "source": [
    "## Count number of letters in sentence"
   ]
  },
  {
   "cell_type": "code",
   "execution_count": 86,
   "id": "bb546e8e",
   "metadata": {},
   "outputs": [
    {
     "name": "stdout",
     "output_type": "stream",
     "text": [
      "Enter a sentenceUPENDRA THANNEERU\n",
      "The frequency of each letter in the given sentence is :  {'U': 2, 'P': 1, 'E': 3, 'N': 3, 'D': 1, 'R': 2, 'A': 2, ' ': 1, 'T': 1, 'H': 1}\n"
     ]
    }
   ],
   "source": [
    "# Implement a Histogram\n",
    "sentence = input('Enter a sentence:')\n",
    "d = dict()\n",
    "for c in sentence:\n",
    "    if c not in d:\n",
    "        d[c] = 1\n",
    "    else:\n",
    "        d[c] = d[c] + 1\n",
    "print('The frequency of each letter in the given sentence is : ',d)"
   ]
  },
  {
   "cell_type": "markdown",
   "id": "0d643a8a",
   "metadata": {},
   "source": [
    "## Count number of words in sentence"
   ]
  },
  {
   "cell_type": "code",
   "execution_count": 87,
   "id": "a9e302ed",
   "metadata": {},
   "outputs": [
    {
     "name": "stdout",
     "output_type": "stream",
     "text": [
      "Enter a sentenceHELLO WORLD WELCOME TO PYTHON PROGRAMMING LANGUAGE\n",
      "The frequency of each word in the given sentence is :  {'HELLO': 1, 'WORLD': 1, 'WELCOME': 1, 'TO': 1, 'PYTHON': 1, 'PROGRAMMING': 1, 'LANGUAGE': 1}\n"
     ]
    }
   ],
   "source": [
    "counts = dict()\n",
    "line = input('Enter a sentence:')\n",
    "words = line.split()\n",
    "for word in words:\n",
    "    if word not in counts:\n",
    "        counts[word] = 1\n",
    "    else:\n",
    "        counts[word] += 1\n",
    "print('The frequency of each word in the given sentence is : ',counts)\n"
   ]
  },
  {
   "cell_type": "markdown",
   "id": "58cdae2e",
   "metadata": {},
   "source": [
    "# 1. A set contains names which begin either with A or with B. Write a program to separate the names into two sets, one containing names beginning with A and the other containing names beginning with B"
   ]
  },
  {
   "cell_type": "code",
   "execution_count": 88,
   "id": "b92b4d67",
   "metadata": {},
   "outputs": [
    {
     "name": "stdout",
     "output_type": "stream",
     "text": [
      "names starting with A : {'Aha', 'Arvind', 'Arun', 'Ashok', 'Arjun'}\n",
      "names starting with B : {'Bhagravi', 'Bhanu', 'Bramani', 'Bharat', 'Bharadwaj'}\n"
     ]
    }
   ],
   "source": [
    "names = {'Arun','Arjun','Arvind','Ashok','Aha','Bharat','Bharadwaj','Bhanu','Bhagravi','Bramani'}\n",
    "names_A = set()\n",
    "names_B = set()\n",
    "for name in names:\n",
    "    if name[0] == \"A\":\n",
    "        names_A.add(name)\n",
    "    elif name[0] == \"B\":\n",
    "        names_B.add(name)\n",
    "print('names starting with A :',names_A)\n",
    "print('names starting with B :',names_B)\n"
   ]
  },
  {
   "cell_type": "markdown",
   "id": "0e37397d",
   "metadata": {},
   "source": [
    "# 2. Create a list of tuples. Each tuple should contain an item and its price in float. Write a program to print each item and its price in a proper format"
   ]
  },
  {
   "cell_type": "code",
   "execution_count": 89,
   "id": "a2b88473",
   "metadata": {},
   "outputs": [
    {
     "name": "stdout",
     "output_type": "stream",
     "text": [
      "rice: £1.9\n",
      "veg: £3.4\n",
      "non-veg: £1.2\n",
      "fruits: £4.4\n",
      "curd: £1.5\n"
     ]
    }
   ],
   "source": [
    "products = [(\"rice\",1.941),(\"veg\",3.424),(\"non-veg\",1.245),(\"fruits\",4.423),(\"curd\",1.454)]\n",
    "for item,price in products:\n",
    "    print(f\"{item}: £{price:.1f}\")"
   ]
  },
  {
   "cell_type": "markdown",
   "id": "40fcb1a3",
   "metadata": {},
   "source": [
    "# 3. Write a program that reads integers from the user and stores them in a list. Your program should continue reading values until the user enters 0. Then it should display all of the values entered by the user (except for the 0) in order from smallest to largest, with one value appearing on each line. Use either the sort method or the sorted function to sort the list."
   ]
  },
  {
   "cell_type": "code",
   "execution_count": 90,
   "id": "f4ba9420",
   "metadata": {},
   "outputs": [
    {
     "name": "stdout",
     "output_type": "stream",
     "text": [
      "Enter a integer5\n",
      "Enter a integer6\n",
      "Enter a integer5\n",
      "Enter a integer3\n",
      "Enter a integer7\n",
      "Enter a integer0\n",
      "the entered integers are : [3, 5, 5, 6, 7]\n"
     ]
    }
   ],
   "source": [
    "list_is=[]\n",
    "integers=int(input(\"Enter a integer\"))\n",
    "while integers != 0:\n",
    "    list_is.append(integers)\n",
    "    integers=int(input(\"Enter a integer\"))\n",
    "    list_is.sort()\n",
    "print(\"the entered integers are :\",list_is)"
   ]
  },
  {
   "cell_type": "markdown",
   "id": "4df96969",
   "metadata": {},
   "source": [
    "# 4. Write a program to read a list of numbers from the user and remove the two largest and two smallest values from it. Display the list with the values removed, followed by the original list. Your program should generate an appropriate error message if the user enters less than 5 values."
   ]
  },
  {
   "cell_type": "code",
   "execution_count": 91,
   "id": "27ec5525",
   "metadata": {},
   "outputs": [
    {
     "name": "stdout",
     "output_type": "stream",
     "text": [
      "Enter numbers separated by spaces: 9 15 54 56 15 153\n",
      "The list with the values removed is: [15, 54]\n",
      "The original list is: [9, 15, 54, 56, 15, 153]\n"
     ]
    }
   ],
   "source": [
    "user_input = input(\"Enter numbers separated by spaces: \")\n",
    "numbers = [int(x) for x in user_input.split()]\n",
    "if len(numbers) >= 5:\n",
    "    original = numbers.copy()\n",
    "    numbers.sort()\n",
    "    numbers = numbers[2:-2]\n",
    "    print(\"The list with the values removed is:\", numbers)\n",
    "    print(\"The original list is:\", original)\n",
    "else:\n",
    "    print(\"You entered less than five values!\")\n"
   ]
  },
  {
   "cell_type": "markdown",
   "id": "e187f0cf",
   "metadata": {},
   "source": [
    "# 5. In this exercise, you will create a program that reads words from the user until the user enters a blank line. After the user enters a blank line your program should display each word entered by the user exactly once."
   ]
  },
  {
   "cell_type": "code",
   "execution_count": 92,
   "id": "87220c61",
   "metadata": {},
   "outputs": [
    {
     "name": "stdout",
     "output_type": "stream",
     "text": [
      "Enter a word (blank line to quit): SKILL-LYNC\n",
      "Enter another word (blank line to quit): CHENNAI\n",
      "The words you entered are:\n",
      "Enter another word (blank line to quit): TAMILNADU\n",
      "The words you entered are:\n",
      "Enter another word (blank line to quit):  \n",
      "The words you entered are:\n",
      "CHENNAI\n",
      "TAMILNADU\n",
      "SKILL-LYNC\n"
     ]
    }
   ],
   "source": [
    "words = set()\n",
    "word = input(\"Enter a word (blank line to quit): \")\n",
    "while word != \" \":\n",
    "    words.add(word)\n",
    "    word = input(\"Enter another word (blank line to quit): \")\n",
    "    print(\"The words you entered are:\")\n",
    "for word in words:\n",
    "    print(word)"
   ]
  },
  {
   "cell_type": "markdown",
   "id": "1596f7a2",
   "metadata": {},
   "source": [
    "# 6. Write a program that reads numbers from the user until a 0 is entered. Your program should display the average of all of the values entered by the user. Then the program should display all of the below average values, followed by all of the average values (if any), followed by all of the above average values. An appropriate label should be displayed before each list of values."
   ]
  },
  {
   "cell_type": "code",
   "execution_count": 93,
   "id": "f61e4f1a",
   "metadata": {},
   "outputs": [
    {
     "name": "stdout",
     "output_type": "stream",
     "text": [
      "Enter a number (0 to n): 5\n",
      "Enter a number (0 to n): 25\n",
      "Enter a number (0 to n): 35\n",
      "Enter a number (0 to n): 45\n",
      "Enter a number (0 to n): 75\n",
      "Enter a number (0 to n): 0\n",
      "The average of the 5 numbers is 37.00\n",
      "The below average values are:\n",
      "5.0\n",
      "25.0\n",
      "35.0\n",
      "The average values are:\n",
      "The above average values are:\n",
      "45.0\n",
      "75.0\n"
     ]
    }
   ],
   "source": [
    "numbers = []\n",
    "num = float(input(\"Enter a number (0 to n): \"))\n",
    "while num != 0:\n",
    "    numbers.append(num) \n",
    "    num = float(input(\"Enter a number (0 to n): \"))\n",
    "    total = sum(numbers)\n",
    "    count = len(numbers)\n",
    "    average = total / count\n",
    "print(f\"The average of the {count} numbers is {average:.2f}\")\n",
    "below = []\n",
    "equal = []\n",
    "above = []\n",
    "for num in numbers:\n",
    "    if num < average:\n",
    "        below.append(num)\n",
    "    elif num == average:\n",
    "        equal.append(num)\n",
    "    else:\n",
    "        above.append(num)\n",
    "print(\"The below average values are:\")\n",
    "for num in below:\n",
    "    print(num)\n",
    "print(\"The average values are:\")\n",
    "for num in equal:\n",
    "    print(num)\n",
    "print(\"The above average values are:\")\n",
    "for num in above:\n",
    "    print(num)"
   ]
  },
  {
   "cell_type": "markdown",
   "id": "adc611d8",
   "metadata": {},
   "source": [
    "# 7. Create a program that determines and displays the number of unique characters in a string entered by the user. For example, Hello World! has 9 unique characters while zzz has only one unique character. Use a dictionary to solve this problem."
   ]
  },
  {
   "cell_type": "code",
   "execution_count": 94,
   "id": "0b52b079",
   "metadata": {},
   "outputs": [
    {
     "name": "stdout",
     "output_type": "stream",
     "text": [
      "Enter a string: SKILL-LYNC\n",
      "The number of unique characters in 'SKILL-LYNC' is 7.\n"
     ]
    }
   ],
   "source": [
    "input_string = input(\"Enter a string: \")\n",
    "char_count = {}\n",
    "for char in input_string:\n",
    "    if char in char_count:\n",
    "        char_count[char] += 1\n",
    "    else:\n",
    "        char_count[char] = 1\n",
    "unique_chars = 0\n",
    "for value in char_count.values():\n",
    "    if value == 1:\n",
    "        unique_chars += 1\n",
    "print(f\"The number of unique characters in '{input_string}' is {unique_chars}.\")\n"
   ]
  },
  {
   "cell_type": "markdown",
   "id": "00a521bc",
   "metadata": {},
   "source": [
    "# 8. Two words are anagrams if they contain all of the same letters, but in a different order. For example, “evil” and “live” are anagrams because each contains one e, one i, one l, and one v. Create a program that reads two strings from the user, determines whether or not they are anagrams, and reports the result."
   ]
  },
  {
   "cell_type": "code",
   "execution_count": 96,
   "id": "cd85e1a1",
   "metadata": {},
   "outputs": [
    {
     "name": "stdout",
     "output_type": "stream",
     "text": [
      "Enter the first word: EVIL\n",
      "Enter the second word: LIVE\n",
      "The words are anagrams.\n"
     ]
    }
   ],
   "source": [
    "word1 = input(\"Enter the first word: \")\n",
    "word2 = input(\"Enter the second word: \")\n",
    "word1 = sorted(word1.lower())\n",
    "word2 = sorted(word2.lower())\n",
    "if word1 == word2:\n",
    "    print(\"The words are anagrams.\")\n",
    "else:\n",
    "    print(\"The words are not anagrams.\")\n"
   ]
  },
  {
   "cell_type": "markdown",
   "id": "94a6e8a9",
   "metadata": {},
   "source": [
    "# 9. An integer, n, is said to be perfect when the sum of all of the proper divisors of n is equal to n. For example, 28 is a perfect number because its proper divisors are 1, 2, 4, 7 and 14, and 1 + 2 + 4 + 7 + 14 = 28. Write a program that determines whether or not a positive integer is perfect. Your program will accept a number from the user. If that number is a perfect number then your program will display true. Otherwise it will display false."
   ]
  },
  {
   "cell_type": "code",
   "execution_count": 99,
   "id": "98ea460e",
   "metadata": {},
   "outputs": [
    {
     "name": "stdout",
     "output_type": "stream",
     "text": [
      "Enter a positive integer: 6\n",
      "True\n"
     ]
    }
   ],
   "source": [
    "n = int(input(\"Enter a positive integer: \"))\n",
    "sum = 0\n",
    "for i in range(1, n//2 + 1):\n",
    "    if n % i == 0:\n",
    "        sum += i\n",
    "if sum == n:\n",
    "    print(\"True\")\n",
    "else:\n",
    "    print(\"False\")\n"
   ]
  },
  {
   "cell_type": "markdown",
   "id": "50b4817b",
   "metadata": {},
   "source": [
    "# 10. Write a program that finds all of the keys in a dictionary that map to a specific value. The program will take the value to search for as its input. It will display a (possibly empty) list of keys from the dictionary that map to the provided value."
   ]
  },
  {
   "cell_type": "code",
   "execution_count": 101,
   "id": "40bf3a93",
   "metadata": {},
   "outputs": [
    {
     "name": "stdout",
     "output_type": "stream",
     "text": [
      "Enter a value to search for: c\n",
      "[]\n"
     ]
    }
   ],
   "source": [
    "d = {\"a\": 1, \"b\": 2, \"c\": 3, \"d\": 2, \"e\": 1}\n",
    "value = input(\"Enter a value to search for: \")\n",
    "keys = []\n",
    "for k, v in d.items():\n",
    "    if v == value:\n",
    "        keys.append(k)\n",
    "print(keys)\n"
   ]
  },
  {
   "cell_type": "markdown",
   "id": "56e4a94f",
   "metadata": {},
   "source": [
    "# WEEK5_SESSION 02-04-2024"
   ]
  },
  {
   "cell_type": "markdown",
   "id": "0aaae4b5",
   "metadata": {},
   "source": [
    "# Functions and Recursion - Functional Programming and Lambda functions\n"
   ]
  },
  {
   "cell_type": "markdown",
   "id": "8a512f16",
   "metadata": {},
   "source": [
    "## Topics"
   ]
  },
  {
   "cell_type": "raw",
   "id": "680b34bc",
   "metadata": {},
   "source": [
    "1.Structured Analysis \n",
    "2.Functional Decomposition\n",
    "3.Functional Programming\n",
    "4.Introduction to Functions\n",
    "5.Types of Functions\n",
    "6.Built-in functions\n",
    "7.User-defined functions\n",
    "8.Lambda Functions\n",
    "9.Higher order functions\n",
    "10Map, Reduce and Filter functions\n"
   ]
  },
  {
   "cell_type": "markdown",
   "id": "e823c39a",
   "metadata": {},
   "source": [
    "## 1.Structured Analysis \n"
   ]
  },
  {
   "cell_type": "raw",
   "id": "e7284bf3",
   "metadata": {},
   "source": [
    "Structured Analysis employ a step-by-step process which identifies the inputs and outputs of the system and how those inputs are transformed into the outputs. \n",
    "This transformation involves the application of one or more functions. \n",
    "The steps involved in Structured Analysis identify these functions and will typically iteratively break them down into smaller functions until an appropriate level of detail has been reached. \n",
    "This process is known as Functional Decomposition.\n"
   ]
  },
  {
   "cell_type": "markdown",
   "id": "b87d1b5b",
   "metadata": {},
   "source": [
    "## 2.Functional Decomposition\n"
   ]
  },
  {
   "cell_type": "raw",
   "id": "8ac7a896",
   "metadata": {},
   "source": [
    "Any program of a significant size will need to be structured such that it can be:\n",
    "Understood easily by other developers,\n",
    "Tested to ensure that it does what is intended,\n",
    "Maintained as new and existing requirements evolve,\n",
    "Debugged to resolve unexpected or undesirable behavior.\n",
    "Given these requirements it is common to organize Python program in terms of functions and sub functions.\n",
    "Functional Decomposition supports the analysis and identification of these functions.\n"
   ]
  },
  {
   "cell_type": "markdown",
   "id": "c7f6d9a4",
   "metadata": {},
   "source": [
    "## 3.Functional Programming\n"
   ]
  },
  {
   "cell_type": "raw",
   "id": "c0edf2ec",
   "metadata": {},
   "source": [
    "Python follows the Functional Programming paradigm which aims to describe the solution, that is what the program needs to do (rather than how it should be done). \n",
    "This is in contrast to Imperative Programming used in languages such as C, C++, Java and C# etc. In these languages a programmer tells the computer what to do.\n",
    "Functional Programming aims to avoid side effects\n",
    "Functional Programming avoids concepts such as state\n",
    "Functional Programming promotes immutable data\n",
    "Functional Programming promotes declarative programming\n"
   ]
  },
  {
   "cell_type": "markdown",
   "id": "86edb7ff",
   "metadata": {},
   "source": [
    "## 4.Introduction to Functions\n"
   ]
  },
  {
   "cell_type": "raw",
   "id": "acf978fd",
   "metadata": {},
   "source": [
    "A Function is a group of related statements that can be called together. It performs a specific task, and which may or may not take a set of parameters or return a value.\n",
    "Functions can be defined in one place and called or invoked in another. This helps to make code more modular and easier to understand.\n",
    "A function can be called multiple times or in multiple locations.\n",
    "This help to ensure that although a piece of functionality is used in multiple places; it is only defined once and only needs to be maintained and tested in one location.\n"
   ]
  },
  {
   "cell_type": "markdown",
   "id": "7ccfba8c",
   "metadata": {},
   "source": [
    "## 5.Types of Functions\n"
   ]
  },
  {
   "cell_type": "raw",
   "id": "3e421c38",
   "metadata": {},
   "source": [
    "There are two types of functions in Python: \n",
    "Built-in functions\n",
    "User-defined functions.\n",
    "Built-in functions are those provided by the language. For example, both print() and input() are built-in functions. \n",
    "In contrast user-defined functions are those written by developers.\n"
   ]
  },
  {
   "cell_type": "markdown",
   "id": "83ea5d97",
   "metadata": {},
   "source": [
    "## 6.Built-in functions\n"
   ]
  },
  {
   "cell_type": "raw",
   "id": "9385a300",
   "metadata": {},
   "source": [
    "Python provides a number of important built-in functions that we can use without needing to provide the function definition.\n",
    "The Python language provides a set of functions to solve common problems and which are ready to use.\n",
    "Examples of built-in functions:\n",
    "max: returns the maximum element in a sequence\n",
    "min: returns the minimum element in a sequence\n",
    "len: returns length of a collection\n",
    "type: returns type of an object\n",
    "Type conversion functions: Python provides built-in functions that convert values from one type to another.\n",
    "int: int(32.0)\n",
    "float: float(32)\n",
    "str: str(32)\n",
    "Math functions: The math module provides many useful mathematical functions. In order to use the math functions, we have to import the math module\n",
    "math.sqrt(n): It returns the square root of number n\n",
    "The random module provides functions that generate random numbers.\n",
    "The function random returns a random float between 0.0 and 1.0. For example: print(random.random())\n",
    "The function randint takes the parameters low and high, and returns an integer between low and high (including both).\n",
    "\tprint(random.randint(5,10))\n",
    "The choice function returns a random element from a sequence. For example:\tt = (1,2,3,4,5)\n",
    "\tprint(random.choice(t))\n"
   ]
  },
  {
   "cell_type": "code",
   "execution_count": 106,
   "id": "4712b342",
   "metadata": {},
   "outputs": [
    {
     "data": {
      "text/plain": [
       "32"
      ]
     },
     "execution_count": 106,
     "metadata": {},
     "output_type": "execute_result"
    }
   ],
   "source": [
    "int(32.0)"
   ]
  },
  {
   "cell_type": "code",
   "execution_count": 107,
   "id": "8ce44460",
   "metadata": {},
   "outputs": [
    {
     "data": {
      "text/plain": [
       "32.0"
      ]
     },
     "execution_count": 107,
     "metadata": {},
     "output_type": "execute_result"
    }
   ],
   "source": [
    "float(32)"
   ]
  },
  {
   "cell_type": "code",
   "execution_count": 108,
   "id": "2cc10604",
   "metadata": {},
   "outputs": [
    {
     "data": {
      "text/plain": [
       "'32'"
      ]
     },
     "execution_count": 108,
     "metadata": {},
     "output_type": "execute_result"
    }
   ],
   "source": [
    "str(32)"
   ]
  },
  {
   "cell_type": "code",
   "execution_count": 112,
   "id": "ff9ec79f",
   "metadata": {},
   "outputs": [],
   "source": [
    "import random"
   ]
  },
  {
   "cell_type": "code",
   "execution_count": 113,
   "id": "f148cdd7",
   "metadata": {},
   "outputs": [
    {
     "name": "stdout",
     "output_type": "stream",
     "text": [
      "0.09854065155381442\n"
     ]
    }
   ],
   "source": [
    "print(random.random())"
   ]
  },
  {
   "cell_type": "code",
   "execution_count": 114,
   "id": "9bbeac52",
   "metadata": {},
   "outputs": [
    {
     "name": "stdout",
     "output_type": "stream",
     "text": [
      "10\n"
     ]
    }
   ],
   "source": [
    "print(random.randint(5,10))"
   ]
  },
  {
   "cell_type": "code",
   "execution_count": 116,
   "id": "dfded2ed",
   "metadata": {},
   "outputs": [
    {
     "name": "stdout",
     "output_type": "stream",
     "text": [
      "5\n"
     ]
    }
   ],
   "source": [
    "t = (1,2,3,4,5)\n",
    "print(random.choice(t))\n"
   ]
  },
  {
   "cell_type": "markdown",
   "id": "6a298571",
   "metadata": {},
   "source": [
    "## 7.User-defined functions\n"
   ]
  },
  {
   "cell_type": "raw",
   "id": "8c6b8658",
   "metadata": {},
   "source": [
    "In Python, is also possible to add new functions.  Such functions are called user-defined functions.\n",
    "A function definition specifies the name of a new function and the sequence of statements that execute when the function is called.\n",
    "Once we define a function, we can reuse the function over and over throughout our program. Example:"
   ]
  },
  {
   "cell_type": "code",
   "execution_count": 117,
   "id": "4b3ed974",
   "metadata": {},
   "outputs": [],
   "source": [
    "def display_msg():\n",
    "    print ('Hello World !')"
   ]
  },
  {
   "cell_type": "code",
   "execution_count": 118,
   "id": "f143f3f8",
   "metadata": {},
   "outputs": [
    {
     "name": "stdout",
     "output_type": "stream",
     "text": [
      "Hello World !\n"
     ]
    }
   ],
   "source": [
    "display_msg()"
   ]
  },
  {
   "cell_type": "markdown",
   "id": "a299b960",
   "metadata": {},
   "source": [
    "## Defining functions"
   ]
  },
  {
   "cell_type": "raw",
   "id": "b77cf52d",
   "metadata": {},
   "source": [
    "The basic syntax of a function is:\n",
    "def function_name(parameter list):\n",
    "\t\"\"\"docstring\"\"\"\n",
    "\t\tstatement\n",
    "\t\tstatement(s)\n",
    "All (named) functions are defined using the keyword def\n",
    "The first line of the function definition is called the header, the rest is called the body.\n",
    "\n",
    "\n",
    "The header has to end with a colon and the body has to be indented. By convention, the indentation is always four spaces.\n",
    "The body can contain any number of statements.\n",
    "A function can (optionally) have a list of parameters which allow data to be passed into the function.\n",
    "An optional documentation string (the docstring) can be provided that describes what the function does. It is accessible through the __doc__ property of the function\n",
    "The syntax for calling the new function is the same as for built-in functions\n"
   ]
  },
  {
   "cell_type": "markdown",
   "id": "54dfda77",
   "metadata": {},
   "source": [
    "## Working of Functions"
   ]
  },
  {
   "cell_type": "raw",
   "id": "d915880a",
   "metadata": {},
   "source": [
    "When a function is called (or invoked) the flow of control a program jumps from where the function was called to the point where the function was defined. \n",
    "The body of the function is then executed before control returns back to where it was called from.\n",
    "As part of this process, all the values that were in place when the function was called, are stored away (on something called the stack) \n",
    "If the function defines its own version of variables, they do not overwrite each other.\n"
   ]
  },
  {
   "cell_type": "markdown",
   "id": "066aa6bd",
   "metadata": {},
   "source": [
    "## Calling a function"
   ]
  },
  {
   "cell_type": "raw",
   "id": "661880e9",
   "metadata": {},
   "source": [
    "Each time the call is made to function_name() the program flow jumps to the body of the function and executes the statements there. \n",
    "Once the function finishes it returns to the point at which the function was called.\n",
    "In the adjacent example, this happens twice as the function is called at two separate points in the program.\n"
   ]
  },
  {
   "cell_type": "markdown",
   "id": "b4599ebd",
   "metadata": {},
   "source": [
    "## Function Parameters and return statement"
   ]
  },
  {
   "cell_type": "code",
   "execution_count": 121,
   "id": "6a491867",
   "metadata": {},
   "outputs": [],
   "source": [
    "#Function can take parameters, separated by commas. For example:\n",
    "def display_msg1(msg):\n",
    "    print (msg)\n",
    "# A function can return values to the called function using the return statement. For example: \n",
    "def square(n): # n is a parameter\n",
    "    res = n * n\n",
    "    return res\n"
   ]
  },
  {
   "cell_type": "markdown",
   "id": "51849ee6",
   "metadata": {},
   "source": [
    "## Default parameters"
   ]
  },
  {
   "cell_type": "raw",
   "id": "0c111747",
   "metadata": {},
   "source": [
    "Parameters can be provided with default values. \n",
    "The default value must be declared in the function header along with the parameter name\n",
    "If a value is supplied for the parameter, then it will override the default. \n",
    "If no value is supplied when the function is called, then the default will be used. \n",
    "Any number of parameters in a function’s parameter list can have a default value. \n"
   ]
  },
  {
   "cell_type": "markdown",
   "id": "ec3adf4d",
   "metadata": {},
   "source": [
    "## Positional and named parameters"
   ]
  },
  {
   "cell_type": "code",
   "execution_count": 122,
   "id": "a1e7cda9",
   "metadata": {},
   "outputs": [
    {
     "name": "stdout",
     "output_type": "stream",
     "text": [
      "Mahesh Welcome  World !\n",
      "Mahesh   Hello   Welcome \n"
     ]
    }
   ],
   "source": [
    "def greeter(name, prompt='Welcome', msg=' to Python Programming'):\n",
    "    print (name,prompt,msg)\n",
    "#Calling the above function using positional arguments: \n",
    "greeter('Mahesh', msg= ' World !')\n",
    "#Using named arguments: \n",
    "greeter(msg=' Welcome ', name='Mahesh ', prompt=' Hello ')\n",
    "#Note: Once one parameter has a default value all remaining parameters to the right of that parameter must also have default  values.\n"
   ]
  },
  {
   "cell_type": "markdown",
   "id": "8dae2287",
   "metadata": {},
   "source": [
    "## Arbitrary arguments"
   ]
  },
  {
   "cell_type": "code",
   "execution_count": 123,
   "id": "5bf3ef08",
   "metadata": {},
   "outputs": [
    {
     "name": "stdout",
     "output_type": "stream",
     "text": [
      "Welcome Ramesh\n",
      "Welcome Suresh\n",
      "Welcome Mahesh\n"
     ]
    }
   ],
   "source": [
    "# Python allows you to pass an arbitrary number of arguments into a function and then process those arguments inside the function.\n",
    "# To define a parameter list as being of arbitrary length, a parameter is marked with an asterisk (*). For example:\n",
    "def greeter(*args):\n",
    "    for name in args:\n",
    "        print('Welcome', name)\n",
    "greeter('Ramesh','Suresh','Mahesh')\n"
   ]
  },
  {
   "cell_type": "markdown",
   "id": "c6a09d78",
   "metadata": {},
   "source": [
    "## Positional and keyword arguments"
   ]
  },
  {
   "cell_type": "raw",
   "id": "56791584",
   "metadata": {},
   "source": [
    "Some functions in Python are defined such that the arguments to the methods can either be provided using a variable number of positional or keyword arguments.\n",
    "Such functions have two arguments *args and **kwargs (for positional arguments and keyword arguments).\n",
    "They are useful if you do not know exactly how many of either position or keyword arguments are going to be provided.\n",
    "In the following example, the function my_function takes both a variable number of positional and keyword arguments\n"
   ]
  },
  {
   "cell_type": "markdown",
   "id": "bcaad707",
   "metadata": {},
   "source": [
    "## *args and **kwargs example"
   ]
  },
  {
   "cell_type": "code",
   "execution_count": 126,
   "id": "7b82e397",
   "metadata": {},
   "outputs": [
    {
     "name": "stdout",
     "output_type": "stream",
     "text": [
      "arg: Ramesh\n",
      "arg: Mahesh\n",
      "key: son has value:  Dinesh\n",
      "key: daughter has value:  Alice\n",
      "--------------------------------------------------\n",
      "arg: Ramesh\n",
      "arg: Alice\n",
      "key: son_number_one has value:  Andrew\n",
      "key: son_number_two has value:  James\n",
      "key: daughter has value:  Joselyn\n"
     ]
    }
   ],
   "source": [
    "def my_function(*args, **kwargs):\n",
    "    for arg in args:\n",
    "        print('arg:', arg)\n",
    "    for key in kwargs.keys():\n",
    "        print('key:', key, 'has value: ', kwargs[key])\n",
    "my_function('Ramesh', 'Mahesh', son='Dinesh', daughter='Alice')\n",
    "print('-' * 50)\n",
    "my_function('Ramesh', 'Alice', son_number_one='Andrew',son_number_two='James', daughter='Joselyn')\n"
   ]
  },
  {
   "cell_type": "markdown",
   "id": "86306872",
   "metadata": {},
   "source": [
    "## Example of a function with only **kwargs"
   ]
  },
  {
   "cell_type": "code",
   "execution_count": 128,
   "id": "8484ecd5",
   "metadata": {},
   "outputs": [
    {
     "name": "stdout",
     "output_type": "stream",
     "text": [
      "arg: a has value: 1\n",
      "arg: b has value: 2\n",
      "arg: c has value: 3\n"
     ]
    }
   ],
   "source": [
    "def named(**kwargs):\n",
    "    for key in kwargs.keys():\n",
    "        print('arg:', key, 'has value:', kwargs[key])\n",
    "named(a=1, b=2, c=3)\n",
    "\n",
    "# arge : a has value 1\n"
   ]
  },
  {
   "cell_type": "markdown",
   "id": "fc32355b",
   "metadata": {},
   "source": [
    "## Global and Local variables"
   ]
  },
  {
   "cell_type": "raw",
   "id": "be848035",
   "metadata": {},
   "source": [
    "Variables which are defined outside all functions are called global variables. Global variables are accessible from anywhere(or globally) in the program.\n",
    "A variable which is defined within a function is called a local variable. Local variables are scoped only to that function and are not accessible or visible outside of the function. Example:"
   ]
  },
  {
   "cell_type": "code",
   "execution_count": 129,
   "id": "bb6c96db",
   "metadata": {},
   "outputs": [
    {
     "name": "stdout",
     "output_type": "stream",
     "text": [
      "100\n"
     ]
    }
   ],
   "source": [
    "def my_function():\n",
    "    a_variable = 100\n",
    "    print(a_variable)\n",
    "my_function()"
   ]
  },
  {
   "cell_type": "code",
   "execution_count": 130,
   "id": "80774bde",
   "metadata": {},
   "outputs": [
    {
     "name": "stdout",
     "output_type": "stream",
     "text": [
      "The value of a_var is : 100\n",
      "The value of a_var from outside my_func is : 200\n"
     ]
    }
   ],
   "source": [
    "a_var = 200 # Global variable\n",
    "def my_func():\n",
    "    a_var = 100 # Local variable \n",
    "    print ('The value of a_var is :',a_var) # Prints the value of local a_var  \n",
    "my_func()\n",
    "print ('The value of a_var from outside my_func is :',a_var) \n",
    "# Prints the value of Global a_var\n"
   ]
  },
  {
   "cell_type": "markdown",
   "id": "22f36b69",
   "metadata": {},
   "source": [
    "## The Global keyword"
   ]
  },
  {
   "cell_type": "code",
   "execution_count": 131,
   "id": "a2522c6b",
   "metadata": {},
   "outputs": [
    {
     "name": "stdout",
     "output_type": "stream",
     "text": [
      "The value of x after increment is :  201\n"
     ]
    }
   ],
   "source": [
    "# If we want to access a global variable within a function, the global keyword should be used. For example:\n",
    "# Access global variable from within a function\n",
    "x = 200\n",
    "def my_func1():\n",
    "    global x\n",
    "    x = x + 1\n",
    "    print ('The value of x after increment is : ', x)\n",
    "my_func1()\n"
   ]
  },
  {
   "cell_type": "markdown",
   "id": "f1e9a299",
   "metadata": {},
   "source": [
    "## Function within function - Nonlocal variables"
   ]
  },
  {
   "cell_type": "raw",
   "id": "77de733f",
   "metadata": {},
   "source": [
    "It is possible to define functions inside other functions\n",
    "Functions defined within another function cannot modify the outer functions local variables (as the inner function is a separate function). \n",
    "They can reference the outer functions local variables. This is made possible by the use of the nonlocal keyword. \n"
   ]
  },
  {
   "cell_type": "markdown",
   "id": "f5585d3b",
   "metadata": {},
   "source": [
    "### Function within a function example"
   ]
  },
  {
   "cell_type": "code",
   "execution_count": 135,
   "id": "54365f85",
   "metadata": {},
   "outputs": [
    {
     "name": "stdout",
     "output_type": "stream",
     "text": [
      "In func1 after calling func2 x =  201\n",
      " x in func1 =  100\n",
      " x in func1 =  100\n",
      " x in func2 =  101\n",
      "In func1 after calling func2 x =  101\n"
     ]
    }
   ],
   "source": [
    "def func1(): # outer function\n",
    "    x = 100\n",
    "    print (' x in func1 = ',x)\n",
    "    def func2(): # inner function\n",
    "        nonlocal x\n",
    "        x = x + 1   #101\n",
    "        print (' x in func2 = ',x)\n",
    "        func2()\n",
    "print ('In func1 after calling func2 x = ',x)\n",
    "func1()\n",
    "print (' x in func1 = ',100)\n",
    "print (' x in func2 = ',101)\n",
    "print ('In func1 after calling func2 x = ',101 )\n"
   ]
  },
  {
   "cell_type": "markdown",
   "id": "19181d22",
   "metadata": {},
   "source": [
    "##  Recursion"
   ]
  },
  {
   "cell_type": "raw",
   "id": "3bbd8250",
   "metadata": {},
   "source": [
    "A recursive solution in a programming language such as Python is one in which a function calls itself one or more times in order to solve a particular problem. \n",
    "In many cases the result of calling itself is combined with the functions current state to return a result.\n",
    "Functions that solve problems by calling themselves are referred to as recursive functions.\n",
    "It is mandatory that a recursive function must contain a stopping/termination condition \n"
   ]
  },
  {
   "cell_type": "markdown",
   "id": "01e253d9",
   "metadata": {},
   "source": [
    "## Example – Factorial of a number"
   ]
  },
  {
   "cell_type": "code",
   "execution_count": 136,
   "id": "5bcf2349",
   "metadata": {},
   "outputs": [
    {
     "name": "stdout",
     "output_type": "stream",
     "text": [
      "120\n"
     ]
    }
   ],
   "source": [
    "def fact(x):\n",
    "    if x<=1:\n",
    "        return 1\n",
    "    else:\n",
    "        return x*fact(x-1)\n",
    "\n",
    "print(fact(5))\n"
   ]
  },
  {
   "cell_type": "markdown",
   "id": "1287c1f2",
   "metadata": {},
   "source": [
    "## 8.Anonymous/Lambda Functions"
   ]
  },
  {
   "cell_type": "raw",
   "id": "65b16f9f",
   "metadata": {},
   "source": [
    "In Python an anonymous function is one that does not have a name and can only be used at the point that it is defined.\n",
    "Anonymous functions are defined using the keyword lambda and for this reason they are also known as lambda functions.\n",
    "The syntax used to define an anonymous function is:\n",
    "lambda arguments: expression\n",
    "Anonymous functions can have any number of arguments but only one expression (that is a statement that returns a value) as their body. \n"
   ]
  },
  {
   "cell_type": "raw",
   "id": "21666cdd",
   "metadata": {},
   "source": [
    "The expression is executed, and the value generated from it is returned as the result of the function.\n",
    "Example:\n",
    "square = lambda i : i * i\n",
    "A lambda function which calculates the square of its argument is assigned to the function variable called square. This lambda function can be called as: print(square(5))\n"
   ]
  },
  {
   "cell_type": "code",
   "execution_count": 137,
   "id": "2e555603",
   "metadata": {},
   "outputs": [
    {
     "name": "stdout",
     "output_type": "stream",
     "text": [
      "25\n"
     ]
    }
   ],
   "source": [
    "square = lambda i : i * i\n",
    "print(square(5))"
   ]
  },
  {
   "cell_type": "code",
   "execution_count": 139,
   "id": "0c3b5337",
   "metadata": {},
   "outputs": [
    {
     "name": "stdout",
     "output_type": "stream",
     "text": [
      "no args\n",
      "16\n",
      "12\n",
      "9\n"
     ]
    }
   ],
   "source": [
    "func0 = lambda: print('no args')\n",
    "func1 = lambda x: x * x\n",
    "func2 = lambda x, y: x * y\n",
    "func3 = lambda x, y, z: x + y + z\n",
    "# The above functions can be called as:\n",
    "func0()\n",
    "print(func1(4))\n",
    "print(func2(3, 4))\n",
    "print(func3(2, 3, 4))\n"
   ]
  },
  {
   "cell_type": "markdown",
   "id": "65231ee4",
   "metadata": {},
   "source": [
    "## 9.Higher order functions\n"
   ]
  },
  {
   "cell_type": "raw",
   "id": "57fe58d8",
   "metadata": {},
   "source": [
    "A function can take another function as a parameter. Such functions are known as higher-order functions and are one of the key constructs in Functional Programming.\n",
    "In Python, Higher-Order Functions are functions that do at least one of the following (and may do both):\n",
    "Take one or more functions as a parameter,\n",
    "Return as a result a function.\n",
    "All other functions in Python are first-order functions.\n"
   ]
  },
  {
   "cell_type": "markdown",
   "id": "0ceadbb3",
   "metadata": {},
   "source": [
    "### Example of higher order function"
   ]
  },
  {
   "cell_type": "code",
   "execution_count": 140,
   "id": "f601f817",
   "metadata": {},
   "outputs": [
    {
     "data": {
      "text/plain": [
       "100"
      ]
     },
     "execution_count": 140,
     "metadata": {},
     "output_type": "execute_result"
    }
   ],
   "source": [
    "def  apply(x, function):\n",
    "    result = function(x)\n",
    "    return   result\n",
    "def   square(y):\n",
    "    return \t y * y\n",
    "apply(10,square)\n"
   ]
  },
  {
   "cell_type": "markdown",
   "id": "5d37c416",
   "metadata": {},
   "source": [
    "## Functions returning functions"
   ]
  },
  {
   "cell_type": "raw",
   "id": "bc0d4904",
   "metadata": {},
   "source": [
    "In Python as well as passing a function into another function, functions can be returned from a function. \n",
    "This can be used to select amongst a number of different options or to create a new function based on the parameters.\n",
    "For example, the following code creates a function that can be used to check whether a number is even, odd or negative based on the string passed into it.\n",
    "This function is a factory for functions that can be created to perform specific operations.\n"
   ]
  },
  {
   "cell_type": "code",
   "execution_count": 141,
   "id": "87e7ac72",
   "metadata": {},
   "outputs": [
    {
     "name": "stdout",
     "output_type": "stream",
     "text": [
      "False\n",
      "True\n",
      "False\n"
     ]
    }
   ],
   "source": [
    "def make_checker(s):\n",
    "    if s == 'even': return lambda n: n%2 == 0\n",
    "    elif s == 'positive': return lambda n: n >= 0\n",
    "    elif s == 'negative': return lambda n: n < 0\n",
    "f1 = make_checker('even')\n",
    "f2 = make_checker('positive')\n",
    "f3 = make_checker('negative')\n",
    "print(f1(3))\n",
    "print(f2(3))\n",
    "print(f3(3))\n"
   ]
  },
  {
   "cell_type": "markdown",
   "id": "c3d80815",
   "metadata": {},
   "source": [
    "## 10.Map, Reduce and Filter functions"
   ]
  },
  {
   "cell_type": "raw",
   "id": "f936fc21",
   "metadata": {},
   "source": [
    "Python provides three functions that are widely used to implement functional programming style solutions in combination with collection container types.\n",
    "These functions are higher-order functions that take both a collection and a function that will be applied in various ways to that collection.\n",
    "The filter() function is a higher order function that takes a function to be used to filter out elements from a collection. \n",
    "The result of the filter() function is a new iterable containing only those elements selected by the test function.\n"
   ]
  },
  {
   "cell_type": "markdown",
   "id": "93570f56",
   "metadata": {},
   "source": [
    "## filter() function"
   ]
  },
  {
   "cell_type": "code",
   "execution_count": 143,
   "id": "0f455a62",
   "metadata": {},
   "outputs": [
    {
     "name": "stdout",
     "output_type": "stream",
     "text": [
      "data: [1, 3, 5, 2, 7, 4, 10]\n",
      "Even numbers in the list: [2, 4, 10]\n"
     ]
    }
   ],
   "source": [
    "# Syntax of the filter function is: filter(function, iterable)\n",
    "# Example:\n",
    "data = [1, 3, 5, 2, 7, 4, 10]\n",
    "print('data:', data)\n",
    "def   is_even(i):\n",
    "    return i % 2 == 0\n",
    "# Filter for even numbers using a named function\n",
    "even_data = list(filter(is_even, data))\n",
    "print('Even numbers in the list:', even_data)\n"
   ]
  },
  {
   "cell_type": "markdown",
   "id": "4124686c",
   "metadata": {},
   "source": [
    "## map() function"
   ]
  },
  {
   "cell_type": "raw",
   "id": "03537629",
   "metadata": {},
   "source": [
    "Map is another higher order function available in Python. Map applies the supplied function to all items in the iterable(s) passed to it. \n",
    "It returns a new iterable of the results generated by the applied function.\n",
    "It is the functional equivalent of a for loop applied to an iterable where the results of each iteration round the for loop are gathered up.\n",
    "The function signature of map is map(function, iterable, ...)\n"
   ]
  },
  {
   "cell_type": "code",
   "execution_count": 144,
   "id": "fdb8424d",
   "metadata": {},
   "outputs": [
    {
     "name": "stdout",
     "output_type": "stream",
     "text": [
      "data: [1, 3, 5, 2, 7, 4, 10]\n",
      "d1 : [2, 4, 6, 3, 8, 5, 11]\n"
     ]
    }
   ],
   "source": [
    "# Example1\n",
    "data = [1, 3, 5, 2, 7, 4, 10]\n",
    "print('data:', data)\n",
    "# Apply the lambda function to each element in the list\n",
    "# using the map function\n",
    "d1 = list(map(lambda i: i + 1, data))\n",
    "print('d1 :', d1)\n",
    "\n"
   ]
  },
  {
   "cell_type": "code",
   "execution_count": 145,
   "id": "8eccab19",
   "metadata": {},
   "outputs": [
    {
     "name": "stdout",
     "output_type": "stream",
     "text": [
      "[3, 7, 11, 15]\n"
     ]
    }
   ],
   "source": [
    "# Example2\n",
    "data1 = [1, 3, 5, 7]\n",
    "data2 = [2, 4, 6, 8]\n",
    "result = list(map(lambda x, y: x + y, data1, data2))\n",
    "print(result)"
   ]
  },
  {
   "cell_type": "markdown",
   "id": "62cd69f1",
   "metadata": {},
   "source": [
    "## reduce() function"
   ]
  },
  {
   "cell_type": "raw",
   "id": "38904e79",
   "metadata": {},
   "source": [
    "The reduce() function applies a function to an iterable and combines the result returned for each element together into a single result.\n",
    "The signature of the functools.reduce function is: functools.reduce(function, iterable[, initializer]) \n",
    "For example:"
   ]
  },
  {
   "cell_type": "code",
   "execution_count": 146,
   "id": "d05f6c53",
   "metadata": {},
   "outputs": [
    {
     "name": "stdout",
     "output_type": "stream",
     "text": [
      "32\n"
     ]
    }
   ],
   "source": [
    "from functools import reduce\n",
    "data = [1, 3, 5, 2, 7, 4, 10]\n",
    "result = reduce(lambda total, value: total + value, data)\n",
    "print(result)"
   ]
  },
  {
   "cell_type": "code",
   "execution_count": 147,
   "id": "eb9fccbe",
   "metadata": {},
   "outputs": [
    {
     "name": "stdout",
     "output_type": "stream",
     "text": [
      "64\n"
     ]
    }
   ],
   "source": [
    "from functools import reduce\n",
    "data = [1, 3, 5, 2, 7, 4, 10]\n",
    "result = reduce(lambda total,y:total +9, data,1)\n",
    "print(result)"
   ]
  },
  {
   "cell_type": "code",
   "execution_count": 148,
   "id": "19ef3de9",
   "metadata": {},
   "outputs": [
    {
     "name": "stdout",
     "output_type": "stream",
     "text": [
      "96\n"
     ]
    }
   ],
   "source": [
    "from functools import reduce\n",
    "data = [1, 3, 5, 2, 7, 4, 10]\n",
    "result = reduce(lambda total,y:total+y+9,data,1)\n",
    "print(result)"
   ]
  },
  {
   "cell_type": "markdown",
   "id": "4c3d19f2",
   "metadata": {},
   "source": [
    "# 1 .Write a function that takes the lengths of the two shorter sides of a right triangle as its parameters. Return the hypotenuse of the triangle, computed using Pythagorean theorem, as the function’s result."
   ]
  },
  {
   "cell_type": "code",
   "execution_count": 149,
   "id": "88fec5c7",
   "metadata": {},
   "outputs": [
    {
     "name": "stdout",
     "output_type": "stream",
     "text": [
      "5.0\n",
      "13.0\n"
     ]
    }
   ],
   "source": [
    "def hypotenuse(a, b):\n",
    "# a and b are the lengths of the two shorter sides of a right triangle\n",
    "# c is the length of the hypotenuse, computed using Pythagorean theorem\n",
    "    c = (a**2 + b**2)**0.5\n",
    "    return c\n",
    "print(hypotenuse(3, 4)) # prints 5.0\n",
    "print(hypotenuse(5, 12)) # prints 13.0\n"
   ]
  },
  {
   "cell_type": "markdown",
   "id": "f6d41107",
   "metadata": {},
   "source": [
    "# 2.An online retailer provides express shipping for many of its items at a rate of ( 10.95)𝑓𝑜𝑟𝑡ℎ𝑒𝑓𝑖𝑟𝑠𝑡𝑖𝑡𝑒𝑚,𝑎𝑛𝑑)2.95 for each subsequent item. Write a function that takes the number of items in the order as its only parameter. Return the shipping charge for the order as the function’s result. Include a main program that reads the number of items purchased from the user and displays the shipping charge."
   ]
  },
  {
   "cell_type": "code",
   "execution_count": 150,
   "id": "c086894b",
   "metadata": {},
   "outputs": [
    {
     "name": "stdout",
     "output_type": "stream",
     "text": [
      "28.650000000000002\n"
     ]
    }
   ],
   "source": [
    "def shipping_charge(num_items):\n",
    "    if num_items <= 0 :\n",
    "        return 0\n",
    "    elif num_items == 1:\n",
    "        return 10.95\n",
    "    else:\n",
    "        return 10.95+(num_items-1)*2.95\n",
    "print(shipping_charge(7))"
   ]
  },
  {
   "cell_type": "markdown",
   "id": "11c9bf24",
   "metadata": {},
   "source": [
    "# 3.Write a function that takes three numbers as parameters, and returns the median value of those parameters as its result. Include a main program that reads three values from the user and displays their median."
   ]
  },
  {
   "cell_type": "code",
   "execution_count": 151,
   "id": "d5111f44",
   "metadata": {},
   "outputs": [
    {
     "name": "stdout",
     "output_type": "stream",
     "text": [
      "Enter the three numbers\n",
      "Enter the first number :25\n",
      "Enter the second number :32\n",
      "Enter the third number :51\n",
      " The median number  value is : 32.0\n"
     ]
    }
   ],
   "source": [
    "def median(a,b,c):\n",
    "    numbers = sorted([a,b,c])\n",
    "    return numbers[1]\n",
    "def main():\n",
    "    print(\"Enter the three numbers\")\n",
    "    a = float(input(\"Enter the first number :\"))\n",
    "    b = float(input(\"Enter the second number :\"))\n",
    "    c = float(input(\"Enter the third number :\"))\n",
    "    result =median(a,b,c)\n",
    "    print(\" The median number  value is :\",result)\n",
    "main()"
   ]
  },
  {
   "cell_type": "markdown",
   "id": "d75f12e0",
   "metadata": {},
   "source": [
    "# 4. Write a function that determines whether or not three lengths can form a triangle. The function will take 3 parameters and return a Boolean result. In addition, write a program that reads 3 lengths from the user and demonstrates the behavior of this function. In general, if any one length is greater than or equal to the sum of the other two then the lengths cannot be used to form a triangle. Otherwise they can form a triangle."
   ]
  },
  {
   "cell_type": "code",
   "execution_count": 152,
   "id": "d5d7942d",
   "metadata": {},
   "outputs": [
    {
     "name": "stdout",
     "output_type": "stream",
     "text": [
      "Enter the first length :25\n",
      "Enter the second length :69\n",
      "Enter the third length :83\n",
      "The length  25.0 69.0 83.0  can form a triangle\n"
     ]
    }
   ],
   "source": [
    "def is_triangle(a,b,c):\n",
    "    if a >= b+c or b >= a+c or c >= a+b:\n",
    "        return False\n",
    "    else:\n",
    "        return True\n",
    "a = float(input(\"Enter the first length :\"))\n",
    "b = float(input(\"Enter the second length :\"))\n",
    "c = float(input(\"Enter the third length :\"))\n",
    "result = is_triangle(a,b,c)\n",
    "if result:\n",
    "    print(\"The length \",a, b, c,\" can form a triangle\")\n",
    "else:\n",
    "    print(\"The length \",a, b, c,\" can not form a triangle\")\n"
   ]
  },
  {
   "cell_type": "markdown",
   "id": "f778ce14",
   "metadata": {},
   "source": [
    "# 5. In this exercise you will write a function named isInteger that determines whether or not the characters in a string represent a valid integer. When determining if a string represents an integer you should ignore any leading or trailing white space. Once this white space is ignored, a string represents an integer if its length is at least 1 and it only contains digits, or if its first character is either + or - and the first character is followed by one or more characters, all of which are digits. Write a main program that reads a string from the user and reports whether or not it represents an integer."
   ]
  },
  {
   "cell_type": "code",
   "execution_count": 153,
   "id": "d8c48660",
   "metadata": {},
   "outputs": [
    {
     "name": "stdout",
     "output_type": "stream",
     "text": [
      "Enter a string :the 5 star hotel\n",
      "The string does not represent an integer\n"
     ]
    }
   ],
   "source": [
    "def is_integer(u):\n",
    "    u = u.strip()\n",
    "    if len(u) == 0:\n",
    "        return False\n",
    "    if u[0] in \" + -\":\n",
    "        return u[1:].isdigit()\n",
    "    else:\n",
    "        return u.isdigit()\n",
    "user_input = input(\"Enter a string :\")\n",
    "if is_integer(user_input):\n",
    "    print(\"The string represents an integer\")\n",
    "else:\n",
    "    print(\"The string does not represent an integer\")"
   ]
  },
  {
   "cell_type": "markdown",
   "id": "256cb320",
   "metadata": {},
   "source": [
    "# 6. In this exercise you will create a function named nextPrime that finds and returns the first prime number larger than some integer, n. The value of n will be passed to the function as its only parameter. Include a main program that reads an integer from the user and displays the first prime number larger than the entered value."
   ]
  },
  {
   "cell_type": "code",
   "execution_count": 154,
   "id": "05d029e8",
   "metadata": {},
   "outputs": [
    {
     "name": "stdout",
     "output_type": "stream",
     "text": [
      "Enter an integer :7\n",
      "the first prime number larger than 7 is 11\n"
     ]
    }
   ],
   "source": [
    "import math \n",
    "def nextprime(n):\n",
    "    n=n+1\n",
    "    while True:\n",
    "        is_prime= True\n",
    "        for i in range(2,int(math.sqrt(n))+1):\n",
    "            if n % i == 0:\n",
    "                is_prime = False\n",
    "                break\n",
    "        if is_prime:\n",
    "            return n\n",
    "        else:\n",
    "            n=n+1\n",
    "n= int(input(\"Enter an integer :\"))\n",
    "p= nextprime(n)\n",
    "print(f\"the first prime number larger than {n} is {p}\")"
   ]
  },
  {
   "cell_type": "markdown",
   "id": "49f9f1ad",
   "metadata": {},
   "source": [
    "# 7. In this exercise you will write a function that determines whether or not a password is good. We will define a good password to be a one that is at least 8 characters long and contains at least one uppercase letter, at least one lowercase letter, and at least one number. Your function should return true if the password passed to it as its only parameter is good. Otherwise it should return false. Include a main program that reads a password from the user and reports whether or not it is good."
   ]
  },
  {
   "cell_type": "code",
   "execution_count": 155,
   "id": "84758f4a",
   "metadata": {},
   "outputs": [
    {
     "name": "stdout",
     "output_type": "stream",
     "text": [
      "Enter a password: Skill-lync8\n",
      "The password is good.\n"
     ]
    }
   ],
   "source": [
    "def isGood(password):\n",
    "    if len(password) < 8:\n",
    "        return False\n",
    "    uppercase = 0\n",
    "    lowercase = 0\n",
    "    number = 0\n",
    "    for char in password:\n",
    "        if char.isupper():\n",
    "            uppercase = uppercase + 1\n",
    "        elif char.islower():\n",
    "            lowercase = lowercase + 1\n",
    "        elif char.isdigit():\n",
    "            number = number + 1\n",
    "    if uppercase > 0 and lowercase > 0 and number > 0:\n",
    "        return True\n",
    "    else:\n",
    "        return False\n",
    "password = input(\"Enter a password: \")\n",
    "good = isGood(password)\n",
    "if good:\n",
    "    print(\"The password is good.\")\n",
    "else:\n",
    "    print(\"The password is not good.\")"
   ]
  },
  {
   "cell_type": "markdown",
   "id": "233999f7",
   "metadata": {},
   "source": [
    "# 8. Write a program that reads values from the user until a blank line is entered. Display the total of all of the values entered by the user (or 0.0 if the first value entered is a blank line). Complete this task using recursion. Your program may not use any loops. The body of your recursive function will need to read one value from the user, and then determine whether or not to make a recursive call. Your function does not need to take any parameters, but it will need to return a numeric result."
   ]
  },
  {
   "cell_type": "code",
   "execution_count": 156,
   "id": "2d030db7",
   "metadata": {},
   "outputs": [
    {
     "name": "stdout",
     "output_type": "stream",
     "text": [
      "Enter a value (blank to quit): 25\n",
      "Enter a value (blank to quit): 5\n",
      "Enter a value (blank to quit): 24\n",
      "Enter a value (blank to quit): 6\n",
      "Enter a value (blank to quit):  \n",
      "The total of all the values entered is 60.0\n"
     ]
    }
   ],
   "source": [
    "def read_and_sum():\n",
    "    value = input(\"Enter a value (blank to quit): \")\n",
    "    if value == \" \":\n",
    "        return 0\n",
    "    else:\n",
    "        return float(value) + read_and_sum()\n",
    "print(f\"The total of all the values entered is {read_and_sum()}\")"
   ]
  },
  {
   "cell_type": "markdown",
   "id": "62d25b5c",
   "metadata": {},
   "source": [
    "# 9. In this exercise you will write a recursive function that determines whether or not a string is a palindrome. The empty string is a palindrome, as is any string containing only one character. Any longer string is a palindrome if its first and last characters match, and if the string formed by removing the first and last characters is also a palindrome. Write a main program that reads a string from the user. Use your recursive function to determine whether or not the string is a palindrome. Then display an appropriate message for the user."
   ]
  },
  {
   "cell_type": "code",
   "execution_count": 157,
   "id": "b5a25093",
   "metadata": {},
   "outputs": [
    {
     "name": "stdout",
     "output_type": "stream",
     "text": [
      "Enter a string: rever\n",
      "rever is a palindrome\n"
     ]
    }
   ],
   "source": [
    "def is_palindrome(s):\n",
    "    if len(s) <= 1:\n",
    "        return True\n",
    "    elif s[0] != s[-1]:\n",
    "        return False\n",
    "    else:\n",
    "        return is_palindrome(s[1:-1])\n",
    "s = input(\"Enter a string: \")\n",
    "result = is_palindrome(s)\n",
    "if result:\n",
    "    print(s, \"is a palindrome\")\n",
    "else:\n",
    "    print(s, \"is not a palindrome\")"
   ]
  },
  {
   "cell_type": "code",
   "execution_count": 158,
   "id": "68d3db64",
   "metadata": {},
   "outputs": [
    {
     "name": "stdout",
     "output_type": "stream",
     "text": [
      "Enter a palindrome string: civic\n",
      "civic\n",
      "it is a palindrome\n"
     ]
    }
   ],
   "source": [
    "string=input(\"Enter a palindrome string: \")\n",
    "rev=\"\"\n",
    "for i in range(len(string)):\n",
    "    rev=string[i]+rev\n",
    "print(rev)\n",
    "if string==rev:\n",
    "    print(\"it is a palindrome\")\n",
    "else:\n",
    "    print(\"it is not a palindrome\")"
   ]
  },
  {
   "cell_type": "markdown",
   "id": "26b55ad2",
   "metadata": {},
   "source": [
    "# 10. Write a function that takes a list of strings as its only parameter. Your function should return a string that contains all of the items in the list formatted in the manner described previously as its only result. While the examples shown previously only include lists containing four elements or less, your function should behave correctly for lists of any length. Include a main program that reads several items from the user, formats them by calling your function, and then displays the result returned by the function. Consider the following four lists:\n",
    "# apples\n",
    "# apples and oranges\n",
    "# apples, oranges and bananas\n",
    "# apples, oranges, bananas and lemons"
   ]
  },
  {
   "cell_type": "code",
   "execution_count": 159,
   "id": "79005b83",
   "metadata": {},
   "outputs": [
    {
     "name": "stdout",
     "output_type": "stream",
     "text": [
      "Enter several items separated by spaces: apples oranges bananas lemon oranges apple lemons oranges\n",
      "The formatted string is:  apples , and oranges\n"
     ]
    }
   ],
   "source": [
    "def format_list(items):\n",
    "    result = \" \"\n",
    "    n = len(items)\n",
    "    if n == 0:\n",
    "        return result\n",
    "    elif n == 1:\n",
    "        return items[0]\n",
    "    elif n == 2:\n",
    "        return items[0] + \" and \" + items[1]\n",
    "    else:\n",
    "        for i in range(n-1):\n",
    "            result += items[i] + \" , \"\n",
    "            result += \"and \" + items[-1]\n",
    "            return result\n",
    "user_input = input(\"Enter several items separated by spaces: \")\n",
    "user_list = user_input.split()\n",
    "formatted_string = format_list(user_list)\n",
    "print(\"The formatted string is:\", formatted_string)"
   ]
  },
  {
   "cell_type": "markdown",
   "id": "e551ca47",
   "metadata": {},
   "source": [
    "# WEEK6_SESSION 02-04-2024"
   ]
  },
  {
   "cell_type": "markdown",
   "id": "f4fb77a8",
   "metadata": {},
   "source": [
    "# File Input-Output Modules\n"
   ]
  },
  {
   "cell_type": "markdown",
   "id": "4ff020da",
   "metadata": {},
   "source": [
    "## Topics"
   ]
  },
  {
   "cell_type": "raw",
   "id": "207ef820",
   "metadata": {},
   "source": [
    "1.Introduction to File Input / Output\n",
    "2.Reading files\n",
    "3.Writing files\n",
    "4.Using Files and with Statements\n",
    "5.Moving file_object within the file\n",
    "6.Serialization\n",
    "7.Directory operations\n",
    "8.Modules and Packages\n"
   ]
  },
  {
   "cell_type": "markdown",
   "id": "9864a1f0",
   "metadata": {},
   "source": [
    "# 1.Introduction to File Input / Output\n"
   ]
  },
  {
   "cell_type": "raw",
   "id": "a7df2568",
   "metadata": {},
   "source": [
    "Reading data from and writing data to a file is very common within many programs.\n",
    "Python provides a large amount of support for working with files of various types.\n",
    "The built in open() function creates a file object for you that you can use to read and/or write data from and/ or to a file.\n",
    "The built in open() function creates a file object for you that you can use to read and/or write data from and/ or to a file.\n"
   ]
  },
  {
   "cell_type": "markdown",
   "id": "150de520",
   "metadata": {},
   "source": [
    "## open() function"
   ]
  },
  {
   "cell_type": "raw",
   "id": "8ffa1c3a",
   "metadata": {},
   "source": [
    "The syntax for the open() function is:\n",
    "file_object = open(file_name, access_mode, buffering)\n",
    "Where \n",
    "file_name indicates the file to be accessed.\n",
    "access_mode The access_mode determines the mode in which the file is to be opened, i.e. read(r), write(w), append(a), etc.\n",
    "buffering If the buffering value is set to 0, no buffering takes place. If the buffering value is 1, line buffering is performed while accessing a file.\n"
   ]
  },
  {
   "cell_type": "markdown",
   "id": "babc2280",
   "metadata": {},
   "source": [
    "## access_mode values"
   ]
  },
  {
   "cell_type": "markdown",
   "id": "3469b7c1",
   "metadata": {},
   "source": [
    "### r,rb,r+,rb+,w,wb,w+,wb+,a,ab,a+,ab+"
   ]
  },
  {
   "cell_type": "raw",
   "id": "0d38d454",
   "metadata": {},
   "source": [
    "The file_object has several useful attributes such as \n",
    "file_object.closed: returns True if the file has been closed (can no longer be accessed because the close() method has been called on it).\n",
    "file_object.mode: returns the access mode with which the file was opened.\n",
    "file_object.name: The name of the file.\n",
    "The file_object.close() method is used to close the file once you have finished with it.\n",
    " "
   ]
  },
  {
   "cell_type": "markdown",
   "id": "657ae19d",
   "metadata": {},
   "source": [
    "# 2.Reading files\n"
   ]
  },
  {
   "cell_type": "raw",
   "id": "69e9f0ec",
   "metadata": {},
   "source": [
    "Reading data from a text file is supported by the read(), readline() and readlines() methods:\n",
    "The read() method This method will return the entire contents of the file as a single string.\n",
    "The readline() method reads the next line of text from a file. It returns all the text on one line up to and including the newline character. It can be used to read a file a line at a time.\n",
    "The readlines() method returns a list of all the lines in a file, where each item of the list represents a single line.\n"
   ]
  },
  {
   "cell_type": "raw",
   "id": "99651426",
   "metadata": {},
   "source": [
    "file = open('target.txt', 'r')\n",
    "lines = file.readlines()\n",
    "for line in lines:\n",
    "    print(line, end=' ')\n",
    "file.close()\n"
   ]
  },
  {
   "cell_type": "markdown",
   "id": "439bec06",
   "metadata": {},
   "source": [
    "# 3.Writing files\n"
   ]
  },
  {
   "cell_type": "code",
   "execution_count": 165,
   "id": "1b60b632",
   "metadata": {},
   "outputs": [
    {
     "name": "stdout",
     "output_type": "stream",
     "text": [
      "Writing file\n"
     ]
    }
   ],
   "source": [
    "# Writing a string to a file is supported by the write() method. \n",
    "# The file object we create must have an access mode that allows writing (such as 'w'). For example:\n",
    "print('Writing file')\n",
    "f = open('my-new-file.txt', 'w')\n",
    "f.write('Hello from Python!!\\n')\n",
    "f.write('Working with files is easy...\\n')\n",
    "f.write('It is cool ...\\n')\n",
    "f.close()\n"
   ]
  },
  {
   "cell_type": "markdown",
   "id": "3c02cb29",
   "metadata": {},
   "source": [
    "# 4.Using Files and with Statements\n"
   ]
  },
  {
   "cell_type": "code",
   "execution_count": 167,
   "id": "34fdc048",
   "metadata": {},
   "outputs": [
    {
     "name": "stdout",
     "output_type": "stream",
     "text": [
      "Hello from Python!!\n",
      "Working with files is easy...\n",
      "It is cool ...\n"
     ]
    }
   ],
   "source": [
    "# We can write code that will open a file using the “with” statement, thus ensuring that the file will be closed when the block of code is finished with, for example:\n",
    "with open('my-new-file.txt', 'r') as f:\n",
    "    lines = f.readlines()\n",
    "    for line in lines:\n",
    "        print(line, end='')\n"
   ]
  },
  {
   "cell_type": "markdown",
   "id": "3e94b6b7",
   "metadata": {},
   "source": [
    "# 5.Moving file_object within the file\n"
   ]
  },
  {
   "cell_type": "raw",
   "id": "e9aff344",
   "metadata": {},
   "source": [
    "When randomly accessing the contents of a file the programmer manually moves the pointer to the location required and reads or writes text relative to that pointer.\n",
    "This means that they can move around in the file reading and writing data. \n",
    "The random-access aspect of a file is provided by the seek method of the file object.\n",
    "file_object.seek (offset, whence) this method determines where the next read or write operation (depending on the mode used in the open() call) takes place.\n"
   ]
  },
  {
   "cell_type": "markdown",
   "id": "2437c7b7",
   "metadata": {},
   "source": [
    "## seek method"
   ]
  },
  {
   "cell_type": "raw",
   "id": "dd6efc23",
   "metadata": {},
   "source": [
    "The offset parameter indicates the position of the read/ write pointer within the file. The move can also be forwards or backwards (represented by a negative offset).\n",
    "The optional whence parameter indicates where the offset is relative to. The values used for whence are:\n",
    "0 indicates that the offset is relative to start of file (the default).\n",
    "1 means that the offset is relative to the current pointer position.\n",
    "2 indicates the offset is relative to end of file.\n"
   ]
  },
  {
   "cell_type": "markdown",
   "id": "1c2d6b21",
   "metadata": {},
   "source": [
    "## Random file access example"
   ]
  },
  {
   "cell_type": "code",
   "execution_count": 168,
   "id": "d71cabce",
   "metadata": {},
   "outputs": [
    {
     "name": "stdout",
     "output_type": "stream",
     "text": [
      "abcdefBYEjHELLOpqrstuvwxyz\n"
     ]
    }
   ],
   "source": [
    "f = open('text.txt', 'w')\n",
    "f.write('abcdefghijklmnopqrstuvwxyz\\n')\n",
    "f.seek(10,0)\n",
    "f.write('HELLO')\n",
    "f.seek(6, 0)\n",
    "f.write ('BYE')\n",
    "f.close()\n",
    "with open('text.txt', 'r') as f:\n",
    "    for line in f:\n",
    "        print(line, end='')\n"
   ]
  },
  {
   "cell_type": "markdown",
   "id": "c8cabc50",
   "metadata": {},
   "source": [
    "# 6.Serialization\n"
   ]
  },
  {
   "cell_type": "raw",
   "id": "27bc63fb",
   "metadata": {},
   "source": [
    "In order to read/write more complicated data like tuple, list or dictionary to files, the data must be converted into JSON format.\n",
    "The json module converts Python data into appropriate JSON types before writing it to a file. This process is called serialization.\n",
    "Serialization of a Python type to JSON data is done using a function called dump(). It writes the serialized data to a file.\n",
    "\n",
    "Serialization is the process of converting the object (or) data into some other format where they can be stored and retrieved later. Since the data is transformed and stored in another format,  it allows the features of restoring and deserializing the data from the serialized form. Besides the data conversion, this serialization also allows us to reduce the data size. Hence this data gets fit in the given data storage (or) the bandwidth.\n",
    "\n",
    "The reverse process of this serialization is known as Deserialization. The terms serialization and deserialization were also known as Pickling and unpicking in python.\n"
   ]
  },
  {
   "cell_type": "markdown",
   "id": "ce690c82",
   "metadata": {},
   "source": [
    "### Why do we need serialization?"
   ]
  },
  {
   "cell_type": "raw",
   "id": "e3e5a07c",
   "metadata": {},
   "source": [
    "Data is the biggest gift that the internet has given to the people these days. This data plays a major role in the analysis of the business.  Some companies get data from their previous traffic. While the other approach some other third parties for the data.  Moreover, in these modern days, it is not possible for all people to work at the same place. Hence these people make use of the internet to transfer data from one place to another. But it takes a lot of time on the internet to transfer the actual data from one place to the other.\n",
    "\n",
    "So in order to send the same amount of data, people use some techniques to transfer from one place to the other in a short span of time. Moreover, with this technique, people can send data through the internet at a low weight. As mentioned above, there are many ways to send data over the internet. One such way is Serialization.\n",
    "\n"
   ]
  },
  {
   "cell_type": "markdown",
   "id": "d32ca68d",
   "metadata": {},
   "source": [
    "## Example of serialization"
   ]
  },
  {
   "cell_type": "code",
   "execution_count": 169,
   "id": "e1631931",
   "metadata": {},
   "outputs": [],
   "source": [
    "import json\n",
    "f = open(\"sampledata\",\"w\")\n",
    "student = ('Suresh',25,99.989)\n",
    "json.dump(student,f)\n",
    "f.close()\n"
   ]
  },
  {
   "cell_type": "markdown",
   "id": "60610dd0",
   "metadata": {},
   "source": [
    "## Deserialization"
   ]
  },
  {
   "cell_type": "raw",
   "id": "b319188d",
   "metadata": {},
   "source": [
    "Likewise, the json module is used to convert JSON types read from the file into Python data. This process is called deserialization. \n",
    "Deserialization is done using the function load(). It reads the data from the file, performs the conversion and returns the converted data.\n",
    "load() returns the data in the form of a list.\n"
   ]
  },
  {
   "cell_type": "markdown",
   "id": "c99f0b9b",
   "metadata": {},
   "source": [
    "## Example of deserialization"
   ]
  },
  {
   "cell_type": "code",
   "execution_count": 170,
   "id": "da0acd3f",
   "metadata": {},
   "outputs": [
    {
     "name": "stdout",
     "output_type": "stream",
     "text": [
      "The data read is : ['Suresh', 25, 99.989]\n"
     ]
    }
   ],
   "source": [
    "import json\n",
    "f = open(\"sampledata\",\"r\")\n",
    "student = json.load(f)\n",
    "print ('The data read is :',student)\n",
    "f.close()\n"
   ]
  },
  {
   "cell_type": "markdown",
   "id": "36c9fedc",
   "metadata": {},
   "source": [
    "# 7.Directory operations\n"
   ]
  },
  {
   "cell_type": "raw",
   "id": "012ca6f3",
   "metadata": {},
   "source": [
    "Python lets us interact with the underlying operating system and perform many directory operations.\n",
    "The os module has several functions that can help with creating, removing and altering directories.\n",
    "mkdir() This function is used to create a directory, it takes the name of the directory to create as a parameter. If the directory already exists FileExistsError is raised.\n",
    "chdir() This function can be used to change the current working directory. This is the directory that the application will read from/ write to by default.\n",
    "\n",
    "getcwd() This function returns a string representing the name of the current working directory.\n",
    "\n",
    "rmdir() This function is used to remove/ delete a directory. It takes the name of the directory to delete as a parameter.\n",
    "\n",
    "listdir() This function returns a list containing the names of the entries in the directory specified as a parameter to the function (if no name is given the current directory is used).\n",
    "\n"
   ]
  },
  {
   "cell_type": "markdown",
   "id": "1598b868",
   "metadata": {},
   "source": [
    "## Examples of Directory operations"
   ]
  },
  {
   "cell_type": "code",
   "execution_count": 174,
   "id": "4abea07d",
   "metadata": {},
   "outputs": [
    {
     "name": "stdout",
     "output_type": "stream",
     "text": [
      "os.getcwd(: C:\\Users\\upend\\Desktop\\SKILL-LYNC\\python challanges\n",
      "List contents of directory\n",
      "['.ipynb_checkpoints', 'Interview Booklet  - Python (1).docx', 'loan-test.csv', 'my-new-file.txt', 'New folder', 'Project1', 'Project2', 'python files for challanges', 'r1pavbjw4chl8xy0.jpg', 'read_write_excel_file.txt', 'sampledata', 'SKILL-LYNC-PYTHON_BASICS.ipynb', 'stocks_weather.xlsx', 'stock_data.csv', 'stock_data.xlsx', 'text.txt', 'Untitled.ipynb', 'Untitled1.ipynb', 'Untitled2.ipynb', 'Untitled3.ipynb', 'weather_data.csv', 'weather_data.xlsx', 'weather_null_data.csv', 'week 1', 'week 2', 'week 3', 'week 4', 'week 5', 'week 6', 'week 7', 'week 8', 'week 9', 'week10', 'week11', 'week12', 'WEEK6.ipynb', 'WEEK7.ipynb', 'yhills.ipynb', '__pycache__']\n",
      "Create mydir\n",
      "List the updated contents of directory\n",
      "['.ipynb_checkpoints', 'Interview Booklet  - Python (1).docx', 'loan-test.csv', 'my-new-file.txt', 'mydir', 'New folder', 'Project1', 'Project2', 'python files for challanges', 'r1pavbjw4chl8xy0.jpg', 'read_write_excel_file.txt', 'sampledata', 'SKILL-LYNC-PYTHON_BASICS.ipynb', 'stocks_weather.xlsx', 'stock_data.csv', 'stock_data.xlsx', 'text.txt', 'Untitled.ipynb', 'Untitled1.ipynb', 'Untitled2.ipynb', 'Untitled3.ipynb', 'weather_data.csv', 'weather_data.xlsx', 'weather_null_data.csv', 'week 1', 'week 2', 'week 3', 'week 4', 'week 5', 'week 6', 'week 7', 'week 8', 'week 9', 'week10', 'week11', 'week12', 'WEEK6.ipynb', 'WEEK7.ipynb', 'yhills.ipynb', '__pycache__']\n",
      "Change into mydir directory\n",
      "os.getcwd(: C:\\Users\\upend\\Desktop\\SKILL-LYNC\\python challanges\\mydir\n",
      "Change back to parent directory\n",
      "os.getcwd(: C:\\Users\\upend\\Desktop\\SKILL-LYNC\\python challanges\n",
      "Remove mydir directory\n",
      "List the resulting contents of directory\n",
      "['.ipynb_checkpoints', 'Interview Booklet  - Python (1).docx', 'loan-test.csv', 'my-new-file.txt', 'New folder', 'Project1', 'Project2', 'python files for challanges', 'r1pavbjw4chl8xy0.jpg', 'read_write_excel_file.txt', 'sampledata', 'SKILL-LYNC-PYTHON_BASICS.ipynb', 'stocks_weather.xlsx', 'stock_data.csv', 'stock_data.xlsx', 'text.txt', 'Untitled.ipynb', 'Untitled1.ipynb', 'Untitled2.ipynb', 'Untitled3.ipynb', 'weather_data.csv', 'weather_data.xlsx', 'weather_null_data.csv', 'week 1', 'week 2', 'week 3', 'week 4', 'week 5', 'week 6', 'week 7', 'week 8', 'week 9', 'week10', 'week11', 'week12', 'WEEK6.ipynb', 'WEEK7.ipynb', 'yhills.ipynb', '__pycache__']\n"
     ]
    }
   ],
   "source": [
    "import os\n",
    "print('os.getcwd(:', os.getcwd())\n",
    "print('List contents of directory')\n",
    "print(os.listdir())\n",
    "print('Create mydir')\n",
    "os.mkdir('mydir')\n",
    "print('List the updated contents of directory')\n",
    "print(os.listdir())\n",
    "print('Change into mydir directory')\n",
    "os.chdir('mydir')\n",
    "print('os.getcwd(:', os.getcwd())\n",
    "print('Change back to parent directory')\n",
    "os.chdir('..')\n",
    "print('os.getcwd(:', os.getcwd())\n",
    "print('Remove mydir directory')\n",
    "os.rmdir('mydir')\n",
    "print('List the resulting contents of directory')\n",
    "print(os.listdir())\n"
   ]
  },
  {
   "cell_type": "markdown",
   "id": "8c0059a2",
   "metadata": {},
   "source": [
    "# 8.Modules and Packages"
   ]
  },
  {
   "cell_type": "raw",
   "id": "058d83d3",
   "metadata": {},
   "source": [
    "Modules and packages are two constructs used in Python to organize larger programs.\n",
    "A module allows you to group together related functions, classes and code in general. \n",
    "It is useful to organize your code into modules when the code either becomes large or when you want to reuse some elements of the code base in multiple projects.\n",
    "Breaking up a large body of code from a single file helps with simplifying code maintenance and comprehensibility of code, testing, reuse and scoping code"
   ]
  },
  {
   "cell_type": "markdown",
   "id": "187104fa",
   "metadata": {},
   "source": [
    "## Module"
   ]
  },
  {
   "cell_type": "raw",
   "id": "8e4b917e",
   "metadata": {},
   "source": [
    "In Python a module equates to a file containing Python code. A module can contain\n",
    "Functions\n",
    "Classes\n",
    "Variables\n",
    "Executable code\n",
    "Attributes associated with the module such as its name"
   ]
  },
  {
   "cell_type": "markdown",
   "id": "64362861",
   "metadata": {},
   "source": [
    "## Example of a user-defined module (mymath.py)"
   ]
  },
  {
   "cell_type": "raw",
   "id": "e3492720",
   "metadata": {},
   "source": [
    "\"\"\" This module implements basic mathematical operations \"\"\"\n",
    "print('\\n :::  Welcome to mymath module  :::')\n",
    "def add(x,y):\n",
    "    return x+y\n",
    "def mult(x,y):\n",
    "    return x*y\n",
    "def sub(x,y):\n",
    "    return x-y\n",
    "def div(x,y):\n",
    "    return x/y\n",
    "import mymath\n",
    "x = 10\n",
    "y = 5\n",
    "print (' x + y = ',mymath.add(x,y))\n",
    "print (' x - y = ',mymath.sub(x,y))\n",
    "print (' x * y = ',mymath.mult(x,y))\n",
    "print (' x / y = ',mymath.div(x,y))"
   ]
  },
  {
   "cell_type": "markdown",
   "id": "43135c8d",
   "metadata": {},
   "source": [
    "## Module properties"
   ]
  },
  {
   "cell_type": "raw",
   "id": "fe8c4eaa",
   "metadata": {},
   "source": [
    "Every module has a set of properties that can be used to find what features it provides, what its name is, what its documentation string is etc.\n",
    "These properties are considered special as they all start, and end, with a double underscore ('__'). These are:\n",
    "__name__ the name of the module\n",
    "__doc__ the docstring for the module\n",
    " __file__ the file in which the module was defined.\n"
   ]
  },
  {
   "cell_type": "markdown",
   "id": "18498646",
   "metadata": {},
   "source": [
    "## Module properties example"
   ]
  },
  {
   "cell_type": "raw",
   "id": "62202906",
   "metadata": {},
   "source": [
    "import mymath\n",
    "print (mymath.__name__)\n",
    "print (mymath.__doc__)\n",
    "print (mymath.__file__)\n",
    "Python comes with many built-in modules as well as many more available from third parties.\n",
    "Of particular use is the sys module, which contains a number of data items and functions that relate to the execution platform on which a program is running.\n"
   ]
  },
  {
   "cell_type": "markdown",
   "id": "48cd2904",
   "metadata": {},
   "source": [
    "## sys module example"
   ]
  },
  {
   "cell_type": "code",
   "execution_count": 187,
   "id": "046a1bed",
   "metadata": {},
   "outputs": [
    {
     "name": "stdout",
     "output_type": "stream",
     "text": [
      "sys.version:  3.11.4 | packaged by Anaconda, Inc. | (main, Jul  5 2023, 13:38:37) [MSC v.1916 64 bit (AMD64)]\n",
      "sys.maxsize:  9223372036854775807\n",
      "sys.path:  ['C:\\\\Users\\\\upend\\\\Desktop\\\\SKILL-LYNC\\\\python challanges', 'C:\\\\Users\\\\upend\\\\.conda\\\\python311.zip', 'C:\\\\Users\\\\upend\\\\.conda\\\\DLLs', 'C:\\\\Users\\\\upend\\\\.conda\\\\Lib', 'C:\\\\Users\\\\upend\\\\.conda', '', 'C:\\\\Users\\\\upend\\\\.conda\\\\Lib\\\\site-packages', 'C:\\\\Users\\\\upend\\\\.conda\\\\Lib\\\\site-packages\\\\win32', 'C:\\\\Users\\\\upend\\\\.conda\\\\Lib\\\\site-packages\\\\win32\\\\lib', 'C:\\\\Users\\\\upend\\\\.conda\\\\Lib\\\\site-packages\\\\Pythonwin']\n",
      "sys.platform:  win32\n"
     ]
    }
   ],
   "source": [
    "import sys\n",
    "print('sys.version: ', sys.version)\n",
    "print('sys.maxsize: ', sys.maxsize)\n",
    "print('sys.path: ', sys.path)\n",
    "print('sys.platform: ', sys.platform)\n"
   ]
  },
  {
   "cell_type": "markdown",
   "id": "dd07a68f",
   "metadata": {},
   "source": [
    "## Packages"
   ]
  },
  {
   "cell_type": "raw",
   "id": "75d67956",
   "metadata": {},
   "source": [
    "Python allows developers to organize modules together into packages, in a hierarchical structure based on directories.\n",
    "A package is defined as \n",
    "a directory containing one or more Python source files and\n",
    "an optional source file named __init__.py. This file may also contain code that is executed when a module is imported from the package.\n"
   ]
  },
  {
   "cell_type": "raw",
   "id": "1bc81b70",
   "metadata": {},
   "source": [
    "Create a directory called mypack. In this directory, create the following files:\n",
    "__init__.py, Its contents are: print ('Welcome to mypack Package')\n",
    "mymath.py: Its contents are the same as discussed previously\n",
    "mystr.py, Its contents are:\n",
    "\"\"\" This module implements basic string operations \"\"\"\n",
    "print('\\n :::  Welcome to mystr module  :::')\n",
    "def f1(s):\n",
    "    return len(s)\n",
    "def f2(s1, s2):\n",
    "    return s1==s2\n"
   ]
  },
  {
   "cell_type": "raw",
   "id": "b218aeaf",
   "metadata": {},
   "source": [
    "import mypack.mystr as ms\n",
    "from mypack.mymath import *\n",
    "s1=\"Hello World\"\n",
    "s2=\"Bye\"\n",
    "print ('Length of s1 is :', \n",
    "ms.f1(s1))\n",
    "print ('Result of strcmp is :', \n",
    "ms.f2(s1,s2))\n",
    "x = 10\n",
    "y = 5\n",
    "print (' x + y = ',add(x,y))\n",
    "print (' x - y = ',sub(x,y))\n",
    "print (' x * y = ',mult(x,y))\n",
    "print (' x / y = ',div(x,y))\n"
   ]
  },
  {
   "cell_type": "markdown",
   "id": "15c9c82c",
   "metadata": {},
   "source": [
    "## 1.Write a program that read contents of the file ‘messages’ one character at a time and prints each character that is read."
   ]
  },
  {
   "cell_type": "code",
   "execution_count": 194,
   "id": "f338f4b2",
   "metadata": {},
   "outputs": [
    {
     "ename": "FileNotFoundError",
     "evalue": "[Errno 2] No such file or directory: 'messages.py'",
     "output_type": "error",
     "traceback": [
      "\u001b[1;31m---------------------------------------------------------------------------\u001b[0m",
      "\u001b[1;31mFileNotFoundError\u001b[0m                         Traceback (most recent call last)",
      "Cell \u001b[1;32mIn[194], line 1\u001b[0m\n\u001b[1;32m----> 1\u001b[0m file \u001b[38;5;241m=\u001b[39m \u001b[38;5;28mopen\u001b[39m (\u001b[38;5;124m'\u001b[39m\u001b[38;5;124mmessages.py\u001b[39m\u001b[38;5;124m'\u001b[39m,\u001b[38;5;124m'\u001b[39m\u001b[38;5;124mr\u001b[39m\u001b[38;5;124m'\u001b[39m)\n\u001b[0;32m      2\u001b[0m \u001b[38;5;28;01mfor\u001b[39;00m char \u001b[38;5;129;01min\u001b[39;00m file\u001b[38;5;241m.\u001b[39mread():\n\u001b[0;32m      3\u001b[0m     \u001b[38;5;28mprint\u001b[39m(char)\n",
      "File \u001b[1;32m~\\.conda\\Lib\\site-packages\\IPython\\core\\interactiveshell.py:284\u001b[0m, in \u001b[0;36m_modified_open\u001b[1;34m(file, *args, **kwargs)\u001b[0m\n\u001b[0;32m    277\u001b[0m \u001b[38;5;28;01mif\u001b[39;00m file \u001b[38;5;129;01min\u001b[39;00m {\u001b[38;5;241m0\u001b[39m, \u001b[38;5;241m1\u001b[39m, \u001b[38;5;241m2\u001b[39m}:\n\u001b[0;32m    278\u001b[0m     \u001b[38;5;28;01mraise\u001b[39;00m \u001b[38;5;167;01mValueError\u001b[39;00m(\n\u001b[0;32m    279\u001b[0m         \u001b[38;5;124mf\u001b[39m\u001b[38;5;124m\"\u001b[39m\u001b[38;5;124mIPython won\u001b[39m\u001b[38;5;124m'\u001b[39m\u001b[38;5;124mt let you open fd=\u001b[39m\u001b[38;5;132;01m{\u001b[39;00mfile\u001b[38;5;132;01m}\u001b[39;00m\u001b[38;5;124m by default \u001b[39m\u001b[38;5;124m\"\u001b[39m\n\u001b[0;32m    280\u001b[0m         \u001b[38;5;124m\"\u001b[39m\u001b[38;5;124mas it is likely to crash IPython. If you know what you are doing, \u001b[39m\u001b[38;5;124m\"\u001b[39m\n\u001b[0;32m    281\u001b[0m         \u001b[38;5;124m\"\u001b[39m\u001b[38;5;124myou can use builtins\u001b[39m\u001b[38;5;124m'\u001b[39m\u001b[38;5;124m open.\u001b[39m\u001b[38;5;124m\"\u001b[39m\n\u001b[0;32m    282\u001b[0m     )\n\u001b[1;32m--> 284\u001b[0m \u001b[38;5;28;01mreturn\u001b[39;00m io_open(file, \u001b[38;5;241m*\u001b[39margs, \u001b[38;5;241m*\u001b[39m\u001b[38;5;241m*\u001b[39mkwargs)\n",
      "\u001b[1;31mFileNotFoundError\u001b[0m: [Errno 2] No such file or directory: 'messages.py'"
     ]
    }
   ],
   "source": [
    "file = open ('messages.py','r')\n",
    "for char in file.read():\n",
    "    print(char)\n",
    "file.close()"
   ]
  },
  {
   "cell_type": "markdown",
   "id": "b64aebad",
   "metadata": {},
   "source": [
    "## 2. Write a Python program that searches for a file, obtains its size and reports the size in bytes/ KB/ MB as appropriate"
   ]
  },
  {
   "cell_type": "code",
   "execution_count": 195,
   "id": "941b5f00",
   "metadata": {},
   "outputs": [
    {
     "name": "stdout",
     "output_type": "stream",
     "text": [
      "Enter a file name: messages.py\n",
      "File not found: messages.py\n"
     ]
    }
   ],
   "source": [
    "# import os module to access file system\n",
    "import os\n",
    "\n",
    "# define a function that takes a file name as an argument\n",
    "def search_and_report(file_name):\n",
    "    # try to get the file size using os.path.getsize()\n",
    "    try:\n",
    "        file_size = os.path.getsize(file_name)\n",
    "        # print the file name and size in bytes\n",
    "        print(f\"File name: {file_name}\")\n",
    "        print(f\"File size: {file_size} bytes\")\n",
    "        # convert the file size to KB and MB\n",
    "        file_size_kb = file_size / 1024\n",
    "        file_size_mb = file_size_kb / 1024\n",
    "        # print the file size in KB and MB\n",
    "        print(f\"File size: {file_size_kb:.2f} KB\")\n",
    "        print(f\"File size: {file_size_mb:.2f} MB\")\n",
    "    # if the file is not found, print an error message\n",
    "    except FileNotFoundError:\n",
    "        print(f\"File not found: {file_name}\")\n",
    "\n",
    "# ask the user to enter a file name\n",
    "file_name = input(\"Enter a file name: \")\n",
    "# call the function with the user input\n",
    "search_and_report(file_name)\n"
   ]
  },
  {
   "cell_type": "markdown",
   "id": "4f2295f5",
   "metadata": {},
   "source": [
    "## 3. Write a program to accept a filename from the user, create a file with that name(if it does not exist) and write some content into the file¶"
   ]
  },
  {
   "cell_type": "code",
   "execution_count": 196,
   "id": "ef92aee5",
   "metadata": {},
   "outputs": [
    {
     "name": "stdout",
     "output_type": "stream",
     "text": [
      "Enter a filename: up skilling\n",
      "File created successfully.\n"
     ]
    }
   ],
   "source": [
    "# ask the user for a filename\n",
    "filename = input(\"Enter a filename: \")\n",
    "\n",
    "# open the file for writing\n",
    "file = open(filename, \"w\")\n",
    "\n",
    "# write some content to the file\n",
    "file.write(\"This is a sample program.\\n\")\n",
    "file.write(\"It creates a file and writes some content to it.\\n\")\n",
    "\n",
    "# close the file\n",
    "file.close()\n",
    "\n",
    "# print a confirmation message\n",
    "print(\"File created successfully.\")"
   ]
  },
  {
   "cell_type": "markdown",
   "id": "47635137",
   "metadata": {},
   "source": [
    "## 4.write a program to read a file and display its contents along with line numbers before each line\n"
   ]
  },
  {
   "cell_type": "code",
   "execution_count": 197,
   "id": "52991e3c",
   "metadata": {},
   "outputs": [
    {
     "ename": "FileNotFoundError",
     "evalue": "[Errno 2] No such file or directory: 'week6.txt'",
     "output_type": "error",
     "traceback": [
      "\u001b[1;31m---------------------------------------------------------------------------\u001b[0m",
      "\u001b[1;31mFileNotFoundError\u001b[0m                         Traceback (most recent call last)",
      "Cell \u001b[1;32mIn[197], line 2\u001b[0m\n\u001b[0;32m      1\u001b[0m \u001b[38;5;66;03m# Open the file in read mode\u001b[39;00m\n\u001b[1;32m----> 2\u001b[0m file \u001b[38;5;241m=\u001b[39m \u001b[38;5;28mopen\u001b[39m(\u001b[38;5;124m\"\u001b[39m\u001b[38;5;124mweek6.txt\u001b[39m\u001b[38;5;124m\"\u001b[39m, \u001b[38;5;124m\"\u001b[39m\u001b[38;5;124mr\u001b[39m\u001b[38;5;124m\"\u001b[39m)\n\u001b[0;32m      4\u001b[0m \u001b[38;5;66;03m# Initialize a line number variable\u001b[39;00m\n\u001b[0;32m      5\u001b[0m line_number \u001b[38;5;241m=\u001b[39m \u001b[38;5;241m1\u001b[39m\n",
      "File \u001b[1;32m~\\.conda\\Lib\\site-packages\\IPython\\core\\interactiveshell.py:284\u001b[0m, in \u001b[0;36m_modified_open\u001b[1;34m(file, *args, **kwargs)\u001b[0m\n\u001b[0;32m    277\u001b[0m \u001b[38;5;28;01mif\u001b[39;00m file \u001b[38;5;129;01min\u001b[39;00m {\u001b[38;5;241m0\u001b[39m, \u001b[38;5;241m1\u001b[39m, \u001b[38;5;241m2\u001b[39m}:\n\u001b[0;32m    278\u001b[0m     \u001b[38;5;28;01mraise\u001b[39;00m \u001b[38;5;167;01mValueError\u001b[39;00m(\n\u001b[0;32m    279\u001b[0m         \u001b[38;5;124mf\u001b[39m\u001b[38;5;124m\"\u001b[39m\u001b[38;5;124mIPython won\u001b[39m\u001b[38;5;124m'\u001b[39m\u001b[38;5;124mt let you open fd=\u001b[39m\u001b[38;5;132;01m{\u001b[39;00mfile\u001b[38;5;132;01m}\u001b[39;00m\u001b[38;5;124m by default \u001b[39m\u001b[38;5;124m\"\u001b[39m\n\u001b[0;32m    280\u001b[0m         \u001b[38;5;124m\"\u001b[39m\u001b[38;5;124mas it is likely to crash IPython. If you know what you are doing, \u001b[39m\u001b[38;5;124m\"\u001b[39m\n\u001b[0;32m    281\u001b[0m         \u001b[38;5;124m\"\u001b[39m\u001b[38;5;124myou can use builtins\u001b[39m\u001b[38;5;124m'\u001b[39m\u001b[38;5;124m open.\u001b[39m\u001b[38;5;124m\"\u001b[39m\n\u001b[0;32m    282\u001b[0m     )\n\u001b[1;32m--> 284\u001b[0m \u001b[38;5;28;01mreturn\u001b[39;00m io_open(file, \u001b[38;5;241m*\u001b[39margs, \u001b[38;5;241m*\u001b[39m\u001b[38;5;241m*\u001b[39mkwargs)\n",
      "\u001b[1;31mFileNotFoundError\u001b[0m: [Errno 2] No such file or directory: 'week6.txt'"
     ]
    }
   ],
   "source": [
    "# Open the file in read mode\n",
    "file = open(\"week6.txt\", \"r\")\n",
    "\n",
    "# Initialize a line number variable\n",
    "line_number = 1\n",
    "\n",
    "# Loop through each line in the file\n",
    "for line in file:\n",
    "    # Print the line number and the line content\n",
    "    print(line_number, line, end=\"\")\n",
    "    # Increment the line number by one\n",
    "    line_number += 1\n",
    "\n",
    "# Close the file\n",
    "file.close()\n"
   ]
  },
  {
   "cell_type": "markdown",
   "id": "f8a570af",
   "metadata": {},
   "source": [
    "## 5. Write a program to copy the contents of one file into another"
   ]
  },
  {
   "cell_type": "code",
   "execution_count": 198,
   "id": "0e991936",
   "metadata": {},
   "outputs": [
    {
     "ename": "FileNotFoundError",
     "evalue": "[Errno 2] No such file or directory: 'week6.txt'",
     "output_type": "error",
     "traceback": [
      "\u001b[1;31m---------------------------------------------------------------------------\u001b[0m",
      "\u001b[1;31mFileNotFoundError\u001b[0m                         Traceback (most recent call last)",
      "Cell \u001b[1;32mIn[198], line 2\u001b[0m\n\u001b[0;32m      1\u001b[0m \u001b[38;5;66;03m# Open the source file in read mode\u001b[39;00m\n\u001b[1;32m----> 2\u001b[0m \u001b[38;5;28;01mwith\u001b[39;00m \u001b[38;5;28mopen\u001b[39m(\u001b[38;5;124m\"\u001b[39m\u001b[38;5;124mweek6.txt\u001b[39m\u001b[38;5;124m\"\u001b[39m, \u001b[38;5;124m\"\u001b[39m\u001b[38;5;124mr\u001b[39m\u001b[38;5;124m\"\u001b[39m) \u001b[38;5;28;01mas\u001b[39;00m source:\n\u001b[0;32m      3\u001b[0m     \u001b[38;5;66;03m# Open the destination file in write mode\u001b[39;00m\n\u001b[0;32m      4\u001b[0m     \u001b[38;5;28;01mwith\u001b[39;00m \u001b[38;5;28mopen\u001b[39m(\u001b[38;5;124m\"\u001b[39m\u001b[38;5;124mdestination.txt\u001b[39m\u001b[38;5;124m\"\u001b[39m, \u001b[38;5;124m\"\u001b[39m\u001b[38;5;124mw\u001b[39m\u001b[38;5;124m\"\u001b[39m) \u001b[38;5;28;01mas\u001b[39;00m destination:\n\u001b[0;32m      5\u001b[0m         \u001b[38;5;66;03m# Loop through each line in the source file\u001b[39;00m\n\u001b[0;32m      6\u001b[0m         \u001b[38;5;28;01mfor\u001b[39;00m line \u001b[38;5;129;01min\u001b[39;00m source:\n\u001b[0;32m      7\u001b[0m             \u001b[38;5;66;03m# Write the line to the destination file\u001b[39;00m\n",
      "File \u001b[1;32m~\\.conda\\Lib\\site-packages\\IPython\\core\\interactiveshell.py:284\u001b[0m, in \u001b[0;36m_modified_open\u001b[1;34m(file, *args, **kwargs)\u001b[0m\n\u001b[0;32m    277\u001b[0m \u001b[38;5;28;01mif\u001b[39;00m file \u001b[38;5;129;01min\u001b[39;00m {\u001b[38;5;241m0\u001b[39m, \u001b[38;5;241m1\u001b[39m, \u001b[38;5;241m2\u001b[39m}:\n\u001b[0;32m    278\u001b[0m     \u001b[38;5;28;01mraise\u001b[39;00m \u001b[38;5;167;01mValueError\u001b[39;00m(\n\u001b[0;32m    279\u001b[0m         \u001b[38;5;124mf\u001b[39m\u001b[38;5;124m\"\u001b[39m\u001b[38;5;124mIPython won\u001b[39m\u001b[38;5;124m'\u001b[39m\u001b[38;5;124mt let you open fd=\u001b[39m\u001b[38;5;132;01m{\u001b[39;00mfile\u001b[38;5;132;01m}\u001b[39;00m\u001b[38;5;124m by default \u001b[39m\u001b[38;5;124m\"\u001b[39m\n\u001b[0;32m    280\u001b[0m         \u001b[38;5;124m\"\u001b[39m\u001b[38;5;124mas it is likely to crash IPython. If you know what you are doing, \u001b[39m\u001b[38;5;124m\"\u001b[39m\n\u001b[0;32m    281\u001b[0m         \u001b[38;5;124m\"\u001b[39m\u001b[38;5;124myou can use builtins\u001b[39m\u001b[38;5;124m'\u001b[39m\u001b[38;5;124m open.\u001b[39m\u001b[38;5;124m\"\u001b[39m\n\u001b[0;32m    282\u001b[0m     )\n\u001b[1;32m--> 284\u001b[0m \u001b[38;5;28;01mreturn\u001b[39;00m io_open(file, \u001b[38;5;241m*\u001b[39margs, \u001b[38;5;241m*\u001b[39m\u001b[38;5;241m*\u001b[39mkwargs)\n",
      "\u001b[1;31mFileNotFoundError\u001b[0m: [Errno 2] No such file or directory: 'week6.txt'"
     ]
    }
   ],
   "source": [
    "# Open the source file in read mode\n",
    "with open(\"week6.txt\", \"r\") as source:\n",
    "    # Open the destination file in write mode\n",
    "    with open(\"destination.txt\", \"w\") as destination:\n",
    "        # Loop through each line in the source file\n",
    "        for line in source:\n",
    "            # Write the line to the destination file\n",
    "            destination.write(line)"
   ]
  },
  {
   "cell_type": "markdown",
   "id": "a7b07ed9",
   "metadata": {},
   "source": [
    "## 6.Write a program to append the contents of one file into another"
   ]
  },
  {
   "cell_type": "code",
   "execution_count": 199,
   "id": "3e55d8d4",
   "metadata": {},
   "outputs": [
    {
     "ename": "FileNotFoundError",
     "evalue": "[Errno 2] No such file or directory: 'week6.txt'",
     "output_type": "error",
     "traceback": [
      "\u001b[1;31m---------------------------------------------------------------------------\u001b[0m",
      "\u001b[1;31mFileNotFoundError\u001b[0m                         Traceback (most recent call last)",
      "Cell \u001b[1;32mIn[199], line 2\u001b[0m\n\u001b[0;32m      1\u001b[0m \u001b[38;5;66;03m# Open the source file in read mode\u001b[39;00m\n\u001b[1;32m----> 2\u001b[0m source_file \u001b[38;5;241m=\u001b[39m \u001b[38;5;28mopen\u001b[39m(\u001b[38;5;124m\"\u001b[39m\u001b[38;5;124mweek6.txt\u001b[39m\u001b[38;5;124m\"\u001b[39m, \u001b[38;5;124m\"\u001b[39m\u001b[38;5;124mr\u001b[39m\u001b[38;5;124m\"\u001b[39m)\n\u001b[0;32m      3\u001b[0m \u001b[38;5;66;03m# Read the contents of the source file\u001b[39;00m\n\u001b[0;32m      4\u001b[0m source_data \u001b[38;5;241m=\u001b[39m source_file\u001b[38;5;241m.\u001b[39mread()\n",
      "File \u001b[1;32m~\\.conda\\Lib\\site-packages\\IPython\\core\\interactiveshell.py:284\u001b[0m, in \u001b[0;36m_modified_open\u001b[1;34m(file, *args, **kwargs)\u001b[0m\n\u001b[0;32m    277\u001b[0m \u001b[38;5;28;01mif\u001b[39;00m file \u001b[38;5;129;01min\u001b[39;00m {\u001b[38;5;241m0\u001b[39m, \u001b[38;5;241m1\u001b[39m, \u001b[38;5;241m2\u001b[39m}:\n\u001b[0;32m    278\u001b[0m     \u001b[38;5;28;01mraise\u001b[39;00m \u001b[38;5;167;01mValueError\u001b[39;00m(\n\u001b[0;32m    279\u001b[0m         \u001b[38;5;124mf\u001b[39m\u001b[38;5;124m\"\u001b[39m\u001b[38;5;124mIPython won\u001b[39m\u001b[38;5;124m'\u001b[39m\u001b[38;5;124mt let you open fd=\u001b[39m\u001b[38;5;132;01m{\u001b[39;00mfile\u001b[38;5;132;01m}\u001b[39;00m\u001b[38;5;124m by default \u001b[39m\u001b[38;5;124m\"\u001b[39m\n\u001b[0;32m    280\u001b[0m         \u001b[38;5;124m\"\u001b[39m\u001b[38;5;124mas it is likely to crash IPython. If you know what you are doing, \u001b[39m\u001b[38;5;124m\"\u001b[39m\n\u001b[0;32m    281\u001b[0m         \u001b[38;5;124m\"\u001b[39m\u001b[38;5;124myou can use builtins\u001b[39m\u001b[38;5;124m'\u001b[39m\u001b[38;5;124m open.\u001b[39m\u001b[38;5;124m\"\u001b[39m\n\u001b[0;32m    282\u001b[0m     )\n\u001b[1;32m--> 284\u001b[0m \u001b[38;5;28;01mreturn\u001b[39;00m io_open(file, \u001b[38;5;241m*\u001b[39margs, \u001b[38;5;241m*\u001b[39m\u001b[38;5;241m*\u001b[39mkwargs)\n",
      "\u001b[1;31mFileNotFoundError\u001b[0m: [Errno 2] No such file or directory: 'week6.txt'"
     ]
    }
   ],
   "source": [
    "# Open the source file in read mode\n",
    "source_file = open(\"week6.txt\", \"r\")\n",
    "# Read the contents of the source file\n",
    "source_data = source_file.read()\n",
    "# Close the source file\n",
    "source_file.close()\n",
    "\n",
    "# Open the target file in append mode\n",
    "target_file = open(\"target.txt\", \"a\")\n",
    "# Write the contents of the source file to the target file\n",
    "target_file.write(source_data*2)\n",
    "# Close the target file\n",
    "target_file.close()"
   ]
  },
  {
   "cell_type": "markdown",
   "id": "b1135352",
   "metadata": {},
   "source": [
    "## 7. Suppose a file contains student records, with each record containing name and age of student. Write a program to read these records and display them in sorted order by name"
   ]
  },
  {
   "cell_type": "code",
   "execution_count": 201,
   "id": "a97685bf",
   "metadata": {},
   "outputs": [
    {
     "name": "stdout",
     "output_type": "stream",
     "text": [
      "[{'name': 'finicial assist', 'age': 19}, {'name': 'mentor', 'age': 18}, {'name': 'relationship manager', 'age': 45}, {'name': 'skill-lync', 'age': 20}, {'name': 'upendra', 'age': 18}]\n"
     ]
    }
   ],
   "source": [
    "# Define a function to sort records by name\n",
    "def sort_by_name(records):\n",
    "    # Use the sorted() function with a key argument\n",
    "    # The key argument is a lambda function that returns the name of each record\n",
    "    # The sorted() function returns a new list of records in alphabetical order by name\n",
    "    return sorted(records, key=lambda record: record[\"name\"])\n",
    "\n",
    "# Define a list of records as an example\n",
    "records = [\n",
    "    {\"name\": \"upendra\", \"age\": 18},\n",
    "    {\"name\": \"skill-lync\", \"age\": 20},\n",
    "    {\"name\": \"finicial assist\", \"age\": 19},\n",
    "    {\"name\": \"relationship manager\", \"age\": 45},\n",
    "    {\"name\": \"mentor\", \"age\": 18}\n",
    "]\n",
    "\n",
    "# Call the sort_by_name function and print the result\n",
    "sorted_records = sort_by_name(records)\n",
    "print(sorted_records)"
   ]
  },
  {
   "cell_type": "markdown",
   "id": "f65f0672",
   "metadata": {},
   "source": [
    "## 8.Suppose there are three modules m1.py, m2.py and m3.py containing functions f1(), f2() and f3() respectively. Write a program to use these functions"
   ]
  },
  {
   "cell_type": "code",
   "execution_count": 202,
   "id": "6e256138",
   "metadata": {},
   "outputs": [
    {
     "ename": "ModuleNotFoundError",
     "evalue": "No module named 'm1'",
     "output_type": "error",
     "traceback": [
      "\u001b[1;31m---------------------------------------------------------------------------\u001b[0m",
      "\u001b[1;31mModuleNotFoundError\u001b[0m                       Traceback (most recent call last)",
      "Cell \u001b[1;32mIn[202], line 1\u001b[0m\n\u001b[1;32m----> 1\u001b[0m \u001b[38;5;28;01mimport\u001b[39;00m \u001b[38;5;21;01mm1\u001b[39;00m\n\u001b[0;32m      2\u001b[0m result1 \u001b[38;5;241m=\u001b[39m m1\u001b[38;5;241m.\u001b[39mf1(\u001b[38;5;241m10\u001b[39m, \u001b[38;5;241m20\u001b[39m)\n\u001b[0;32m      3\u001b[0m \u001b[38;5;28mprint\u001b[39m(result1)\n",
      "\u001b[1;31mModuleNotFoundError\u001b[0m: No module named 'm1'"
     ]
    }
   ],
   "source": [
    "import m1\n",
    "result1 = m1.f1(10, 20)\n",
    "print(result1)"
   ]
  },
  {
   "cell_type": "code",
   "execution_count": 203,
   "id": "2f216a84",
   "metadata": {},
   "outputs": [
    {
     "ename": "ModuleNotFoundError",
     "evalue": "No module named 'm2'",
     "output_type": "error",
     "traceback": [
      "\u001b[1;31m---------------------------------------------------------------------------\u001b[0m",
      "\u001b[1;31mModuleNotFoundError\u001b[0m                       Traceback (most recent call last)",
      "Cell \u001b[1;32mIn[203], line 1\u001b[0m\n\u001b[1;32m----> 1\u001b[0m \u001b[38;5;28;01mimport\u001b[39;00m \u001b[38;5;21;01mm2\u001b[39;00m\n\u001b[0;32m      2\u001b[0m result2 \u001b[38;5;241m=\u001b[39m m2\u001b[38;5;241m.\u001b[39mf2(\u001b[38;5;241m15\u001b[39m, \u001b[38;5;241m20\u001b[39m)\n\u001b[0;32m      3\u001b[0m \u001b[38;5;28mprint\u001b[39m(result2)\n",
      "\u001b[1;31mModuleNotFoundError\u001b[0m: No module named 'm2'"
     ]
    }
   ],
   "source": [
    "import m2\n",
    "result2 = m2.f2(15, 20)\n",
    "print(result2)"
   ]
  },
  {
   "cell_type": "code",
   "execution_count": 204,
   "id": "c631aeb5",
   "metadata": {},
   "outputs": [
    {
     "ename": "ModuleNotFoundError",
     "evalue": "No module named 'm3'",
     "output_type": "error",
     "traceback": [
      "\u001b[1;31m---------------------------------------------------------------------------\u001b[0m",
      "\u001b[1;31mModuleNotFoundError\u001b[0m                       Traceback (most recent call last)",
      "Cell \u001b[1;32mIn[204], line 1\u001b[0m\n\u001b[1;32m----> 1\u001b[0m \u001b[38;5;28;01mimport\u001b[39;00m \u001b[38;5;21;01mm3\u001b[39;00m\n\u001b[0;32m      2\u001b[0m result3\u001b[38;5;241m=\u001b[39m m3\u001b[38;5;241m.\u001b[39mf3(\u001b[38;5;241m15\u001b[39m, \u001b[38;5;241m20\u001b[39m)\n\u001b[0;32m      3\u001b[0m \u001b[38;5;28mprint\u001b[39m(result3)\n",
      "\u001b[1;31mModuleNotFoundError\u001b[0m: No module named 'm3'"
     ]
    }
   ],
   "source": [
    "import m3\n",
    "result3= m3.f3(15, 20)\n",
    "print(result3)"
   ]
  },
  {
   "cell_type": "markdown",
   "id": "8240d6a1",
   "metadata": {},
   "source": [
    "## 9.Write a program containing functions fun1(), fun2() and fun3() and some statements. Add suitable code to the program such that you can use it as a module or a normal program"
   ]
  },
  {
   "cell_type": "code",
   "execution_count": 205,
   "id": "6aad0555",
   "metadata": {},
   "outputs": [
    {
     "name": "stdout",
     "output_type": "stream",
     "text": [
      "The value of c is 3022\n",
      "This module is run directly\n",
      "This is fun1\n",
      "This is fun2\n",
      "This is fun3\n"
     ]
    }
   ],
   "source": [
    "# define functions fun1, fun2 and fun3\n",
    "def fun1():\n",
    "    print(\"This is fun1\")\n",
    "\n",
    "def fun2():\n",
    "    print(\"This is fun2\")\n",
    "\n",
    "def fun3():\n",
    "    print(\"This is fun3\")\n",
    "\n",
    "# define some statements\n",
    "a = 1011\n",
    "b = 2011\n",
    "c = a + b\n",
    "print(\"The value of c is\", c)\n",
    "\n",
    "# check the value of __name__\n",
    "if __name__ == \"__main__\":\n",
    "    # this code block will run only when the module is run directly\n",
    "    print(\"This module is run directly\")\n",
    "    fun1()\n",
    "    fun2()\n",
    "    fun3()\n",
    "else:\n",
    "    # this code block will run only when the module is imported by another program\n",
    "    print(\"This module is imported by another program\")"
   ]
  },
  {
   "cell_type": "markdown",
   "id": "ec20df2c",
   "metadata": {},
   "source": [
    "## 10 Suppose a module called mod.py contains functions f1(), f2() and f3(). Write three forms of import statements to use these functions in your program"
   ]
  },
  {
   "cell_type": "code",
   "execution_count": 206,
   "id": "f5dbff9a",
   "metadata": {},
   "outputs": [
    {
     "ename": "ModuleNotFoundError",
     "evalue": "No module named 'mod'",
     "output_type": "error",
     "traceback": [
      "\u001b[1;31m---------------------------------------------------------------------------\u001b[0m",
      "\u001b[1;31mModuleNotFoundError\u001b[0m                       Traceback (most recent call last)",
      "Cell \u001b[1;32mIn[206], line 1\u001b[0m\n\u001b[1;32m----> 1\u001b[0m \u001b[38;5;28;01mimport\u001b[39;00m \u001b[38;5;21;01mmod\u001b[39;00m\n\u001b[0;32m      2\u001b[0m mod\u001b[38;5;241m.\u001b[39mf1(\u001b[38;5;241m2\u001b[39m,\u001b[38;5;241m5\u001b[39m)\n\u001b[0;32m      3\u001b[0m mod\u001b[38;5;241m.\u001b[39mf2(\u001b[38;5;241m25\u001b[39m,\u001b[38;5;241m10\u001b[39m)\n",
      "\u001b[1;31mModuleNotFoundError\u001b[0m: No module named 'mod'"
     ]
    }
   ],
   "source": [
    "import mod\n",
    "mod.f1(2,5)\n",
    "mod.f2(25,10)\n",
    "mod.f3(55,50)\n",
    "print(mod.f1(2,5),mod.f2(25,10),mod.f3(55,50))"
   ]
  },
  {
   "cell_type": "code",
   "execution_count": 207,
   "id": "9afe1949",
   "metadata": {},
   "outputs": [
    {
     "ename": "ModuleNotFoundError",
     "evalue": "No module named 'mod'",
     "output_type": "error",
     "traceback": [
      "\u001b[1;31m---------------------------------------------------------------------------\u001b[0m",
      "\u001b[1;31mModuleNotFoundError\u001b[0m                       Traceback (most recent call last)",
      "Cell \u001b[1;32mIn[207], line 1\u001b[0m\n\u001b[1;32m----> 1\u001b[0m \u001b[38;5;28;01mfrom\u001b[39;00m \u001b[38;5;21;01mmod\u001b[39;00m \u001b[38;5;28;01mimport\u001b[39;00m f1, f2, f3\n\u001b[0;32m      3\u001b[0m \u001b[38;5;28mprint\u001b[39m(f1(\u001b[38;5;241m2\u001b[39m,\u001b[38;5;241m5\u001b[39m),f2(\u001b[38;5;241m25\u001b[39m,\u001b[38;5;241m10\u001b[39m),f3(\u001b[38;5;241m55\u001b[39m,\u001b[38;5;241m50\u001b[39m))\n",
      "\u001b[1;31mModuleNotFoundError\u001b[0m: No module named 'mod'"
     ]
    }
   ],
   "source": [
    "from mod import f1, f2, f3\n",
    "\n",
    "print(f1(2,5),f2(25,10),f3(55,50))"
   ]
  },
  {
   "cell_type": "code",
   "execution_count": 208,
   "id": "863c451d",
   "metadata": {},
   "outputs": [
    {
     "ename": "ModuleNotFoundError",
     "evalue": "No module named 'mod'",
     "output_type": "error",
     "traceback": [
      "\u001b[1;31m---------------------------------------------------------------------------\u001b[0m",
      "\u001b[1;31mModuleNotFoundError\u001b[0m                       Traceback (most recent call last)",
      "Cell \u001b[1;32mIn[208], line 1\u001b[0m\n\u001b[1;32m----> 1\u001b[0m \u001b[38;5;28;01mimport\u001b[39;00m \u001b[38;5;21;01mmod\u001b[39;00m \u001b[38;5;28;01mas\u001b[39;00m \u001b[38;5;21;01mm\u001b[39;00m\n\u001b[0;32m      2\u001b[0m \u001b[38;5;28mprint\u001b[39m(m\u001b[38;5;241m.\u001b[39mf1(\u001b[38;5;241m2\u001b[39m,\u001b[38;5;241m5\u001b[39m),m\u001b[38;5;241m.\u001b[39mf2(\u001b[38;5;241m25\u001b[39m,\u001b[38;5;241m10\u001b[39m),m\u001b[38;5;241m.\u001b[39mf3(\u001b[38;5;241m55\u001b[39m,\u001b[38;5;241m50\u001b[39m))\n",
      "\u001b[1;31mModuleNotFoundError\u001b[0m: No module named 'mod'"
     ]
    }
   ],
   "source": [
    "import mod as m\n",
    "print(m.f1(2,5),m.f2(25,10),m.f3(55,50))"
   ]
  },
  {
   "cell_type": "markdown",
   "id": "5a74443f",
   "metadata": {},
   "source": [
    "# WEEK7_SESSION 02-04-2024"
   ]
  },
  {
   "cell_type": "markdown",
   "id": "ba47ccdd",
   "metadata": {},
   "source": [
    "# Object Oriented Programming Classes and Objects\n"
   ]
  },
  {
   "cell_type": "markdown",
   "id": "2a104c49",
   "metadata": {},
   "source": [
    "## Topics"
   ]
  },
  {
   "cell_type": "raw",
   "id": "18954517",
   "metadata": {},
   "source": [
    "1.Introduction to Object Oriented Programming\n",
    "2.Operator Overloading\n",
    "3.Code Reuse\n",
    "4.Containership\n",
    "5.Class Inheritance\n",
    "6.Method Overriding\n"
   ]
  },
  {
   "cell_type": "markdown",
   "id": "7f407087",
   "metadata": {},
   "source": [
    "# 1.Introduction to Object Oriented Programming\n"
   ]
  },
  {
   "cell_type": "raw",
   "id": "63241230",
   "metadata": {},
   "source": [
    "Object-oriented programming (OOP) is a method of structuring a program by bundling related properties and behaviors into individual objects\n",
    "Object Oriented Programming (OOP) provides an approach to structuring programs / applications so that the data, and operations performed on that data, are bundled together into classes and accessed via objects.\n",
    "A class contains data and methods that can access or manipulate this data. \n",
    "A class lets us bundle data and functionality together. This property is called data encapsulation.\n",
    "All instances/objects of a class possess the same data variables but contain their own data values. \n"
   ]
  },
  {
   "cell_type": "markdown",
   "id": "39d39104",
   "metadata": {},
   "source": [
    "## OOP Terminology"
   ]
  },
  {
   "cell_type": "raw",
   "id": "98f95810",
   "metadata": {},
   "source": [
    "Class: A class acts as a template when creating new instances.\n",
    "Instance or object: An object is an instance of a class.\n",
    "Attribute/data member: The data held by an object is represented by its attributes. The “state” of an object at any particular moment relates to the current values held by its attributes.\n",
    "Method: A method is a procedure defined within an object.\n",
    "Message: A message is sent to an object requesting some operation to be performed or some attribute to be accessed.\n"
   ]
  },
  {
   "cell_type": "markdown",
   "id": "6c3b8da5",
   "metadata": {},
   "source": [
    "## Public and Private Members"
   ]
  },
  {
   "cell_type": "raw",
   "id": "e2aff488",
   "metadata": {},
   "source": [
    "Public members of a class (data and methods) are accessible from outside the class.\n",
    "Private members by convention start with an underscore, as in _name, _salary, _age.\n",
    "It is a good practice (also called the data abstraction property) to keep data in a class private and inaccessible from outside the class \n"
   ]
  },
  {
   "cell_type": "markdown",
   "id": "38d14ed1",
   "metadata": {},
   "source": [
    "## Class Example"
   ]
  },
  {
   "cell_type": "code",
   "execution_count": 209,
   "id": "4cdf4894",
   "metadata": {},
   "outputs": [],
   "source": [
    "class Employee:\n",
    "    def set_data(self,n,a,s):\n",
    "        self._name = n\n",
    "        self._age = a\n",
    "        self._salary = s\n",
    "    def display_data(self):\n",
    "        print('Name : ',self._name,' Age : ',self._age,' Salary : ',self._salary)"
   ]
  },
  {
   "cell_type": "code",
   "execution_count": 210,
   "id": "249a7bcb",
   "metadata": {},
   "outputs": [
    {
     "data": {
      "text/plain": [
       "<__main__.Employee at 0x220b3114510>"
      ]
     },
     "execution_count": 210,
     "metadata": {},
     "output_type": "execute_result"
    }
   ],
   "source": [
    " Employee()"
   ]
  },
  {
   "cell_type": "markdown",
   "id": "3c52b825",
   "metadata": {},
   "source": [
    "## Example of Objects"
   ]
  },
  {
   "cell_type": "code",
   "execution_count": 212,
   "id": "42088e44",
   "metadata": {},
   "outputs": [
    {
     "name": "stdout",
     "output_type": "stream",
     "text": [
      "Name :  Ramesh  Age :  25  Salary :  15000\n",
      "Name :  Suresh  Age :  24  Salary :  13000\n"
     ]
    }
   ],
   "source": [
    "e1 = Employee()\n",
    "e1.set_data('Ramesh',25,'15000')\n",
    "e2 = Employee()\n",
    "e2.set_data('Suresh',24,'13000')\n",
    "e1.display_data()\n",
    "e2.display_data()\n"
   ]
  },
  {
   "cell_type": "markdown",
   "id": "3fcdb17e",
   "metadata": {},
   "source": [
    "## Employee Class"
   ]
  },
  {
   "cell_type": "raw",
   "id": "97f794bc",
   "metadata": {},
   "source": [
    "The Employee class contains three private data members _name, _age and _salary. It contains two public methods set_data() and display_data()\n",
    "e1 = Employee() creates an object and assigns its address to e1\n",
    "Methods of a class can be called using the syntax: object.method()\n",
    "Whenever a method is called, the address of the object is passed to the method and is stored in the self variable. \n"
   ]
  },
  {
   "cell_type": "markdown",
   "id": "424d9fbf",
   "metadata": {},
   "source": [
    "## Object Initialization and Destruction"
   ]
  },
  {
   "cell_type": "raw",
   "id": "d9e6e46e",
   "metadata": {},
   "source": [
    "There are two ways to initialize an object:\n",
    " Using methods like get_data() / set_data()\n",
    "Using special member function called __init__()\n",
    "__init__(): When an object is created, space is allocated in memory and __init__() is called. It does not return any value and is called only once during the lifetime of the object.\n",
    "If __init__() is not defined, then Python provides a default __init__() method.\n",
    "The __del__() method gets automatically called when an object goes out of scope. \n"
   ]
  },
  {
   "cell_type": "markdown",
   "id": "456fc172",
   "metadata": {},
   "source": [
    "### Example of __init__() and __del__()"
   ]
  },
  {
   "cell_type": "code",
   "execution_count": 215,
   "id": "1774df3a",
   "metadata": {},
   "outputs": [],
   "source": [
    "class Employee:\n",
    "    \"\"\" An Employee class to create and manipulate Employee objects\"\"\"\n",
    "    def __init__(self,n='',a=0,s=0.0):\n",
    "        self._name = n\n",
    "        self._age = a\n",
    "        self._salary = s\n",
    "    def set_data(self,n,a,s):\n",
    "        self._name = n\n",
    "        self._age = a\n",
    "        self._salary = s\n",
    "def display_data(self):\n",
    "    print('Name : ',self._name,' Age : ',self._age,' Salary : ',self._salary)\n",
    "    def __del__(self):\n",
    "        print('Deleting the object'+str(self))\n"
   ]
  },
  {
   "cell_type": "code",
   "execution_count": 216,
   "id": "25e19797",
   "metadata": {},
   "outputs": [
    {
     "data": {
      "text/plain": [
       "<__main__.Employee at 0x220b304ded0>"
      ]
     },
     "execution_count": 216,
     "metadata": {},
     "output_type": "execute_result"
    }
   ],
   "source": [
    " Employee()"
   ]
  },
  {
   "cell_type": "markdown",
   "id": "296ba0d3",
   "metadata": {},
   "source": [
    "### Class variables"
   ]
  },
  {
   "cell_type": "raw",
   "id": "e657e303",
   "metadata": {},
   "source": [
    "A variable which is shared among all the objects of a class is called the class variable or class attribute\n",
    "To declare a class variable, we have to create a variable without qualifying it with self.\n",
    "Class variables are accessed using the syntax: classname.attribute\n",
    "Similarly, class methods do not receive the self argument\n",
    "Class methods can be accessed using the syntax: classname.methodname()\n"
   ]
  },
  {
   "cell_type": "markdown",
   "id": "e92a9730",
   "metadata": {},
   "source": [
    "## Class Methods"
   ]
  },
  {
   "cell_type": "raw",
   "id": "e59cd09a",
   "metadata": {},
   "source": [
    "It is also possible to define behavior that is linked to the class rather than an individual object; this behavior is defined in a class method.\n",
    "Class methods are written in a similar manner to any other method but are decorated with @classmethod and take a first parameter which represents the class rather than an individual instance. \n",
    "This decoration is written before the method declaration.\n"
   ]
  },
  {
   "cell_type": "markdown",
   "id": "d3f405bf",
   "metadata": {},
   "source": [
    "## vars() and dir() Functions"
   ]
  },
  {
   "cell_type": "raw",
   "id": "b9ba315e",
   "metadata": {},
   "source": [
    "vars() and dir() are two useful global functions.\n",
    "vars() returns a dictionary of attributes and their values\n",
    "dir() returns a list of attributes\n",
    "Syntax: \n",
    "\t\tvars() / vars(module/class/object)\n",
    "\t\tdir() / dir(module/class/object)\n"
   ]
  },
  {
   "cell_type": "markdown",
   "id": "91497685",
   "metadata": {},
   "source": [
    "## Identifier Naming Conventions"
   ]
  },
  {
   "cell_type": "code",
   "execution_count": null,
   "id": "bc4834b7",
   "metadata": {},
   "outputs": [],
   "source": [
    "Class names start with uppercase letter\n",
    "All other identifiers start with a lowercase letter\n",
    "Private identifiers start with underscore\n",
    "Strongly private identifier starts with double underscore\n",
    "Methods with such names indicate that they must not be overridden; they will be accessed from inside their own class.\n",
    "Language defined special names start and end with double underscore\n"
   ]
  },
  {
   "cell_type": "markdown",
   "id": "e31cc6e1",
   "metadata": {},
   "source": [
    "# 2.Operator Overloading\n"
   ]
  },
  {
   "cell_type": "raw",
   "id": "0d81169a",
   "metadata": {},
   "source": [
    "Operator overloading allows user defined classes to appear to have a natural way of using operators such as +, −, <, > or == as well as logical operators such as & (and) and | (or).\n",
    "This leads to more succinct and readable code.\n",
    "To implement operators such as '+' in a user defined class it is necessary to implement specific methods that are then mapped to the arithmetic or logical operators used by users of the class.\n",
    "These methods are considered special in that they start with and end with a double underscore ('__').\n"
   ]
  },
  {
   "cell_type": "markdown",
   "id": "6de3edbd",
   "metadata": {},
   "source": [
    "## Implementing Operator Overloading"
   ]
  },
  {
   "cell_type": "raw",
   "id": "ab31bcfd",
   "metadata": {},
   "source": [
    "To implement the '+' and '−' operators we need to provide two special methods.\n",
    "'+' operator is implemented by a method with the signature def __add__(self, other):\n",
    "'−' operator is implemented by a method with the signature def __sub__(self, other):\n",
    "Where other represents another Quantity or other suitable type which will be either added to, or subtracted from, the current Quantity object.\n"
   ]
  },
  {
   "cell_type": "markdown",
   "id": "82367a80",
   "metadata": {},
   "source": [
    "## Operator Overloading Example"
   ]
  },
  {
   "cell_type": "code",
   "execution_count": 217,
   "id": "61662a74",
   "metadata": {},
   "outputs": [
    {
     "name": "stdout",
     "output_type": "stream",
     "text": [
      "q1 =  12  q2 =  10\n",
      "q3 =  22\n",
      "q4 =  2\n"
     ]
    }
   ],
   "source": [
    "class Quantity:\n",
    "    def __init__(self, v=0):\n",
    "        self._value = v\n",
    "    def __add__(self, other):\n",
    "        new_value = self._value + other._value\n",
    "        return Quantity(new_value)\n",
    "    def __sub__(self, other):\n",
    "        new_value = self._value - other._value\n",
    "        return Quantity(new_value)\n",
    "    def __str__(self):\n",
    "        return str(self._value) \n",
    "q1 = Quantity(12)\n",
    "q2 = Quantity(10)\n",
    "q3 = Quantity()\n",
    "print('q1 = ',q1,' q2 = ',q2)\n",
    "q3 = q1 + q2\n",
    "print('q3 = ',q3)\n",
    "q4 = q1 - q2\n",
    "print('q4 = ',q4)\n"
   ]
  },
  {
   "cell_type": "raw",
   "id": "4311f85d",
   "metadata": {},
   "source": [
    "Arithmetic Operators:\n",
    "__add__(self, other): Implements behavior for the addition operation (+).\n",
    "__sub__(self, other): Implements behavior for subtraction (-).\n",
    "__mul__(self, other): Implements behavior for multiplication (*).\n",
    "__floordiv__(self, other): Implements behavior for floor division (//).\n",
    "__div__(self, other): Implements behavior for division (/).\n",
    "__truediv__(self, other): Implements behavior for true division (/).\n",
    "__mod__(self, other): Implements behavior for the modulo operation (%).\n",
    "__divmod__(self, other): Implements behavior for the divmod() function.\n",
    "__pow__(self, other): Implements behavior for exponentiation (**).\n",
    "Comparison Operator Methods:\n",
    "__eq__(self, other): Defines behavior for the equality operator (==).\n",
    "__ne__(self, other): Defines behavior for the inequality operator (!=).\n",
    "__lt__(self, other): Defines behavior for the less-than operator (<).\n",
    "__gt__(self, other): Defines behavior for the greater-than operator (>).\n",
    "__le__(self, other): Defines behavior for the less-than-or-equal-to operator (<=).\n",
    "__ge__(self, other): Defines behavior for the greater-than-or-equal-to operator (>=).\n",
    "String Magic Methods:\n",
    "__str__(self): Defines behavior for the str() function (human-readable representation).\n",
    "__repr__(self): Defines behavior for the repr() function (machine-readable representation).\n",
    "__unicode__(self): Returns a Unicode string representation.\n",
    "__format__(self, formatstr): Returns a new-style formatted string.\n",
    "__hash__(self): Returns an integer used for quick key comparison in dictionaries"
   ]
  },
  {
   "cell_type": "markdown",
   "id": "981c25ee",
   "metadata": {},
   "source": [
    "# 3.Code Reuse\n"
   ]
  },
  {
   "cell_type": "raw",
   "id": "b44674e4",
   "metadata": {},
   "source": [
    "Instead of reinventing the same code that is already available, it is more efficient to reuse existing code\n",
    "Python permits two types of code reuse mechanisms:\n",
    "Containership\n",
    "Inheritance\n",
    "In both the mechanisms, we can reuse existing classes and create new enhance classes based on them.\n",
    "Containership is used when two classes have ‘has a’ relationship. Inheritance is used when two classes have ‘is a’ relationship\n"
   ]
  },
  {
   "cell_type": "markdown",
   "id": "b7d5302f",
   "metadata": {},
   "source": [
    "# 4.Containership\n"
   ]
  },
  {
   "cell_type": "raw",
   "id": "5f3974c4",
   "metadata": {},
   "source": [
    "Containership is also known as composition. \n",
    "A container can contain one or more contained objects apart from other data.\n",
    "For example, consider two classes Employee and Department\n",
    "The Employee class contains an object of the Department class. The Employee class is the container for the Department class object.\n",
    "This corresponds to the real world semantics, where we say an Employee has an associated department.\n"
   ]
  },
  {
   "cell_type": "code",
   "execution_count": 218,
   "id": "fb16b63e",
   "metadata": {},
   "outputs": [],
   "source": [
    "class Department:\n",
    "    def set_department(self):\n",
    "        self._id = input('Enter department id :')\n",
    "        self._name = input('Enter department name : ')\n",
    "    def display_department(self):\n",
    "        print('Department ID : ',self._id)\n",
    "        print('Department Name : ',self._name)\n"
   ]
  },
  {
   "cell_type": "raw",
   "id": "322bf397",
   "metadata": {},
   "source": [
    "Containership - Has a relationship\n",
    "class Book depends on class Chapter\n",
    "Book - Chapter \n",
    "Inheritance - Is a  Relationship \n",
    "class Parents  and class child \n",
    "we can say whatever properties parents have will come in child also\n",
    "\n"
   ]
  },
  {
   "cell_type": "code",
   "execution_count": 219,
   "id": "08972131",
   "metadata": {},
   "outputs": [
    {
     "name": "stdout",
     "output_type": "stream",
     "text": [
      "Enter employee id : 1\n",
      "Enter employee name : visva\n",
      "Enter department id :2\n",
      "Enter department name : mech\n",
      "------------------------------\n",
      "Employee ID :  1\n",
      "Employee Name :  visva\n",
      "Department ID :  2\n",
      "Department Name :  mech\n"
     ]
    }
   ],
   "source": [
    "class Employee:\n",
    "    def set_employee(self):\n",
    "        self._eid = input('Enter employee id : ')\n",
    "        self._ename = input('Enter employee name : ')\n",
    "        self._dept = Department()\n",
    "        self._dept.set_department()\n",
    "    def display_employee(self):\n",
    "        print('Employee ID : ',self._eid)\n",
    "        print('Employee Name : ',self._ename)\n",
    "        self._dept.display_department()\n",
    "emp = Employee()\n",
    "emp.set_employee()\n",
    "print('-'*30)\n",
    "emp.display_employee()\n"
   ]
  },
  {
   "cell_type": "markdown",
   "id": "4e52aa3f",
   "metadata": {},
   "source": [
    "# 5.Class Inheritance\n"
   ]
  },
  {
   "cell_type": "raw",
   "id": "20f1a824",
   "metadata": {},
   "source": [
    "Inheritance allows features defined in one class to be inherited and reused in the definition of another class.\n",
    "For example, a Person class might have the attributes name and age. It might also have method associated with a Person such as birthday()\n",
    "We might then decide that we want to have another class Employee and that employees also have a name and an age and will have birthdays. \n",
    "However, in addition an Employee may have an employee Id attribute and a calculate_pay() method.\n",
    "\n",
    "\n",
    "In this diagram the Employee class is shown as inheriting from the Person class.\n",
    "This means that the Employee class obtains all the data and methods of the Person class. \n",
    "It is therefore as though the Employee class has defined three attributes name, age and id and two methods birthday() and calculate_pay().\n",
    "\n"
   ]
  },
  {
   "cell_type": "markdown",
   "id": "9f0cc818",
   "metadata": {},
   "source": [
    "## Class Inheritance Syntax"
   ]
  },
  {
   "cell_type": "raw",
   "id": "da1a43bd",
   "metadata": {},
   "source": [
    "A class that is defined as extending a parent class has the following syntax: \n",
    "class SubClassName(BaseClassName):\n",
    "    class-body\n",
    "Note that the parent class is specified by providing the name of that class in round brackets after the name of the new (child) class.\n",
    "The parent class is also called Base class or Super class.\n",
    "The child class is also called Derived class or Sub class.\n"
   ]
  },
  {
   "cell_type": "markdown",
   "id": "f4034ee7",
   "metadata": {},
   "source": [
    "### Class Inheritance – Parent Class"
   ]
  },
  {
   "cell_type": "code",
   "execution_count": 220,
   "id": "c87f12e6",
   "metadata": {},
   "outputs": [],
   "source": [
    "class Person:\n",
    "    def __init__(self, n, a):\n",
    "        self._name = n\n",
    "        self._age = a\n",
    "    def birthday(self):\n",
    "        print('Happy birthday you were', self._age)\n",
    "        self._age += 1\n",
    "        print('You are now', self._age)\n",
    "    def __str__(self):\n",
    "        return self._name + ' is ' + str(self._age)\n"
   ]
  },
  {
   "cell_type": "markdown",
   "id": "2aca7bee",
   "metadata": {},
   "source": [
    "### Class Inheritance – Child Class"
   ]
  },
  {
   "cell_type": "code",
   "execution_count": 221,
   "id": "d1e0e065",
   "metadata": {},
   "outputs": [],
   "source": [
    "class Employee(Person):\n",
    "    def __init__(self, n, a, i):\n",
    "        super().__init__(n, a)\n",
    "        self._id = i \t# Extending superclass methods\n",
    "    def calculate_pay(self, hours_worked):\n",
    "        rate_of_pay = 7.50\n",
    "        if self._age >= 21:\n",
    "            rate_of_pay += 2.50\n",
    "        return hours_worked * rate_of_pay\n"
   ]
  },
  {
   "cell_type": "code",
   "execution_count": 222,
   "id": "4244cee9",
   "metadata": {},
   "outputs": [
    {
     "name": "stdout",
     "output_type": "stream",
     "text": [
      "Person\n",
      "Mahesh is 54\n",
      "-------------------------\n",
      "Employee\n",
      "Happy birthday you were 51\n",
      "You are now 52\n",
      "Suresh is 52 e.calculate_pay(40): 400.0\n",
      "-------------------------\n"
     ]
    }
   ],
   "source": [
    "print('Person')\n",
    "p = Person('Mahesh', 54)\n",
    "print(p)\n",
    "print('-' * 25)\n",
    "print('Employee')\n",
    "e = Employee('Suresh', 51, 7468)\n",
    "e.birthday()\n",
    "print(e,'e.calculate_pay(40):', e.calculate_pay(40))\n",
    "print('-' * 25)\n"
   ]
  },
  {
   "cell_type": "markdown",
   "id": "94244acb",
   "metadata": {},
   "source": [
    "## Class Inheritance – Another Child Class"
   ]
  },
  {
   "cell_type": "code",
   "execution_count": 223,
   "id": "8b7e8fa9",
   "metadata": {},
   "outputs": [
    {
     "name": "stdout",
     "output_type": "stream",
     "text": [
      "SalesPerson\n",
      "Happy birthday you were 21\n",
      "You are now 22\n",
      "Ramesh is 22 s.calculate_pay(40): 400.0\n",
      "s.bonus(): 15000.0\n"
     ]
    }
   ],
   "source": [
    "class SalesPerson(Employee):\n",
    "    def __init__(self, n, a, i, r, s):\n",
    "        super().__init__(n, a, i)\n",
    "        self._region = r\n",
    "        self._sales = s\n",
    "    def bonus(self):\n",
    "        return self._sales * 0.5\n",
    "print('SalesPerson')\n",
    "s = SalesPerson('Ramesh', 21, 4712, 'UK', 30000.0)\n",
    "s.birthday()\n",
    "print(s,'s.calculate_pay(40):', s.calculate_pay(40))\n",
    "print('s.bonus():', s.bonus())\n"
   ]
  },
  {
   "cell_type": "markdown",
   "id": "25ffd907",
   "metadata": {},
   "source": [
    "# 6.Method Overriding"
   ]
  },
  {
   "cell_type": "raw",
   "id": "45eb0f83",
   "metadata": {},
   "source": [
    "Overriding occurs when a method is defined in a class (for example, Person) and also in one of its subclasses (for example, Employee). \n",
    "It means that instances of Person and Employee both respond to requests for this method to be run but each has their own implementation of the method.\n",
    "For example, let us assume that we define the method __str__() in the Person class. This method can be overridden in the subsequent derived classes.\n"
   ]
  },
  {
   "cell_type": "markdown",
   "id": "f320890d",
   "metadata": {},
   "source": [
    "## 1.Create a class called number which contains an integer. It should contain various methods to set the value of the integer, return the integer value, print the integer value, check whether the integer is negative.\n"
   ]
  },
  {
   "cell_type": "code",
   "execution_count": 224,
   "id": "e1c7441a",
   "metadata": {},
   "outputs": [],
   "source": [
    "class number:\n",
    "    def __init__(self, value):\n",
    "        # initialize the integer value\n",
    "        self.value = value\n",
    "\n",
    "    def set_value(self, new_value):\n",
    "        # set the value of the integer to a new value\n",
    "        self.value = new_value\n",
    "\n",
    "    def get_value(self):\n",
    "        # return the value of the integer\n",
    "        return self.value\n",
    "\n",
    "    def print_value(self):\n",
    "        # print the value of the integer\n",
    "        print(self.value)\n",
    "\n",
    "    def is_negative(self):\n",
    "        # check whether the value of the integer is negative\n",
    "        return self.value < 0\n"
   ]
  },
  {
   "cell_type": "code",
   "execution_count": 225,
   "id": "a787a99e",
   "metadata": {},
   "outputs": [
    {
     "name": "stdout",
     "output_type": "stream",
     "text": [
      "5\n",
      "None\n",
      "5\n",
      "5\n",
      "None\n",
      "False\n"
     ]
    }
   ],
   "source": [
    "integer = number(2)\n",
    "integer.set_value(5)\n",
    "integer.get_value()\n",
    "integer.print_value()\n",
    "integer.is_negative()\n",
    "print(integer.set_value(5))\n",
    "print(integer.get_value())\n",
    "print(integer.print_value())\n",
    "print(integer.is_negative())"
   ]
  },
  {
   "cell_type": "markdown",
   "id": "21c4364f",
   "metadata": {},
   "source": [
    "## 2.Create a class that can calculate the perimeter/ circumference and area of a regular shape. The class should also have a provision to accept the data relevant to the shape."
   ]
  },
  {
   "cell_type": "code",
   "execution_count": 226,
   "id": "32ea9ef1",
   "metadata": {},
   "outputs": [
    {
     "name": "stdout",
     "output_type": "stream",
     "text": [
      "Perimeter of the hexagon: 60\n",
      "Area of the hexagon: 259.8076211353316\n"
     ]
    }
   ],
   "source": [
    "# Define a class for regular shapes\n",
    "class RegularShape:\n",
    "    # Initialize the class with the number of sides and the length of each side\n",
    "    def __init__(self, n, l):\n",
    "        self.n = n # Number of sides\n",
    "        self.l = l # Length of each side\n",
    "    \n",
    "    # Define a method to calculate the perimeter or circumference\n",
    "    def perimeter(self):\n",
    "        return self.n * self.l # Perimeter = number of sides * length of each side\n",
    "    \n",
    "    # Define a method to calculate the area\n",
    "    def area(self):\n",
    "        # Use the formula for the area of a regular polygon\n",
    "        # Area = (n * l^2) / (4 * tan(pi / n))\n",
    "        import math # Import the math module\n",
    "        return (self.n * self.l ** 2) / (4 * math.tan(math.pi / self.n))\n",
    "\n",
    "# Create an instance of the class for a regular hexagon with side length 10\n",
    "hexagon = RegularShape(6, 10)\n",
    "\n",
    "# Print the perimeter and area of the hexagon\n",
    "print(\"Perimeter of the hexagon:\", hexagon.perimeter())\n",
    "print(\"Area of the hexagon:\", hexagon.area())"
   ]
  },
  {
   "cell_type": "markdown",
   "id": "b953f2b0",
   "metadata": {},
   "source": [
    "## 3.Create a class called student which contains the data members called rollno, sname and branch. The class should contain methods to initialize the data members and to set and display data members. Finally, the class should contain the del method to release the memory at the time of object destruction. Test your class with at least two objects of the student class."
   ]
  },
  {
   "cell_type": "code",
   "execution_count": 227,
   "id": "3c626bd1",
   "metadata": {},
   "outputs": [
    {
     "name": "stdout",
     "output_type": "stream",
     "text": [
      "Roll number: 101\n",
      "Student name: Alice\n",
      "Branch name: Computer Science\n",
      "Roll number: 103\n",
      "Student name: Charlie\n",
      "Branch name: Electrical Engineering\n",
      "Student object deleted\n",
      "Student object deleted\n"
     ]
    }
   ],
   "source": [
    "# Define a class called student\n",
    "class Student:\n",
    "    # Define a method to initialize the data members\n",
    "    def __init__(self, rollno, sname, branch):\n",
    "        self.rollno = rollno # Roll number\n",
    "        self.sname = sname # Student name\n",
    "        self.branch = branch # Branch name\n",
    "    \n",
    "    # Define a method to set the data members\n",
    "    def set_data(self, rollno, sname, branch):\n",
    "        self.rollno = rollno\n",
    "        self.sname = sname\n",
    "        self.branch = branch\n",
    "    \n",
    "    # Define a method to display the data members\n",
    "    def display_data(self):\n",
    "        print(\"Roll number:\", self.rollno)\n",
    "        print(\"Student name:\", self.sname)\n",
    "        print(\"Branch name:\", self.branch)\n",
    "    \n",
    "    # Define a method to release the memory at the time of object destruction\n",
    "    def __del__(self):\n",
    "        print(\"Student object deleted\")\n",
    "\n",
    "# Create two objects of the student class\n",
    "s1 = Student(101, \"Alice\", \"Computer Science\")\n",
    "s2 = Student(102, \"Bob\", \"Mechanical Engineering\")\n",
    "\n",
    "# Display the data of the first object\n",
    "s1.display_data()\n",
    "\n",
    "# Set the data of the second object\n",
    "s2.set_data(103, \"Charlie\", \"Electrical Engineering\")\n",
    "\n",
    "# Display the data of the second object\n",
    "s2.display_data()\n",
    "\n",
    "# Delete the objects\n",
    "del s1\n",
    "del s2"
   ]
  },
  {
   "cell_type": "markdown",
   "id": "8293499d",
   "metadata": {},
   "source": [
    "## 4. Modify the student class defined in Q. No. 1 in so that it now includes a class variable to count the number of student objects created from this class and also add a class function in order to display the value of the class variable. The modified class should be named as student1 class."
   ]
  },
  {
   "cell_type": "code",
   "execution_count": 228,
   "id": "8fdfe364",
   "metadata": {},
   "outputs": [],
   "source": [
    "class student1:\n",
    "    # class variable to count the number of student objects\n",
    "    count = 0\n",
    "\n",
    "    def __init__(self, name, roll_no):\n",
    "        # initialize the name and roll number of the student\n",
    "        self.name = name\n",
    "        self.roll_no = roll_no\n",
    "        # increment the class variable by 1\n",
    "        student1.count += 1\n",
    "\n",
    "    def display(self):\n",
    "        # display the name and roll number of the student\n",
    "#         print(\"Name:\", self.name)\n",
    "#         print(\"Roll No:\", self.roll_no)\n",
    "        return f\"Name,Roll No{self.name,self.roll_no}\"\n",
    "\n",
    "    @classmethod\n",
    "    def display_count(cls):\n",
    "        # display the value of the class variable\n",
    "        print(\"Number of student objects:\", cls.count)"
   ]
  },
  {
   "cell_type": "code",
   "execution_count": 229,
   "id": "9a8365f9",
   "metadata": {},
   "outputs": [
    {
     "name": "stdout",
     "output_type": "stream",
     "text": [
      "Name,Roll No('upendra', 25)\n",
      "Number of student objects: 1\n",
      "None\n",
      "Name,Roll No('upendra', 25)\n",
      "Number of student objects: 2\n",
      "None\n",
      "Name,Roll No('upendra', 25)\n",
      "Number of student objects: 3\n",
      "None\n"
     ]
    }
   ],
   "source": [
    "integer = student1('upendra',25)\n",
    "print(integer.display())\n",
    "print(student1.display_count())\n",
    "integer = student1('upendra',25)\n",
    "print(integer.display())\n",
    "print(student1.display_count())\n",
    "integer = student1('upendra',25)\n",
    "print(integer.display())\n",
    "print(student1.display_count())"
   ]
  },
  {
   "cell_type": "markdown",
   "id": "5447da76",
   "metadata": {},
   "source": [
    "## 5.Apply the vars() and dir() global function on student and student1 classes"
   ]
  },
  {
   "cell_type": "code",
   "execution_count": 230,
   "id": "52932e48",
   "metadata": {},
   "outputs": [
    {
     "data": {
      "text/plain": [
       "mappingproxy({'__module__': '__main__',\n",
       "              '__init__': <function __main__.Student.__init__(self, rollno, sname, branch)>,\n",
       "              'set_data': <function __main__.Student.set_data(self, rollno, sname, branch)>,\n",
       "              'display_data': <function __main__.Student.display_data(self)>,\n",
       "              '__del__': <function __main__.Student.__del__(self)>,\n",
       "              '__dict__': <attribute '__dict__' of 'Student' objects>,\n",
       "              '__weakref__': <attribute '__weakref__' of 'Student' objects>,\n",
       "              '__doc__': None})"
      ]
     },
     "execution_count": 230,
     "metadata": {},
     "output_type": "execute_result"
    }
   ],
   "source": [
    "vars(Student)"
   ]
  },
  {
   "cell_type": "code",
   "execution_count": 231,
   "id": "1eead751",
   "metadata": {},
   "outputs": [
    {
     "data": {
      "text/plain": [
       "['__class__',\n",
       " '__del__',\n",
       " '__delattr__',\n",
       " '__dict__',\n",
       " '__dir__',\n",
       " '__doc__',\n",
       " '__eq__',\n",
       " '__format__',\n",
       " '__ge__',\n",
       " '__getattribute__',\n",
       " '__getstate__',\n",
       " '__gt__',\n",
       " '__hash__',\n",
       " '__init__',\n",
       " '__init_subclass__',\n",
       " '__le__',\n",
       " '__lt__',\n",
       " '__module__',\n",
       " '__ne__',\n",
       " '__new__',\n",
       " '__reduce__',\n",
       " '__reduce_ex__',\n",
       " '__repr__',\n",
       " '__setattr__',\n",
       " '__sizeof__',\n",
       " '__str__',\n",
       " '__subclasshook__',\n",
       " '__weakref__',\n",
       " 'display_data',\n",
       " 'set_data']"
      ]
     },
     "execution_count": 231,
     "metadata": {},
     "output_type": "execute_result"
    }
   ],
   "source": [
    "dir(Student)"
   ]
  },
  {
   "cell_type": "code",
   "execution_count": 232,
   "id": "9ab87d74",
   "metadata": {},
   "outputs": [
    {
     "data": {
      "text/plain": [
       "mappingproxy({'__module__': '__main__',\n",
       "              'count': 3,\n",
       "              '__init__': <function __main__.student1.__init__(self, name, roll_no)>,\n",
       "              'display': <function __main__.student1.display(self)>,\n",
       "              'display_count': <classmethod(<function student1.display_count at 0x00000220B31511C0>)>,\n",
       "              '__dict__': <attribute '__dict__' of 'student1' objects>,\n",
       "              '__weakref__': <attribute '__weakref__' of 'student1' objects>,\n",
       "              '__doc__': None})"
      ]
     },
     "execution_count": 232,
     "metadata": {},
     "output_type": "execute_result"
    }
   ],
   "source": [
    "vars(student1)"
   ]
  },
  {
   "cell_type": "code",
   "execution_count": 233,
   "id": "6d1e4b8e",
   "metadata": {},
   "outputs": [
    {
     "data": {
      "text/plain": [
       "['__class__',\n",
       " '__delattr__',\n",
       " '__dict__',\n",
       " '__dir__',\n",
       " '__doc__',\n",
       " '__eq__',\n",
       " '__format__',\n",
       " '__ge__',\n",
       " '__getattribute__',\n",
       " '__getstate__',\n",
       " '__gt__',\n",
       " '__hash__',\n",
       " '__init__',\n",
       " '__init_subclass__',\n",
       " '__le__',\n",
       " '__lt__',\n",
       " '__module__',\n",
       " '__ne__',\n",
       " '__new__',\n",
       " '__reduce__',\n",
       " '__reduce_ex__',\n",
       " '__repr__',\n",
       " '__setattr__',\n",
       " '__sizeof__',\n",
       " '__str__',\n",
       " '__subclasshook__',\n",
       " '__weakref__',\n",
       " 'count',\n",
       " 'display',\n",
       " 'display_count']"
      ]
     },
     "execution_count": 233,
     "metadata": {},
     "output_type": "execute_result"
    }
   ],
   "source": [
    "dir(student1)"
   ]
  },
  {
   "cell_type": "markdown",
   "id": "7aaff4b1",
   "metadata": {},
   "source": [
    "## 6.Create a class called Date. It should contain data members day, month and year. It should also contain functions to set and display date, as well as function to initialize date objects. Overload the == operator to check if two dates are equal"
   ]
  },
  {
   "cell_type": "code",
   "execution_count": 234,
   "id": "9a0640ca",
   "metadata": {},
   "outputs": [
    {
     "name": "stdout",
     "output_type": "stream",
     "text": [
      "Date: 25 / 1 / 2024\n",
      "Date: 26 / 1 / 2024\n",
      "Are the dates equal? False\n"
     ]
    }
   ],
   "source": [
    "# Define a class called Date\n",
    "class Date:\n",
    "    # Define a method to initialize the data members\n",
    "    def __init__(self, day, month, year):\n",
    "        self.day = day # Day\n",
    "        self.month = month # Month\n",
    "        self.year = year # Year\n",
    "    \n",
    "    # Define a method to set the data members\n",
    "    def set_date(self, day, month, year):\n",
    "        self.day = day\n",
    "        self.month = month\n",
    "        self.year = year\n",
    "    \n",
    "    # Define a method to display the data members\n",
    "    def display_date(self):\n",
    "        print(\"Date:\", self.day, \"/\", self.month, \"/\", self.year)\n",
    "    \n",
    "    # Define a method to overload the == operator\n",
    "    def __eq__(self, other):\n",
    "        # Check if the day, month and year of both objects are equal\n",
    "        return self.day == other.day and self.month == other.month and self.year == other.year\n",
    "\n",
    "# Create two objects of the Date class\n",
    "d1 = Date(25, 1, 2024)\n",
    "d2 = Date(26, 1, 2024)\n",
    "\n",
    "# Display the dates of the objects\n",
    "d1.display_date()\n",
    "d2.display_date()\n",
    "\n",
    "# Check if the dates are equal using the == operator\n",
    "print(\"Are the dates equal?\", d1 == d2)"
   ]
  },
  {
   "cell_type": "markdown",
   "id": "ae03a03a",
   "metadata": {},
   "source": [
    "## 7.Create a class called weather that has a list containing weather parameters. Overload the in operator that checks whether an item is present in the list or not."
   ]
  },
  {
   "cell_type": "code",
   "execution_count": 235,
   "id": "bf260ea3",
   "metadata": {},
   "outputs": [
    {
     "name": "stdout",
     "output_type": "stream",
     "text": [
      "Is temperature in w? True\n",
      "Is rain in w? False\n"
     ]
    }
   ],
   "source": [
    "# Define a class called weather\n",
    "class Weather:\n",
    "    # Define a method to initialize the data member\n",
    "    def __init__(self, parameters):\n",
    "        self.parameters = parameters # A list of weather parameters\n",
    "    \n",
    "    # Define a method to overload the in operator\n",
    "    def __contains__(self, item):\n",
    "        # Check if the item is present in the list of parameters\n",
    "        return item in self.parameters\n",
    "\n",
    "# Create an object of the weather class\n",
    "w = Weather([\"temperature\", \"humidity\", \"pressure\", \"wind\"])\n",
    "\n",
    "# Check if some items are present in the object using the in operator\n",
    "print(\"Is temperature in w?\", \"temperature\" in w)\n",
    "print(\"Is rain in w?\", \"rain\" in w)"
   ]
  },
  {
   "cell_type": "markdown",
   "id": "77acded4",
   "metadata": {},
   "source": [
    "## 8.Create a class called complex containing real and imaginary parts and then use it to check whether two objects are of the same type, whether their attributes are same and whether they are pointing to the same object"
   ]
  },
  {
   "cell_type": "code",
   "execution_count": 236,
   "id": "5f117ede",
   "metadata": {},
   "outputs": [
    {
     "name": "stdout",
     "output_type": "stream",
     "text": [
      "Complex number: 2 + 3 i\n",
      "Complex number: 2 + 3 i\n",
      "Are the objects of the same type? True\n",
      "Are the attributes of the objects same? True\n",
      "Are the objects pointing to the same object? False\n"
     ]
    }
   ],
   "source": [
    "# Define a class called complex\n",
    "class Complex:\n",
    "    # Define a method to initialize the data members\n",
    "    def __init__(self, real, imag):\n",
    "        self.real = real # Real part\n",
    "        self.imag = imag # Imaginary part\n",
    "    \n",
    "    # Define a method to display the data members\n",
    "    def display(self):\n",
    "        print(\"Complex number:\", self.real, \"+\", self.imag, \"i\")\n",
    "\n",
    "# Create two objects of the complex class\n",
    "c1 = Complex(2, 3)\n",
    "c2 = Complex(2, 3)\n",
    "\n",
    "# Display the complex numbers of the objects\n",
    "c1.display()\n",
    "c2.display()\n",
    "\n",
    "# Check if the objects are of the same type using the type() function\n",
    "print(\"Are the objects of the same type?\", type(c1) == type(c2))\n",
    "\n",
    "# Check if the attributes of the objects are same using the vars() function\n",
    "print(\"Are the attributes of the objects same?\", vars(c1) == vars(c2))\n",
    "\n",
    "# Check if the objects are pointing to the same object using the id() function\n",
    "print(\"Are the objects pointing to the same object?\", id(c1) == id(c2))\n"
   ]
  },
  {
   "cell_type": "markdown",
   "id": "d8e56802",
   "metadata": {},
   "source": [
    "## 9.Create a class called department with the attributes deptname and deptid. Modify the student class defined in Q.No. 3 such that it contains an object of department class. Name the new modified student class as student2."
   ]
  },
  {
   "cell_type": "code",
   "execution_count": 237,
   "id": "59a2e4a8",
   "metadata": {},
   "outputs": [
    {
     "name": "stdout",
     "output_type": "stream",
     "text": [
      "Roll number: 201\n",
      "Student name: Alice\n",
      "Department name: Computer Science\n",
      "Department id: 101\n"
     ]
    }
   ],
   "source": [
    "# Define a class called department\n",
    "class Department:\n",
    "    # Define a method to initialize the data members\n",
    "    def __init__(self, deptname, deptid):\n",
    "        self.deptname = deptname # Department name\n",
    "        self.deptid = deptid # Department id\n",
    "    \n",
    "    # Define a method to display the data members\n",
    "    def display_dept(self):\n",
    "        print(\"Department name:\", self.deptname)\n",
    "        print(\"Department id:\", self.deptid)\n",
    "\n",
    "# Define a class called student2\n",
    "class Student2:\n",
    "    # Define a method to initialize the data members\n",
    "    def __init__(self, rollno, sname, dept):\n",
    "        self.rollno = rollno # Roll number\n",
    "        self.sname = sname # Student name\n",
    "        self.dept = dept # An object of department class\n",
    "    \n",
    "    # Define a method to set the data members\n",
    "    def set_data(self, rollno, sname, dept):\n",
    "        self.rollno = rollno\n",
    "        self.sname = sname\n",
    "        self.dept = dept\n",
    "    \n",
    "    # Define a method to display the data members\n",
    "    def display_data(self):\n",
    "        print(\"Roll number:\", self.rollno)\n",
    "        print(\"Student name:\", self.sname)\n",
    "        # Display the data of the department object\n",
    "        self.dept.display_dept()\n",
    "    \n",
    "    # Define a method to release the memory at the time of object destruction\n",
    "    def __del__(self):\n",
    "        print(\"Student object deleted\")\n",
    "\n",
    "# Create an object of the department class\n",
    "d = Department(\"Computer Science\", 101)\n",
    "\n",
    "# Create an object of the student2 class\n",
    "s = Student2(201, \"Alice\", d)\n",
    "\n",
    "# Display the data of the student object\n",
    "s.display_data()"
   ]
  },
  {
   "cell_type": "markdown",
   "id": "71ef4f8d",
   "metadata": {},
   "source": [
    "##  10.Create a class called Person. From this class, inherit another class called student. Assume suitable data members and member functions for these two classes. In both the classes, define the str function and demonstrate method overriding."
   ]
  },
  {
   "cell_type": "code",
   "execution_count": 238,
   "id": "2f9e4d8e",
   "metadata": {},
   "outputs": [
    {
     "name": "stdout",
     "output_type": "stream",
     "text": [
      "Student object deleted\n",
      "Name: Alice\n",
      "Age: 25\n",
      "Name: Bob\n",
      "Age: 20\n",
      "Roll number: 101\n",
      "Marks: 90\n",
      "Person: Alice, 25\n",
      "Person: Bob, 20, Student: 101, 90\n"
     ]
    }
   ],
   "source": [
    "# Define a class called Person\n",
    "class Person:\n",
    "    # Define a method to initialize the data members\n",
    "    def __init__(self, name, age):\n",
    "        self.name = name # Name\n",
    "        self.age = age # Age\n",
    "    \n",
    "    # Define a method to display the data members\n",
    "    def display(self):\n",
    "        print(\"Name:\", self.name)\n",
    "        print(\"Age:\", self.age)\n",
    "    \n",
    "    # Define a method to return a string representation of the object\n",
    "    def __str__(self):\n",
    "        return \"Person: \" + self.name + \", \" + str(self.age)\n",
    "\n",
    "# Define a class called student that inherits from Person\n",
    "class Student(Person):\n",
    "    # Define a method to initialize the data members\n",
    "    def __init__(self, name, age, rollno, marks):\n",
    "        # Call the parent class constructor\n",
    "        Person.__init__(self, name, age)\n",
    "        self.rollno = rollno # Roll number\n",
    "        self.marks = marks # Marks\n",
    "    \n",
    "    # Define a method to display the data members\n",
    "    def display(self):\n",
    "        # Call the parent class display method\n",
    "        Person.display(self)\n",
    "        print(\"Roll number:\", self.rollno)\n",
    "        print(\"Marks:\", self.marks)\n",
    "    \n",
    "    # Define a method to return a string representation of the object\n",
    "    def __str__(self):\n",
    "        # Call the parent class __str__ method\n",
    "        return Person.__str__(self) + \", Student: \" + str(self.rollno) + \", \" + str(self.marks)\n",
    "\n",
    "# Create an object of the Person class\n",
    "p = Person(\"Alice\", 25)\n",
    "\n",
    "# Create an object of the Student class\n",
    "s = Student(\"Bob\", 20, 101, 90)\n",
    "\n",
    "# Display the data of the objects\n",
    "p.display()\n",
    "s.display()\n",
    "\n",
    "# Print the string representation of the objects\n",
    "print(p)\n",
    "print(s)\n"
   ]
  },
  {
   "cell_type": "markdown",
   "id": "e2e96d63",
   "metadata": {},
   "source": [
    "# WEEK8_SESSION 02-04-2024"
   ]
  },
  {
   "cell_type": "markdown",
   "id": "e8a9a15b",
   "metadata": {},
   "source": [
    "## Exception handling Iterables and Iterators Decorators\n"
   ]
  },
  {
   "cell_type": "markdown",
   "id": "0dad7148",
   "metadata": {},
   "source": [
    "1.Introduction to the Iterable protocol\n",
    "2.Iterators\n",
    "3.Errors and Exceptions \n",
    "4.Exception Handling\n",
    "5.Assertions\n",
    "6.Decorators\n"
   ]
  },
  {
   "cell_type": "markdown",
   "id": "7bf7e985",
   "metadata": {},
   "source": [
    "# 1.Introduction to the Iterable protocol\n"
   ]
  },
  {
   "cell_type": "raw",
   "id": "7eea6593",
   "metadata": {},
   "source": [
    "The Iterable protocol is used by types where it is possible to process their contents one at a time in turn. \n",
    "An Iterable is something that will supply an Iterator that can be used to perform this processing. \n",
    "As such it is not the iterator itself; but the provider of the iterator.\n",
    "There are many iterable types in Python including Lists, Sets, Dictionaries, tuples etc. These are all iterable containers that will supply an iterator.\n"
   ]
  },
  {
   "cell_type": "markdown",
   "id": "45684dd1",
   "metadata": {},
   "source": [
    "## Iterable protocol"
   ]
  },
  {
   "cell_type": "raw",
   "id": "da128fd6",
   "metadata": {},
   "source": [
    "To be an iterable type; it is necessary to implement the __iter__() method (which is the only method in the Iterable protocol). \n",
    "This method must supply a reference to the iterator object.\n",
    "This reference could be to the data type itself or it could be to another type that implements the iterator protocol.\n"
   ]
  },
  {
   "cell_type": "markdown",
   "id": "8239765c",
   "metadata": {},
   "source": [
    "# 2.Iterators\n"
   ]
  },
  {
   "cell_type": "raw",
   "id": "1557d578",
   "metadata": {},
   "source": [
    "An iterator is an object that will return a sequence of values. Iterators may be finite in length or infinite (although many container-oriented iterators provide a fixed set of values).\n",
    "The iterator protocol specifies the __next__() method. \n",
    "This method is expected to return the next item in the sequence to return or to raise the StopIteration exception. \n",
    "This is used to indicate that the iterator has finished supplying values.\n"
   ]
  },
  {
   "cell_type": "markdown",
   "id": "80676245",
   "metadata": {},
   "source": [
    "# WEEK8_SESSION 03-04-2024"
   ]
  },
  {
   "cell_type": "markdown",
   "id": "ba67322e",
   "metadata": {},
   "source": [
    "## Iteration related methods"
   ]
  },
  {
   "cell_type": "raw",
   "id": "4a29b260",
   "metadata": {},
   "source": [
    "To summarize we have:\n",
    "__iter__() from the Iterable protocol which is used to return the iterator object,\n",
    " __next__() from the Iterator protocol which is used to obtain the next value in a sequence of values.\n",
    "Any data type can be both an Iterable and an Iterator; but that is not required. \n",
    "An Iterable could return a different object that will be used to implement the iterator or it can return itself as the iterator\n"
   ]
  },
  {
   "cell_type": "code",
   "execution_count": 4,
   "id": "5bca18dc",
   "metadata": {},
   "outputs": [
    {
     "name": "stdout",
     "output_type": "stream",
     "text": [
      "Start\n",
      "0, 2, 4, 6, 8, 10, 12, 14, 16, Done\n"
     ]
    }
   ],
   "source": [
    "class Evens(object):\n",
    "    def __init__(self, l):\n",
    "        self._limit = l\n",
    "        self._val = 0\n",
    "    # Makes this class iterable\n",
    "    def __iter__(self):\n",
    "        return self\n",
    "# Makes this class an iterator\n",
    "    def __next__(self):\n",
    "        if self._val > self._limit:\n",
    "            raise StopIteration\n",
    "        else:\n",
    "            return_val = self._val\n",
    "            self._val += 2\n",
    "        return return_val\n",
    "print('Start')\n",
    "for i in Evens(16):\n",
    "    print(i, end=', ')\n",
    "print('Done')\n"
   ]
  },
  {
   "cell_type": "raw",
   "id": "3b806c8f",
   "metadata": {},
   "source": [
    "There are a few things to note about this class:\n",
    "The __iter__() method returns self; this is a very common pattern and assumes that the class also implements the iterator protocol\n",
    "The __next__() method either returns the next value in the sequence or it raises the StopIteration exception to indicate that there are no more values available.\n"
   ]
  },
  {
   "cell_type": "markdown",
   "id": "fb75a4e6",
   "metadata": {},
   "source": [
    "# 3.Errors and Exceptions \n"
   ]
  },
  {
   "cell_type": "raw",
   "id": "3fdf45ea",
   "metadata": {},
   "source": [
    "In Python the terms Error and Exception are used inter-changeably\n",
    "Exceptions might be used to represent issues with operations such as arithmetic exceptions. Errors might be associated with functional issues such as a file not being found.\n",
    "In Python, everything is a type of object, including integers, strings, booleans and indeed Exceptions and Errors. \n",
    "Exception/Error types are defined in a class hierarchy with the root of this hierarchy being the BaseException type.\n"
   ]
  },
  {
   "cell_type": "markdown",
   "id": "0dd34cd9",
   "metadata": {},
   "source": [
    "## Class Hierarchy of Exceptions"
   ]
  },
  {
   "cell_type": "raw",
   "id": "e0d90fda",
   "metadata": {},
   "source": [
    "All built-in errors and exceptions eventually extend from the BaseException type. It has a subclass Exception which is the root of all user defined exceptions (as well as many built-in exceptions). \n",
    "In turn ArithmeticException is the base class for all built-in exceptions associated with arithmetic errors.\n",
    "When an exception occurs, this is known as raising an exception and when it is passed to code to handle this is known as throwing an exception. \n",
    "The following diagram illustrates the class hierarchy for some of the common types of errors and exceptions.\n",
    "# see the base exceptions flow diagram in ppt"
   ]
  },
  {
   "cell_type": "markdown",
   "id": "691fe2c2",
   "metadata": {},
   "source": [
    "# 4.Exception Handling\n"
   ]
  },
  {
   "cell_type": "raw",
   "id": "561b1c31",
   "metadata": {},
   "source": [
    "The purpose of an exception, is to handle an error condition when it happens at run time.\n",
    "An exception moves the flow of control from one place to another. \n",
    "In most situations, this is because a problem occurs which cannot be handled locally but that can be handled in another part of the system.\n",
    "Different types of error produce different types of exception. For example, if the error is caused by dividing an integer by zero, then the exception is a arithmetic exception. \n"
   ]
  },
  {
   "cell_type": "markdown",
   "id": "78ab1469",
   "metadata": {},
   "source": [
    "# WEEK8_SESSION 04-04-2024"
   ]
  },
  {
   "cell_type": "markdown",
   "id": "8bfd9e7a",
   "metadata": {},
   "source": [
    "## Steps in Handling an Exception"
   ]
  },
  {
   "cell_type": "raw",
   "id": "1a9d4822",
   "metadata": {},
   "source": [
    "You can catch an exception by implementing the try—except construct. This construct is broken into four parts:\n",
    "try block: The try block indicates the code which is to be monitored for the exceptions listed in the except expressions.\n",
    "\n",
    "except clause: You can use an optional except clause to indicate what to do when certain classes of exception/error occur (e.g. resolve the problem or generate a warning message). \n",
    "There can be any number of except clauses in sequence checking for different types of error/exceptions.\n",
    "\n",
    "else clause: This is an optional clause which will be run if and only if no exception was thrown in the try block. It is useful for code that must be executed if the try clause does not raise an exception.\n",
    "\n",
    "finally clause: The optional finally clause runs after the try block exits (whether or not this is due to an exception being raised). \n",
    "\n"
   ]
  },
  {
   "cell_type": "markdown",
   "id": "2e50d47d",
   "metadata": {},
   "source": [
    "## Syntax of try-except block"
   ]
  },
  {
   "cell_type": "raw",
   "id": "db8d730e",
   "metadata": {},
   "source": [
    "The syntax for a try statement with an except clause is:\n",
    "try:\n",
    "\t<code to monitor>\n",
    "except  <type of exception to monitor for>:\n",
    "\t<code to call if exception is found>\n"
   ]
  },
  {
   "cell_type": "code",
   "execution_count": 1,
   "id": "d3b0e012",
   "metadata": {},
   "outputs": [
    {
     "name": "stdout",
     "output_type": "stream",
     "text": [
      "Zero division error in runcalc function\n"
     ]
    }
   ],
   "source": [
    "#Example:\n",
    "def runcalc(x):\n",
    "    x / 0\n",
    "try:\n",
    "    runcalc(6)\n",
    "except ZeroDivisionError:\n",
    "    print('Zero division error in runcalc function')\n"
   ]
  },
  {
   "cell_type": "markdown",
   "id": "9eebbecf",
   "metadata": {},
   "source": [
    "## Multiple Handlers"
   ]
  },
  {
   "cell_type": "raw",
   "id": "ac85ea44",
   "metadata": {},
   "source": [
    "If you don’t want to have a common block of code handling your exceptions, you can define different behaviors for different types of exception.\n",
    "This is done by having a series of except clauses; each monitoring a different type of exception:\n"
   ]
  },
  {
   "cell_type": "code",
   "execution_count": 2,
   "id": "6d82111a",
   "metadata": {},
   "outputs": [
    {
     "name": "stdout",
     "output_type": "stream",
     "text": [
      "division by zero  error has occured\n"
     ]
    }
   ],
   "source": [
    "try:\n",
    "    runcalc(6)\n",
    "except ZeroDivisionError as z:\n",
    "    print(z, ' error has occured')\n",
    "except IndexError as i:\n",
    "    print(i, ' error has occured')\n",
    "except FileNotFoundError as f:\n",
    "    print(f, ' error has occured')\n",
    "except Exception:\n",
    "    print('An unknown exception has occured')\n"
   ]
  },
  {
   "cell_type": "markdown",
   "id": "ebc04754",
   "metadata": {},
   "source": [
    "# Working of Exception Handling"
   ]
  },
  {
   "cell_type": "raw",
   "id": "411a2960",
   "metadata": {},
   "source": [
    "One of the interesting features of Exception handling in Python is that when an Error or an Exception is raised it is immediately thrown to the exception handlers (the except clauses). \n",
    "Any statements that follow the point at which the exception is raised are not run. \n",
    "This means that a function may be terminated early and further statements in the calling code may not be run.\n"
   ]
  },
  {
   "cell_type": "markdown",
   "id": "bbf40f27",
   "metadata": {},
   "source": [
    "# Example of throwing an exception"
   ]
  },
  {
   "cell_type": "code",
   "execution_count": 3,
   "id": "2c152318",
   "metadata": {},
   "outputs": [
    {
     "name": "stdout",
     "output_type": "stream",
     "text": [
      "Starting\n",
      "Before my_function\n",
      "my_function in\n",
      "division by zero  error raised\n",
      "Done\n"
     ]
    }
   ],
   "source": [
    "def my_function(x, y):\n",
    "    print('my_function in')\n",
    "    result = x / y\n",
    "    print('my_function out')\n",
    "    return result\n",
    "print('Starting')\n",
    "try:\n",
    "    print('Before my_function')\n",
    "    my_function(6, 0) # (6,2)\n",
    "    print('After my_function')\n",
    "except ZeroDivisionError as exp:\n",
    "    print(exp, ' error raised')\n",
    "print('Done')\n"
   ]
  },
  {
   "cell_type": "markdown",
   "id": "68c77eb0",
   "metadata": {},
   "source": [
    "## Catching any exception"
   ]
  },
  {
   "cell_type": "code",
   "execution_count": 4,
   "id": "f44f4e3b",
   "metadata": {},
   "outputs": [
    {
     "name": "stdout",
     "output_type": "stream",
     "text": [
      "my_function in\n",
      "Something went wrong\n"
     ]
    }
   ],
   "source": [
    "# It is also possible to specify an except clause that can be used to catch any type of error or exception, for example:\n",
    "try:\n",
    "    my_function(6, 0)\n",
    "except IndexError as e:\n",
    "    print(e)\n",
    "except:\n",
    "    print('Something went wrong')\n",
    "# This must be the last except clause as it omits the exception type and thus acts as a wildcard.\n"
   ]
  },
  {
   "cell_type": "markdown",
   "id": "3af454f5",
   "metadata": {},
   "source": [
    "## The else clause"
   ]
  },
  {
   "cell_type": "code",
   "execution_count": 5,
   "id": "00803c7b",
   "metadata": {},
   "outputs": [
    {
     "name": "stdout",
     "output_type": "stream",
     "text": [
      "my_function in\n",
      "my_function out\n",
      "Everything worked OK\n"
     ]
    }
   ],
   "source": [
    "# The try statement also has an optional else clause. If this is present, then it must come after all except clauses. \n",
    "# The else clause is executed if and only if no exceptions were raised. For example:\n",
    "try:\n",
    "    my_function(6, 2)\n",
    "except ZeroDivisionError as e:\n",
    "    print(e)\n",
    "else:\n",
    "    print('Everything worked OK')\n"
   ]
  },
  {
   "cell_type": "markdown",
   "id": "028e6290",
   "metadata": {},
   "source": [
    "## The finally clause"
   ]
  },
  {
   "cell_type": "raw",
   "id": "debec686",
   "metadata": {},
   "source": [
    "An optional finally clause can also be provided with the try statement. \n",
    "This clause is the last clause in the statement and must come after any except classes as well as the else clause.\n",
    "It is used for code that you want to run whether an exception occurred or not. \n",
    "For example, in the following code snippet, The try block will run, if no error is raised then the else clause will be executed and last of all the finally code will run.\n"
   ]
  },
  {
   "cell_type": "code",
   "execution_count": 6,
   "id": "fa422f17",
   "metadata": {},
   "outputs": [
    {
     "name": "stdout",
     "output_type": "stream",
     "text": [
      "my_function in\n",
      "my_function out\n",
      "Everything worked OK\n",
      "Always runs\n"
     ]
    }
   ],
   "source": [
    "try:\n",
    "    my_function(6, 2) # (6,0)\n",
    "except ZeroDivisionError as e:\n",
    "    print(e)\n",
    "else:\n",
    "    print('Everything worked OK')\n",
    "finally:\n",
    "    print('Always runs')\n"
   ]
  },
  {
   "cell_type": "code",
   "execution_count": 8,
   "id": "f356da5b",
   "metadata": {},
   "outputs": [
    {
     "name": "stdout",
     "output_type": "stream",
     "text": [
      "Wrong value for y\n"
     ]
    }
   ],
   "source": [
    "# An error or exception is raised using the keyword raise. The syntax of this is: raise <Exception/Error type to raise>()\n",
    "x=6\n",
    "y=0 # 2\n",
    "try:\n",
    "    if (y==0):\n",
    "        \traise ValueError('Wrong value for y')\n",
    "    print(my_function(x,y))\n",
    "except ValueError as e:\n",
    "    print(e)\n",
    "else:\n",
    "    print('Everything worked OK')\n"
   ]
  },
  {
   "cell_type": "code",
   "execution_count": null,
   "id": "88a7a617",
   "metadata": {},
   "outputs": [],
   "source": [
    "# 5.Assertions\n"
   ]
  },
  {
   "cell_type": "code",
   "execution_count": 11,
   "id": "3bcc70be",
   "metadata": {},
   "outputs": [
    {
     "ename": "AssertionError",
     "evalue": "Denominator should not be zero",
     "output_type": "error",
     "traceback": [
      "\u001b[1;31m---------------------------------------------------------------------------\u001b[0m",
      "\u001b[1;31mAssertionError\u001b[0m                            Traceback (most recent call last)",
      "Cell \u001b[1;32mIn[11], line 5\u001b[0m\n\u001b[0;32m      3\u001b[0m x \u001b[38;5;241m=\u001b[39m \u001b[38;5;241m6\u001b[39m\n\u001b[0;32m      4\u001b[0m y \u001b[38;5;241m=\u001b[39m \u001b[38;5;241m2\u001b[39m \u001b[38;5;66;03m# 0\u001b[39;00m\n\u001b[1;32m----> 5\u001b[0m \u001b[38;5;28;01massert\u001b[39;00m y \u001b[38;5;241m==\u001b[39m\u001b[38;5;241m0\u001b[39m, \u001b[38;5;124m'\u001b[39m\u001b[38;5;124mDenominator should not be zero\u001b[39m\u001b[38;5;124m'\u001b[39m\n\u001b[0;32m      6\u001b[0m \u001b[38;5;28mprint\u001b[39m(\u001b[38;5;124m'\u001b[39m\u001b[38;5;124mAfter assert statement\u001b[39m\u001b[38;5;124m'\u001b[39m)\n\u001b[0;32m      7\u001b[0m my_function(x,y)\n",
      "\u001b[1;31mAssertionError\u001b[0m: Denominator should not be zero"
     ]
    }
   ],
   "source": [
    "# Assertions are used to express programmatically the assumption about data at a particular point in execution.\n",
    "# Assertions perform runtime checks of assumptions that would normally be put in comments. For example:\n",
    "x = 6\n",
    "y = 2 # 0\n",
    "assert y ==0, 'Denominator should not be zero'\n",
    "print('After assert statement')\n",
    "my_function(x,y)\n"
   ]
  },
  {
   "cell_type": "code",
   "execution_count": null,
   "id": "7a42540f",
   "metadata": {},
   "outputs": [],
   "source": [
    "# 6.Decorators"
   ]
  },
  {
   "cell_type": "raw",
   "id": "1636e199",
   "metadata": {},
   "source": [
    "A decorator is a function that receives another function, adds some functionality(decoration) to it and returns it.\n",
    "Earlier we have used the @classmethod decorator while defining the Employee class.\n",
    "The basic idea is illustrated in the following diagram:\n"
   ]
  },
  {
   "cell_type": "code",
   "execution_count": 15,
   "id": "f9358c95",
   "metadata": {},
   "outputs": [
    {
     "name": "stdout",
     "output_type": "stream",
     "text": [
      "<function my_decorator.<locals>.wrapper at 0x00000224F4A5FEC0>\n"
     ]
    }
   ],
   "source": [
    "def my_decorator(func):\n",
    "    def wrapper():\n",
    "        print('*'*30)\n",
    "        func()\n",
    "        print('~'*30)\n",
    "    return wrapper\n",
    "\n",
    "@my_decorator\n",
    "def display():\n",
    "    print('Hello World')\n",
    "print(display)"
   ]
  },
  {
   "cell_type": "markdown",
   "id": "babd55be",
   "metadata": {},
   "source": [
    "## Decorating functions with arguments"
   ]
  },
  {
   "cell_type": "raw",
   "id": "1ccdaa18",
   "metadata": {},
   "source": [
    "Decorators can be applied to functions that take parameters; however the decorator function must also take these parameters as well.\n",
    "For example: The decorator function timer calculates the time required to execute a function. Its wrapper function called calculate should take all the parameters that are passed to the decorated function.\n"
   ]
  },
  {
   "cell_type": "code",
   "execution_count": 13,
   "id": "d6235892",
   "metadata": {},
   "outputs": [
    {
     "name": "stdout",
     "output_type": "stream",
     "text": [
      "Execution time :::         0.0000057000 secs\n",
      "120\n"
     ]
    }
   ],
   "source": [
    "import time\n",
    "def timer(func):\n",
    "    def calculate(*args,**kwargs):\n",
    "        start_time=time.perf_counter()\n",
    "        value = func(*args,**kwargs)\n",
    "        end_time=time.perf_counter()\n",
    "        runtime  = end_time - start_time\n",
    "        print('Execution time ::: {0:20.10f} secs'.format(runtime))\n",
    "        return value\n",
    "    return calculate\n",
    "@timer\n",
    "def factorial(n):\n",
    "    fact = 1\n",
    "    for i in range(n):\n",
    "        fact = fact * (i + 1)\n",
    "    return fact\n",
    "\n",
    "print(factorial(5))\n"
   ]
  },
  {
   "cell_type": "markdown",
   "id": "be95d311",
   "metadata": {},
   "source": [
    "# 1.Write a program that accepts two integers and displays the result of dividing the first number by the second number. It should raise ZeroDivisionError if the denominator is zero."
   ]
  },
  {
   "cell_type": "code",
   "execution_count": 16,
   "id": "ff72cf0a",
   "metadata": {},
   "outputs": [
    {
     "name": "stdout",
     "output_type": "stream",
     "text": [
      "Enter the first number : 25\n",
      "Enter the second number : 0\n",
      "ZeroDivisionError\n",
      "End of the program Thankyou\n"
     ]
    }
   ],
   "source": [
    "first_number=int(input('Enter the first number : '))\n",
    "second_number=int(input('Enter the second number : '))\n",
    "try:\n",
    "    if second_number==0:\n",
    "         raise ZeroDivisionError('ZeroDivisionError')\n",
    "    result=first_number/second_number\n",
    "    print('the result of the out put',result)\n",
    "except ZeroDivisionError as zde:\n",
    "    print(zde)\n",
    "# except:\n",
    "#     print('Error')\n",
    "else:\n",
    "    print('The Program is ok !')\n",
    "finally:\n",
    "    print('End of the program Thankyou')"
   ]
  },
  {
   "cell_type": "markdown",
   "id": "e14cf390",
   "metadata": {},
   "source": [
    "# 2.Implement the above program with the help of Assertion"
   ]
  },
  {
   "cell_type": "code",
   "execution_count": 17,
   "id": "b6f6ef8f",
   "metadata": {},
   "outputs": [
    {
     "name": "stdout",
     "output_type": "stream",
     "text": [
      "Enter the first num:25\n",
      "Enter the second num:0\n",
      "Assertion Error: when assert condition false\n",
      "End of the program Thankyou\n"
     ]
    }
   ],
   "source": [
    "first_num=int(input(\"Enter the first num:\"))\n",
    "second_num=int(input(\"Enter the second num:\"))\n",
    "try:\n",
    "    assert second_num!=0,\"you have given second_num==0,so it will getting error\"\n",
    "    print(first_num/second_num)\n",
    "except:\n",
    "    print(\"Assertion Error: when assert condition false\")\n",
    "else:\n",
    "    print('The Program is ok !')\n",
    "finally:\n",
    "    print('End of the program Thankyou')"
   ]
  },
  {
   "cell_type": "markdown",
   "id": "535bb0fc",
   "metadata": {},
   "source": [
    "# 3.Write a program that accepts n positive integers as input and prints their square. If a negative number is entered, then raise ValueError exception and display a relevant error message and make an exit."
   ]
  },
  {
   "cell_type": "code",
   "execution_count": 18,
   "id": "10db6e5c",
   "metadata": {},
   "outputs": [
    {
     "name": "stdout",
     "output_type": "stream",
     "text": [
      "Enter the positve integer : 25\n",
      "the square of n is:  625\n",
      "25\n",
      "the square of n is:  625\n",
      "5\n",
      "the square of n is:  25\n",
      "-3\n",
      "ValueError: You Have Entered a negative number! \n",
      "End of the program Thankyou\n"
     ]
    }
   ],
   "source": [
    "try:\n",
    "    n=int(input('Enter the positve integer : '))\n",
    "    while(n>=0):\n",
    "        print('the square of n is: ',n**2)\n",
    "        n=int(input())\n",
    "    raise ValueError('You Have Entered a negative number! ')\n",
    "except ValueError as V:\n",
    "    print('ValueError:',V)\n",
    "# else:\n",
    "#     print('The Program is ok !')\n",
    "finally:\n",
    "    print('End of the program Thankyou') "
   ]
  },
  {
   "cell_type": "code",
   "execution_count": 19,
   "id": "6dd5a36c",
   "metadata": {},
   "outputs": [
    {
     "name": "stdout",
     "output_type": "stream",
     "text": [
      "Enter the positve integer : 5\n",
      "The square of n is :  25\n",
      "The Program is ok !\n",
      "End of the program Thankyou\n"
     ]
    }
   ],
   "source": [
    "try:\n",
    "    n=int(input('Enter the positve integer : '))\n",
    "    if n<=0:\n",
    "        raise ValueError('ValueError')\n",
    "    print('The square of n is : ',n**2)   \n",
    "except ValueError as V:\n",
    "    print('ValueError')\n",
    "else:\n",
    "    print('The Program is ok !')\n",
    "finally:\n",
    "    print('End of the program Thankyou') "
   ]
  },
  {
   "cell_type": "markdown",
   "id": "7d163bac",
   "metadata": {},
   "source": [
    "# 4.Write a program that receives an integer as input and finds its factorial. If a non-integer input is entered, then report an error and accept the input again. Continue this process until correct input is entered."
   ]
  },
  {
   "cell_type": "code",
   "execution_count": 22,
   "id": "dc1e0c8e",
   "metadata": {},
   "outputs": [
    {
     "name": "stdout",
     "output_type": "stream",
     "text": [
      "Enter a Numbera\n",
      "invalid literal for int() with base 10: 'a' is occured\n",
      "Enter a Numberb\n",
      "invalid literal for int() with base 10: 'b' is occured\n",
      "Enter a Numberr\n",
      "invalid literal for int() with base 10: 'r' is occured\n",
      "Enter a Number7\n",
      "5040\n"
     ]
    }
   ],
   "source": [
    "while True:\n",
    "    try:\n",
    "        n=int(input('Enter a Number'))\n",
    "        fact=1\n",
    "        for i in range(1,n+1):\n",
    "            fact*=i\n",
    "        print(fact)\n",
    "        break\n",
    "    except ValueError as V:\n",
    "        print(V,'is occured')"
   ]
  },
  {
   "cell_type": "markdown",
   "id": "165a01af",
   "metadata": {},
   "source": [
    "# 5.Create an iterator that returns numbers, starting with 1, and each sequence will increase by one (returning 1,2,3,4,5 etc.):"
   ]
  },
  {
   "cell_type": "code",
   "execution_count": 23,
   "id": "77b4ad10",
   "metadata": {},
   "outputs": [
    {
     "name": "stdout",
     "output_type": "stream",
     "text": [
      "1\n",
      "2\n",
      "3\n",
      "4\n",
      "5\n"
     ]
    }
   ],
   "source": [
    "class sequence:\n",
    "    def __init__(self):\n",
    "        self._start=1\n",
    "    def __iter__(self):\n",
    "        return self\n",
    "    def __next__(self):\n",
    "        if self._start <=5:\n",
    "            result=self._start\n",
    "            self._start+=1\n",
    "        else:\n",
    "            raise StopIteration\n",
    "            \n",
    "        return result\n",
    "myclass=sequence()\n",
    "myiter=iter(myclass)\n",
    "# print(next(myiter)) \n",
    "# print(next(myiter))\n",
    "# print(next(myiter))\n",
    "# print(next(myiter))\n",
    "# print(next(myiter))\n",
    "for i in myiter:\n",
    "    print(i)"
   ]
  },
  {
   "cell_type": "markdown",
   "id": "bcd09ddb",
   "metadata": {},
   "source": [
    "# 6.Write a program that implements iterator class called Prime and which prints prime numbers up to n."
   ]
  },
  {
   "cell_type": "code",
   "execution_count": 24,
   "id": "502ec242",
   "metadata": {},
   "outputs": [
    {
     "name": "stdout",
     "output_type": "stream",
     "text": [
      "Enter the number: 25\n",
      "2\n",
      "3\n",
      "5\n",
      "7\n",
      "11\n",
      "13\n",
      "17\n",
      "19\n",
      "23\n"
     ]
    }
   ],
   "source": [
    "class Prime:\n",
    "    def __init__(self,n):\n",
    "        self._n=n\n",
    "        self._start=2\n",
    "    def __iter__(self):\n",
    "        return self\n",
    "    def Prime(self,number):\n",
    "        for i in range(2,number):\n",
    "            if number%i ==0:\n",
    "                break\n",
    "        else:\n",
    "            return number\n",
    "    def __next__(self):\n",
    "        if self._start>self._n:\n",
    "            raise StopIteration\n",
    "        else:\n",
    "            output=self.Prime(self._start)\n",
    "            self._start+=1\n",
    "            return output\n",
    "n=int(input('Enter the number: '))\n",
    "for i in Prime(n):\n",
    "    if i!=None:\n",
    "        print(i)"
   ]
  },
  {
   "cell_type": "markdown",
   "id": "bcdfa760",
   "metadata": {},
   "source": [
    "# 7.Define a class, Circle, which takes two arguments when defined — a sequence and a number. The idea is that the object will then return elements the defined number of times. If the number is greater than the number of elements, then the sequence repeats as necessary."
   ]
  },
  {
   "cell_type": "code",
   "execution_count": 25,
   "id": "aef7e264",
   "metadata": {},
   "outputs": [
    {
     "name": "stdout",
     "output_type": "stream",
     "text": [
      "['a', 'b', 'c', 'a', 'b']\n"
     ]
    }
   ],
   "source": [
    "class CircleIterator():\n",
    "    def __init__(self,data,max_times):\n",
    "        self.data=data\n",
    "        self.max_times=max_times\n",
    "        self.index=0\n",
    "    def __next__(self):\n",
    "        if self.index >= self.max_times:\n",
    "            raise StopIteration\n",
    "        value=self.data[self.index % len(self.data)]\n",
    "        self.index +=1\n",
    "        return value  \n",
    "class Circle():\n",
    "    def __init__(self,data,max_times):\n",
    "        self.data =data\n",
    "        self.max_times=max_times\n",
    "    def __iter__(self):\n",
    "        return CircleIterator(self.data,self.max_times)\n",
    "c=Circle('abc',5)\n",
    "print(list(c))"
   ]
  },
  {
   "cell_type": "markdown",
   "id": "36d9280a",
   "metadata": {},
   "source": [
    "# 8.Write a Python program to demonstrate working of iterators using an example type that iterates from 10 to given value"
   ]
  },
  {
   "cell_type": "code",
   "execution_count": 26,
   "id": "d30c2ee0",
   "metadata": {},
   "outputs": [
    {
     "name": "stdout",
     "output_type": "stream",
     "text": [
      "Enter the number:25\n",
      "10\n",
      "11\n",
      "12\n",
      "13\n",
      "14\n",
      "15\n",
      "16\n",
      "17\n",
      "18\n",
      "19\n",
      "20\n",
      "21\n",
      "22\n",
      "23\n",
      "24\n",
      "25\n"
     ]
    }
   ],
   "source": [
    "class iterator:\n",
    "    def __init__(self,limit):\n",
    "        self._limit=limit\n",
    "        self._start=10\n",
    "    def __iter__(self):\n",
    "        return self\n",
    "    def __next__(self):\n",
    "        if self._limit<self._start:\n",
    "            raise StopIteration\n",
    "        else:\n",
    "            x=self._start\n",
    "            self._start+=1\n",
    "            return x\n",
    "n=int(input('Enter the number:'))\n",
    "if n>10:\n",
    "    for i in iterator(n):\n",
    "        print(i)\n",
    "else:\n",
    "    print('please enter the number which is greater than 10')"
   ]
  },
  {
   "cell_type": "markdown",
   "id": "fdaece86",
   "metadata": {},
   "source": [
    "# 9.Write a program to illustrate the concept of multiple decorators¶"
   ]
  },
  {
   "cell_type": "code",
   "execution_count": 27,
   "id": "38bce152",
   "metadata": {},
   "outputs": [],
   "source": [
    "def Hashh_tag(func):\n",
    "    def inner(*args):\n",
    "        print('#'*50)\n",
    "        func(*args)\n",
    "        print('#'*50)\n",
    "    return inner"
   ]
  },
  {
   "cell_type": "code",
   "execution_count": 28,
   "id": "06f3e14a",
   "metadata": {},
   "outputs": [],
   "source": [
    "def ambrisint(func):\n",
    "    def outer(*args):\n",
    "        print('&'*50)\n",
    "        func(*args)\n",
    "        print('&'*50)\n",
    "    return outer"
   ]
  },
  {
   "cell_type": "code",
   "execution_count": 29,
   "id": "c03cbe94",
   "metadata": {},
   "outputs": [
    {
     "name": "stdout",
     "output_type": "stream",
     "text": [
      "Enter a message: Hello\n",
      "##################################################\n",
      "&&&&&&&&&&&&&&&&&&&&&&&&&&&&&&&&&&&&&&&&&&&&&&&&&&\n",
      "Hello\n",
      "&&&&&&&&&&&&&&&&&&&&&&&&&&&&&&&&&&&&&&&&&&&&&&&&&&\n",
      "##################################################\n"
     ]
    }
   ],
   "source": [
    "@Hashh_tag\n",
    "@ambrisint\n",
    "def statement(msg):\n",
    "    print(msg)\n",
    "msg=input('Enter a message: ')\n",
    "statement(msg)"
   ]
  },
  {
   "cell_type": "markdown",
   "id": "eae11ef4",
   "metadata": {},
   "source": [
    "# 10.Write a decorator called timer that calculates the time required to execute a function. Its wrapper function called calculates should take all the parameters that are passed to the decorated function."
   ]
  },
  {
   "cell_type": "code",
   "execution_count": 30,
   "id": "624f5af5",
   "metadata": {},
   "outputs": [],
   "source": [
    "import time\n",
    "def timer(func):\n",
    "    def inner(*args,**kwargs):\n",
    "        start_time=time.perf_counter()\n",
    "        value=func(*args,**kwargs)\n",
    "        end_time=time.perf_counter()\n",
    "        diff=end_time-start_time\n",
    "        print('The time for exicution of program is : ',diff)\n",
    "        return value\n",
    "    return inner\n"
   ]
  },
  {
   "cell_type": "code",
   "execution_count": 31,
   "id": "dc3f3ad5",
   "metadata": {},
   "outputs": [
    {
     "name": "stdout",
     "output_type": "stream",
     "text": [
      "Enter the message:Hello-world\n",
      "The time for exicution of program is :  2.3999891709536314e-06\n"
     ]
    },
    {
     "data": {
      "text/plain": [
       "'Hello-world'"
      ]
     },
     "execution_count": 31,
     "metadata": {},
     "output_type": "execute_result"
    }
   ],
   "source": [
    "@timer\n",
    "def statement():\n",
    "    return msg\n",
    "msg=input('Enter the message:')\n",
    "statement()"
   ]
  },
  {
   "cell_type": "markdown",
   "id": "9a12b0a3",
   "metadata": {},
   "source": [
    "# WEEK9_SESSION 04-04-2024"
   ]
  },
  {
   "cell_type": "markdown",
   "id": "e7001ffb",
   "metadata": {},
   "source": [
    "# Data Analysis with Pandas\n"
   ]
  },
  {
   "cell_type": "raw",
   "id": "75bb2c78",
   "metadata": {},
   "source": [
    "1.Introduction to Pandas\n",
    "2.DataFrame and Series\n",
    "3.Loading data from files into DataFrames\n",
    "4.Missing Data\n",
    "5.Indexing and Slicing\n",
    "6.Data Aggregation\n",
    "7.Visualization\n"
   ]
  },
  {
   "cell_type": "markdown",
   "id": "a1fe3615",
   "metadata": {},
   "source": [
    "# 1.Introduction to Pandas\n"
   ]
  },
  {
   "cell_type": "raw",
   "id": "27ebbff4",
   "metadata": {},
   "source": [
    "Pandas stands for Python Data Analysis Library.\n",
    "Pandas is a Python library used for working with data sets.\n",
    "It has functions for analyzing, cleaning, exploring, and manipulating data.\n",
    "The name \"Pandas\" has a reference to both \"Panel Data\", and \"Python Data Analysis\" and was created by Wes McKinney in 2008.\n",
    "It aims to be the fundamental high-level building block for doing practical, real world data analysis in Python.\n",
    "Install pandas by running the following command at the Anaconda prompt:\n",
    "pip install pandas\n",
    "In order to work with pandas library, it has to be imported\n"
   ]
  },
  {
   "cell_type": "markdown",
   "id": "aab4755e",
   "metadata": {},
   "source": [
    "# 2.DataFrame and Series\n"
   ]
  },
  {
   "cell_type": "raw",
   "id": "5201a36f",
   "metadata": {},
   "source": [
    "Series are One-dimensional array-like objects containing an array of data (of any NumPy data type) and an associated array of data labels, called its “index”. \n",
    "If index of data is not specified, then a default one consisting of the integers 0 through N-1 is created. \n",
    "A DataFrame is a Two-dimensional tabular data structure with ordered collections of columns, each of which can be different value type. \n",
    "DataFrame (DF) can be thought of as a dictionary of Series. \n"
   ]
  },
  {
   "cell_type": "markdown",
   "id": "301a2718",
   "metadata": {},
   "source": [
    "## Working with DataFrames and Series"
   ]
  },
  {
   "cell_type": "code",
   "execution_count": 32,
   "id": "3d529935",
   "metadata": {},
   "outputs": [
    {
     "data": {
      "text/html": [
       "<div>\n",
       "<style scoped>\n",
       "    .dataframe tbody tr th:only-of-type {\n",
       "        vertical-align: middle;\n",
       "    }\n",
       "\n",
       "    .dataframe tbody tr th {\n",
       "        vertical-align: top;\n",
       "    }\n",
       "\n",
       "    .dataframe thead th {\n",
       "        text-align: right;\n",
       "    }\n",
       "</style>\n",
       "<table border=\"1\" class=\"dataframe\">\n",
       "  <thead>\n",
       "    <tr style=\"text-align: right;\">\n",
       "      <th></th>\n",
       "      <th>Student_Name</th>\n",
       "      <th>Roll_No</th>\n",
       "      <th>Percentage</th>\n",
       "    </tr>\n",
       "  </thead>\n",
       "  <tbody>\n",
       "    <tr>\n",
       "      <th>0</th>\n",
       "      <td>Suresh</td>\n",
       "      <td>101</td>\n",
       "      <td>87.5</td>\n",
       "    </tr>\n",
       "    <tr>\n",
       "      <th>1</th>\n",
       "      <td>Ramesh</td>\n",
       "      <td>102</td>\n",
       "      <td>89.9</td>\n",
       "    </tr>\n",
       "  </tbody>\n",
       "</table>\n",
       "</div>"
      ],
      "text/plain": [
       "  Student_Name  Roll_No  Percentage\n",
       "0       Suresh      101        87.5\n",
       "1       Ramesh      102        89.9"
      ]
     },
     "execution_count": 32,
     "metadata": {},
     "output_type": "execute_result"
    }
   ],
   "source": [
    "import pandas as pd\n",
    "# Creating a DataFrame\n",
    "df1=pd.DataFrame([[\"Suresh\",101,87.5],[\"Ramesh\",102,89.9]])\n",
    "df1\n",
    "type(df1)\n",
    "#Adding columns to a DataFrame\n",
    "df1=pd.DataFrame([[\"Suresh\",101,87.5],[\"Ramesh\",102,89.9]],columns=[\"Student_Name\",\"Roll_No\",\"Percentage\"])\n",
    "df1\n"
   ]
  },
  {
   "cell_type": "markdown",
   "id": "4c8c3c4e",
   "metadata": {},
   "source": [
    "## Adding index names to DataFrame"
   ]
  },
  {
   "cell_type": "code",
   "execution_count": 33,
   "id": "7b8403e4",
   "metadata": {},
   "outputs": [
    {
     "data": {
      "text/plain": [
       "['Percentage',\n",
       " 'Roll_No',\n",
       " 'Student_Name',\n",
       " 'T',\n",
       " '_AXIS_LEN',\n",
       " '_AXIS_ORDERS',\n",
       " '_AXIS_TO_AXIS_NUMBER',\n",
       " '_HANDLED_TYPES',\n",
       " '__abs__',\n",
       " '__add__',\n",
       " '__and__',\n",
       " '__annotations__',\n",
       " '__array__',\n",
       " '__array_priority__',\n",
       " '__array_ufunc__',\n",
       " '__array_wrap__',\n",
       " '__bool__',\n",
       " '__class__',\n",
       " '__contains__',\n",
       " '__copy__',\n",
       " '__dataframe__',\n",
       " '__deepcopy__',\n",
       " '__delattr__',\n",
       " '__delitem__',\n",
       " '__dict__',\n",
       " '__dir__',\n",
       " '__divmod__',\n",
       " '__doc__',\n",
       " '__eq__',\n",
       " '__finalize__',\n",
       " '__floordiv__',\n",
       " '__format__',\n",
       " '__ge__',\n",
       " '__getattr__',\n",
       " '__getattribute__',\n",
       " '__getitem__',\n",
       " '__getstate__',\n",
       " '__gt__',\n",
       " '__hash__',\n",
       " '__iadd__',\n",
       " '__iand__',\n",
       " '__ifloordiv__',\n",
       " '__imod__',\n",
       " '__imul__',\n",
       " '__init__',\n",
       " '__init_subclass__',\n",
       " '__invert__',\n",
       " '__ior__',\n",
       " '__ipow__',\n",
       " '__isub__',\n",
       " '__iter__',\n",
       " '__itruediv__',\n",
       " '__ixor__',\n",
       " '__le__',\n",
       " '__len__',\n",
       " '__lt__',\n",
       " '__matmul__',\n",
       " '__mod__',\n",
       " '__module__',\n",
       " '__mul__',\n",
       " '__ne__',\n",
       " '__neg__',\n",
       " '__new__',\n",
       " '__nonzero__',\n",
       " '__or__',\n",
       " '__pos__',\n",
       " '__pow__',\n",
       " '__radd__',\n",
       " '__rand__',\n",
       " '__rdivmod__',\n",
       " '__reduce__',\n",
       " '__reduce_ex__',\n",
       " '__repr__',\n",
       " '__rfloordiv__',\n",
       " '__rmatmul__',\n",
       " '__rmod__',\n",
       " '__rmul__',\n",
       " '__ror__',\n",
       " '__round__',\n",
       " '__rpow__',\n",
       " '__rsub__',\n",
       " '__rtruediv__',\n",
       " '__rxor__',\n",
       " '__setattr__',\n",
       " '__setitem__',\n",
       " '__setstate__',\n",
       " '__sizeof__',\n",
       " '__str__',\n",
       " '__sub__',\n",
       " '__subclasshook__',\n",
       " '__truediv__',\n",
       " '__weakref__',\n",
       " '__xor__',\n",
       " '_accessors',\n",
       " '_accum_func',\n",
       " '_add_numeric_operations',\n",
       " '_agg_by_level',\n",
       " '_agg_examples_doc',\n",
       " '_agg_summary_and_see_also_doc',\n",
       " '_align_frame',\n",
       " '_align_series',\n",
       " '_append',\n",
       " '_arith_method',\n",
       " '_as_manager',\n",
       " '_attrs',\n",
       " '_box_col_values',\n",
       " '_can_fast_transpose',\n",
       " '_check_inplace_and_allows_duplicate_labels',\n",
       " '_check_inplace_setting',\n",
       " '_check_is_chained_assignment_possible',\n",
       " '_check_label_or_level_ambiguity',\n",
       " '_check_setitem_copy',\n",
       " '_clear_item_cache',\n",
       " '_clip_with_one_bound',\n",
       " '_clip_with_scalar',\n",
       " '_cmp_method',\n",
       " '_combine_frame',\n",
       " '_consolidate',\n",
       " '_consolidate_inplace',\n",
       " '_construct_axes_dict',\n",
       " '_construct_axes_from_arguments',\n",
       " '_construct_result',\n",
       " '_constructor',\n",
       " '_constructor_sliced',\n",
       " '_convert',\n",
       " '_count_level',\n",
       " '_data',\n",
       " '_dir_additions',\n",
       " '_dir_deletions',\n",
       " '_dispatch_frame_op',\n",
       " '_drop_axis',\n",
       " '_drop_labels_or_levels',\n",
       " '_ensure_valid_index',\n",
       " '_find_valid_index',\n",
       " '_flags',\n",
       " '_from_arrays',\n",
       " '_get_agg_axis',\n",
       " '_get_axis',\n",
       " '_get_axis_name',\n",
       " '_get_axis_number',\n",
       " '_get_axis_resolvers',\n",
       " '_get_block_manager_axis',\n",
       " '_get_bool_data',\n",
       " '_get_cleaned_column_resolvers',\n",
       " '_get_column_array',\n",
       " '_get_index_resolvers',\n",
       " '_get_item_cache',\n",
       " '_get_label_or_level_values',\n",
       " '_get_numeric_data',\n",
       " '_get_value',\n",
       " '_getitem_bool_array',\n",
       " '_getitem_multilevel',\n",
       " '_gotitem',\n",
       " '_hidden_attrs',\n",
       " '_indexed_same',\n",
       " '_info_axis',\n",
       " '_info_axis_name',\n",
       " '_info_axis_number',\n",
       " '_info_repr',\n",
       " '_init_mgr',\n",
       " '_inplace_method',\n",
       " '_internal_names',\n",
       " '_internal_names_set',\n",
       " '_is_copy',\n",
       " '_is_homogeneous_type',\n",
       " '_is_label_or_level_reference',\n",
       " '_is_label_reference',\n",
       " '_is_level_reference',\n",
       " '_is_mixed_type',\n",
       " '_is_view',\n",
       " '_iset_item',\n",
       " '_iset_item_mgr',\n",
       " '_iset_not_inplace',\n",
       " '_item_cache',\n",
       " '_iter_column_arrays',\n",
       " '_ixs',\n",
       " '_join_compat',\n",
       " '_logical_func',\n",
       " '_logical_method',\n",
       " '_maybe_cache_changed',\n",
       " '_maybe_update_cacher',\n",
       " '_metadata',\n",
       " '_mgr',\n",
       " '_min_count_stat_function',\n",
       " '_needs_reindex_multi',\n",
       " '_protect_consolidate',\n",
       " '_reduce',\n",
       " '_reduce_axis1',\n",
       " '_reindex_axes',\n",
       " '_reindex_columns',\n",
       " '_reindex_index',\n",
       " '_reindex_multi',\n",
       " '_reindex_with_indexers',\n",
       " '_rename',\n",
       " '_replace_columnwise',\n",
       " '_repr_data_resource_',\n",
       " '_repr_fits_horizontal_',\n",
       " '_repr_fits_vertical_',\n",
       " '_repr_html_',\n",
       " '_repr_latex_',\n",
       " '_reset_cache',\n",
       " '_reset_cacher',\n",
       " '_sanitize_column',\n",
       " '_series',\n",
       " '_set_axis',\n",
       " '_set_axis_name',\n",
       " '_set_axis_nocheck',\n",
       " '_set_is_copy',\n",
       " '_set_item',\n",
       " '_set_item_frame_value',\n",
       " '_set_item_mgr',\n",
       " '_set_value',\n",
       " '_setitem_array',\n",
       " '_setitem_frame',\n",
       " '_setitem_slice',\n",
       " '_slice',\n",
       " '_stat_axis',\n",
       " '_stat_axis_name',\n",
       " '_stat_axis_number',\n",
       " '_stat_function',\n",
       " '_stat_function_ddof',\n",
       " '_take',\n",
       " '_take_with_is_copy',\n",
       " '_to_dict_of_blocks',\n",
       " '_typ',\n",
       " '_update_inplace',\n",
       " '_validate_dtype',\n",
       " '_values',\n",
       " '_where',\n",
       " 'abs',\n",
       " 'add',\n",
       " 'add_prefix',\n",
       " 'add_suffix',\n",
       " 'agg',\n",
       " 'aggregate',\n",
       " 'align',\n",
       " 'all',\n",
       " 'any',\n",
       " 'append',\n",
       " 'apply',\n",
       " 'applymap',\n",
       " 'asfreq',\n",
       " 'asof',\n",
       " 'assign',\n",
       " 'astype',\n",
       " 'at',\n",
       " 'at_time',\n",
       " 'attrs',\n",
       " 'axes',\n",
       " 'backfill',\n",
       " 'between_time',\n",
       " 'bfill',\n",
       " 'bool',\n",
       " 'boxplot',\n",
       " 'clip',\n",
       " 'columns',\n",
       " 'combine',\n",
       " 'combine_first',\n",
       " 'compare',\n",
       " 'convert_dtypes',\n",
       " 'copy',\n",
       " 'corr',\n",
       " 'corrwith',\n",
       " 'count',\n",
       " 'cov',\n",
       " 'cummax',\n",
       " 'cummin',\n",
       " 'cumprod',\n",
       " 'cumsum',\n",
       " 'describe',\n",
       " 'diff',\n",
       " 'div',\n",
       " 'divide',\n",
       " 'dot',\n",
       " 'drop',\n",
       " 'drop_duplicates',\n",
       " 'droplevel',\n",
       " 'dropna',\n",
       " 'dtypes',\n",
       " 'duplicated',\n",
       " 'empty',\n",
       " 'eq',\n",
       " 'equals',\n",
       " 'eval',\n",
       " 'ewm',\n",
       " 'expanding',\n",
       " 'explode',\n",
       " 'ffill',\n",
       " 'fillna',\n",
       " 'filter',\n",
       " 'first',\n",
       " 'first_valid_index',\n",
       " 'flags',\n",
       " 'floordiv',\n",
       " 'from_dict',\n",
       " 'from_records',\n",
       " 'ge',\n",
       " 'get',\n",
       " 'groupby',\n",
       " 'gt',\n",
       " 'head',\n",
       " 'hist',\n",
       " 'iat',\n",
       " 'idxmax',\n",
       " 'idxmin',\n",
       " 'iloc',\n",
       " 'index',\n",
       " 'infer_objects',\n",
       " 'info',\n",
       " 'insert',\n",
       " 'interpolate',\n",
       " 'isetitem',\n",
       " 'isin',\n",
       " 'isna',\n",
       " 'isnull',\n",
       " 'items',\n",
       " 'iteritems',\n",
       " 'iterrows',\n",
       " 'itertuples',\n",
       " 'join',\n",
       " 'keys',\n",
       " 'kurt',\n",
       " 'kurtosis',\n",
       " 'last',\n",
       " 'last_valid_index',\n",
       " 'le',\n",
       " 'loc',\n",
       " 'lookup',\n",
       " 'lt',\n",
       " 'mad',\n",
       " 'mask',\n",
       " 'max',\n",
       " 'mean',\n",
       " 'median',\n",
       " 'melt',\n",
       " 'memory_usage',\n",
       " 'merge',\n",
       " 'min',\n",
       " 'mod',\n",
       " 'mode',\n",
       " 'mul',\n",
       " 'multiply',\n",
       " 'ndim',\n",
       " 'ne',\n",
       " 'nlargest',\n",
       " 'notna',\n",
       " 'notnull',\n",
       " 'nsmallest',\n",
       " 'nunique',\n",
       " 'pad',\n",
       " 'pct_change',\n",
       " 'pipe',\n",
       " 'pivot',\n",
       " 'pivot_table',\n",
       " 'plot',\n",
       " 'pop',\n",
       " 'pow',\n",
       " 'prod',\n",
       " 'product',\n",
       " 'quantile',\n",
       " 'query',\n",
       " 'radd',\n",
       " 'rank',\n",
       " 'rdiv',\n",
       " 'reindex',\n",
       " 'reindex_like',\n",
       " 'rename',\n",
       " 'rename_axis',\n",
       " 'reorder_levels',\n",
       " 'replace',\n",
       " 'resample',\n",
       " 'reset_index',\n",
       " 'rfloordiv',\n",
       " 'rmod',\n",
       " 'rmul',\n",
       " 'rolling',\n",
       " 'round',\n",
       " 'rpow',\n",
       " 'rsub',\n",
       " 'rtruediv',\n",
       " 'sample',\n",
       " 'select_dtypes',\n",
       " 'sem',\n",
       " 'set_axis',\n",
       " 'set_flags',\n",
       " 'set_index',\n",
       " 'shape',\n",
       " 'shift',\n",
       " 'size',\n",
       " 'skew',\n",
       " 'slice_shift',\n",
       " 'sort_index',\n",
       " 'sort_values',\n",
       " 'squeeze',\n",
       " 'stack',\n",
       " 'std',\n",
       " 'style',\n",
       " 'sub',\n",
       " 'subtract',\n",
       " 'sum',\n",
       " 'swapaxes',\n",
       " 'swaplevel',\n",
       " 'tail',\n",
       " 'take',\n",
       " 'to_clipboard',\n",
       " 'to_csv',\n",
       " 'to_dict',\n",
       " 'to_excel',\n",
       " 'to_feather',\n",
       " 'to_gbq',\n",
       " 'to_hdf',\n",
       " 'to_html',\n",
       " 'to_json',\n",
       " 'to_latex',\n",
       " 'to_markdown',\n",
       " 'to_numpy',\n",
       " 'to_orc',\n",
       " 'to_parquet',\n",
       " 'to_period',\n",
       " 'to_pickle',\n",
       " 'to_records',\n",
       " 'to_sql',\n",
       " 'to_stata',\n",
       " 'to_string',\n",
       " 'to_timestamp',\n",
       " 'to_xarray',\n",
       " 'to_xml',\n",
       " 'transform',\n",
       " 'transpose',\n",
       " 'truediv',\n",
       " 'truncate',\n",
       " 'tz_convert',\n",
       " 'tz_localize',\n",
       " 'unstack',\n",
       " 'update',\n",
       " 'value_counts',\n",
       " 'values',\n",
       " 'var',\n",
       " 'where',\n",
       " 'xs']"
      ]
     },
     "execution_count": 33,
     "metadata": {},
     "output_type": "execute_result"
    }
   ],
   "source": [
    "df1=pd.DataFrame([[\"Suresh\",101,87.5],[\"Ramesh\",102,89.9]],columns=[\"Student_Name\",\"Roll_No\",\"Percentage\"],\n",
    "                 index=[\"First_Student\",\"Second_Student\"])\n",
    "df1\n",
    "type(df1.Student_Name)  # Student_Name is a series\n",
    "\n",
    "# List of methods on a DataFrame:\n",
    "dir(df1)\n"
   ]
  },
  {
   "cell_type": "markdown",
   "id": "cddd7e6b",
   "metadata": {},
   "source": [
    "## Applying methods on DataFrame"
   ]
  },
  {
   "cell_type": "code",
   "execution_count": 34,
   "id": "2e203108",
   "metadata": {},
   "outputs": [
    {
     "name": "stderr",
     "output_type": "stream",
     "text": [
      "C:\\Users\\upend\\AppData\\Local\\Temp\\ipykernel_13572\\3744356744.py:2: FutureWarning: The default value of numeric_only in DataFrame.mean is deprecated. In a future version, it will default to False. In addition, specifying 'numeric_only=None' is deprecated. Select only valid columns or specify the value of numeric_only to silence this warning.\n",
      "  df1.mean()\n",
      "C:\\Users\\upend\\AppData\\Local\\Temp\\ipykernel_13572\\3744356744.py:4: FutureWarning: The default value of numeric_only in DataFrame.mean is deprecated. In a future version, it will default to False. In addition, specifying 'numeric_only=None' is deprecated. Select only valid columns or specify the value of numeric_only to silence this warning.\n",
      "  df1.mean().mean()\n"
     ]
    },
    {
     "ename": "AttributeError",
     "evalue": "'DataFrame' object has no attribute 'Performance'",
     "output_type": "error",
     "traceback": [
      "\u001b[1;31m---------------------------------------------------------------------------\u001b[0m",
      "\u001b[1;31mAttributeError\u001b[0m                            Traceback (most recent call last)",
      "Cell \u001b[1;32mIn[34], line 6\u001b[0m\n\u001b[0;32m      4\u001b[0m df1\u001b[38;5;241m.\u001b[39mmean()\u001b[38;5;241m.\u001b[39mmean()\n\u001b[0;32m      5\u001b[0m \u001b[38;5;66;03m#Displaying a single series from the DataFrame:\u001b[39;00m\n\u001b[1;32m----> 6\u001b[0m df1\u001b[38;5;241m.\u001b[39mPerformance\n\u001b[0;32m      7\u001b[0m \u001b[38;5;66;03m# Mean of only a single column:\u001b[39;00m\n\u001b[0;32m      8\u001b[0m df1\u001b[38;5;241m.\u001b[39mPerformance\u001b[38;5;241m.\u001b[39mmean()\n",
      "File \u001b[1;32m~\\.conda\\Lib\\site-packages\\pandas\\core\\generic.py:5902\u001b[0m, in \u001b[0;36mNDFrame.__getattr__\u001b[1;34m(self, name)\u001b[0m\n\u001b[0;32m   5895\u001b[0m \u001b[38;5;28;01mif\u001b[39;00m (\n\u001b[0;32m   5896\u001b[0m     name \u001b[38;5;129;01mnot\u001b[39;00m \u001b[38;5;129;01min\u001b[39;00m \u001b[38;5;28mself\u001b[39m\u001b[38;5;241m.\u001b[39m_internal_names_set\n\u001b[0;32m   5897\u001b[0m     \u001b[38;5;129;01mand\u001b[39;00m name \u001b[38;5;129;01mnot\u001b[39;00m \u001b[38;5;129;01min\u001b[39;00m \u001b[38;5;28mself\u001b[39m\u001b[38;5;241m.\u001b[39m_metadata\n\u001b[0;32m   5898\u001b[0m     \u001b[38;5;129;01mand\u001b[39;00m name \u001b[38;5;129;01mnot\u001b[39;00m \u001b[38;5;129;01min\u001b[39;00m \u001b[38;5;28mself\u001b[39m\u001b[38;5;241m.\u001b[39m_accessors\n\u001b[0;32m   5899\u001b[0m     \u001b[38;5;129;01mand\u001b[39;00m \u001b[38;5;28mself\u001b[39m\u001b[38;5;241m.\u001b[39m_info_axis\u001b[38;5;241m.\u001b[39m_can_hold_identifiers_and_holds_name(name)\n\u001b[0;32m   5900\u001b[0m ):\n\u001b[0;32m   5901\u001b[0m     \u001b[38;5;28;01mreturn\u001b[39;00m \u001b[38;5;28mself\u001b[39m[name]\n\u001b[1;32m-> 5902\u001b[0m \u001b[38;5;28;01mreturn\u001b[39;00m \u001b[38;5;28mobject\u001b[39m\u001b[38;5;241m.\u001b[39m\u001b[38;5;21m__getattribute__\u001b[39m(\u001b[38;5;28mself\u001b[39m, name)\n",
      "\u001b[1;31mAttributeError\u001b[0m: 'DataFrame' object has no attribute 'Performance'"
     ]
    }
   ],
   "source": [
    "# Mean of every column:\n",
    "df1.mean()\n",
    "# Mean of complete numeric data in the DataFrame:\n",
    "df1.mean().mean()\n",
    "#Displaying a single series from the DataFrame:\n",
    "df1.Performance\n",
    "# Mean of only a single column:\n",
    "df1.Performance.mean()\n"
   ]
  },
  {
   "cell_type": "markdown",
   "id": "e908aa7b",
   "metadata": {},
   "source": [
    "## Creating a DataFrame from Dictionary"
   ]
  },
  {
   "cell_type": "code",
   "execution_count": 35,
   "id": "8f6903a6",
   "metadata": {},
   "outputs": [
    {
     "data": {
      "text/html": [
       "<div>\n",
       "<style scoped>\n",
       "    .dataframe tbody tr th:only-of-type {\n",
       "        vertical-align: middle;\n",
       "    }\n",
       "\n",
       "    .dataframe tbody tr th {\n",
       "        vertical-align: top;\n",
       "    }\n",
       "\n",
       "    .dataframe thead th {\n",
       "        text-align: right;\n",
       "    }\n",
       "</style>\n",
       "<table border=\"1\" class=\"dataframe\">\n",
       "  <thead>\n",
       "    <tr style=\"text-align: right;\">\n",
       "      <th></th>\n",
       "      <th>First_Name</th>\n",
       "      <th>Last_Name</th>\n",
       "    </tr>\n",
       "  </thead>\n",
       "  <tbody>\n",
       "    <tr>\n",
       "      <th>0</th>\n",
       "      <td>Suresh</td>\n",
       "      <td>Kumar</td>\n",
       "    </tr>\n",
       "    <tr>\n",
       "      <th>1</th>\n",
       "      <td>Ramesh</td>\n",
       "      <td>Babu</td>\n",
       "    </tr>\n",
       "  </tbody>\n",
       "</table>\n",
       "</div>"
      ],
      "text/plain": [
       "  First_Name Last_Name\n",
       "0     Suresh     Kumar\n",
       "1     Ramesh      Babu"
      ]
     },
     "execution_count": 35,
     "metadata": {},
     "output_type": "execute_result"
    }
   ],
   "source": [
    "dict1={'First_Name':(\"Suresh\",\"Ramesh\"),'Last_Name':(\"Kumar\",\"Babu\")}\n",
    "df2=pd.DataFrame(dict1)\n",
    "df2\n",
    "\n",
    "#List of Dicts\n",
    "l1=[{'First_Name':'Suresh','Last_Name':'Kumar'},{'First_Name':'Ramesh','Last_Name':'Babu'}]\n",
    "df2=pd.DataFrame(l1)\n",
    "df2\n"
   ]
  },
  {
   "cell_type": "markdown",
   "id": "e144c52b",
   "metadata": {},
   "source": [
    "# 3.Loading data from files into DataFrames\n"
   ]
  },
  {
   "cell_type": "raw",
   "id": "3f83e370",
   "metadata": {},
   "source": [
    "# The read_csv method is used to load comma separated (csv) files and text files into a DataFrame. Its syntax is: \n",
    "df1 = pd.read_csv(file/URL/file-like-object, sep = ',', header = None) \t\n",
    "# For Example:\n",
    "df1=pd.read_csv('.\\pandas\\supermarkets.csv')\n",
    "df2=pd.read_csv('.\\pandas\\supermarkets-commas.txt')\n",
    "df3=pd.read_csv('.\\pandas\\supermarkets-semi-colons.txt',sep=\";\")\n",
    "df3.index # displays the indexes for this DataFrame\n",
    "df3.columns # displays the column names for this DataFrame\n",
    "\n",
    "# The read_json and read_excel methods are used to read json and excel files respectively. For example:\n",
    "df4=pd.read_json('.\\pandas\\supermarkets.json')\n",
    "df5=pd.read_excel('.\\pandas\\supermarkets.xlsx',sheet_name=0)\n",
    "# Suppose a data file does not include header names, the header option should be specified as None\n",
    "df6=pd.read_csv('.\\pandas\\data.txt',header=None)\n",
    "# We can give user specified column names as:\n",
    "df6.columns=['ID','Address','City','Pin_Code','Country',\n",
    "'Name', 'Employees']\n"
   ]
  },
  {
   "cell_type": "markdown",
   "id": "51359772",
   "metadata": {},
   "source": [
    "# 4.Missing Data\n"
   ]
  },
  {
   "cell_type": "raw",
   "id": "b4dc55d5",
   "metadata": {},
   "source": [
    "In Pandas, missing values are represented as NaN means Not a Number.\n",
    "Consider the marks.txt file with some missing values. \n",
    "\tdf= pd.read_csv('.\\pandas\\marks.txt',header = None,names = [\"name\",\"m1\",\"m2\",\"m3\"])\n",
    "To make detecting missing values easier (and across different array dtypes), Pandas provides isnull() and notnull() functions, which are also methods on Series and DataFrame objects\n",
    "\t For example: df.isnull()\n"
   ]
  },
  {
   "cell_type": "markdown",
   "id": "266ce009",
   "metadata": {},
   "source": [
    "# Handling Missing Data"
   ]
  },
  {
   "cell_type": "raw",
   "id": "aa631318",
   "metadata": {},
   "source": [
    "The fillna() method is used to replace NaN values with another value. For example, to replace NaN with zeroes,\n",
    "\t df.fillna(0)\n",
    "We can replace NaN values in a column with the mean of the column:\n",
    "\tdf[\"m1\"].fillna(df[\"m1\"].mean())\n",
    "We can drop the rows containing NaN values: df.dropna()\n",
    "We can drop the columns containing NaN values df.dropna(axis =1)\n"
   ]
  },
  {
   "cell_type": "markdown",
   "id": "bee72866",
   "metadata": {},
   "source": [
    "# Set Index Column"
   ]
  },
  {
   "cell_type": "raw",
   "id": "da92c796",
   "metadata": {},
   "source": [
    "We can set a column of the DataFrame as an index in place of the default index column as follows: \n",
    "\tdf7 = df6.set_index(\"ID\")\n",
    "But if we observe, the changes are not permanent in the older DataFrame (df6)\n",
    "In order to make it the permanent index column, the following option (inplace) should be set to True: df6.set_index(\"ID\",inplace = True)\n"
   ]
  },
  {
   "cell_type": "markdown",
   "id": "ff9de5f4",
   "metadata": {},
   "source": [
    "# 5.Indexing and Slicing\n"
   ]
  },
  {
   "cell_type": "raw",
   "id": "b8493760",
   "metadata": {},
   "source": [
    "The Python and NumPy indexing operators \"[ ]\" and attribute operator \".\" provide quick and easy access to Pandas data structures.\n",
    "Pandas now supports two methods for Multi-axes indexing:\n",
    "loc(): It is used for label based indexing\n",
    "iloc(): It is used for integer based indexing\n"
   ]
  },
  {
   "cell_type": "markdown",
   "id": "a0b5345e",
   "metadata": {},
   "source": [
    "# Label based Indexing"
   ]
  },
  {
   "cell_type": "raw",
   "id": "6713e604",
   "metadata": {},
   "source": [
    "loc takes two single/list/range operator separated by ','. The first one indicates the row and the second one indicates columns. For example: Select all rows and only Country column:\n",
    "\tdf7.loc[:,”Country”]\n",
    "Select rows with index ID 3 to 5 and columns City to Name : \n",
    "\tdf7.loc[3:5,\"City\":\"Name“]\n",
    "Similarly, we can give the following slices: \n",
    "\tdf7.loc[4,\"Country\"]\n"
   ]
  },
  {
   "cell_type": "markdown",
   "id": "3b72bc62",
   "metadata": {},
   "source": [
    "# Integer based Indexing"
   ]
  },
  {
   "cell_type": "raw",
   "id": "053b6a4e",
   "metadata": {},
   "source": [
    "Pandas provides iloc() method in order to perform purely integer based indexing. These are 0-based indexing methods.\n",
    "The various access methods are as follows:\n",
    "An Integer: For example: df7.iloc[4] returns the data for the 5th row. df7.iloc[:,4] returns the data from 5th column. \n",
    "A list of integers: df7.iloc[4,4] returns the data in the intersection of row 4 and column 4. \n",
    "A range of values: df7.iloc[1:3,1:3] returns the intersection of rows 1 to 2 and columns 1 to 2.\n"
   ]
  },
  {
   "cell_type": "markdown",
   "id": "399e4712",
   "metadata": {},
   "source": [
    "# Boolean indexing"
   ]
  },
  {
   "cell_type": "raw",
   "id": "d3823bb0",
   "metadata": {},
   "source": [
    "n boolean indexing, we will select subsets of data based on the actual values of the data in the DataFrame and not on their row/column labels or integer locations.\n",
    "The syntax for performing boolean indexing on a DataFrame is similar to other indexing methods. The index label or integer value is replaced by a boolean expression. For example:\n",
    "\tdf[df[\"m1\"]>90]\n",
    "      df[(df[\"m1\"]>90) & (df[\"m2\"]>90)]\n"
   ]
  },
  {
   "cell_type": "markdown",
   "id": "5b8a0ecf",
   "metadata": {},
   "source": [
    "# 6.Data Aggregation\n"
   ]
  },
  {
   "cell_type": "raw",
   "id": "143cd596",
   "metadata": {},
   "source": [
    "Data aggregation means any data transformation that produces scalar values from arrays, such as “mean”, “max”, etc.\n",
    "We can create a grouping of categories and apply a function to the categories. For example, if we want to find out the number of employees city wise, the procedure is as follows:\n",
    "Using groupby method, create groups based on the City attribute:\n",
    "\t df7.groupby(['City'])\n",
    "\t df7.groupby(['City']).groups # In order to see the groups\n",
    "Apply an aggregate function called sum() on the Employees column: \n",
    "        group=df7.groupby(['City']).sum()['Employees']\n",
    "\tgroup\n",
    "Similarly, to find the maximum number of employees in a City, the max() aggregate function should be used:\n",
    "\tgroup=df7.groupby(['City']).max()['Employees']\n",
    "\n"
   ]
  },
  {
   "cell_type": "markdown",
   "id": "ca834d44",
   "metadata": {},
   "source": [
    "## Merging DataFrames"
   ]
  },
  {
   "cell_type": "raw",
   "id": "cd80ab32",
   "metadata": {},
   "source": [
    "Pandas has full-featured, high performance in-memory join operations idiomatically very similar to relational databases like SQL.\n",
    "Pandas provides a single function, merge() for all standard database join operations between DataFrame objects \n",
    "Create two DataFrames called emp and dept with the following atributes: \n",
    "Emp(empno,ename,deptno)\t\n",
    "Dept(deptno,dname)\n"
   ]
  },
  {
   "cell_type": "markdown",
   "id": "8025ff34",
   "metadata": {},
   "source": [
    "## merge() two DataFrames on a key"
   ]
  },
  {
   "cell_type": "code",
   "execution_count": 41,
   "id": "101f8340",
   "metadata": {},
   "outputs": [
    {
     "data": {
      "text/html": [
       "<div>\n",
       "<style scoped>\n",
       "    .dataframe tbody tr th:only-of-type {\n",
       "        vertical-align: middle;\n",
       "    }\n",
       "\n",
       "    .dataframe tbody tr th {\n",
       "        vertical-align: top;\n",
       "    }\n",
       "\n",
       "    .dataframe thead th {\n",
       "        text-align: right;\n",
       "    }\n",
       "</style>\n",
       "<table border=\"1\" class=\"dataframe\">\n",
       "  <thead>\n",
       "    <tr style=\"text-align: right;\">\n",
       "      <th></th>\n",
       "      <th>empno</th>\n",
       "      <th>ename</th>\n",
       "      <th>deptno</th>\n",
       "      <th>dname</th>\n",
       "    </tr>\n",
       "  </thead>\n",
       "  <tbody>\n",
       "    <tr>\n",
       "      <th>0</th>\n",
       "      <td>101</td>\n",
       "      <td>Ramesh</td>\n",
       "      <td>1</td>\n",
       "      <td>Marketing</td>\n",
       "    </tr>\n",
       "    <tr>\n",
       "      <th>1</th>\n",
       "      <td>104</td>\n",
       "      <td>Dinesh</td>\n",
       "      <td>1</td>\n",
       "      <td>Marketing</td>\n",
       "    </tr>\n",
       "    <tr>\n",
       "      <th>2</th>\n",
       "      <td>102</td>\n",
       "      <td>Suresh</td>\n",
       "      <td>2</td>\n",
       "      <td>Operations</td>\n",
       "    </tr>\n",
       "    <tr>\n",
       "      <th>3</th>\n",
       "      <td>103</td>\n",
       "      <td>Mahesh</td>\n",
       "      <td>2</td>\n",
       "      <td>Operations</td>\n",
       "    </tr>\n",
       "    <tr>\n",
       "      <th>4</th>\n",
       "      <td>105</td>\n",
       "      <td>Naresh</td>\n",
       "      <td>2</td>\n",
       "      <td>Operations</td>\n",
       "    </tr>\n",
       "  </tbody>\n",
       "</table>\n",
       "</div>"
      ],
      "text/plain": [
       "   empno   ename  deptno       dname\n",
       "0    101  Ramesh       1   Marketing\n",
       "1    104  Dinesh       1   Marketing\n",
       "2    102  Suresh       2  Operations\n",
       "3    103  Mahesh       2  Operations\n",
       "4    105  Naresh       2  Operations"
      ]
     },
     "execution_count": 41,
     "metadata": {},
     "output_type": "execute_result"
    }
   ],
   "source": [
    "emp = pd.DataFrame({\n",
    "   'empno':[101,102,103,104,105],\n",
    "   'ename': ['Ramesh', 'Suresh', 'Mahesh', 'Dinesh', 'Naresh'],\n",
    "   'deptno':[1,2,2,1,2]})\n",
    "dept = pd.DataFrame(\n",
    "   {'deptno':[1,2,3],\n",
    "   'dname': ['Marketing', 'Operations', 'EDP']})\n",
    "merge_df=pd.merge(emp,dept,on='deptno') # key is deptno\n",
    "merge_df\n"
   ]
  },
  {
   "cell_type": "markdown",
   "id": "2b0f0845",
   "metadata": {},
   "source": [
    "## Types of merge"
   ]
  },
  {
   "cell_type": "raw",
   "id": "c7700eeb",
   "metadata": {},
   "source": [
    "Perform left join: Use keys from left object\n",
    "\tmerge_left= pd.merge(emp,dept, on='deptno', how='left')\n",
    "Perform right join: Use keys from right object\n",
    "\tmerge_right= pd.merge(emp,dept, on='deptno', how='right')\n",
    "Peform outer join: Use union of keys\n",
    "\tmerge_outer= pd.merge(emp,dept, on='deptno', how='outer')\n",
    "Perform inner join: Use intersection of keys (default)\n",
    "\tmerge_inner= pd.merge(emp,dept, on='deptno', how='inner')\n"
   ]
  },
  {
   "cell_type": "markdown",
   "id": "a90d45fd",
   "metadata": {},
   "source": [
    "## Deleting columns and rows"
   ]
  },
  {
   "cell_type": "raw",
   "id": "85e3739f",
   "metadata": {},
   "source": [
    "The drop operation on a DataFrame can be used to delete a row  or a column. It returns a DataFrame object. Note that dropping a column or row is not done inplace.\n",
    "To drop a column: \n",
    "\tdf7.drop(\"City\",1) # 1 for column and 0 for row\n",
    "To drop a row:\n",
    "\tdf7.drop(3, 0) # 0 for row and 3 is the index of the row to be dropped\n",
    "deleting more than one row based on inbuilt index:\n",
    "\tdf7.drop(df7.index[1:3],0) #rows with ID 1 to 3 will be deleted\n"
   ]
  },
  {
   "cell_type": "markdown",
   "id": "051e9201",
   "metadata": {},
   "source": [
    "## Updating and modifying columns"
   ]
  },
  {
   "cell_type": "raw",
   "id": "738c7b04",
   "metadata": {},
   "source": [
    "Retrieve the length of the index: len(df7.index)\n",
    "Retrieve the shape of the DataFrame: df7.shape = (4,5)\n",
    "Retrieve the number of rows as df7.shape[0] = 4\n",
    "Finally, add the new column as:\n",
    "\tdf7[“Continent”] = df7.shape[0]*[“North America”]\n",
    "Note that this operation in inplace\n",
    "To update or modify an existing column:\n",
    "\t df7[\"Continent\"] = df7[\"Country\"]+\" , \"+df7[\"Continent\"]"
   ]
  },
  {
   "cell_type": "markdown",
   "id": "95a6171e",
   "metadata": {},
   "source": [
    "## Updating and modifying rows"
   ]
  },
  {
   "cell_type": "raw",
   "id": "f7c99a2a",
   "metadata": {},
   "source": [
    "Find the transpose of the DataFrame to which we want to add the rows. Store this result in a temporary DataFrame:\n",
    "\tdf7_t=df7.T # Find the transpose\n",
    "Now, add a column to the above temporary DataFrame:\n",
    "\t df7_t[7] = [\"109 Charles Lane\",\"Los Angeles\",\"LA 500017\",\"USA\",\"Bakers World\",5,\"USA North America\"]\n",
    "Find the transpose of this temporary DataFrame and replace the original DataFrame:\n",
    "\tdf7=df7_t.T\n"
   ]
  },
  {
   "cell_type": "markdown",
   "id": "9b99ccad",
   "metadata": {},
   "source": [
    "# 7.Visualization"
   ]
  },
  {
   "cell_type": "raw",
   "id": "ad655fa5",
   "metadata": {},
   "source": [
    "plot() method: This functionality on DataFrame is just a simple wrapper around the matplotlib libraries plot() method.\n",
    "For example: To create a simple line graph on the DataFrame df, \n",
    "\tdf_vis=pd.DataFrame(df.mean())\n",
    "\tdf_vis.plot()\n",
    "To create a bar graph,\n",
    "\tdf_vis.plot.bar()\n"
   ]
  },
  {
   "cell_type": "markdown",
   "id": "7fb32ffd",
   "metadata": {},
   "source": [
    "# 1.Create a data frame called DataFrame1. It should contain data about five employees. Each employee data consists of employee number, name, salary, department number and designation."
   ]
  },
  {
   "cell_type": "code",
   "execution_count": 42,
   "id": "d89aa7ea",
   "metadata": {},
   "outputs": [
    {
     "data": {
      "text/html": [
       "<div>\n",
       "<style scoped>\n",
       "    .dataframe tbody tr th:only-of-type {\n",
       "        vertical-align: middle;\n",
       "    }\n",
       "\n",
       "    .dataframe tbody tr th {\n",
       "        vertical-align: top;\n",
       "    }\n",
       "\n",
       "    .dataframe thead th {\n",
       "        text-align: right;\n",
       "    }\n",
       "</style>\n",
       "<table border=\"1\" class=\"dataframe\">\n",
       "  <thead>\n",
       "    <tr style=\"text-align: right;\">\n",
       "      <th></th>\n",
       "      <th>employee number</th>\n",
       "      <th>name</th>\n",
       "      <th>salary</th>\n",
       "      <th>department number</th>\n",
       "      <th>designation</th>\n",
       "    </tr>\n",
       "  </thead>\n",
       "  <tbody>\n",
       "    <tr>\n",
       "      <th>0</th>\n",
       "      <td>1</td>\n",
       "      <td>Upendra</td>\n",
       "      <td>25000</td>\n",
       "      <td>5</td>\n",
       "      <td>Trainee</td>\n",
       "    </tr>\n",
       "    <tr>\n",
       "      <th>1</th>\n",
       "      <td>2</td>\n",
       "      <td>viswaksen</td>\n",
       "      <td>45000</td>\n",
       "      <td>5</td>\n",
       "      <td>Manager</td>\n",
       "    </tr>\n",
       "    <tr>\n",
       "      <th>2</th>\n",
       "      <td>3</td>\n",
       "      <td>venkatesh</td>\n",
       "      <td>55000</td>\n",
       "      <td>5</td>\n",
       "      <td>hod</td>\n",
       "    </tr>\n",
       "    <tr>\n",
       "      <th>3</th>\n",
       "      <td>4</td>\n",
       "      <td>dileep</td>\n",
       "      <td>35000</td>\n",
       "      <td>5</td>\n",
       "      <td>team leader</td>\n",
       "    </tr>\n",
       "    <tr>\n",
       "      <th>4</th>\n",
       "      <td>5</td>\n",
       "      <td>dileep kumar</td>\n",
       "      <td>25000</td>\n",
       "      <td>5</td>\n",
       "      <td>Trainee</td>\n",
       "    </tr>\n",
       "  </tbody>\n",
       "</table>\n",
       "</div>"
      ],
      "text/plain": [
       "   employee number          name  salary  department number  designation\n",
       "0                1       Upendra   25000                  5      Trainee\n",
       "1                2     viswaksen   45000                  5      Manager\n",
       "2                3     venkatesh   55000                  5          hod\n",
       "3                4        dileep   35000                  5  team leader\n",
       "4                5  dileep kumar   25000                  5      Trainee"
      ]
     },
     "execution_count": 42,
     "metadata": {},
     "output_type": "execute_result"
    }
   ],
   "source": [
    "import pandas as pd\n",
    "v=[\n",
    "    {'employee number':1,'name':'Upendra','salary':25000,'department number':5,'designation':'Trainee'},\n",
    "    {'employee number':2,'name':'viswaksen','salary':45000,'department number':5,'designation':'Manager'},\n",
    "    {'employee number':3,'name':'venkatesh','salary':55000,'department number':5,'designation':'hod'},\n",
    "    {'employee number':4,'name':'dileep','salary':35000,'department number':5,'designation':'team leader'},\n",
    "    {'employee number':5,'name':'dileep kumar','salary':25000,'department number':5,'designation':'Trainee'}\n",
    "    ]\n",
    "DataFrame1=pd.DataFrame(v)\n",
    "DataFrame1\n"
   ]
  },
  {
   "cell_type": "markdown",
   "id": "0ef25221",
   "metadata": {},
   "source": [
    "# 2.In the DataFrame1 defined in Q.No. 1, add appropriate column names to the columns. Find the mean of the salary in the DataFrame1."
   ]
  },
  {
   "cell_type": "code",
   "execution_count": 43,
   "id": "e5aeb693",
   "metadata": {},
   "outputs": [],
   "source": [
    "DataFrame1.columns=[\"Emp_no\",\"Emp_Name\",\"Emp_salary\",\"Emp_Dept_no\",\"Emp_Designation\"]"
   ]
  },
  {
   "cell_type": "code",
   "execution_count": 44,
   "id": "a88de2ff",
   "metadata": {},
   "outputs": [
    {
     "data": {
      "text/html": [
       "<div>\n",
       "<style scoped>\n",
       "    .dataframe tbody tr th:only-of-type {\n",
       "        vertical-align: middle;\n",
       "    }\n",
       "\n",
       "    .dataframe tbody tr th {\n",
       "        vertical-align: top;\n",
       "    }\n",
       "\n",
       "    .dataframe thead th {\n",
       "        text-align: right;\n",
       "    }\n",
       "</style>\n",
       "<table border=\"1\" class=\"dataframe\">\n",
       "  <thead>\n",
       "    <tr style=\"text-align: right;\">\n",
       "      <th></th>\n",
       "      <th>Emp_no</th>\n",
       "      <th>Emp_Name</th>\n",
       "      <th>Emp_salary</th>\n",
       "      <th>Emp_Dept_no</th>\n",
       "      <th>Emp_Designation</th>\n",
       "    </tr>\n",
       "  </thead>\n",
       "  <tbody>\n",
       "    <tr>\n",
       "      <th>0</th>\n",
       "      <td>1</td>\n",
       "      <td>Upendra</td>\n",
       "      <td>25000</td>\n",
       "      <td>5</td>\n",
       "      <td>Trainee</td>\n",
       "    </tr>\n",
       "    <tr>\n",
       "      <th>1</th>\n",
       "      <td>2</td>\n",
       "      <td>viswaksen</td>\n",
       "      <td>45000</td>\n",
       "      <td>5</td>\n",
       "      <td>Manager</td>\n",
       "    </tr>\n",
       "    <tr>\n",
       "      <th>2</th>\n",
       "      <td>3</td>\n",
       "      <td>venkatesh</td>\n",
       "      <td>55000</td>\n",
       "      <td>5</td>\n",
       "      <td>hod</td>\n",
       "    </tr>\n",
       "    <tr>\n",
       "      <th>3</th>\n",
       "      <td>4</td>\n",
       "      <td>dileep</td>\n",
       "      <td>35000</td>\n",
       "      <td>5</td>\n",
       "      <td>team leader</td>\n",
       "    </tr>\n",
       "    <tr>\n",
       "      <th>4</th>\n",
       "      <td>5</td>\n",
       "      <td>dileep kumar</td>\n",
       "      <td>25000</td>\n",
       "      <td>5</td>\n",
       "      <td>Trainee</td>\n",
       "    </tr>\n",
       "  </tbody>\n",
       "</table>\n",
       "</div>"
      ],
      "text/plain": [
       "   Emp_no      Emp_Name  Emp_salary  Emp_Dept_no Emp_Designation\n",
       "0       1       Upendra       25000            5         Trainee\n",
       "1       2     viswaksen       45000            5         Manager\n",
       "2       3     venkatesh       55000            5             hod\n",
       "3       4        dileep       35000            5     team leader\n",
       "4       5  dileep kumar       25000            5         Trainee"
      ]
     },
     "execution_count": 44,
     "metadata": {},
     "output_type": "execute_result"
    }
   ],
   "source": [
    "DataFrame1"
   ]
  },
  {
   "cell_type": "code",
   "execution_count": 45,
   "id": "889c29a4",
   "metadata": {},
   "outputs": [
    {
     "data": {
      "text/plain": [
       "37000.0"
      ]
     },
     "execution_count": 45,
     "metadata": {},
     "output_type": "execute_result"
    }
   ],
   "source": [
    "DataFrame1['Emp_salary'].mean()"
   ]
  },
  {
   "cell_type": "markdown",
   "id": "f6cb96e3",
   "metadata": {},
   "source": [
    "# 3. Create a dictionary called dept. In this dictionary, the columns are deptno, deptname and location. Create a data frame called DataFrame2 from the dictionary dept."
   ]
  },
  {
   "cell_type": "code",
   "execution_count": 46,
   "id": "84004024",
   "metadata": {},
   "outputs": [],
   "source": [
    "dept=[{\"deptno\":1,\"deptname\":\"datascience\",\"location\":\"ap\"},\n",
    "      {\"deptno\":2,\"deptname\":\"data analysist\",\"location\":\"tn\"}\n",
    "     \n",
    "     \n",
    "     ]\n",
    "DataFrame2 =pd.DataFrame(dept)"
   ]
  },
  {
   "cell_type": "code",
   "execution_count": 47,
   "id": "4720d242",
   "metadata": {},
   "outputs": [
    {
     "data": {
      "text/html": [
       "<div>\n",
       "<style scoped>\n",
       "    .dataframe tbody tr th:only-of-type {\n",
       "        vertical-align: middle;\n",
       "    }\n",
       "\n",
       "    .dataframe tbody tr th {\n",
       "        vertical-align: top;\n",
       "    }\n",
       "\n",
       "    .dataframe thead th {\n",
       "        text-align: right;\n",
       "    }\n",
       "</style>\n",
       "<table border=\"1\" class=\"dataframe\">\n",
       "  <thead>\n",
       "    <tr style=\"text-align: right;\">\n",
       "      <th></th>\n",
       "      <th>deptno</th>\n",
       "      <th>deptname</th>\n",
       "      <th>location</th>\n",
       "    </tr>\n",
       "  </thead>\n",
       "  <tbody>\n",
       "    <tr>\n",
       "      <th>0</th>\n",
       "      <td>1</td>\n",
       "      <td>datascience</td>\n",
       "      <td>ap</td>\n",
       "    </tr>\n",
       "    <tr>\n",
       "      <th>1</th>\n",
       "      <td>2</td>\n",
       "      <td>data analysist</td>\n",
       "      <td>tn</td>\n",
       "    </tr>\n",
       "  </tbody>\n",
       "</table>\n",
       "</div>"
      ],
      "text/plain": [
       "   deptno        deptname location\n",
       "0       1     datascience       ap\n",
       "1       2  data analysist       tn"
      ]
     },
     "execution_count": 47,
     "metadata": {},
     "output_type": "execute_result"
    }
   ],
   "source": [
    "DataFrame2"
   ]
  },
  {
   "cell_type": "markdown",
   "id": "6c7eb13e",
   "metadata": {},
   "source": [
    "# 4.The data represents salesman name and sales in three regions: region1, region2 and region3. Load sles.csv into a data frame called DataFrame3. Give appropriate column names to the columns in DataFrame3. Display the contents of DataFrame3."
   ]
  },
  {
   "cell_type": "raw",
   "id": "6da565c7",
   "metadata": {},
   "source": [
    "DataFrame3=pd.read_csv('sales.csv',header=None)\n",
    "print(DataFrame3)"
   ]
  },
  {
   "cell_type": "raw",
   "id": "17604a48",
   "metadata": {},
   "source": [
    "DataFrame3.columns=[\"Salesman_Name\",\"region1\",\"region2\",\"region3\"]\n",
    "DataFrame3"
   ]
  },
  {
   "cell_type": "markdown",
   "id": "38ff60cd",
   "metadata": {},
   "source": [
    "# 5.In this exercise, demonstrate different methods of handling missing data in data frames. For reference, consider the DataFrame3 created in Q.No. 4. In DataFrame3, do the following: fill missing values with zeroes, fill missing values with the mean of their respective column, drop the rows containing missing values, drop the columns containing missing values."
   ]
  },
  {
   "cell_type": "code",
   "execution_count": null,
   "id": "f5555d41",
   "metadata": {},
   "outputs": [],
   "source": [
    "DataFrame3"
   ]
  },
  {
   "cell_type": "code",
   "execution_count": null,
   "id": "1fa61d3d",
   "metadata": {},
   "outputs": [],
   "source": [
    "DataFrame3.fillna(0)"
   ]
  },
  {
   "cell_type": "code",
   "execution_count": null,
   "id": "423fe42e",
   "metadata": {},
   "outputs": [],
   "source": [
    "DataFrame3.fillna(DataFrame3.mean())"
   ]
  },
  {
   "cell_type": "code",
   "execution_count": null,
   "id": "913bdf32",
   "metadata": {},
   "outputs": [],
   "source": [
    "DataFrame3.dropna()"
   ]
  },
  {
   "cell_type": "markdown",
   "id": "544d2489",
   "metadata": {},
   "source": [
    "## 6.From DataFrame1 create a new data frame called DataFrame4. In DataFrame4, set the employee number as an in-place index. Display data from the 3rd row and 4th column using label-based and integer-based indexing."
   ]
  },
  {
   "cell_type": "code",
   "execution_count": 50,
   "id": "fd5e3cb2",
   "metadata": {},
   "outputs": [],
   "source": [
    "DataFrame4=DataFrame1.copy()"
   ]
  },
  {
   "cell_type": "code",
   "execution_count": 51,
   "id": "97bf59c7",
   "metadata": {},
   "outputs": [
    {
     "data": {
      "text/html": [
       "<div>\n",
       "<style scoped>\n",
       "    .dataframe tbody tr th:only-of-type {\n",
       "        vertical-align: middle;\n",
       "    }\n",
       "\n",
       "    .dataframe tbody tr th {\n",
       "        vertical-align: top;\n",
       "    }\n",
       "\n",
       "    .dataframe thead th {\n",
       "        text-align: right;\n",
       "    }\n",
       "</style>\n",
       "<table border=\"1\" class=\"dataframe\">\n",
       "  <thead>\n",
       "    <tr style=\"text-align: right;\">\n",
       "      <th></th>\n",
       "      <th>Emp_no</th>\n",
       "      <th>Emp_Name</th>\n",
       "      <th>Emp_salary</th>\n",
       "      <th>Emp_Dept_no</th>\n",
       "      <th>Emp_Designation</th>\n",
       "    </tr>\n",
       "  </thead>\n",
       "  <tbody>\n",
       "    <tr>\n",
       "      <th>0</th>\n",
       "      <td>1</td>\n",
       "      <td>Upendra</td>\n",
       "      <td>25000</td>\n",
       "      <td>5</td>\n",
       "      <td>Trainee</td>\n",
       "    </tr>\n",
       "    <tr>\n",
       "      <th>1</th>\n",
       "      <td>2</td>\n",
       "      <td>viswaksen</td>\n",
       "      <td>45000</td>\n",
       "      <td>5</td>\n",
       "      <td>Manager</td>\n",
       "    </tr>\n",
       "    <tr>\n",
       "      <th>2</th>\n",
       "      <td>3</td>\n",
       "      <td>venkatesh</td>\n",
       "      <td>55000</td>\n",
       "      <td>5</td>\n",
       "      <td>hod</td>\n",
       "    </tr>\n",
       "    <tr>\n",
       "      <th>3</th>\n",
       "      <td>4</td>\n",
       "      <td>dileep</td>\n",
       "      <td>35000</td>\n",
       "      <td>5</td>\n",
       "      <td>team leader</td>\n",
       "    </tr>\n",
       "    <tr>\n",
       "      <th>4</th>\n",
       "      <td>5</td>\n",
       "      <td>dileep kumar</td>\n",
       "      <td>25000</td>\n",
       "      <td>5</td>\n",
       "      <td>Trainee</td>\n",
       "    </tr>\n",
       "  </tbody>\n",
       "</table>\n",
       "</div>"
      ],
      "text/plain": [
       "   Emp_no      Emp_Name  Emp_salary  Emp_Dept_no Emp_Designation\n",
       "0       1       Upendra       25000            5         Trainee\n",
       "1       2     viswaksen       45000            5         Manager\n",
       "2       3     venkatesh       55000            5             hod\n",
       "3       4        dileep       35000            5     team leader\n",
       "4       5  dileep kumar       25000            5         Trainee"
      ]
     },
     "execution_count": 51,
     "metadata": {},
     "output_type": "execute_result"
    }
   ],
   "source": [
    "DataFrame4"
   ]
  },
  {
   "cell_type": "code",
   "execution_count": 52,
   "id": "d13b47d8",
   "metadata": {},
   "outputs": [],
   "source": [
    "DataFrame4.set_index('Emp_no',inplace=True)"
   ]
  },
  {
   "cell_type": "code",
   "execution_count": 53,
   "id": "66049dca",
   "metadata": {},
   "outputs": [
    {
     "data": {
      "text/html": [
       "<div>\n",
       "<style scoped>\n",
       "    .dataframe tbody tr th:only-of-type {\n",
       "        vertical-align: middle;\n",
       "    }\n",
       "\n",
       "    .dataframe tbody tr th {\n",
       "        vertical-align: top;\n",
       "    }\n",
       "\n",
       "    .dataframe thead th {\n",
       "        text-align: right;\n",
       "    }\n",
       "</style>\n",
       "<table border=\"1\" class=\"dataframe\">\n",
       "  <thead>\n",
       "    <tr style=\"text-align: right;\">\n",
       "      <th></th>\n",
       "      <th>Emp_Name</th>\n",
       "      <th>Emp_salary</th>\n",
       "      <th>Emp_Dept_no</th>\n",
       "      <th>Emp_Designation</th>\n",
       "    </tr>\n",
       "    <tr>\n",
       "      <th>Emp_no</th>\n",
       "      <th></th>\n",
       "      <th></th>\n",
       "      <th></th>\n",
       "      <th></th>\n",
       "    </tr>\n",
       "  </thead>\n",
       "  <tbody>\n",
       "    <tr>\n",
       "      <th>1</th>\n",
       "      <td>Upendra</td>\n",
       "      <td>25000</td>\n",
       "      <td>5</td>\n",
       "      <td>Trainee</td>\n",
       "    </tr>\n",
       "    <tr>\n",
       "      <th>2</th>\n",
       "      <td>viswaksen</td>\n",
       "      <td>45000</td>\n",
       "      <td>5</td>\n",
       "      <td>Manager</td>\n",
       "    </tr>\n",
       "    <tr>\n",
       "      <th>3</th>\n",
       "      <td>venkatesh</td>\n",
       "      <td>55000</td>\n",
       "      <td>5</td>\n",
       "      <td>hod</td>\n",
       "    </tr>\n",
       "    <tr>\n",
       "      <th>4</th>\n",
       "      <td>dileep</td>\n",
       "      <td>35000</td>\n",
       "      <td>5</td>\n",
       "      <td>team leader</td>\n",
       "    </tr>\n",
       "    <tr>\n",
       "      <th>5</th>\n",
       "      <td>dileep kumar</td>\n",
       "      <td>25000</td>\n",
       "      <td>5</td>\n",
       "      <td>Trainee</td>\n",
       "    </tr>\n",
       "  </tbody>\n",
       "</table>\n",
       "</div>"
      ],
      "text/plain": [
       "            Emp_Name  Emp_salary  Emp_Dept_no Emp_Designation\n",
       "Emp_no                                                       \n",
       "1            Upendra       25000            5         Trainee\n",
       "2          viswaksen       45000            5         Manager\n",
       "3          venkatesh       55000            5             hod\n",
       "4             dileep       35000            5     team leader\n",
       "5       dileep kumar       25000            5         Trainee"
      ]
     },
     "execution_count": 53,
     "metadata": {},
     "output_type": "execute_result"
    }
   ],
   "source": [
    "DataFrame4"
   ]
  },
  {
   "cell_type": "code",
   "execution_count": 54,
   "id": "d1be8c8a",
   "metadata": {},
   "outputs": [
    {
     "name": "stdout",
     "output_type": "stream",
     "text": [
      "hod\n"
     ]
    }
   ],
   "source": [
    "# using label-based indexing\n",
    "print(DataFrame4.loc[3, 'Emp_Designation'])"
   ]
  },
  {
   "cell_type": "code",
   "execution_count": 55,
   "id": "0a0ac8fa",
   "metadata": {},
   "outputs": [
    {
     "name": "stdout",
     "output_type": "stream",
     "text": [
      "hod\n"
     ]
    }
   ],
   "source": [
    "# using integer-based indexing\n",
    "print(DataFrame4.iloc[2,3])"
   ]
  },
  {
   "cell_type": "markdown",
   "id": "279fcd9c",
   "metadata": {},
   "source": [
    "# 7. In DataFrame3 created in Q.No. 5, find the salesman whose sales are greater than 7000 in region1 but less than 3000 in region2"
   ]
  },
  {
   "cell_type": "code",
   "execution_count": null,
   "id": "59313b57",
   "metadata": {},
   "outputs": [],
   "source": [
    "DataFrame3"
   ]
  },
  {
   "cell_type": "code",
   "execution_count": null,
   "id": "ecc1b3f2",
   "metadata": {},
   "outputs": [],
   "source": [
    "filtered_df3=DataFrame3[(DataFrame3['region1']>7000) &(DataFrame3['region2']<3000)]"
   ]
  },
  {
   "cell_type": "code",
   "execution_count": null,
   "id": "805f28b9",
   "metadata": {},
   "outputs": [],
   "source": [
    "Salesman_Name=filtered_df3['Salesman_Name']\n",
    "print(Salesman_Name)"
   ]
  },
  {
   "cell_type": "markdown",
   "id": "8ad92fb7",
   "metadata": {},
   "source": [
    "# 8.In DataFrame1 created in Q. No. 1, find the employees with the highest salary in each department. Use the group by clause and the max() function. Similarly, in DataFrame3 created in Q. No. 5, find the salesman with the highest amount of sales for each region."
   ]
  },
  {
   "cell_type": "code",
   "execution_count": 56,
   "id": "155fb25b",
   "metadata": {},
   "outputs": [
    {
     "data": {
      "text/html": [
       "<div>\n",
       "<style scoped>\n",
       "    .dataframe tbody tr th:only-of-type {\n",
       "        vertical-align: middle;\n",
       "    }\n",
       "\n",
       "    .dataframe tbody tr th {\n",
       "        vertical-align: top;\n",
       "    }\n",
       "\n",
       "    .dataframe thead th {\n",
       "        text-align: right;\n",
       "    }\n",
       "</style>\n",
       "<table border=\"1\" class=\"dataframe\">\n",
       "  <thead>\n",
       "    <tr style=\"text-align: right;\">\n",
       "      <th></th>\n",
       "      <th>Emp_no</th>\n",
       "      <th>Emp_Name</th>\n",
       "      <th>Emp_salary</th>\n",
       "      <th>Emp_Dept_no</th>\n",
       "      <th>Emp_Designation</th>\n",
       "    </tr>\n",
       "  </thead>\n",
       "  <tbody>\n",
       "    <tr>\n",
       "      <th>0</th>\n",
       "      <td>1</td>\n",
       "      <td>Upendra</td>\n",
       "      <td>25000</td>\n",
       "      <td>5</td>\n",
       "      <td>Trainee</td>\n",
       "    </tr>\n",
       "    <tr>\n",
       "      <th>1</th>\n",
       "      <td>2</td>\n",
       "      <td>viswaksen</td>\n",
       "      <td>45000</td>\n",
       "      <td>5</td>\n",
       "      <td>Manager</td>\n",
       "    </tr>\n",
       "    <tr>\n",
       "      <th>2</th>\n",
       "      <td>3</td>\n",
       "      <td>venkatesh</td>\n",
       "      <td>55000</td>\n",
       "      <td>5</td>\n",
       "      <td>hod</td>\n",
       "    </tr>\n",
       "    <tr>\n",
       "      <th>3</th>\n",
       "      <td>4</td>\n",
       "      <td>dileep</td>\n",
       "      <td>35000</td>\n",
       "      <td>5</td>\n",
       "      <td>team leader</td>\n",
       "    </tr>\n",
       "    <tr>\n",
       "      <th>4</th>\n",
       "      <td>5</td>\n",
       "      <td>dileep kumar</td>\n",
       "      <td>25000</td>\n",
       "      <td>5</td>\n",
       "      <td>Trainee</td>\n",
       "    </tr>\n",
       "  </tbody>\n",
       "</table>\n",
       "</div>"
      ],
      "text/plain": [
       "   Emp_no      Emp_Name  Emp_salary  Emp_Dept_no Emp_Designation\n",
       "0       1       Upendra       25000            5         Trainee\n",
       "1       2     viswaksen       45000            5         Manager\n",
       "2       3     venkatesh       55000            5             hod\n",
       "3       4        dileep       35000            5     team leader\n",
       "4       5  dileep kumar       25000            5         Trainee"
      ]
     },
     "execution_count": 56,
     "metadata": {},
     "output_type": "execute_result"
    }
   ],
   "source": [
    "DataFrame1"
   ]
  },
  {
   "cell_type": "code",
   "execution_count": 57,
   "id": "e2a7322e",
   "metadata": {},
   "outputs": [],
   "source": [
    "max_salary=DataFrame1.groupby('Emp_Dept_no')['Emp_salary'].max()"
   ]
  },
  {
   "cell_type": "code",
   "execution_count": 58,
   "id": "c6b4997d",
   "metadata": {},
   "outputs": [
    {
     "name": "stdout",
     "output_type": "stream",
     "text": [
      "Emp_Dept_no\n",
      "5    55000\n",
      "Name: Emp_salary, dtype: int64\n"
     ]
    }
   ],
   "source": [
    "print(max_salary)"
   ]
  },
  {
   "cell_type": "code",
   "execution_count": null,
   "id": "76560f65",
   "metadata": {},
   "outputs": [],
   "source": [
    "DataFrame3"
   ]
  },
  {
   "cell_type": "raw",
   "id": "84f506df",
   "metadata": {},
   "source": [
    "result = DataFrame3.groupby(\"Salesman_Name\").agg({\"region1\": \"sum\", \"region2\": \"sum\", \"region3\": \"sum\"})\n",
    "result[\"region1_max\"] = result[\"region1\"].idxmax()\n",
    "result[\"region2_max\"] = result[\"region2\"].idxmax()\n",
    "result[\"region3_max\"] = result[\"region3\"].idxmax()"
   ]
  },
  {
   "cell_type": "raw",
   "id": "cb079764",
   "metadata": {},
   "source": [
    "print(result[[\"region1_max\", \"region2_max\", \"region3_max\"]])"
   ]
  },
  {
   "cell_type": "markdown",
   "id": "138192e4",
   "metadata": {},
   "source": [
    "# 9.In DataFrame1 created in Q. No. 1, add a new column called Address. In this new column, set the value as ‘Chennai’ for all the existing rows"
   ]
  },
  {
   "cell_type": "code",
   "execution_count": 61,
   "id": "bd5143f0",
   "metadata": {},
   "outputs": [
    {
     "data": {
      "text/html": [
       "<div>\n",
       "<style scoped>\n",
       "    .dataframe tbody tr th:only-of-type {\n",
       "        vertical-align: middle;\n",
       "    }\n",
       "\n",
       "    .dataframe tbody tr th {\n",
       "        vertical-align: top;\n",
       "    }\n",
       "\n",
       "    .dataframe thead th {\n",
       "        text-align: right;\n",
       "    }\n",
       "</style>\n",
       "<table border=\"1\" class=\"dataframe\">\n",
       "  <thead>\n",
       "    <tr style=\"text-align: right;\">\n",
       "      <th></th>\n",
       "      <th>Emp_no</th>\n",
       "      <th>Emp_Name</th>\n",
       "      <th>Emp_salary</th>\n",
       "      <th>Emp_Dept_no</th>\n",
       "      <th>Emp_Designation</th>\n",
       "    </tr>\n",
       "  </thead>\n",
       "  <tbody>\n",
       "    <tr>\n",
       "      <th>0</th>\n",
       "      <td>1</td>\n",
       "      <td>Upendra</td>\n",
       "      <td>25000</td>\n",
       "      <td>5</td>\n",
       "      <td>Trainee</td>\n",
       "    </tr>\n",
       "    <tr>\n",
       "      <th>1</th>\n",
       "      <td>2</td>\n",
       "      <td>viswaksen</td>\n",
       "      <td>45000</td>\n",
       "      <td>5</td>\n",
       "      <td>Manager</td>\n",
       "    </tr>\n",
       "    <tr>\n",
       "      <th>2</th>\n",
       "      <td>3</td>\n",
       "      <td>venkatesh</td>\n",
       "      <td>55000</td>\n",
       "      <td>5</td>\n",
       "      <td>hod</td>\n",
       "    </tr>\n",
       "    <tr>\n",
       "      <th>3</th>\n",
       "      <td>4</td>\n",
       "      <td>dileep</td>\n",
       "      <td>35000</td>\n",
       "      <td>5</td>\n",
       "      <td>team leader</td>\n",
       "    </tr>\n",
       "    <tr>\n",
       "      <th>4</th>\n",
       "      <td>5</td>\n",
       "      <td>dileep kumar</td>\n",
       "      <td>25000</td>\n",
       "      <td>5</td>\n",
       "      <td>Trainee</td>\n",
       "    </tr>\n",
       "  </tbody>\n",
       "</table>\n",
       "</div>"
      ],
      "text/plain": [
       "   Emp_no      Emp_Name  Emp_salary  Emp_Dept_no Emp_Designation\n",
       "0       1       Upendra       25000            5         Trainee\n",
       "1       2     viswaksen       45000            5         Manager\n",
       "2       3     venkatesh       55000            5             hod\n",
       "3       4        dileep       35000            5     team leader\n",
       "4       5  dileep kumar       25000            5         Trainee"
      ]
     },
     "execution_count": 61,
     "metadata": {},
     "output_type": "execute_result"
    }
   ],
   "source": [
    "DataFrame1"
   ]
  },
  {
   "cell_type": "code",
   "execution_count": 62,
   "id": "8b7439e8",
   "metadata": {},
   "outputs": [],
   "source": [
    "DataFrame1[\"Address\"] = \"Chennai\""
   ]
  },
  {
   "cell_type": "code",
   "execution_count": 63,
   "id": "b05a1542",
   "metadata": {
    "scrolled": true
   },
   "outputs": [
    {
     "name": "stdout",
     "output_type": "stream",
     "text": [
      "   Emp_no      Emp_Name  Emp_salary  Emp_Dept_no Emp_Designation  Address\n",
      "0       1       Upendra       25000            5         Trainee  Chennai\n",
      "1       2     viswaksen       45000            5         Manager  Chennai\n",
      "2       3     venkatesh       55000            5             hod  Chennai\n",
      "3       4        dileep       35000            5     team leader  Chennai\n",
      "4       5  dileep kumar       25000            5         Trainee  Chennai\n"
     ]
    }
   ],
   "source": [
    "print(DataFrame1)"
   ]
  },
  {
   "cell_type": "markdown",
   "id": "cbc49b1b",
   "metadata": {},
   "source": [
    "# 10.Create a line graph and bar chart to visualize the two data frames, DataFrame1 and DataFrame3."
   ]
  },
  {
   "cell_type": "code",
   "execution_count": 64,
   "id": "0ed90757",
   "metadata": {},
   "outputs": [
    {
     "data": {
      "text/html": [
       "<div>\n",
       "<style scoped>\n",
       "    .dataframe tbody tr th:only-of-type {\n",
       "        vertical-align: middle;\n",
       "    }\n",
       "\n",
       "    .dataframe tbody tr th {\n",
       "        vertical-align: top;\n",
       "    }\n",
       "\n",
       "    .dataframe thead th {\n",
       "        text-align: right;\n",
       "    }\n",
       "</style>\n",
       "<table border=\"1\" class=\"dataframe\">\n",
       "  <thead>\n",
       "    <tr style=\"text-align: right;\">\n",
       "      <th></th>\n",
       "      <th>Emp_no</th>\n",
       "      <th>Emp_Name</th>\n",
       "      <th>Emp_salary</th>\n",
       "      <th>Emp_Dept_no</th>\n",
       "      <th>Emp_Designation</th>\n",
       "      <th>Address</th>\n",
       "    </tr>\n",
       "  </thead>\n",
       "  <tbody>\n",
       "    <tr>\n",
       "      <th>0</th>\n",
       "      <td>1</td>\n",
       "      <td>Upendra</td>\n",
       "      <td>25000</td>\n",
       "      <td>5</td>\n",
       "      <td>Trainee</td>\n",
       "      <td>Chennai</td>\n",
       "    </tr>\n",
       "    <tr>\n",
       "      <th>1</th>\n",
       "      <td>2</td>\n",
       "      <td>viswaksen</td>\n",
       "      <td>45000</td>\n",
       "      <td>5</td>\n",
       "      <td>Manager</td>\n",
       "      <td>Chennai</td>\n",
       "    </tr>\n",
       "    <tr>\n",
       "      <th>2</th>\n",
       "      <td>3</td>\n",
       "      <td>venkatesh</td>\n",
       "      <td>55000</td>\n",
       "      <td>5</td>\n",
       "      <td>hod</td>\n",
       "      <td>Chennai</td>\n",
       "    </tr>\n",
       "    <tr>\n",
       "      <th>3</th>\n",
       "      <td>4</td>\n",
       "      <td>dileep</td>\n",
       "      <td>35000</td>\n",
       "      <td>5</td>\n",
       "      <td>team leader</td>\n",
       "      <td>Chennai</td>\n",
       "    </tr>\n",
       "    <tr>\n",
       "      <th>4</th>\n",
       "      <td>5</td>\n",
       "      <td>dileep kumar</td>\n",
       "      <td>25000</td>\n",
       "      <td>5</td>\n",
       "      <td>Trainee</td>\n",
       "      <td>Chennai</td>\n",
       "    </tr>\n",
       "  </tbody>\n",
       "</table>\n",
       "</div>"
      ],
      "text/plain": [
       "   Emp_no      Emp_Name  Emp_salary  Emp_Dept_no Emp_Designation  Address\n",
       "0       1       Upendra       25000            5         Trainee  Chennai\n",
       "1       2     viswaksen       45000            5         Manager  Chennai\n",
       "2       3     venkatesh       55000            5             hod  Chennai\n",
       "3       4        dileep       35000            5     team leader  Chennai\n",
       "4       5  dileep kumar       25000            5         Trainee  Chennai"
      ]
     },
     "execution_count": 64,
     "metadata": {},
     "output_type": "execute_result"
    }
   ],
   "source": [
    "DataFrame1"
   ]
  },
  {
   "cell_type": "raw",
   "id": "421196bd",
   "metadata": {},
   "source": [
    "DataFrame3"
   ]
  },
  {
   "cell_type": "code",
   "execution_count": 66,
   "id": "7cc58f8a",
   "metadata": {},
   "outputs": [],
   "source": [
    "import matplotlib.pyplot as plt"
   ]
  },
  {
   "cell_type": "code",
   "execution_count": 67,
   "id": "08eda517",
   "metadata": {},
   "outputs": [
    {
     "ename": "NameError",
     "evalue": "name 'DataFrame3' is not defined",
     "output_type": "error",
     "traceback": [
      "\u001b[1;31m---------------------------------------------------------------------------\u001b[0m",
      "\u001b[1;31mNameError\u001b[0m                                 Traceback (most recent call last)",
      "Cell \u001b[1;32mIn[67], line 11\u001b[0m\n\u001b[0;32m      8\u001b[0m ax1\u001b[38;5;241m.\u001b[39mset_ylabel(\u001b[38;5;124m\"\u001b[39m\u001b[38;5;124mEmp_salary\u001b[39m\u001b[38;5;124m\"\u001b[39m)\n\u001b[0;32m     10\u001b[0m \u001b[38;5;66;03m# plot the sales by salesman name as a line graph on the second subplot\u001b[39;00m\n\u001b[1;32m---> 11\u001b[0m ax2\u001b[38;5;241m.\u001b[39mplot(DataFrame3[\u001b[38;5;124m\"\u001b[39m\u001b[38;5;124mSalesman_Name\u001b[39m\u001b[38;5;124m\"\u001b[39m], DataFrame3[\u001b[38;5;124m\"\u001b[39m\u001b[38;5;124mregion1\u001b[39m\u001b[38;5;124m\"\u001b[39m], label\u001b[38;5;241m=\u001b[39m\u001b[38;5;124m\"\u001b[39m\u001b[38;5;124mregion1\u001b[39m\u001b[38;5;124m\"\u001b[39m)\n\u001b[0;32m     12\u001b[0m ax2\u001b[38;5;241m.\u001b[39mplot(DataFrame3[\u001b[38;5;124m\"\u001b[39m\u001b[38;5;124mSalesman_Name\u001b[39m\u001b[38;5;124m\"\u001b[39m], DataFrame3[\u001b[38;5;124m\"\u001b[39m\u001b[38;5;124mregion2\u001b[39m\u001b[38;5;124m\"\u001b[39m], label\u001b[38;5;241m=\u001b[39m\u001b[38;5;124m\"\u001b[39m\u001b[38;5;124mregion2\u001b[39m\u001b[38;5;124m\"\u001b[39m)\n\u001b[0;32m     13\u001b[0m ax2\u001b[38;5;241m.\u001b[39mplot(DataFrame3[\u001b[38;5;124m\"\u001b[39m\u001b[38;5;124mSalesman_Name\u001b[39m\u001b[38;5;124m\"\u001b[39m], DataFrame3[\u001b[38;5;124m\"\u001b[39m\u001b[38;5;124mregion3\u001b[39m\u001b[38;5;124m\"\u001b[39m], label\u001b[38;5;241m=\u001b[39m\u001b[38;5;124m\"\u001b[39m\u001b[38;5;124mregion3\u001b[39m\u001b[38;5;124m\"\u001b[39m)\n",
      "\u001b[1;31mNameError\u001b[0m: name 'DataFrame3' is not defined"
     ]
    },
    {
     "data": {
      "image/png": "[encoded data removed]",
      "text/plain": [
       "<Figure size 1000x500 with 2 Axes>"
      ]
     },
     "metadata": {},
     "output_type": "display_data"
    }
   ],
   "source": [
    "# create a figure with two subplots\n",
    "fig, (ax1, ax2) = plt.subplots(1, 2, figsize=(10, 5))\n",
    "\n",
    "# plot the salary by employee number as a bar chart on the first subplot\n",
    "ax1.bar(DataFrame1[\"Emp_no\"], DataFrame1[\"Emp_salary\"])\n",
    "ax1.set_title(\"Salary by Employee Number\")\n",
    "ax1.set_xlabel(\"Emp_no\")\n",
    "ax1.set_ylabel(\"Emp_salary\")\n",
    "\n",
    "# plot the sales by salesman name as a line graph on the second subplot\n",
    "ax2.plot(DataFrame3[\"Salesman_Name\"], DataFrame3[\"region1\"], label=\"region1\")\n",
    "ax2.plot(DataFrame3[\"Salesman_Name\"], DataFrame3[\"region2\"], label=\"region2\")\n",
    "ax2.plot(DataFrame3[\"Salesman_Name\"], DataFrame3[\"region3\"], label=\"region3\")\n",
    "ax2.set_title(\"Sales by Salesman Name\")\n",
    "ax2.set_xlabel(\"Salesman Name\")\n",
    "ax2.set_ylabel(\"Sales\")\n",
    "ax2.legend()\n",
    "\n",
    "# show the figure\n",
    "plt.show()"
   ]
  },
  {
   "cell_type": "markdown",
   "id": "70491c24",
   "metadata": {},
   "source": [
    "# WEEK10_SESSION 07-04-2024"
   ]
  },
  {
   "cell_type": "markdown",
   "id": "221fc1c8",
   "metadata": {},
   "source": [
    "## Numeric and Scientific Computing using Numpy\n"
   ]
  },
  {
   "cell_type": "raw",
   "id": "a3d135db",
   "metadata": {},
   "source": [
    "1.Introduction to NumPy\n",
    "2.NumPy Datatypes\n",
    "3.Array Creation methods\n",
    "4.Indexing and Slicing\n",
    "5.Array Operations\n",
    "6.Working with OpenCV\n",
    "7.Stacking NumPy Arrays\n",
    "8.Splitting NumPy Arrays\n",
    "9.Smoothing an Image"
   ]
  },
  {
   "cell_type": "markdown",
   "id": "941747a5",
   "metadata": {},
   "source": [
    "# 1.Introduction to NumPy\n"
   ]
  },
  {
   "cell_type": "raw",
   "id": "7f47e388",
   "metadata": {},
   "source": [
    "NumPy, which stands for Numerical Python, is a library consisting of multidimensional array objects and a collection of routines for processing those arrays. \n",
    "Using NumPy, mathematical and logical operations on arrays can be performed. \n",
    "In order to install NumPy, use the following command: pip install numpy\n",
    "To use NumPy package, we have to import it: import numpy as np\n"
   ]
  },
  {
   "cell_type": "markdown",
   "id": "092b10b3",
   "metadata": {},
   "source": [
    "## N-Dimensional Array - ndarray object"
   ]
  },
  {
   "cell_type": "raw",
   "id": "5cbf637c",
   "metadata": {},
   "source": [
    "The most important object defined in NumPy is an N-dimensional array type called ndarray. \n",
    "It describes the collection of items of the same type. Items in the collection can be accessed using a zero-based index.\n",
    "The basic ndarray is created using an array function in NumPy as numpy.array(list_of_elements). For example:\n"
   ]
  },
  {
   "cell_type": "code",
   "execution_count": 3,
   "id": "d21d73b5",
   "metadata": {},
   "outputs": [
    {
     "name": "stdout",
     "output_type": "stream",
     "text": [
      "[1 2 3]\n",
      "[[1 2]\n",
      " [3 4]]\n"
     ]
    }
   ],
   "source": [
    "import numpy as np\n",
    "a1 = np.array([1,2,3]) \n",
    "print (a1)\n",
    "a2 = np.array([[1, 2], [3, 4]]) # 2-D array\n",
    "print(a2)\n"
   ]
  },
  {
   "cell_type": "markdown",
   "id": "2aba1758",
   "metadata": {},
   "source": [
    "# 2.NumPy Datatypes\n"
   ]
  },
  {
   "cell_type": "raw",
   "id": "e080eab4",
   "metadata": {},
   "source": [
    "We can specify the datatype of the elements:\n",
    "\ta3 = np.array([[1, 2], [3, 4]],dtype=str) # 2-D array\n",
    "NumPy supports a much greater variety of numerical types than Python does. The following is the list of DataTypes supported in NumPy: integer, boolean, unsigned integer, float, complex float, timedelta, datetime, object, string, unicode string, fixed chunk of memory for other type ( void )\n",
    "The NumPy array object has a property called dtype that returns the data type of the array:\n",
    "\tprint(a2.dtype)\n"
   ]
  },
  {
   "cell_type": "code",
   "execution_count": 5,
   "id": "f8116a29",
   "metadata": {},
   "outputs": [
    {
     "name": "stdout",
     "output_type": "stream",
     "text": [
      "int32\n"
     ]
    },
    {
     "data": {
      "text/plain": [
       "array([['1', '2'],\n",
       "       ['3', '4']], dtype='<U1')"
      ]
     },
     "execution_count": 5,
     "metadata": {},
     "output_type": "execute_result"
    }
   ],
   "source": [
    "a3 = np.array([[1, 2], [3, 4]],dtype=str)\n",
    "print(a2.dtype)\n",
    "a3"
   ]
  },
  {
   "cell_type": "markdown",
   "id": "557c5066",
   "metadata": {},
   "source": [
    "# Array Attributes"
   ]
  },
  {
   "cell_type": "raw",
   "id": "0e3b63c9",
   "metadata": {},
   "source": [
    "ndarray.shape: This array attribute returns a tuple consisting of array dimensions. \n",
    "NumPy also provides a reshape function to resize an array.\n",
    "\ta4 = np.array([[1,2],[4,5],[7,8]])\n",
    "print(a4)\n",
    "print(a4.shape)\n",
    "a4=a4.reshape(2,3)\n",
    "print(a4.shape)\n",
    "print(a4)\n"
   ]
  },
  {
   "cell_type": "code",
   "execution_count": 6,
   "id": "3b51c20f",
   "metadata": {},
   "outputs": [
    {
     "name": "stdout",
     "output_type": "stream",
     "text": [
      "[[1 2]\n",
      " [4 5]\n",
      " [7 8]]\n",
      "(3, 2)\n",
      "(2, 3)\n",
      "[[1 2 4]\n",
      " [5 7 8]]\n"
     ]
    }
   ],
   "source": [
    "a4 = np.array([[1,2],[4,5],[7,8]])\n",
    "print(a4)\n",
    "print(a4.shape)\n",
    "a4=a4.reshape(2,3)\n",
    "print(a4.shape)\n",
    "print(a4)"
   ]
  },
  {
   "cell_type": "markdown",
   "id": "a05ebd47",
   "metadata": {},
   "source": [
    "# 3.Array Creation methods\n"
   ]
  },
  {
   "cell_type": "raw",
   "id": "0c6b7f35",
   "metadata": {},
   "source": [
    "A new ndarray object can be constructed by any of the following array creation methods:\n",
    "numpy.empty(): It creates an uninitialized array of specified shape and dtype. It uses the following syntax:\n",
    "numpy.empty(shape, dtype = float, order = 'C')\n",
    "\tFor Example: \n",
    "\tx = np.empty([3,2], dtype = int) \n",
    "\tprint(x)\n",
    "ii. \tnumpy.zeros(): Returns a new array of specified size, filled with zeros. Its syntax is: numpy.zeros(shape, dtype = float, order = 'C')\n",
    "x = np.zeros([5,3], dtype = int) \n",
    "print(x)\n",
    "iii.\tnumpy.ones(): Returns a new array of specified size and type, filled with ones.\n",
    "numpy.ones(shape, dtype = float, order = 'C')\n",
    "x = np.ones(5) # Default dtype is float \n",
    "print(x) \n"
   ]
  },
  {
   "cell_type": "markdown",
   "id": "ddd399bd",
   "metadata": {},
   "source": [
    "## Creating arrays from data"
   ]
  },
  {
   "cell_type": "raw",
   "id": "3cbb413a",
   "metadata": {},
   "source": [
    "numpy.asarray(): This function is useful for converting Python sequence into ndarray. Its syntax is:\n",
    "numpy.asarray(a, dtype = None, order = None)\n",
    "x = [1,2,3] \n",
    "a = np.asarray(x)  # a is integer ndarray\n",
    "a = np.asarray(x, dtype = float) # a is float ndarray\n",
    "numpy.fromiter(): This function builds an ndarray object from any iterable object. A new one-dimensional array is returned by this function.\n",
    "Its syntax is : \n",
    "\tnumpy.fromiter(iterable, dtype, count = -1)\n",
    "\tWhere count indicate number of items to be read from the iterable. -1 means all items.\n",
    "list1 = range(5) \n",
    "x1 = np.fromiter(list1, dtype = float) \n",
    "print(x1)\n"
   ]
  },
  {
   "cell_type": "markdown",
   "id": "35ab8c2c",
   "metadata": {},
   "source": [
    "## Creating arrays from numerical ranges"
   ]
  },
  {
   "cell_type": "raw",
   "id": "81de5bf4",
   "metadata": {},
   "source": [
    "numpy.arange(): This function returns an ndarray object containing evenly spaced values within a given range. The syntax of the function is:\n",
    "numpy.arange(start, stop, step, dtype)\n",
    "For example: \n",
    "x = np.arange(0,10,2,float) \n",
    "print(x)\n",
    "numpy.linspace(): In this function, instead of step size, the number of evenly spaced values between the interval is specified. \n",
    "The syntax of this function is as follows:\n",
    "numpy.linspace(start, stop, num, endpoint, retstep, dtype)\n",
    "For example:\n",
    "x = np.linspace(10,20,15) \n",
    "print(x)\n"
   ]
  },
  {
   "cell_type": "markdown",
   "id": "2afffd05",
   "metadata": {},
   "source": [
    "# 4.Indexing and Slicing\n"
   ]
  },
  {
   "cell_type": "raw",
   "id": "466c4f47",
   "metadata": {},
   "source": [
    "Contents of ndarray object can be accessed and modified by indexing or slicing, just like Python's in-built container objects.\n",
    "Items in ndarray object follows zero-based index. \n",
    "Basic slicing is an extension of Python's basic concept of slicing to n dimensions. \n",
    "A Python slice object is constructed by giving start, stop, and step parameters to the built-in slice function. \n",
    "This slice object is passed to the array to extract a part of array.\n",
    "Single dimension array\n",
    "a = np.arange(10) \n",
    "b = a[2:7:2] \n",
    "print(b)\n",
    "Multi dimensional array\n",
    "a = np.array([[1,2,3],[3,4,5],[4,5,6]]) \n",
    "print(a)  \n",
    "print(a[1:])\n",
    "print(a[1][2])\n",
    "print(a[2])\n"
   ]
  },
  {
   "cell_type": "markdown",
   "id": "043a058c",
   "metadata": {},
   "source": [
    "## Advanced Indexing"
   ]
  },
  {
   "cell_type": "raw",
   "id": "8a2252bf",
   "metadata": {},
   "source": [
    "There are two types of advanced indexing:\n",
    "Integer Indexing: This mechanism helps in selecting any arbitrary item in an array based on its ndarray index. Each integer array represents the number of indexes into that dimension. \n",
    "Boolean Indexing: This type of advanced indexing is used when the resultant object is meant to be the result of Boolean operations, such as comparison operators.\n"
   ]
  },
  {
   "cell_type": "markdown",
   "id": "281b667b",
   "metadata": {},
   "source": [
    "## Integer Indexing"
   ]
  },
  {
   "cell_type": "raw",
   "id": "7b47b8fc",
   "metadata": {},
   "source": [
    "The following operation returns the elements: (0,0),(1,1),(2,0)\n",
    "x = np.array([[1, 2], [3, 4], [5, 6]]) \n",
    "y = x[[0,1,2], [0,1,0]] \n",
    "print(y)\n",
    "Advanced and basic indexing can be combined by using slice (:) with an index array. \n",
    "\tx = np.array([[ 0,  1,  2],[ 3,  4,  5],[ 6,  7,  8],[ 9, 10, 11]]) \n",
    "print(x) \n",
    "# using advanced index for column \n",
    "y = x[1:3,[0,1]] \n",
    "print(y)\n"
   ]
  },
  {
   "cell_type": "markdown",
   "id": "ad9c3e30",
   "metadata": {},
   "source": [
    "# Boolean Indexing"
   ]
  },
  {
   "cell_type": "raw",
   "id": "9c0c84bf",
   "metadata": {},
   "source": [
    "Find all elements greater than 5:\n",
    "x = np.array([[ 0,  1,  2],[ 3,  4,  5],[ 6,  7,  8],[ 9, 10, 11]])\n",
    "print ('The items greater than 5 are:' )\n",
    "print(x[x > 5])\n",
    "Find all non-NaN elements:\n",
    "\tprint(x[~np.isnan(x)])\n",
    "Find all non-integer elements:\n",
    "\tprint (x[x.dtype!=‘int'])\n"
   ]
  },
  {
   "cell_type": "markdown",
   "id": "dbc3db10",
   "metadata": {},
   "source": [
    "## Broadcasting"
   ]
  },
  {
   "cell_type": "raw",
   "id": "4960b790",
   "metadata": {},
   "source": [
    "The term broadcasting refers to the ability of NumPy to treat arrays of different shapes during arithmetic operations. Arithmetic operations on arrays are usually done on corresponding elements. \n",
    "If the dimensions of two arrays are dissimilar, the smaller array is broadcast to the size of the larger array so that they have compatible shapes.\n",
    "a = np.array([[0.0,0.0,0.0],[10.0,10.0,10.0],[20.0,20.0,20.0],[30.0,30.0,30.0]]) \n",
    "b = np.array([1.0,2.0,3.0]) \n",
    "print('First Array + Second Array' )\n",
    "print(a + b)\n"
   ]
  },
  {
   "cell_type": "markdown",
   "id": "754dd40a",
   "metadata": {},
   "source": [
    "# 5.Array Operations\n"
   ]
  },
  {
   "cell_type": "code",
   "execution_count": null,
   "id": "61e467b6",
   "metadata": {},
   "outputs": [],
   "source": [
    "Transpose: x.T\n",
    "Joining Arrays:\n",
    "a = np.array([[1,2],[3,4]]) \n",
    "b = np.array([[5,6],[7,8]]) \n",
    "print('a:',a)\n",
    "print('b:',b) \n",
    "print('Joining the two arrays along axis 0:')\n",
    "print(np.concatenate((a,b))) \n",
    "print('Joining the two arrays along axis 1:')\n",
    "print(np.concatenate((a,b),axis = 1))\n",
    "NumPy package contains an iterator object numpy.nditer. \n",
    "It is an efficient multidimensional iterator object using which it is possible to iterate over an array. \n",
    "Each element of an array is visited using Python’s standard Iterator interface. For Example:\n",
    "x = np.array([[ 0,  1,  2],[ 3,  4,  5],[ 6,  7,  8],[ 9, 10, 11]])\n",
    "for i in np.nditer(x):\n",
    "    print(i)\n"
   ]
  },
  {
   "cell_type": "markdown",
   "id": "f7c53361",
   "metadata": {},
   "source": [
    "# 6.Working with OpenCV\n"
   ]
  },
  {
   "cell_type": "raw",
   "id": "7a239ff7",
   "metadata": {},
   "source": [
    "OpenCV-Python is a library of Python bindings designed to solve computer vision problems.\n",
    "OpenCV-Python makes use of Numpy, which is a highly optimized library for numerical operations. \n",
    "All the OpenCV array structures are converted to and from Numpy arrays. \n",
    "Install OpenCV: Open the command line and type:\n",
    "pip install opencv-python \n",
    "OpenCV must be imported into Python programs: import cv2 \n",
    "Consider a grayscale image, called smallgray.png of 15 pixels.\n",
    "\n"
   ]
  },
  {
   "cell_type": "markdown",
   "id": "8e6fe3c5",
   "metadata": {},
   "source": [
    "## Reading image from a file"
   ]
  },
  {
   "cell_type": "raw",
   "id": "efeb5afd",
   "metadata": {},
   "source": [
    "cv2.imread() method loads an image from the specified file. \n",
    "If the image cannot be read (because of missing file, improper permissions, unsupported or invalid format) then this method returns an empty matrix.\n",
    "The image should be in the working directory or a full path of image should be given.\n",
    "Second argument is a flag which specifies the way image should be read. For example:\n",
    "im_g = cv2.imread(\"smallgray.png\",0) # 0 means grayscale\n",
    "cv2.imread() returns a numpy array which represents the pixel by pixel representation of the image. For example, the numpy array returned by the previous command is: \n",
    "print(im_g)\n",
    "[[187 158 104 121 143] \n",
    "[198 125 255 255 147] \n",
    "[209 134 255 97 182]]\n",
    "Where each value in the array represents the grayscale value of each of the 15 pixels in the image.\n"
   ]
  },
  {
   "cell_type": "markdown",
   "id": "21063f4c",
   "metadata": {},
   "source": [
    "# 7.Stacking NumPy Arrays\n"
   ]
  },
  {
   "cell_type": "raw",
   "id": "a6e41d02",
   "metadata": {},
   "source": [
    "#We can stack numpy arrays either horizontally or vertically using the hstack() and vstack() methods. For example:\n",
    "im_h = np.hstack((im_g,im_g))\n",
    "print(im_h)\n",
    "[[187 158 104 121 143 187 158 104 121 143] \n",
    "[198 125 255 255 147 198 125 255 255 147] \n",
    "[209 134 255 97 182 209 134 255 97 182]]\n",
    "#The above operation has effectively created two copies of the same image in one variable, called im_h\n",
    "#Similarly, we can stack arrays vertically using vstack method:\n",
    "im_v = np.vstack((im_g,im_g,im_g))\n",
    "print(im_v)[\n",
    "[187 158 104 121 143] \n",
    "[198 125 255 255 147] \n",
    "[209 134 255 97 182] \n",
    "[187 158 104 121 143] \n",
    "[198 125 255 255 147] \n",
    "[209 134 255 97 182] \n",
    "[187 158 104 121 143] \n",
    "[198 125 255 255 147]\n",
    "[209 134 255 97 182]]\n"
   ]
  },
  {
   "cell_type": "markdown",
   "id": "95a29398",
   "metadata": {},
   "source": [
    "# 8.Splitting NumPy Arrays\n"
   ]
  },
  {
   "cell_type": "raw",
   "id": "30f0cd7b",
   "metadata": {},
   "source": [
    "The following methods can be used to split numpy arrays horizontally as well as vertically:\n",
    "hsplit(): Splits an array into multiple sub-arrays horizontally (column-wise)\n",
    "vsplit(): Splits an array into multiple sub-arrays vertically (row-wise)\n",
    "For example: \n",
    "im_sp_h=np.hsplit(im_h,2)\n",
    "\tprint(im_sp_h)\n",
    "im_sp_v=np.vsplit(im_v,3)\n",
    "\tprint(im_sp_v)\n"
   ]
  },
  {
   "cell_type": "markdown",
   "id": "4c5a310f",
   "metadata": {},
   "source": [
    "# 9.Smoothing an Image"
   ]
  },
  {
   "cell_type": "raw",
   "id": "0b01b604",
   "metadata": {},
   "source": [
    "import cv2\n",
    "im_g = cv2.imread(\"smallgray.png\",0)\n",
    "print(im_g)\n",
    "img_blur = cv2.blur(im_g,(3,5)) \n",
    "# Blur the image based on average of surrounding pixels\n",
    "print(img_blur)\n",
    "cv2.imwrite(\"newsmallgray.png\",img_blur)\n"
   ]
  },
  {
   "cell_type": "markdown",
   "id": "5edf57da",
   "metadata": {},
   "source": [
    "# 1. Create two numpy arrays. The first array, called arr1 should be of one dimension and consist of six elements of float type. The second array, called arr2 should be of two dimensions and each sub-array should consist of 5 elements of string type. Display these two numpy arrays."
   ]
  },
  {
   "cell_type": "code",
   "execution_count": 14,
   "id": "80973808",
   "metadata": {},
   "outputs": [
    {
     "name": "stdout",
     "output_type": "stream",
     "text": [
      "[1. 2. 3. 4. 5. 6.]\n",
      "[['1' '2' 'raju' '4' '5' '6']\n",
      " ['9' '8' 'rohit' '6' 'dileep' '4']]\n"
     ]
    }
   ],
   "source": [
    "import numpy as np\n",
    "\n",
    "arr1=np.array([1,2,3,4,5,6],float)\n",
    "print(arr1)\n",
    "\n",
    "arr2=np.array([[1,2,'raju',4,5,6],[9,8,'rohit',6,'dileep',4]],str)\n",
    "print(arr2)"
   ]
  },
  {
   "cell_type": "code",
   "execution_count": 15,
   "id": "8740c386",
   "metadata": {},
   "outputs": [
    {
     "name": "stdout",
     "output_type": "stream",
     "text": [
      "1.0\n",
      "2.0\n",
      "3.0\n",
      "4.0\n",
      "5.0\n",
      "6.0\n",
      "['1' '2' 'raju' '4' '5' '6']\n",
      "['9' '8' 'rohit' '6' 'dileep' '4']\n"
     ]
    }
   ],
   "source": [
    "for i in arr1:\n",
    "    print(i)\n",
    "for i in arr2:\n",
    "    print(i)"
   ]
  },
  {
   "cell_type": "markdown",
   "id": "5d8f5f1f",
   "metadata": {},
   "source": [
    "# 2.For the arrays arr1 and arr2 created in Q.No.1, display the following properties: data type and dimensions. Reshape arr1 into a two dimensional array of 2 rows and three columns, and display the reshaped array. Similarly, reshape arr2 into a single dimensional array and display the reshaped array."
   ]
  },
  {
   "cell_type": "code",
   "execution_count": 16,
   "id": "f4eeb2db",
   "metadata": {},
   "outputs": [
    {
     "name": "stdout",
     "output_type": "stream",
     "text": [
      "float64\n",
      "<U6\n",
      "1\n",
      "2\n"
     ]
    }
   ],
   "source": [
    "print(arr1.dtype)\n",
    "\n",
    "print(arr2.dtype)\n",
    "\n",
    "print(arr1.ndim)\n",
    "\n",
    "print(arr2.ndim)"
   ]
  },
  {
   "cell_type": "code",
   "execution_count": 17,
   "id": "58de0b31",
   "metadata": {},
   "outputs": [
    {
     "name": "stdout",
     "output_type": "stream",
     "text": [
      "[[1. 2. 3.]\n",
      " [4. 5. 6.]]\n"
     ]
    }
   ],
   "source": [
    "reshapedarr1=arr1.reshape(2,3)\n",
    "print(reshapedarr1)"
   ]
  },
  {
   "cell_type": "code",
   "execution_count": 18,
   "id": "2ddfb0b7",
   "metadata": {},
   "outputs": [
    {
     "name": "stdout",
     "output_type": "stream",
     "text": [
      "[['1' '2' 'raju' '4' '5' '6' '9' '8' 'rohit' '6' 'dileep' '4']]\n"
     ]
    }
   ],
   "source": [
    "reshapedarr2=arr2.reshape(1,12)\n",
    "print(reshapedarr2)"
   ]
  },
  {
   "cell_type": "markdown",
   "id": "c9ccbcba",
   "metadata": {},
   "source": [
    "# 3.Create a two dimensional array called arr3, of 3 rows and 4 columns which is initialized to zeroes. Create another single dimensional array called arr4, with 6 elements and which is initialized to ones. The type of arr4 is int."
   ]
  },
  {
   "cell_type": "code",
   "execution_count": 19,
   "id": "1dc69f24",
   "metadata": {},
   "outputs": [
    {
     "name": "stdout",
     "output_type": "stream",
     "text": [
      "[[0. 0. 0. 0.]\n",
      " [0. 0. 0. 0.]\n",
      " [0. 0. 0. 0.]]\n"
     ]
    }
   ],
   "source": [
    "arr3=np.zeros([3,4])\n",
    "print(arr3)"
   ]
  },
  {
   "cell_type": "code",
   "execution_count": 20,
   "id": "fe567208",
   "metadata": {},
   "outputs": [
    {
     "name": "stdout",
     "output_type": "stream",
     "text": [
      "[1 1 1 1 1 1]\n"
     ]
    }
   ],
   "source": [
    "arr4=np.ones([6],dtype=int)\n",
    "print(arr4)"
   ]
  },
  {
   "cell_type": "markdown",
   "id": "94e277c3",
   "metadata": {},
   "source": [
    "# 4. Create a list called list1 with the elements 10,20,30,40,50. Now, create a numpy array called arr5 from list1, using the method asarray. The data type of arr5 is float. Similarly, create another array called arr6, from list1, using the method fromiter, whose data type is int. Display arr5 and arr6."
   ]
  },
  {
   "cell_type": "code",
   "execution_count": 21,
   "id": "3d0a9287",
   "metadata": {},
   "outputs": [
    {
     "name": "stdout",
     "output_type": "stream",
     "text": [
      "[10. 20. 30. 40. 50.]\n",
      "[10 20 30 40 50]\n"
     ]
    }
   ],
   "source": [
    "list1=[10,20,30,40,50]\n",
    "\n",
    "arr5=np.asarray(list1,dtype=float)\n",
    "\n",
    "arr6=np.fromiter(list1,dtype=int)\n",
    "\n",
    "print(arr5)\n",
    "\n",
    "print(arr6)"
   ]
  },
  {
   "cell_type": "markdown",
   "id": "a581e91c",
   "metadata": {},
   "source": [
    "# 5.Create a numpy array called arr7 using the method arange. The starting value of this array is 12 and ending value is 99, with a step size of 3. Use the linspace method to create another array called arr8, where the starting value is 12 and ending value is 99 and which contains 50 evenly spaced elements."
   ]
  },
  {
   "cell_type": "code",
   "execution_count": 22,
   "id": "26e2e516",
   "metadata": {},
   "outputs": [
    {
     "name": "stdout",
     "output_type": "stream",
     "text": [
      "[12 15 18 21 24 27 30 33 36 39 42 45 48 51 54 57 60 63 66 69 72 75 78 81\n",
      " 84 87 90 93 96]\n",
      "[12.         13.7755102  15.55102041 17.32653061 19.10204082 20.87755102\n",
      " 22.65306122 24.42857143 26.20408163 27.97959184 29.75510204 31.53061224\n",
      " 33.30612245 35.08163265 36.85714286 38.63265306 40.40816327 42.18367347\n",
      " 43.95918367 45.73469388 47.51020408 49.28571429 51.06122449 52.83673469\n",
      " 54.6122449  56.3877551  58.16326531 59.93877551 61.71428571 63.48979592\n",
      " 65.26530612 67.04081633 68.81632653 70.59183673 72.36734694 74.14285714\n",
      " 75.91836735 77.69387755 79.46938776 81.24489796 83.02040816 84.79591837\n",
      " 86.57142857 88.34693878 90.12244898 91.89795918 93.67346939 95.44897959\n",
      " 97.2244898  99.        ]\n"
     ]
    }
   ],
   "source": [
    "import numpy as np\n",
    "\n",
    "arr7=np.arange(12,99,3)\n",
    "print(arr7)\n",
    "\n",
    "arr8=np.linspace(12,99,50)\n",
    "print(arr8)"
   ]
  },
  {
   "cell_type": "markdown",
   "id": "6963a9bc",
   "metadata": {},
   "source": [
    "# 6.In the array arr2 defined in Q.No. 1, what is the output of the following statements: print(arr2), print(arr2[0:1]), print(arr2[1][3]), print (arr2[1])"
   ]
  },
  {
   "cell_type": "code",
   "execution_count": 23,
   "id": "a8ccd9b3",
   "metadata": {},
   "outputs": [
    {
     "name": "stdout",
     "output_type": "stream",
     "text": [
      "[['1' '2' 'raju' '4' '5' '6']\n",
      " ['9' '8' 'rohit' '6' 'dileep' '4']]\n",
      "[['1' '2' 'raju' '4' '5' '6']]\n",
      "6\n",
      "['9' '8' 'rohit' '6' 'dileep' '4']\n"
     ]
    }
   ],
   "source": [
    "import numpy as np\n",
    "print(arr2)\n",
    "\n",
    "print(arr2[0:1])\n",
    "\n",
    "print(arr2[1][3])\n",
    "\n",
    "print(arr2[1])"
   ]
  },
  {
   "cell_type": "markdown",
   "id": "b6a19c87",
   "metadata": {},
   "source": [
    "# 7.Create a two dimensional array called arr9 with the following elements: [101, 322, 768], [233, 124, 390], [534, 122, 216]. From arr9, create an array called arr10 which contains the elements 101, 322, 390, 122 using advanced integer indexing. Create another array called arr11 which contains elements of first and second rows, and second and third columns using slicing operations."
   ]
  },
  {
   "cell_type": "code",
   "execution_count": 24,
   "id": "6eb66f2b",
   "metadata": {},
   "outputs": [
    {
     "name": "stdout",
     "output_type": "stream",
     "text": [
      "[[101 322 768]\n",
      " [233 124 390]\n",
      " [534 122 216]]\n",
      "[101 322 390 122]\n",
      "[[322 768]\n",
      " [124 390]]\n"
     ]
    }
   ],
   "source": [
    "import numpy as np\n",
    "arr9=np.array([[101, 322, 768], [233, 124, 390], [534, 122, 216]])\n",
    "print(arr9)\n",
    "\n",
    "\n",
    "row_indices = np.array ( [0, 0, 1, 2] ) # the row indices of the elements\n",
    "col_indices = np.array ( [0, 1, 2, 1] ) # the column indices of the elements\n",
    "arr10 = arr9 [row_indices, col_indices]\n",
    "print(arr10)\n",
    "\n",
    "\n",
    "arr11=arr9[0:2,1:3]\n",
    "print(arr11)"
   ]
  },
  {
   "cell_type": "markdown",
   "id": "330ae474",
   "metadata": {},
   "source": [
    "# 8.From array arr9 created in Q.No. 7, find all elements greater than 200 using boolean indexing, find all non-NaN elements, and find all non-float elements. Find the result of adding arrays arr9 and another array of 3 elements, using the concept of broadcasting."
   ]
  },
  {
   "cell_type": "code",
   "execution_count": 25,
   "id": "3c2aaf2f",
   "metadata": {},
   "outputs": [
    {
     "name": "stdout",
     "output_type": "stream",
     "text": [
      "[322 768 233 390 534 216]\n",
      "[101 322 768 233 124 390 534 122 216]\n",
      "[101 322 768 233 124 390 534 122 216]\n",
      "[[111 342 798]\n",
      " [243 144 420]\n",
      " [544 142 246]]\n"
     ]
    }
   ],
   "source": [
    "import numpy as np\n",
    "\n",
    "print(arr9[arr9>200])\n",
    "\n",
    "result1 = arr9[~np.isnan(arr9)]\n",
    "print(result1)\n",
    "\n",
    "result2 = arr9[arr9.astype(int) == arr9]\n",
    "print(result2)\n",
    "\n",
    "other = np.array([10, 20, 30])\n",
    "result = arr9 + other\n",
    "print(result)"
   ]
  },
  {
   "cell_type": "markdown",
   "id": "c7b8941b",
   "metadata": {},
   "source": [
    "# 9.For the array arr9, find its transpose. Find the result of joining the arrays arr1 and arr4 along axis 0."
   ]
  },
  {
   "cell_type": "code",
   "execution_count": 26,
   "id": "093dd6c4",
   "metadata": {},
   "outputs": [
    {
     "name": "stdout",
     "output_type": "stream",
     "text": [
      "[[101 322 768]\n",
      " [233 124 390]\n",
      " [534 122 216]]\n",
      "[1. 2. 3. 4. 5. 6.]\n",
      "[1 1 1 1 1 1]\n",
      "The transpose of arr9 is:\n",
      "[[101 233 534]\n",
      " [322 124 122]\n",
      " [768 390 216]]\n",
      "The result of joining arr1 and arr4 along axis 0 is:\n",
      "[1. 2. 3. 4. 5. 6. 1. 1. 1. 1. 1. 1.]\n"
     ]
    }
   ],
   "source": [
    "import numpy as np \n",
    "print(arr9)\n",
    "print(arr1)\n",
    "print(arr4)\n",
    "\n",
    "\n",
    "arr9_T = np.transpose(arr9) \n",
    "print(\"The transpose of arr9 is:\")\n",
    "print(arr9_T)\n",
    "\n",
    "arr1_4 = np.concatenate((arr1, arr4), axis=0)\n",
    "print(\"The result of joining arr1 and arr4 along axis 0 is:\")\n",
    "print(arr1_4)"
   ]
  },
  {
   "cell_type": "markdown",
   "id": "46674d50",
   "metadata": {},
   "source": [
    "# 10.Using any two 2-dimensional arrays, demonstrate the working of the methods, hstack, vstack, hsplit and vsplit."
   ]
  },
  {
   "cell_type": "code",
   "execution_count": 27,
   "id": "540f3f1d",
   "metadata": {},
   "outputs": [
    {
     "name": "stdout",
     "output_type": "stream",
     "text": [
      "[[101 322 768]\n",
      " [233 124 390]\n",
      " [534 122 216]]\n",
      "------------------------------\n",
      "[[111 342 798]\n",
      " [243 144 420]\n",
      " [544 142 246]]\n",
      "------------------------------\n",
      "[[101 322 768 111 342 798]\n",
      " [233 124 390 243 144 420]\n",
      " [534 122 216 544 142 246]]\n",
      "------------------------------\n",
      "[[101 322 768]\n",
      " [233 124 390]\n",
      " [534 122 216]\n",
      " [111 342 798]\n",
      " [243 144 420]\n",
      " [544 142 246]]\n",
      "------------------------------\n",
      "[array([[101, 322, 768],\n",
      "       [233, 124, 390],\n",
      "       [534, 122, 216]]), array([[111, 342, 798],\n",
      "       [243, 144, 420],\n",
      "       [544, 142, 246]])]\n",
      "------------------------------\n",
      "[array([[101, 322, 768],\n",
      "       [233, 124, 390]]), array([[534, 122, 216],\n",
      "       [111, 342, 798]]), array([[243, 144, 420],\n",
      "       [544, 142, 246]])]\n",
      "------------------------------\n"
     ]
    }
   ],
   "source": [
    "print(arr9)\n",
    "print('-'*30)\n",
    "print(result)\n",
    "print('-'*30)\n",
    "a=np.hstack((arr9,result))\n",
    "print(a)\n",
    "print('-'*30)\n",
    "b=np.vstack((arr9,result))\n",
    "print(b)\n",
    "print('-'*30)\n",
    "c=np.hsplit((a),2)\n",
    "print(c)\n",
    "print('-'*30)\n",
    "d=np.vsplit((b),3)\n",
    "print(d)\n",
    "print('-'*30)"
   ]
  },
  {
   "cell_type": "markdown",
   "id": "008d9dfa",
   "metadata": {},
   "source": [
    "# WEEK11_SESSION 07-04-2024"
   ]
  },
  {
   "cell_type": "markdown",
   "id": "feda224e",
   "metadata": {},
   "source": [
    "## Graphical User Interfaces with Tkinter\n"
   ]
  },
  {
   "cell_type": "raw",
   "id": "56cd7df8",
   "metadata": {},
   "source": [
    "1.Introduction to Graphical User Interface\n",
    "2.tkinter Graphical User Interface\n",
    "3.Geometry Management\n",
    "4.Entry and Text Widgets\n",
    "5.Menus\n",
    "6.Radio Buttons\n",
    "7.Checkbuttons\n",
    "8.Listboxes\n"
   ]
  },
  {
   "cell_type": "markdown",
   "id": "bbf53e80",
   "metadata": {},
   "source": [
    "# 1.Introduction to Graphical User Interface\n"
   ]
  },
  {
   "cell_type": "raw",
   "id": "3f123e3a",
   "metadata": {},
   "source": [
    "A Graphical User Interface (GUI) can capture the essence of an idea or a situation, often avoiding the need for a long passage of text. \n",
    "Such interfaces can save a user from the need to learn complex commands. \n",
    "The widespread use of high quality graphical interfaces has led many computer users to expect such interfaces to any software they use. \n",
    "Most programming languages either incorporate a Graphical User Interface (GUI) library or have third party libraries available.\n"
   ]
  },
  {
   "cell_type": "markdown",
   "id": "453a2180",
   "metadata": {},
   "source": [
    "# 2.tkinter Graphical User Interface\n"
   ]
  },
  {
   "cell_type": "code",
   "execution_count": null,
   "id": "c01d8c95",
   "metadata": {},
   "outputs": [],
   "source": [
    "tkinter is the standard built-in Python GUI library. \n",
    "It is built on top of the Tcl/Tk widget set that has been around for very many years for many different operating systems. \n",
    "Tcl stands for Tool Command Language while Tk is the graphical user interface toolkit for Tcl.\n",
    "Python when combined with Tkinter provides a fast and easy way to create GUI applications. \n",
    "Tkinter provides a powerful object-oriented interface to the Tk GUI toolkit.\n"
   ]
  },
  {
   "cell_type": "markdown",
   "id": "7a11e02a",
   "metadata": {},
   "source": [
    "## Steps in creating tkinter GUI Application"
   ]
  },
  {
   "cell_type": "code",
   "execution_count": null,
   "id": "0e5798f7",
   "metadata": {},
   "outputs": [],
   "source": [
    "Creating a GUI application using Tkinter is an easy task. You hae to perform the following steps −\n",
    "Import the tkinter module.\n",
    "Create the GUI application main window.\n",
    "Add one or more of the available tkinter widgets to the GUI application.\n",
    "Enter the main event loop to take action against each event triggered by the user.\n"
   ]
  },
  {
   "cell_type": "markdown",
   "id": "b9cbf364",
   "metadata": {},
   "source": [
    "# List of Widgets in tkinter"
   ]
  },
  {
   "cell_type": "raw",
   "id": "9ff3349d",
   "metadata": {},
   "source": [
    "Following the is list of widgets available in Python:\n",
    "Frame: Pure container for other widgets\n",
    "Label: Used to contain text or images\n",
    "Labelframe: Combo of a label and a frame but with extra label attributes\n",
    "Button: Similar to a Label but provides additional functionality for mouse-overs, presses, and releases, as well as keyboard activity/events\n",
    "Checkbutton: Set of boxes, of which any number can be “checked”\n",
    "Radiobutton: Set of buttons, of which only one can be “pressed” \n",
    "Entry: Single-line text field with which to collect keyboard input\n",
    "Text: Multiline text field with which to collect (or display) text from user\n",
    "Message: Similar to a Label, but displays multiline text\n",
    "Combobox: To do a single line text entry with a drop-down select list\n",
    "Listbox: To create multiple line select list\n",
    "Scrollbar: Provides scrolling functionality to supporting widgets, for example, Text, Canvas, Listbox, and Entry\n",
    "Scale: Linear “slider” widget providing an exact value at current setting; with defined starting and ending values\n",
    "Canvas: Provides ability to draw shapes (lines, ovals, polygons, rectangles); can contain images or bitmaps\n",
    "Menu: Actual list of choices “hanging” from a Menubutton from which the user can choose\n"
   ]
  },
  {
   "cell_type": "markdown",
   "id": "8b9ad41e",
   "metadata": {},
   "source": [
    "# 3.Geometry Management\n"
   ]
  },
  {
   "cell_type": "raw",
   "id": "ee4fd057",
   "metadata": {},
   "source": [
    "All Tkinter widgets have access to the specific geometry management methods, which have the purpose of organizing widgets throughout the parent widget area.\n",
    "Some of the geometry managers are:\n",
    "Grid: This geometry manager organizes widgets in a table-like structure in the parent widget.\n",
    "Packer: It packs widgets into the correct places (namely the containing parent widgets, based on your instruction), and for every succeeding widget, it looks for any remaining space into which to pack the next one. \n"
   ]
  },
  {
   "cell_type": "markdown",
   "id": "c607ca00",
   "metadata": {},
   "source": [
    "# Example tkinter GUI application"
   ]
  },
  {
   "cell_type": "raw",
   "id": "07a45743",
   "metadata": {},
   "source": [
    "# Adding a button widget\n",
    "from tkinter import *\n",
    "window = Tk()\n",
    "b1=Button(window,text=\"Execute\")\n",
    "b1.grid(row=0,column=0)\n",
    "window.mainloop()\n"
   ]
  },
  {
   "cell_type": "markdown",
   "id": "a99fed20",
   "metadata": {},
   "source": [
    "# 4.Entry and Text Widgets\n"
   ]
  },
  {
   "cell_type": "raw",
   "id": "4508c7d5",
   "metadata": {},
   "source": [
    "from tkinter import *\n",
    "window = Tk()\n",
    "b1=Button(window,text=\"Execute\")\n",
    "b1.grid(row=0,column=0)\n",
    "e1=Entry(window)\n",
    "e1.grid(row=0,column=1)\n",
    "t1=Text(window,height=1,width=20)\n",
    "t1.grid(row=0,column=2)\n",
    "window.mainloop()\n"
   ]
  },
  {
   "cell_type": "markdown",
   "id": "b7325523",
   "metadata": {},
   "source": [
    "## Connecting GUI widgets with Callback functions"
   ]
  },
  {
   "cell_type": "raw",
   "id": "8fb0336a",
   "metadata": {},
   "source": [
    "In Tkinter, a callback is Python code that is called by Tk when something happens. \n",
    "For example, the button widget provides a command callback which is called when the user clicks the button. \n",
    "You also use callbacks with event bindings. You can use any callable Python object as a callback.\n"
   ]
  },
  {
   "cell_type": "markdown",
   "id": "c31650c5",
   "metadata": {},
   "source": [
    "## Implementing a callback function"
   ]
  },
  {
   "cell_type": "code",
   "execution_count": null,
   "id": "7b160ed5",
   "metadata": {},
   "outputs": [],
   "source": [
    "from tkinter import*\n",
    "window = Tk()\n",
    "def km_to_miles():\n",
    "    miles = float(e1_val.get())*1.6\n",
    "    t1.delete(\"1.0\", END)\n",
    "    t1.insert(END,miles)\n",
    "    print('Successfully Converted')\n",
    "l1=Label(window,text=\"Enter Kilometers : \")\n",
    "l1.grid(row=0,column=0)\n",
    "e1_val=StringVar()\n",
    "e1=Entry(window,textvariable=e1_val)\n",
    "e1.grid(row=0,column=1)\n",
    "l2=Label(window,text=\"Kilometers in Miles is : \")\n",
    "l2.grid(row=1,column=0)\n",
    "t1=Text(window,height=1,width=20)\n",
    "t1.grid(row=1,column=1)\n",
    "b1=Button(window,text=\"Convert\",command=km_to_miles)\n",
    "b1.grid(row=2,column=1)\n",
    "\u000b",
    "window.mainloop()\n"
   ]
  },
  {
   "cell_type": "markdown",
   "id": "da54458c",
   "metadata": {},
   "source": [
    "## callback function"
   ]
  },
  {
   "cell_type": "raw",
   "id": "a14399c2",
   "metadata": {},
   "source": [
    "In the above example, km_to_miles is the callback function. This function is called whenever the “b1” button is pressed, which is specified through the “command” argument\n",
    "In t1.delete method, \"1.0\" and \"end\" refer to the first character and the last character of the contents in the Text widget\n",
    "e1_val is a StringVar object which is used to pass the kilometers value from the Entry widget to the callback function\n",
    "Label objects l1 and l2 are used to display prompts for Entry object e1 and Text object t1 respectively \n"
   ]
  },
  {
   "cell_type": "markdown",
   "id": "cbb68701",
   "metadata": {},
   "source": [
    "# 5.Menus\n"
   ]
  },
  {
   "cell_type": "raw",
   "id": "fe252d82",
   "metadata": {},
   "source": [
    "A menu is a list of choices which are displayed from a bar and from which the user can select one\n",
    "Use the Menu() method to create a top level menu. Store the resulting object in menubar variable. The argument of Menu() specifies the parent of this menu.\n",
    "Create a menu, again using the Menu() method and store the object in filemenu\n",
    " Add this menu to the main menu using the following command: menubar.add_cascade(label=\"File\", menu=filemenu)\n"
   ]
  },
  {
   "cell_type": "markdown",
   "id": "abf227e6",
   "metadata": {},
   "source": [
    "# Adding commands to menus"
   ]
  },
  {
   "cell_type": "markdown",
   "id": "ccbc7dbb",
   "metadata": {},
   "source": [
    "Add menu items to the menu using the add_command() method of the filemenu object. For example:\n",
    "\tfilemenu.add_command(label=\"Open\", command=hello)\n",
    " In the above statement, “Open “ is the text to be displayed, command =“hello” means the user defined function hello should be executed when this item is selected.\n",
    "Attach the menu to the parent window using the following command: window.config(menu=menubar) \n",
    "We can separate one menu item from another using the command: filemenu.add_separator()\n"
   ]
  },
  {
   "cell_type": "markdown",
   "id": "47340fa6",
   "metadata": {},
   "source": [
    "# Menus Example"
   ]
  },
  {
   "cell_type": "code",
   "execution_count": null,
   "id": "9678cc27",
   "metadata": {},
   "outputs": [],
   "source": [
    "from tkinter import*\n",
    "window=Tk()\n",
    "def hello():\n",
    "    print('Hello World')\n",
    "# create a toplevel menu in the main window\n",
    "menubar = Menu(window)\n",
    "# create a pulldown menu, and add it to the menu bar\n",
    "filemenu = Menu(menubar)\n",
    "filemenu.add_command(label=\"Open\", command=hello)\n",
    "filemenu.add_separator()\n",
    "filemenu.add_command(label=\"Exit\",command=window.destroy)\n",
    "filemenu.add_separator()\n",
    "menubar.add_cascade(label=\"File\", menu=filemenu)\n",
    "window.config(menu=menubar) \n",
    "window.mainloop()\n"
   ]
  },
  {
   "cell_type": "markdown",
   "id": "0f7b08af",
   "metadata": {},
   "source": [
    "# 6.Radio Buttons\n"
   ]
  },
  {
   "cell_type": "code",
   "execution_count": null,
   "id": "37f807f0",
   "metadata": {},
   "outputs": [],
   "source": [
    "In some real life scenarios, the user has to select only one choice among the many which are available. \n",
    "For example, the gender of a person.\n",
    "In such a case, radio button is a useful tool. A radio button displays a set of buttons among which only one can be selected.\n",
    "In the following example, three radio buttons belonging to the same group are created using the following commands:\n",
    "R1 = Radiobutton(window, text=\"Option 1\", variable=var, value=1, command=sel)\n",
    "R2 = Radiobutton(window, text=\"Option 2\", variable=var, value=2, command=sel)\n",
    "R3 = Radiobutton(window, text=\"Option 3\", variable=var, value=3, command=sel)\n",
    "\n"
   ]
  },
  {
   "cell_type": "markdown",
   "id": "2709806d",
   "metadata": {},
   "source": [
    "# Adding commands to Radio Buttons"
   ]
  },
  {
   "cell_type": "raw",
   "id": "8f427042",
   "metadata": {},
   "source": [
    "In the above statements, the first argument specifies the parent of the radio button\n",
    "The second argument is the text to be displayed alongside this radio button. \n",
    "The third argument is the group to which this radio button belongs. Note that all the three radio buttons have the same value, meaning, they all belong to the same group. \n",
    "Finally, the fourth argument specifies the function to be executed when this radio button is pressed. \n"
   ]
  },
  {
   "cell_type": "markdown",
   "id": "bdcf018c",
   "metadata": {},
   "source": [
    "# Radio Buttons Example"
   ]
  },
  {
   "cell_type": "markdown",
   "id": "1adcbbeb",
   "metadata": {},
   "source": [
    "from tkinter import*\n",
    "def sel():\n",
    "    selection = \"You selected the option \" + str(var.get())\n",
    "    label.config(text = selection)\n",
    "window = Tk()\n",
    "var = IntVar()\n",
    "R1 = Radiobutton(window, text=\"Option 1\", variable=var, value=1,command=sel)\n",
    "R1.pack()\n",
    "R2 = Radiobutton(window, text=\"Option 2\", variable=var, value=2,command=sel)\n",
    "R2.pack()\n",
    "R3 = Radiobutton(window, text=\"Option 3\", variable=var, value=3,command=sel)\n",
    "R3.pack()\n",
    "label = Label(window)\n",
    "label.pack()\n",
    "window.mainloop()\n"
   ]
  },
  {
   "cell_type": "markdown",
   "id": "0d4cf263",
   "metadata": {},
   "source": [
    "# 7.Checkbuttons\n"
   ]
  },
  {
   "cell_type": "raw",
   "id": "e188bed9",
   "metadata": {},
   "source": [
    "Checkbuttons provide a set of values among which any number of options may be selected.\n",
    " In order to create a check box, the Checkbutton method must be used. For example:\n",
    "C1 = Checkbutton(window, text = \"Python Programming\", variable = \n",
    "CheckVar1, onvalue = 1, offvalue = 0, height=5, width = 20, command=sel1)\n",
    "The first argument specifies the parent of this checkbutton. Second argument if the text to be displayed along with this checkbutton\n",
    "The third argument ‘variable’ specifies the variable in which this checkbuttons value should be stored.\n"
   ]
  },
  {
   "cell_type": "markdown",
   "id": "7568caf8",
   "metadata": {},
   "source": [
    "# Adding Checkboxes"
   ]
  },
  {
   "cell_type": "raw",
   "id": "cc161116",
   "metadata": {},
   "source": [
    "Adding the second checkbutton:\n",
    "C2 = Checkbutton(window, text = \"Tkinter\", variable = CheckVar2,                  onvalue = 1, offvalue = 0, height=5, width = 20,command=sel2)\n",
    "onvalue and offvalue are the values to be assigned to the variable whenever the checkbutton is on or off respectively\n",
    "Height and width are the height and width of the checkbutton in pixels\n",
    "Finally, command is the name of the function to be executed when this checkbutton is selected/ de-selected\n"
   ]
  },
  {
   "cell_type": "markdown",
   "id": "0d6b415a",
   "metadata": {},
   "source": [
    "## Checkboxes Example"
   ]
  },
  {
   "cell_type": "raw",
   "id": "63c4de78",
   "metadata": {},
   "source": [
    "from tkinter import*\n",
    "def sel1():\n",
    "    if (CheckVar1.get() == 1):\n",
    "        selection = \"You selected the option Python Programming\"\n",
    "    else:\n",
    "        selection = \"You de-selected the option Python Programming“\n",
    "    label.config(text = selection)\n",
    "def sel2():\n",
    "    if (CheckVar2.get() == 1):\n",
    "        selection = \"You selected the option tkinter\"\n",
    "    else:\n",
    "        selection = \"You de-selected the option tkinter\"\n",
    "    label.config(text = selection)\n",
    "window = Tk()\n",
    "CheckVar1 = IntVar()\n",
    "CheckVar2 = IntVar()\n",
    "C1 = Checkbutton(window, text = \"Python Programming\", variable = CheckVar1,\n",
    "                 onvalue = 1, offvalue = 0, height=5,\n",
    "                 width = 20, command=sel1)\n",
    "C2 = Checkbutton(window, text = \"Tkinter\", variable = CheckVar2,\n",
    "                 onvalue = 1, offvalue = 0, height=5,\n",
    "                 width = 20,command=sel2)\n",
    "C1.pack()\n",
    "C2.pack()\n",
    "label = Label(window)\n",
    "label.pack()\n",
    "window.mainloop()\n"
   ]
  },
  {
   "cell_type": "markdown",
   "id": "9e29c80b",
   "metadata": {},
   "source": [
    "# 8.Listboxes"
   ]
  },
  {
   "cell_type": "raw",
   "id": "1a1a94d4",
   "metadata": {},
   "source": [
    "The listbox widget presents the user with a list of choices from which one should be selected.\n",
    "Listbox and radio button are similar in terms of functionality.\n",
    "The choice of implementation between listbox and radio button is a design issue.\n",
    "In order to create a listbox, the Listbox() method is used. \n",
    "To populate a listbox, ie in order to insert items into the listbox, the insert() method is used. Usually, the insert() method is used with a for loop to insert elements into a listbox.\n"
   ]
  },
  {
   "cell_type": "markdown",
   "id": "af81ada7",
   "metadata": {},
   "source": [
    "## Listbox Example"
   ]
  },
  {
   "cell_type": "raw",
   "id": "260a09e7",
   "metadata": {},
   "source": [
    "from tkinter import*\n",
    "window = Tk()\n",
    "def my_upd():\n",
    "    print(l1.get(ACTIVE))     # The selected element  \n",
    "l1 = Listbox(window,height=4)\n",
    "l1.grid(row=1,column=1) \n",
    "my_list=['tkinter','NumPy','Pandas']\n",
    "for element in my_list:\n",
    "    l1.insert(END,element)\n",
    "b1 = Button(window, text='Show', width=10,bg='yellow',command=my_upd)\n",
    "b1.grid(row=1,column=2) \n",
    "window.mainloop() "
   ]
  },
  {
   "cell_type": "markdown",
   "id": "270f72c6",
   "metadata": {},
   "source": [
    "# 1. Create a simple tkinter application to display a welcome message in a window using the label widget."
   ]
  },
  {
   "cell_type": "code",
   "execution_count": 39,
   "id": "251ea0cb",
   "metadata": {},
   "outputs": [],
   "source": [
    "from tkinter import*\n",
    "window=Tk()\n",
    "label=Button(window,text=\"welcome to tkinter\")\n",
    "label.grid(row=0,column=0)\n",
    "window.mainloop()"
   ]
  },
  {
   "cell_type": "markdown",
   "id": "4a378e5e",
   "metadata": {},
   "source": [
    "# 2.Create tkinter application to accept user name in a text widget. Then display the user name with a welcome message in a label widget"
   ]
  },
  {
   "cell_type": "code",
   "execution_count": 43,
   "id": "bef0517c",
   "metadata": {},
   "outputs": [],
   "source": [
    "from tkinter import*\n",
    "window=Tk()\n",
    "def msg():\n",
    "    x=t1.get(1.0,END)\n",
    "    l1.config(text='welcome'+x)\n",
    "t1=Text(window,height=1,width=20)\n",
    "t1.pack()\n",
    "b1=Button(window,text='Execute ',command=msg)\n",
    "b1.pack()\n",
    "l1=Label(window,text='')\n",
    "l1.pack()\n",
    "window.mainloop()"
   ]
  },
  {
   "cell_type": "markdown",
   "id": "f897c841",
   "metadata": {},
   "source": [
    "# 3.Modify the tkinter application developed in Q.No. 2 so that it uses a grid layout"
   ]
  },
  {
   "cell_type": "code",
   "execution_count": 44,
   "id": "65c0a9a8",
   "metadata": {},
   "outputs": [],
   "source": [
    "from tkinter import*\n",
    "window = Tk()\n",
    "def msg():\n",
    "    x=t1.get(1.0,END)\n",
    "    l1.config(text='welcome ' +x)\n",
    "    \n",
    "t1=Text(window,height=1,width=20)\n",
    "t1.grid(row=0,column=1)\n",
    "\n",
    "b1=Button(window,text='Execute',command=msg)\n",
    "b1.grid(row=1,column=1)\n",
    "\n",
    "l1=Label(window,text='')\n",
    "l1.grid(row=2,column=1)\n",
    "window.mainloop()"
   ]
  },
  {
   "cell_type": "markdown",
   "id": "2c683d8a",
   "metadata": {},
   "source": [
    "# 4.Create a tkinter application to accept radius of a circle and display the area."
   ]
  },
  {
   "cell_type": "code",
   "execution_count": 45,
   "id": "4a99b55b",
   "metadata": {},
   "outputs": [],
   "source": [
    "from tkinter import*\n",
    "window =Tk()\n",
    "def area():\n",
    "    area_circle=float(r.get()) *float(r.get()) * 3.14\n",
    "    t1.delete('1.0',END)\n",
    "    t1.insert(END,area_circle)\n",
    "    \n",
    "l1=Label(window,text='Enter the radius for circle : ')\n",
    "l1.grid(row=0,column=0)\n",
    "r=StringVar()\n",
    "\n",
    "e1 =Entry(window,textvariable =r)\n",
    "e1.grid(row=0,column=1)\n",
    "\n",
    "l2=Label(window,text='Result:Area of a circle=')\n",
    "l2.grid(row=1,column=0)\n",
    "\n",
    "t1=Text(window,height=1,width=15)\n",
    "t1.grid(row=1,column=1)\n",
    "\n",
    "\n",
    "\n",
    "b1=Button(window,text='Calculate',command=area)\n",
    "b1.grid(row=3,column=1)\n",
    "\n",
    "window.mainloop()"
   ]
  },
  {
   "cell_type": "markdown",
   "id": "6766f836",
   "metadata": {},
   "source": [
    "# 5.Create a tkinter application to accept temperature in Celsius and convert and display the temperature in Fahrenheit."
   ]
  },
  {
   "cell_type": "code",
   "execution_count": 46,
   "id": "21b70ae5",
   "metadata": {},
   "outputs": [],
   "source": [
    "from tkinter import*\n",
    "window =Tk()\n",
    "def temp_f():\n",
    "    f= (float(e1_var.get())*(9/5))+32\n",
    "    t1.delete('1.0',END)\n",
    "    t1.insert(END,f)\n",
    "l1=Label(window,text='Enter the temperature in celsius :')\n",
    "l1.grid(row=0,column=0)\n",
    "\n",
    "e1_var =StringVar()\n",
    "\n",
    "e1=Entry(window,textvariable=e1_var)\n",
    "e1.grid(row=0,column=1)\n",
    "\n",
    "l2=Label(window,text='Temperature in Fahrenheit is : ')\n",
    "l2.grid(row=1,column=0)\n",
    "\n",
    "t1=Text(window,height=1,width=20)\n",
    "t1.grid(row=1,column=1)\n",
    "\n",
    "b1=Button(window,text='Convert',command=temp_f)\n",
    "b1.grid(row=2,column=1)\n",
    "\n",
    "\n",
    "window=mainloop()"
   ]
  },
  {
   "cell_type": "markdown",
   "id": "99255852",
   "metadata": {},
   "source": [
    "# 6. Create a tkinter application to accept distance in kilometers and convert and display distance in miles."
   ]
  },
  {
   "cell_type": "code",
   "execution_count": 47,
   "id": "7277d504",
   "metadata": {},
   "outputs": [],
   "source": [
    "from tkinter import*\n",
    "window=Tk()\n",
    "def km_to_miles():\n",
    "    miles=float(e1_var.get())*0.621371\n",
    "    t1.delete('1.0',END)\n",
    "    t1.insert(END,miles)\n",
    "    \n",
    "l1=Label(window,text='Enter distance in kilometers : ')\n",
    "l1.grid(row=0,column=0)\n",
    "\n",
    "e1_var=StringVar()\n",
    "\n",
    "e1=Entry(window,textvariable=e1_var)\n",
    "e1.grid(row=0,column=1)\n",
    "\n",
    "l2=Label(window,text='kilometers to miles is : ')\n",
    "l2.grid(row=1,column=0)\n",
    "\n",
    "t1=Text(window,height=1,width=20)\n",
    "t1.grid(row=1,column=1)\n",
    "\n",
    "b1=Button(window,text='Convert',command=km_to_miles)\n",
    "b1.grid(row=2,column=1)\n",
    "\n",
    "\n",
    "window=mainloop()"
   ]
  },
  {
   "cell_type": "markdown",
   "id": "a0ea265a",
   "metadata": {},
   "source": [
    "# 7.Create a tkinter application to display a menu with three items. A separate message should be display when each of the three menu items is clicked."
   ]
  },
  {
   "cell_type": "code",
   "execution_count": 48,
   "id": "7209614c",
   "metadata": {},
   "outputs": [],
   "source": [
    "from tkinter import*\n",
    "window=Tk()\n",
    "\n",
    "def item1():\n",
    "    print('YOU SELECTED ITEM 1!')\n",
    "\n",
    "def item2():\n",
    "    print('YOU SELECTED ITEM 2!')\n",
    "    \n",
    "def item3():\n",
    "    print('YOU SELECTED ITEM 3!')\n",
    "    \n",
    "menubar = Menu(window)\n",
    "menufile =Menu(menubar)\n",
    "\n",
    "menufile.add_command(label ='item1',command=item1)\n",
    "menufile.add_separator()\n",
    "\n",
    "menufile.add_command(label ='item2',command=item2)\n",
    "menufile.add_separator()\n",
    "\n",
    "menufile.add_command(label ='item3',command=item3)\n",
    "menufile.add_separator()\n",
    "\n",
    "menubar.add_cascade(label ='File',menu=menufile)\n",
    "window.config(menu=menubar)\n",
    "window.mainloop()"
   ]
  },
  {
   "cell_type": "markdown",
   "id": "85605a39",
   "metadata": {},
   "source": [
    "# 8.Create a tkinter application to display a radio button group with three items. A separate message should be display when each of the three radio buttons items is clicked."
   ]
  },
  {
   "cell_type": "code",
   "execution_count": 49,
   "id": "7133554d",
   "metadata": {},
   "outputs": [],
   "source": [
    "from tkinter import*\n",
    "\n",
    "window =Tk()\n",
    "\n",
    "def sel():\n",
    "    selection='you selected '+ var.get() + ' colour'\n",
    "    l1.config(text=selection)\n",
    "\n",
    "var=StringVar()\n",
    "\n",
    "R1=Radiobutton(window,text='Red',variable=var,value='Red',command=sel)\n",
    "R1.pack()\n",
    "\n",
    "R1=Radiobutton(window,text='Green',variable=var,value='Green',command=sel)\n",
    "R1.pack()\n",
    "\n",
    "R1=Radiobutton(window,text='Black',variable=var,value='Black',command=sel)\n",
    "R1.pack()\n",
    "\n",
    "l1=Label(window)\n",
    "l1.pack()\n",
    "\n",
    "window.mainloop()"
   ]
  },
  {
   "cell_type": "markdown",
   "id": "6bd86b27",
   "metadata": {},
   "source": [
    "# 9.Create a tkinter application to display three check boxes. A separate message should be display when each of the three check boxes items is selected."
   ]
  },
  {
   "cell_type": "code",
   "execution_count": 50,
   "id": "776308b7",
   "metadata": {},
   "outputs": [],
   "source": [
    "from tkinter import*\n",
    "window=Tk()\n",
    "def opt1():\n",
    "    if(c1_var.get()==1):\n",
    "        selection='you selected option1'\n",
    "    else:\n",
    "        selection='you de-selected option1'\n",
    "    l1.config(text=selection)\n",
    "def opt2():\n",
    "    if(c2_var.get()==1):\n",
    "        selection='you selected option2'\n",
    "    else:\n",
    "        selection='you de-selected option2'\n",
    "    l1.config(text=selection)\n",
    "def opt3():\n",
    "    if(c3_var.get()==1):\n",
    "        selection='you selected option3'\n",
    "    else:\n",
    "        selection='you de-selected option3'\n",
    "    l1.config(text=selection)\n",
    "c1_var =IntVar()\n",
    "c2_var =IntVar()\n",
    "c3_var =IntVar()\n",
    "c3=Checkbutton(window,text='option 1',variable=c1_var,onvalue=1,offvalue=0,command=opt1)\n",
    "c3.pack()\n",
    "c2=Checkbutton(window,text='option 2',variable=c2_var,onvalue=1,offvalue=0,command=opt2)\n",
    "c2.pack()\n",
    "c3=Checkbutton(window,text='option 3',variable=c3_var,onvalue=1,offvalue=0,command=opt3)\n",
    "c3.pack()\n",
    "l1=Label(window)\n",
    "l1.pack()\n",
    "window.mainloop()"
   ]
  },
  {
   "cell_type": "markdown",
   "id": "6fa7d4d2",
   "metadata": {},
   "source": [
    "# 10.Create a tkinter application which contains a list box with five items. Whenever an item in the list box is selected, the item’s text should be displayed"
   ]
  },
  {
   "cell_type": "code",
   "execution_count": 51,
   "id": "b33f3611",
   "metadata": {},
   "outputs": [],
   "source": [
    "from tkinter import*\n",
    "window=Tk()\n",
    "def show_item():\n",
    "    print(l1.get(ACTIVE))\n",
    "    \n",
    "l1=Listbox(window,height=5)\n",
    "l1.pack()\n",
    "\n",
    "my_list=['Chennai','Nashik','Mumbai','Delhi','Hyderabad']\n",
    "\n",
    "for item in my_list:\n",
    "    l1.insert(END,item)\n",
    "    \n",
    "b1=Button(window,text='Show',bg='yellow',command=show_item)\n",
    "b1.pack()\n",
    "\n",
    "window.mainloop()\n",
    "    "
   ]
  },
  {
   "cell_type": "markdown",
   "id": "34c70a37",
   "metadata": {},
   "source": [
    "# WEEK12_SESSION 07-04-2024"
   ]
  },
  {
   "cell_type": "markdown",
   "id": "7534479b",
   "metadata": {},
   "source": [
    "## Interacting with Databases\n"
   ]
  },
  {
   "cell_type": "markdown",
   "id": "2633a4bf",
   "metadata": {},
   "source": [
    "1.Introduction to Databases\n",
    "2.SQLite3 Database\n",
    "3.Connecting to a Database\n",
    "4.Creating a Table\n",
    "5.Insert Data into a Table\n",
    "6.View the Data from a Table\n",
    "7.Delete a row from a Table\n",
    "8.Update a row in a Table\n",
    "9.Drop a Table\n"
   ]
  },
  {
   "cell_type": "markdown",
   "id": "7dc5725c",
   "metadata": {},
   "source": [
    "# 1.Introduction to Databases\n"
   ]
  },
  {
   "cell_type": "raw",
   "id": "de4ea51a",
   "metadata": {},
   "source": [
    "# A Database is essentially a way to store and retrieve data.\n",
    "Typically, there is some form of query language used with the database to help select the information to retrieve such as SQL or Structured Query Language.\n",
    "In a Relational Database the data is held in tables. \n",
    "Each column of a table represents the attributes of the entity and each row represents the actual values\n",
    "Some of the popular and widely used RDBMS used are: Oracle, MySQL, Microsoft SQL Server, PostgreSQL, and SQLite.\n"
   ]
  },
  {
   "cell_type": "markdown",
   "id": "1483ea83",
   "metadata": {},
   "source": [
    "# 2.SQLite3 Database\n"
   ]
  },
  {
   "cell_type": "raw",
   "id": "191d9513",
   "metadata": {},
   "source": [
    "SQLite is a python library that implements a self-contained, serverless, zero-configuration, transactional SQL database engine. \n",
    "Zero-configured database means, it does not need any configuration like other databases\n",
    "In SQLite data is directly stored in a cross-platform file.\n",
    "Unlike many other databases, SQLite is not a stand-alone process\n",
    "The SQLite engine is fully self-contained, thereby eliminating the need for dependencies\n"
   ]
  },
  {
   "cell_type": "markdown",
   "id": "14747e96",
   "metadata": {},
   "source": [
    "## Working with SQLite3 Database"
   ]
  },
  {
   "cell_type": "raw",
   "id": "91eb0c64",
   "metadata": {},
   "source": [
    "In order to interact with SQLite3 database, the following 5 steps should be followed:\n",
    "Connect to Database\n",
    "Create a cursor object\n",
    "Write SQL Query\n",
    "Commit changes\n",
    "Close database connection\n"
   ]
  },
  {
   "cell_type": "markdown",
   "id": "bb794c16",
   "metadata": {},
   "source": [
    "# 3.Connecting to a Database\n"
   ]
  },
  {
   "cell_type": "raw",
   "id": "f21d9dc1",
   "metadata": {},
   "source": [
    "In order to use SQLite in Python programming, first import the sqlite module.\n",
    "Then we have to create a connection object to connect to the database \n",
    "We can create a connection object using  connect() function:\n",
    "import sqlite3 \n",
    "con = sqlite3.connect(‘<databasename>.db')\n",
    "Then, we create a cursor object in order to execute SQLite statements. It is created using the cursor() method.\n"
   ]
  },
  {
   "cell_type": "markdown",
   "id": "261d979a",
   "metadata": {},
   "source": [
    "# Creating a cursor object"
   ]
  },
  {
   "cell_type": "raw",
   "id": "0f1ec398",
   "metadata": {},
   "source": [
    "The database is connected and a cursor object is obtained as follows:\n",
    "\tcon = sqlite3.connect('mydatabase.db') \n",
    "\tcursorObj = con.cursor()\n",
    "Once the cursor object is successfully created, we can make use of the execute() method to execute SQL queries\n",
    "When a connection is created in SQLite, it will create a database file automatically if it doesn’t already exist. \n"
   ]
  },
  {
   "cell_type": "markdown",
   "id": "5bcd6ec9",
   "metadata": {},
   "source": [
    "# 4.Creating a Table\n"
   ]
  },
  {
   "cell_type": "raw",
   "id": "226f341b",
   "metadata": {},
   "source": [
    "The Create Table query of SQLite is used in the execute() method in order to create a table. Consider the following steps:\n",
    "Create a connection object.\n",
    "From the connection object, create a cursor object.\n",
    "Using the cursor object, call the execute method with create table query as the parameter.\n",
    "Create a student table with the following attributes\n",
    "student(rollno, name, gpa)\n",
    "5. \tIn order to save the changes, the commit() method is used\n"
   ]
  },
  {
   "cell_type": "markdown",
   "id": "d5608d11",
   "metadata": {},
   "source": [
    "## Table creation example"
   ]
  },
  {
   "cell_type": "raw",
   "id": "9aed4340",
   "metadata": {},
   "source": [
    "import sqlite3\n",
    "def create_table():\n",
    "    \tconn = sqlite3.connect(\"student.db\")\n",
    "   \tcur = conn.cursor()   cur.execute(\"CREATE TABLE IF NOT EXISTS student(rollno INTEGER, name TEXT,gpa REAL)\")\n",
    "    \tconn.commit()\n",
    "    \tconn.close()\n"
   ]
  },
  {
   "cell_type": "markdown",
   "id": "a3427281",
   "metadata": {},
   "source": [
    "# 5.Insert Data into a Table\n"
   ]
  },
  {
   "cell_type": "raw",
   "id": "a9855d1f",
   "metadata": {},
   "source": [
    "The INSERT INTO statement is used to actually insert data into the table. Consider the following line of code:\n",
    "\tcur.execute(\"INSERT INTO student values(?,?,?)\",(r,n,g))\n",
    "The ‘?’ symbol is a place-holder for values which have to be substituted in the query\n",
    "A direct method of inserting values into a table is as follows: \n",
    "cur.execute(\"INSERT INTO student values(101,‘Ramesh’,9.0)”)\n",
    "The above statement is a static way of inserting values into tables.\n"
   ]
  },
  {
   "cell_type": "markdown",
   "id": "3ad7e544",
   "metadata": {},
   "source": [
    "## Insert function"
   ]
  },
  {
   "cell_type": "raw",
   "id": "f7f89b2f",
   "metadata": {},
   "source": [
    "def insert(r,n,g):\n",
    "    conn = sqlite3.connect(\"student.db\")\n",
    "    cur = conn.cursor()\n",
    "    cur.execute(\"INSERT INTO student values(?,?,?)\",(r,n,g))\n",
    "    conn.commit()\n",
    "    conn.close()\n",
    "The above function is called as:\n",
    "\tinsert(101,'Ramesh',8.2)\n"
   ]
  },
  {
   "cell_type": "markdown",
   "id": "704a77f9",
   "metadata": {},
   "source": [
    "# 6.View the Data from a Table\n"
   ]
  },
  {
   "cell_type": "raw",
   "id": "70b098da",
   "metadata": {},
   "source": [
    "The ‘select’ statement is used to retrieve data from any table\n",
    "If you want to select all the columns of the data from a table, you can use the asterisk (*). \n",
    "The syntax for this will be as follows:\n",
    "select * from table_name\n",
    "The SELECT statement is executed in the execute method of the cursor object. \n"
   ]
  },
  {
   "cell_type": "markdown",
   "id": "5f58e671",
   "metadata": {},
   "source": [
    "## SELECT statement"
   ]
  },
  {
   "cell_type": "raw",
   "id": "9a4bfb88",
   "metadata": {},
   "source": [
    "For example, select all the columns of the student table, run the following code:\n",
    "cursorObj.execute('SELECT * FROM student ')\n",
    "If you want to select a few columns from a table, then specify the columns like the following:\n",
    "select column1, column2 from tables_name\n",
    "For example:\n",
    "\tcursorObj.execute('SELECT id, name FROM employees')\n"
   ]
  },
  {
   "cell_type": "markdown",
   "id": "016b8582",
   "metadata": {},
   "source": [
    "## fetchall() method"
   ]
  },
  {
   "cell_type": "raw",
   "id": "978ce204",
   "metadata": {},
   "source": [
    "Fetch all data: The select statement selects the required data from the database table. \n",
    "The fetchall() method of the cursor object is used to fetch selected data.  \n",
    "The fetchall() method of the cursor object is used to store the values into a variable. It returns a list object \n",
    "After that, we will loop through the variable and access all values, or we can simply print the list\n"
   ]
  },
  {
   "cell_type": "markdown",
   "id": "2c1cd31a",
   "metadata": {},
   "source": [
    "## view() function"
   ]
  },
  {
   "cell_type": "raw",
   "id": "0b78db12",
   "metadata": {},
   "source": [
    "In the following example, we define a view function which retrieves all the values from the student table\n",
    "\tdef view():\n",
    "    \t\tconn = sqlite3.connect(\"student.db\")\n",
    "\t\tcur = conn.cursor()\n",
    "\t\tcur.execute(\"SELECT * FROM student\")\n",
    "    \t\trows = cur.fetchall()\n",
    "\t\tconn.close()\n",
    "    \t\treturn rows\n"
   ]
  },
  {
   "cell_type": "markdown",
   "id": "87b5b333",
   "metadata": {},
   "source": [
    "## WHERE clause"
   ]
  },
  {
   "cell_type": "raw",
   "id": "ca76c993",
   "metadata": {},
   "source": [
    "If you want to fetch specific data from the database, you can use the WHERE clause. For example, we want to fetch the rollnos of those students whose gpa is greater than n, we use the following view function:\n",
    "def view(n):\n",
    "    conn = sqlite3.connect(\"student.db\")\n",
    "    cur = conn.cursor()\n",
    "    cur.execute(\"SELECT * FROM student where gpa>?“,(n,))\n",
    "    rows = cur.fetchall()\n",
    "    conn.close()\n",
    "    return rows\n"
   ]
  },
  {
   "cell_type": "markdown",
   "id": "7a9c7096",
   "metadata": {},
   "source": [
    "# 7.Delete a row from a Table\n"
   ]
  },
  {
   "cell_type": "raw",
   "id": "2554daee",
   "metadata": {},
   "source": [
    "In order to delete rows from a table, the DELETE FROM statement is used\n",
    "The DELETE statement without any condition (a where clause),  will delete all the rows in the table\n",
    "In order to specify the row to be deleted, the where clause must be specified.\n",
    "The syntax of delete statement is:\n",
    "\tDELETE FROM <table_name> where <condition>;\n"
   ]
  },
  {
   "cell_type": "markdown",
   "id": "abfc7c9c",
   "metadata": {},
   "source": [
    "## DELETE FROM statement"
   ]
  },
  {
   "cell_type": "raw",
   "id": "660f189a",
   "metadata": {},
   "source": [
    "For example, in the following delete function, only rows which match a particular rollno are deleted.\n",
    "\tdef delete(r):\n",
    "    conn = sqlite3.connect(\"student.db\")\n",
    "    cur = conn.cursor()\n",
    "    cur.execute(\"DELETE FROM student where rollno=?\",(r,))\n",
    "    conn.commit()\n",
    "    conn.close()\n"
   ]
  },
  {
   "cell_type": "markdown",
   "id": "bfeacb20",
   "metadata": {},
   "source": [
    "# 8.Update a row in a Table\n"
   ]
  },
  {
   "cell_type": "raw",
   "id": "61e4780e",
   "metadata": {},
   "source": [
    "To update a table the following steps must be followed:\n",
    "\t1. Create a connection\n",
    "\t2. Create a cursor object using the connection \n",
    "\t3. Use the UPDATE statement in the execute() method.\n",
    "Suppose that we want to update the gpa of a student. The following function called update(g,r) is used to update a row. The update statement in the execute() method is:\n",
    "cur.execute(\"UPDATE student SET gpa=? WHERE rollno=?\",(g,r))\n"
   ]
  },
  {
   "cell_type": "markdown",
   "id": "0b571c5a",
   "metadata": {},
   "source": [
    "## UPDATE statement"
   ]
  },
  {
   "cell_type": "raw",
   "id": "77c0b6ac",
   "metadata": {},
   "source": [
    "# def update(r,g):\n",
    "    conn = sqlite3.connect(\"student.db\")\n",
    "    cur = conn.cursor()\n",
    "    cur.execute(\"UPDATE student SET gpa=? WHERE rollno=?\",(g,r))\n",
    "    conn.commit()\n",
    "    conn.close()\n"
   ]
  },
  {
   "cell_type": "markdown",
   "id": "67d4218e",
   "metadata": {},
   "source": [
    "# 9.Drop a Table"
   ]
  },
  {
   "cell_type": "raw",
   "id": "694205c5",
   "metadata": {},
   "source": [
    "In order to permanently remove a table from the database, the DROP TABLE statement is used. Its syntax is:\n",
    "DROP TABLE <table_name>\n",
    "For example, the following method permanently removes the student table:\n",
    "def drop():\n",
    "    conn = sqlite3.connect(\"student.db\")\n",
    "    cur = conn.cursor()\n",
    "    cur.execute(\"DROP TABLE student\")\n",
    "    conn.commit()\n",
    "    conn.close()\n"
   ]
  },
  {
   "cell_type": "markdown",
   "id": "b4ea9081",
   "metadata": {},
   "source": [
    "## 1.Create a database called temp_db. Open a cursor to this newly created database."
   ]
  },
  {
   "cell_type": "code",
   "execution_count": 55,
   "id": "6f4df7c2",
   "metadata": {},
   "outputs": [],
   "source": [
    "import sqlite3\n",
    "def create():\n",
    "    con = sqlite3.connect(\"temp_db.db\")\n",
    "    cur = con.cursor()\n",
    "    con.commit()\n",
    "    con.close()"
   ]
  },
  {
   "cell_type": "markdown",
   "id": "750100e5",
   "metadata": {},
   "source": [
    "## 2. In the database temp_db created in Q.No.1, create a table called emp with the attributes empno, ename, salary and deptno\\"
   ]
  },
  {
   "cell_type": "code",
   "execution_count": 59,
   "id": "ad65b930",
   "metadata": {},
   "outputs": [],
   "source": [
    "import sqlite3\n",
    "def create_t():\n",
    "    con = sqlite3.connect(\"temp_db.db\")\n",
    "    cur = con.cursor()\n",
    "    cur.execute(''' Create table emp(empno int,ename varchar(30),salary int,deptno varchar(30))''')\n",
    "    con.commit()\n",
    "    con.close()"
   ]
  },
  {
   "cell_type": "markdown",
   "id": "918d7ffd",
   "metadata": {},
   "source": [
    "# 3. In the emp table created in Q.No. 2, insert any five records."
   ]
  },
  {
   "cell_type": "code",
   "execution_count": 60,
   "id": "a1feed4b",
   "metadata": {},
   "outputs": [],
   "source": [
    "def Insert(a,b,c,d):\n",
    "    con = sqlite3.connect(\"temp_db.db\")\n",
    "    cur = con.cursor()\n",
    "    cur.execute(''' Insert into emp values(?,?,?,?)''',(a,b,c,d))\n",
    "    con.commit()\n",
    "    con.close()"
   ]
  },
  {
   "cell_type": "raw",
   "id": "28267f46",
   "metadata": {},
   "source": [
    "Insert(182957,'Venktesh',80000,'da')\n",
    "Insert(182952,'Upendra',85000,'da/ds')\n",
    "Insert(182959,'Arnav',83000,2)\n",
    "Insert(182958,'Sneha',87000,1)\n",
    "Insert(182961,'Arjun',97000,'Ds')"
   ]
  },
  {
   "cell_type": "markdown",
   "id": "e975b32e",
   "metadata": {},
   "source": [
    "## 4.From the emp table, display all the records."
   ]
  },
  {
   "cell_type": "code",
   "execution_count": 62,
   "id": "9c4e5442",
   "metadata": {},
   "outputs": [],
   "source": [
    "def View():\n",
    "    con = sqlite3.connect(\"temp_db.db\")\n",
    "    cur = con.cursor()\n",
    "    cur.execute('''Select * from emp''')\n",
    "    rows = cur.fetchall()\n",
    "    con.close()\n",
    "    return rows"
   ]
  },
  {
   "cell_type": "raw",
   "id": "e8cc6135",
   "metadata": {},
   "source": [
    "View()"
   ]
  },
  {
   "cell_type": "markdown",
   "id": "3a6d05f4",
   "metadata": {},
   "source": [
    "## 5.From the emp table, display the records of only those employees whose salary is greater than 15000 and who belong to deptno 10"
   ]
  },
  {
   "cell_type": "raw",
   "id": "d7e605b8",
   "metadata": {},
   "source": [
    "Insert(182927,'Venktesh',80000,10)\n",
    "Insert(182922,'Upendra',85000,10)\n",
    "Insert(182929,'Arnav',83000,2)\n",
    "Insert(182928,'Sneha',87000,1)\n",
    "Insert(182921,'Arjun',97000,10)"
   ]
  },
  {
   "cell_type": "code",
   "execution_count": 65,
   "id": "9e281785",
   "metadata": {},
   "outputs": [],
   "source": [
    "def display():\n",
    "    con = sqlite3.connect(\"temp_db.db\")\n",
    "    cur = con.cursor()\n",
    "    cur.execute('''Select * from emp where deptno=10 order by salary>15000''')\n",
    "    rows = cur.fetchall()\n",
    "    con.close()\n",
    "    return rows"
   ]
  },
  {
   "cell_type": "raw",
   "id": "dad97fc4",
   "metadata": {},
   "source": [
    " display()"
   ]
  },
  {
   "cell_type": "markdown",
   "id": "b4be7396",
   "metadata": {},
   "source": [
    "## 6.From the emp table, display the records of only those employees whose salary lies between 20000 and 25000 and who do not belong to the deptno 10"
   ]
  },
  {
   "cell_type": "code",
   "execution_count": 67,
   "id": "1d0c3717",
   "metadata": {},
   "outputs": [],
   "source": [
    "def display6():\n",
    "    con = sqlite3.connect(\"temp_db.db\")\n",
    "    cur = con.cursor()\n",
    "    cur.execute('''Select * from emp where deptno !=10 order by salary>20000 and salary<25000''')\n",
    "    rows = cur.fetchall()\n",
    "    con.close()\n",
    "    return rows"
   ]
  },
  {
   "cell_type": "raw",
   "id": "c61a239c",
   "metadata": {},
   "source": [
    "display6()"
   ]
  },
  {
   "cell_type": "markdown",
   "id": "35c6948d",
   "metadata": {},
   "source": [
    "## 7. From the emp table, display the records of only those employees whose name begins with M."
   ]
  },
  {
   "cell_type": "raw",
   "id": "2b73ee91",
   "metadata": {},
   "source": [
    "Insert(172957,'mohan',80000,'da')\n",
    "Insert(172952,'mani shankar',85000,'da/ds')\n",
    "Insert(172959,'madhavi',83000,2)\n",
    "Insert(172958,'moksha',87000,1)\n",
    "Insert(17961,'manasa',97000,30)\n",
    "Insert(17257,'mohan',80000,30)\n",
    "Insert(17952,'mani shankar',85000,30)\n",
    "Insert(17959,'madhavi',83000,30)\n",
    "Insert(12958,'moksha',87000,30)\n",
    "Insert(12961,'manasa',97000,30)"
   ]
  },
  {
   "cell_type": "code",
   "execution_count": 68,
   "id": "625a1599",
   "metadata": {},
   "outputs": [],
   "source": [
    "def display_records():\n",
    "    con = sqlite3.connect(\"temp_db.db\")\n",
    "    cur = con.cursor()\n",
    "    cur.execute('''SELECT * FROM emp WHERE ename LIKE 'M%' ''')\n",
    "    rows = cur.fetchall()\n",
    "    con.close()\n",
    "    return rows"
   ]
  },
  {
   "cell_type": "raw",
   "id": "a3cd59a7",
   "metadata": {},
   "source": [
    "display_records()"
   ]
  },
  {
   "cell_type": "markdown",
   "id": "b8dd350b",
   "metadata": {},
   "source": [
    "## 8.In the emp table, delete the records of those employees who belong to deptno 30"
   ]
  },
  {
   "cell_type": "code",
   "execution_count": 69,
   "id": "70d93726",
   "metadata": {},
   "outputs": [],
   "source": [
    "def delete():\n",
    "    con = sqlite3.connect(\"temp_db.db\")\n",
    "    cur = con.cursor()\n",
    "    cur.execute('''DELETE FROM emp WHERE deptno = 30 ''')\n",
    "    rows = cur.fetchall()\n",
    "    con.close()\n",
    "    return rows"
   ]
  },
  {
   "cell_type": "raw",
   "id": "6eea165f",
   "metadata": {},
   "source": [
    "delete()"
   ]
  },
  {
   "cell_type": "markdown",
   "id": "73df27a5",
   "metadata": {},
   "source": [
    "## 9.In the emp table, update the salary of an employee by 10 % by accepting the empno from the user."
   ]
  },
  {
   "cell_type": "code",
   "execution_count": 71,
   "id": "c2d5df52",
   "metadata": {},
   "outputs": [],
   "source": [
    "def update(r):\n",
    "    con = sqlite3.connect(\"temp_db.db\")\n",
    "    cur = con.cursor()\n",
    "    cur.execute('''UPDATE emp SET salary = salary+salary*.1 WHERE empno = ?''',(r,))\n",
    "    con.commit()\n",
    "    con.close()"
   ]
  },
  {
   "cell_type": "raw",
   "id": "6bf712eb",
   "metadata": {},
   "source": [
    "update(182957)"
   ]
  },
  {
   "cell_type": "raw",
   "id": "16319cd6",
   "metadata": {},
   "source": [
    "View()"
   ]
  },
  {
   "cell_type": "markdown",
   "id": "4b4e8510",
   "metadata": {},
   "source": [
    "## 10 Delete the emp table."
   ]
  },
  {
   "cell_type": "code",
   "execution_count": 72,
   "id": "c62381a8",
   "metadata": {},
   "outputs": [],
   "source": [
    "def Delete():\n",
    "    con = sqlite3.connect(\"temp_db.db\")\n",
    "    cur = con.cursor()\n",
    "    cur.execute(''' Drop table emp''')\n",
    "    rows = cur.fetchall()\n",
    "    con.close()\n",
    "    return rows"
   ]
  },
  {
   "cell_type": "raw",
   "id": "9bc8449e",
   "metadata": {},
   "source": [
    "Delete()"
   ]
  },
  {
   "cell_type": "code",
   "execution_count": null,
   "id": "b1d0d7fa",
   "metadata": {},
   "outputs": [],
   "source": []
  },
  {
   "cell_type": "code",
   "execution_count": 1,
   "id": "9069c7e3",
   "metadata": {},
   "outputs": [
    {
     "name": "stdout",
     "output_type": "stream",
     "text": [
      "Enter a sentence:Apple\n",
      "The frequency of each letter in the given sentence is :  {'A': 1, 'p': 2, 'l': 1, 'e': 1}\n"
     ]
    }
   ],
   "source": [
    "sentence = input('Enter a sentence:')\n",
    "d = dict()\n",
    "for c in sentence:\n",
    "    if c not in d:\n",
    "        d[c] = 1\n",
    "    else:\n",
    "        d[c] = d[c] + 1\n",
    "print('The frequency of each letter in the given sentence is : ',d)\n"
   ]
  },
  {
   "cell_type": "code",
   "execution_count": 59,
   "id": "2b6f429f",
   "metadata": {},
   "outputs": [
    {
     "name": "stdout",
     "output_type": "stream",
     "text": [
      "Enter the number31\n",
      "31 is a prime number\n"
     ]
    }
   ],
   "source": [
    "#\"Write a python program to accept number from user and check the if it is prime or not\"\n",
    "n=int(input(\"Enter the number\"))\n",
    "if n > 1:\n",
    "    for i in range(2, n):\n",
    "        if(n % i) == 0:\n",
    "            print(n,\"is not a prime number\")\n",
    "            break\n",
    "    else:\n",
    "        print(n,\"is a prime number\")\n",
    "else:(n,\"is not a prime number\")"
   ]
  },
  {
   "cell_type": "code",
   "execution_count": 4,
   "id": "5c5bef1c",
   "metadata": {},
   "outputs": [
    {
     "name": "stdout",
     "output_type": "stream",
     "text": [
      "Enter a palindrome string: civic\n",
      "civic\n",
      "it is a palindrome\n"
     ]
    }
   ],
   "source": [
    "string=input(\"Enter a palindrome string: \")\n",
    "rev=\"\"\n",
    "for i in range(len(string)):\n",
    "    rev=string[i]+rev\n",
    "print(rev)\n",
    "if string==rev:\n",
    "    print(\"it is a palindrome\")\n",
    "else:\n",
    "    print(\"it is not a palindrome\")"
   ]
  },
  {
   "cell_type": "code",
   "execution_count": 18,
   "id": "353b3822",
   "metadata": {},
   "outputs": [
    {
     "name": "stdout",
     "output_type": "stream",
     "text": [
      "[78, 15, 8, 5, 2, 1]\n"
     ]
    }
   ],
   "source": [
    "list1=[1,2,5,8,15,78]\n",
    "list1.reverse()\n",
    "print(list1)"
   ]
  },
  {
   "cell_type": "code",
   "execution_count": 19,
   "id": "4dc37565",
   "metadata": {},
   "outputs": [
    {
     "name": "stdout",
     "output_type": "stream",
     "text": [
      "reverse of a list: [25, 19, 6, 5, 4, 3, 2, 1]\n"
     ]
    }
   ],
   "source": [
    "list1=[1,2,3,4,5,6,19,25]\n",
    "rev=[]\n",
    "for i in range(len(list1)-1,-1,-1):\n",
    "    rev.append(list1[i])\n",
    "print(\"reverse of a list:\",rev)"
   ]
  },
  {
   "cell_type": "code",
   "execution_count": null,
   "id": "f8eade7b",
   "metadata": {},
   "outputs": [],
   "source": []
  }
 ],
 "metadata": {
  "kernelspec": {
   "display_name": "Python 3 (ipykernel)",
   "language": "python",
   "name": "python3"
  },
  "language_info": {
   "codemirror_mode": {
    "name": "ipython",
    "version": 3
   },
   "file_extension": ".py",
   "mimetype": "text/x-python",
   "name": "python",
   "nbconvert_exporter": "python",
   "pygments_lexer": "ipython3",
   "version": "3.11.4"
  }
 },
 "nbformat": 4,
 "nbformat_minor": 5
}
