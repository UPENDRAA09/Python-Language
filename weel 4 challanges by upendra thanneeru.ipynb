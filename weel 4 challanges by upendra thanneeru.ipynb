{
 "cells": [
  {
   "cell_type": "markdown",
   "id": "c0b5c848",
   "metadata": {},
   "source": [
    "## 1. A set contains names which begin either with A or with B. Write a program to separate the names into two sets, one containing names beginning with A and the other containing names beginning with B"
   ]
  },
  {
   "cell_type": "code",
   "execution_count": 1,
   "id": "0ebc4f76",
   "metadata": {},
   "outputs": [
    {
     "name": "stdout",
     "output_type": "stream",
     "text": [
      "names starting with A : {'Arjun', 'Ashok', 'Arun', 'Aha', 'Arvind'}\n",
      "names starting with B : {'Bhanu', 'Bharadwaj', 'Bhagravi', 'Bramani', 'Bharat'}\n"
     ]
    }
   ],
   "source": [
    "names = {'Arun','Arjun','Arvind','Ashok','Aha','Bharat','Bharadwaj','Bhanu','Bhagravi','Bramani'}\n",
    "names_A = set()\n",
    "names_B = set()\n",
    "for name in names:\n",
    "    if name[0] == \"A\":\n",
    "        names_A.add(name)\n",
    "    elif name[0] == \"B\":\n",
    "        names_B.add(name)\n",
    "print('names starting with A :',names_A)\n",
    "print('names starting with B :',names_B)\n",
    "\n"
   ]
  },
  {
   "cell_type": "markdown",
   "id": "ae5dda3f",
   "metadata": {},
   "source": [
    "## 2. Create a list of tuples. Each tuple should contain an item and its price in float. Write a program to print each item and its price in a proper format"
   ]
  },
  {
   "cell_type": "code",
   "execution_count": 2,
   "id": "fc43cfc9",
   "metadata": {},
   "outputs": [
    {
     "name": "stdout",
     "output_type": "stream",
     "text": [
      "rice: £1.9\n",
      "veg: £3.4\n",
      "non-veg: £1.2\n",
      "fruits: £4.4\n",
      "curd: £1.5\n"
     ]
    }
   ],
   "source": [
    "products = [(\"rice\",1.941),(\"veg\",3.424),(\"non-veg\",1.245),(\"fruits\",4.423),(\"curd\",1.454)]\n",
    "for item,price in products:\n",
    "    print(f\"{item}: £{price:.1f}\")"
   ]
  },
  {
   "cell_type": "markdown",
   "id": "c9b249f7",
   "metadata": {},
   "source": [
    "## 3. Write a program that reads integers from the user and stores them in a list. Your program should continue reading values until the user enters 0. Then it should display all of the values entered by the user (except for the 0) in order from smallest to largest, with one value appearing on each line. Use either the sort method or the sorted function to sort the list."
   ]
  },
  {
   "cell_type": "code",
   "execution_count": 1,
   "id": "c996cd10",
   "metadata": {},
   "outputs": [
    {
     "name": "stdout",
     "output_type": "stream",
     "text": [
      "Enter a integer42\n",
      "Enter a integer55\n",
      "Enter a integer989\n",
      "Enter a integer4\n",
      "Enter a integer0\n",
      "the entered integers are : [4, 42, 55, 989]\n"
     ]
    }
   ],
   "source": [
    "list_is=[]\n",
    "integers=int(input(\"Enter a integer\"))\n",
    "while integers != 0:\n",
    "    list_is.append(integers)\n",
    "    integers=int(input(\"Enter a integer\"))\n",
    "    list_is.sort()\n",
    "print(\"the entered integers are :\",list_is)"
   ]
  },
  {
   "cell_type": "markdown",
   "id": "c78f1b74",
   "metadata": {},
   "source": [
    "## 4. Write a program to read a list of numbers from the user and remove the two largest and two smallest values from it. Display the list with the values removed, followed by the original list. Your program should generate an appropriate error message if the user enters less than 5 values."
   ]
  },
  {
   "cell_type": "code",
   "execution_count": 2,
   "id": "e4f792e1",
   "metadata": {},
   "outputs": [
    {
     "name": "stdout",
     "output_type": "stream",
     "text": [
      "Enter numbers separated by spaces: 9 11 25 88 99\n",
      "The list with the values removed is: [25]\n",
      "The original list is: [9, 11, 25, 88, 99]\n"
     ]
    }
   ],
   "source": [
    "user_input = input(\"Enter numbers separated by spaces: \")\n",
    "numbers = [int(x) for x in user_input.split()]\n",
    "if len(numbers) >= 5:\n",
    "    original = numbers.copy()\n",
    "    numbers.sort()\n",
    "    numbers = numbers[2:-2]\n",
    "    print(\"The list with the values removed is:\", numbers)\n",
    "    print(\"The original list is:\", original)\n",
    "else:\n",
    "    print(\"You entered less than five values!\")\n"
   ]
  },
  {
   "cell_type": "markdown",
   "id": "5e9c0fff",
   "metadata": {},
   "source": [
    "## 5. In this exercise, you will create a program that reads words from the user until the user enters a blank line. After the user enters a blank line your program should display each word entered by the user exactly once."
   ]
  },
  {
   "cell_type": "code",
   "execution_count": 4,
   "id": "f0922b40",
   "metadata": {},
   "outputs": [
    {
     "name": "stdout",
     "output_type": "stream",
     "text": [
      "Enter a word (blank line to quit): skill-lync\n",
      "Enter another word (blank line to quit): chennai\n",
      "The words you entered are:\n",
      "Enter another word (blank line to quit): tamilnadu\n",
      "The words you entered are:\n",
      "Enter another word (blank line to quit):  \n",
      "The words you entered are:\n",
      "skill-lync\n",
      "tamilnadu\n",
      "chennai\n"
     ]
    }
   ],
   "source": [
    "words = set()\n",
    "word = input(\"Enter a word (blank line to quit): \")\n",
    "while word != \" \":\n",
    "    words.add(word)\n",
    "    word = input(\"Enter another word (blank line to quit): \")\n",
    "    print(\"The words you entered are:\")\n",
    "for word in words:\n",
    "    print(word)\n"
   ]
  },
  {
   "cell_type": "markdown",
   "id": "79438454",
   "metadata": {},
   "source": [
    "## 6. Write a program that reads numbers from the user until a 0 is entered. Your program should display the average of all of the values entered by the user. Then the program should display all of the below average values, followed by all of the average values (if any), followed by all of the above average values. An appropriate label should be displayed before each list of values."
   ]
  },
  {
   "cell_type": "code",
   "execution_count": 5,
   "id": "16fd34ed",
   "metadata": {},
   "outputs": [
    {
     "name": "stdout",
     "output_type": "stream",
     "text": [
      "Enter a number (0 to n): 5\n",
      "Enter a number (0 to n): 25\n",
      "Enter a number (0 to n): 35\n",
      "Enter a number (0 to n): 45\n",
      "Enter a number (0 to n): 65\n",
      "Enter a number (0 to n): 2\n",
      "Enter a number (0 to n): 3\n",
      "Enter a number (0 to n): 4\n",
      "Enter a number (0 to n): 0\n",
      "The average of the 8 numbers is 23.00\n",
      "The below average values are:\n",
      "5.0\n",
      "2.0\n",
      "3.0\n",
      "4.0\n",
      "The average values are:\n",
      "The above average values are:\n",
      "25.0\n",
      "35.0\n",
      "45.0\n",
      "65.0\n"
     ]
    }
   ],
   "source": [
    "numbers = []\n",
    "num = float(input(\"Enter a number (0 to n): \"))\n",
    "while num != 0:\n",
    "    numbers.append(num) \n",
    "    num = float(input(\"Enter a number (0 to n): \"))\n",
    "    total = sum(numbers)\n",
    "    count = len(numbers)\n",
    "    average = total / count\n",
    "print(f\"The average of the {count} numbers is {average:.2f}\")\n",
    "below = []\n",
    "equal = []\n",
    "above = []\n",
    "for num in numbers:\n",
    "    if num < average:\n",
    "        below.append(num)\n",
    "    elif num == average:\n",
    "        equal.append(num)\n",
    "    else:\n",
    "        above.append(num)\n",
    "print(\"The below average values are:\")\n",
    "for num in below:\n",
    "    print(num)\n",
    "print(\"The average values are:\")\n",
    "for num in equal:\n",
    "    print(num)\n",
    "print(\"The above average values are:\")\n",
    "for num in above:\n",
    "    print(num)\n"
   ]
  },
  {
   "cell_type": "markdown",
   "id": "d8f359e3",
   "metadata": {},
   "source": [
    "## 7. Create a program that determines and displays the number of unique characters in a string entered by the user. For example, Hello World! has 9 unique characters while zzz has only one unique character. Use a dictionary to solve this problem."
   ]
  },
  {
   "cell_type": "code",
   "execution_count": 6,
   "id": "0e6c2e6f",
   "metadata": {},
   "outputs": [
    {
     "name": "stdout",
     "output_type": "stream",
     "text": [
      "Enter a string: skill-lync\n",
      "The number of unique characters in 'skill-lync' is 7.\n"
     ]
    }
   ],
   "source": [
    "input_string = input(\"Enter a string: \")\n",
    "char_count = {}\n",
    "for char in input_string:\n",
    "    if char in char_count:\n",
    "        char_count[char] += 1\n",
    "    else:\n",
    "        char_count[char] = 1\n",
    "unique_chars = 0\n",
    "for value in char_count.values():\n",
    "    if value == 1:\n",
    "        unique_chars += 1\n",
    "print(f\"The number of unique characters in '{input_string}' is {unique_chars}.\")\n"
   ]
  },
  {
   "cell_type": "markdown",
   "id": "694e809e",
   "metadata": {},
   "source": [
    "## 8. Two words are anagrams if they contain all of the same letters, but in a different order. For example, “evil” and “live” are anagrams because each contains one e, one i, one l, and one v. Create a program that reads two strings from the user, determines whether or not they are anagrams, and reports the result.\n",
    "\n"
   ]
  },
  {
   "cell_type": "code",
   "execution_count": 8,
   "id": "767535a8",
   "metadata": {},
   "outputs": [
    {
     "name": "stdout",
     "output_type": "stream",
     "text": [
      "Enter the first word: turn\n",
      "Enter the second word: runt\n",
      "The words are anagrams.\n"
     ]
    }
   ],
   "source": [
    "word1 = input(\"Enter the first word: \")\n",
    "word2 = input(\"Enter the second word: \")\n",
    "word1 = sorted(word1.lower())\n",
    "word2 = sorted(word2.lower())\n",
    "if word1 == word2:\n",
    "    print(\"The words are anagrams.\")\n",
    "else:\n",
    "    print(\"The words are not anagrams.\")\n"
   ]
  },
  {
   "cell_type": "markdown",
   "id": "1d93ad9b",
   "metadata": {},
   "source": [
    "## 9. An integer, n, is said to be perfect when the sum of all of the proper divisors of n is equal to n. For example, 28 is a perfect number because its proper divisors are 1, 2, 4, 7 and 14, and 1 + 2 + 4 + 7 + 14 = 28. Write a program that determines whether or not a positive integer is perfect. Your program will accept a number from the user. If that number is a perfect number then your program will display true. Otherwise it will display false.\n",
    "\n"
   ]
  },
  {
   "cell_type": "code",
   "execution_count": 5,
   "id": "68734e5d",
   "metadata": {},
   "outputs": [
    {
     "name": "stdout",
     "output_type": "stream",
     "text": [
      "Enter a positive integer: 6\n",
      "True\n"
     ]
    }
   ],
   "source": [
    "n = int(input(\"Enter a positive integer: \"))\n",
    "sum = 0\n",
    "for i in range(1, n//2 + 1):\n",
    "    if n % i == 0:\n",
    "        sum += i\n",
    "if sum == n:\n",
    "    print(\"True\")\n",
    "else:\n",
    "    print(\"False\")\n"
   ]
  },
  {
   "cell_type": "markdown",
   "id": "518a8bed",
   "metadata": {},
   "source": [
    "## 10. Write a program that finds all of the keys in a dictionary that map to a specific value. The program will take the value to search for as its input. It will display a (possibly empty) list of keys from the dictionary that map to the provided value."
   ]
  },
  {
   "cell_type": "code",
   "execution_count": 8,
   "id": "a08c7dea",
   "metadata": {},
   "outputs": [
    {
     "name": "stdout",
     "output_type": "stream",
     "text": [
      "Enter a value to search for: k\n",
      "[]\n"
     ]
    }
   ],
   "source": [
    "d = {\"a\": 1, \"b\": 2, \"c\": 3, \"d\": 2, \"e\": 1}\n",
    "value = input(\"Enter a value to search for: \")\n",
    "keys = []\n",
    "for k, v in d.items():\n",
    "    if v == value:\n",
    "        keys.append(k)\n",
    "print(keys)\n"
   ]
  },
  {
   "cell_type": "code",
   "execution_count": null,
   "id": "cbb53d88",
   "metadata": {},
   "outputs": [],
   "source": []
  }
 ],
 "metadata": {
  "kernelspec": {
   "display_name": "Python 3 (ipykernel)",
   "language": "python",
   "name": "python3"
  },
  "language_info": {
   "codemirror_mode": {
    "name": "ipython",
    "version": 3
   },
   "file_extension": ".py",
   "mimetype": "text/x-python",
   "name": "python",
   "nbconvert_exporter": "python",
   "pygments_lexer": "ipython3",
   "version": "3.11.4"
  }
 },
 "nbformat": 4,
 "nbformat_minor": 5
}
