{
 "cells": [
  {
   "cell_type": "markdown",
   "id": "c8120213",
   "metadata": {},
   "source": [
    "# week 3 challanges"
   ]
  },
  {
   "cell_type": "markdown",
   "id": "af2ec5d7",
   "metadata": {},
   "source": [
    "## Questation number 1 with solutation"
   ]
  },
  {
   "cell_type": "code",
   "execution_count": 32,
   "id": "ec79110c",
   "metadata": {},
   "outputs": [
    {
     "name": "stdout",
     "output_type": "stream",
     "text": [
      "2\n",
      "4\n",
      "6\n",
      "8\n",
      "10\n",
      "12\n",
      "14\n",
      "16\n",
      "18\n",
      "20\n",
      "22\n",
      "24\n"
     ]
    }
   ],
   "source": [
    "#Write a program to print even number using continue statement\"\n",
    "n=0\n",
    "while n < 25:\n",
    "    n += 1\n",
    "    if n % 2 == 1:\n",
    "        continue\n",
    "    print(n)\n",
    "while n >25:\n",
    "    n -=1\n",
    "    if n % 2 == 0:\n",
    "        continue \n",
    "    print(n)"
   ]
  },
  {
   "cell_type": "markdown",
   "id": "2e76ba83",
   "metadata": {},
   "source": [
    "## Questation number 2 with solutation"
   ]
  },
  {
   "cell_type": "code",
   "execution_count": 37,
   "id": "756ca5b2",
   "metadata": {},
   "outputs": [
    {
     "name": "stdout",
     "output_type": "stream",
     "text": [
      "Enter the number529\n",
      "529 is not a prime number\n"
     ]
    }
   ],
   "source": [
    "#\"Write a python program to accept number from user and check the if it is prime or not\"\n",
    "n=int(input(\"Enter the number\"))\n",
    "if n > 1:\n",
    "    for i in range(2, n):\n",
    "        if(n % i) == 0:\n",
    "            print(n,\"is not a prime number\")\n",
    "            break\n",
    "    else:\n",
    "        print(n,\"is a prime number\")\n",
    "else:(n,\"is not a prime number\")\n",
    "            "
   ]
  },
  {
   "cell_type": "markdown",
   "id": "5c115ee4",
   "metadata": {},
   "source": [
    "## Questation number 3 with solutation"
   ]
  },
  {
   "cell_type": "code",
   "execution_count": 5,
   "id": "edc02766",
   "metadata": {},
   "outputs": [
    {
     "name": "stdout",
     "output_type": "stream",
     "text": [
      "Enter the number10\n",
      "0 1 1 2 3 5 8 13 21 34 "
     ]
    }
   ],
   "source": [
    "# Write a python program to print the first 10 numbers Fibonacci series\"\n",
    "num=int(input(\"Enter the number\"))\n",
    "n1,n2=0,1\n",
    "sum=0\n",
    "if num<=0:\n",
    "    print('please enter the number greater than zero')\n",
    "else:\n",
    "    for i in range(0,num):\n",
    "        print(sum,end=\" \")\n",
    "        n1=n2\n",
    "        n2=sum\n",
    "        sum=n1+n2"
   ]
  },
  {
   "cell_type": "markdown",
   "id": "da4e2c20",
   "metadata": {},
   "source": [
    "## Questation number 4 with solutation"
   ]
  },
  {
   "cell_type": "code",
   "execution_count": 3,
   "id": "9c37bb35",
   "metadata": {},
   "outputs": [
    {
     "name": "stdout",
     "output_type": "stream",
     "text": [
      "4, 44, 444, 4444, 44444, "
     ]
    }
   ],
   "source": [
    "# Write a program to print the following series till terms 4,44,444china …..n termsnu\n",
    "def print_series(n):\n",
    "    s = 0\n",
    "    for i in range(1, n+1):\n",
    "        s = s*10 + 4\n",
    "        print(s, end=\", \")\n",
    "        \n",
    "print_series(5)\n",
    "\n",
    "\n"
   ]
  },
  {
   "cell_type": "markdown",
   "id": "76ed9fae",
   "metadata": {},
   "source": [
    "## Questation number  5 with solutation"
   ]
  },
  {
   "cell_type": "code",
   "execution_count": 4,
   "id": "3700a747",
   "metadata": {},
   "outputs": [
    {
     "name": "stdout",
     "output_type": "stream",
     "text": [
      "7x1=7 7x2=14 7x3=21 7x4=28 7x5=35 7x6=42 7x7=49 7x8=56 7x9=63 7x10=70 \n"
     ]
    }
   ],
   "source": [
    "#\"Write a program to print multiplication table of 7 using break statement.\"\n",
    "def multiplication_table(number):\n",
    "    multiplier = 1\n",
    "    while multiplier <= 11:\n",
    "        result = number * multiplier\n",
    "        if result > 71:\n",
    "            break\n",
    "        print(str(number) + \"x\" + str(multiplier) + \"=\" + str(result), end=' ')\n",
    "        multiplier += 1\n",
    "    print()\n",
    "\n",
    "multiplication_table(7)\n"
   ]
  },
  {
   "cell_type": "markdown",
   "id": "7fd210ba",
   "metadata": {},
   "source": [
    "## Questation number 6 with solutation"
   ]
  },
  {
   "cell_type": "code",
   "execution_count": 9,
   "id": "84a0d1ff",
   "metadata": {},
   "outputs": [
    {
     "name": "stdout",
     "output_type": "stream",
     "text": [
      "3439\n"
     ]
    }
   ],
   "source": [
    "#Write a program to determine how many of the numbers between 1 and 10000 contain the digit 3.\"\n",
    "count = 0\n",
    "for i in range(1, 10001):\n",
    "    if '3' in str(i):\n",
    "        count += 1\n",
    "print(count)\n"
   ]
  },
  {
   "cell_type": "markdown",
   "id": "b3b24775",
   "metadata": {},
   "source": [
    "## Questation number 7 with solutation"
   ]
  },
  {
   "cell_type": "code",
   "execution_count": 2,
   "id": "1b21a8a4",
   "metadata": {},
   "outputs": [
    {
     "name": "stdout",
     "output_type": "stream",
     "text": [
      "Enter a string: thanneeru\n",
      "Enter a letter: n\n",
      " index n is 3\n"
     ]
    }
   ],
   "source": [
    "# Given a string s, s.index('x') returns the index of the first x in s and an error if there is no x.\n",
    "# ((a) Write a program that asks the user for a string and a letter. Using a while loop, \n",
    "# the program should print the index of the first occurrence of that letter and a message if the string does not contain the letter.) \n",
    "### ((b) Write the above program using a for/break loop instead of a while loop)\"\n",
    "s = input(\"Enter a string: \")\n",
    "x = input(\"Enter a letter: \")\n",
    "index = 0\n",
    "while index <len(s):\n",
    "    if s[index] == x:\n",
    "        print(\" index\", x, \"is\", index)\n",
    "        break\n",
    "    else:\n",
    "        index += 1\n",
    "if index == len(s):\n",
    "    print(\"There is no\", x, \"in\", s)\n",
    "\n"
   ]
  },
  {
   "cell_type": "code",
   "execution_count": 7,
   "id": "86f5e64b",
   "metadata": {},
   "outputs": [
    {
     "name": "stdout",
     "output_type": "stream",
     "text": [
      "Enter a string: thanneeru\n",
      "Enter a letter: n\n",
      "The first occurrence of n is at index 3\n"
     ]
    }
   ],
   "source": [
    "s = input(\"Enter a string: \")\n",
    "x = input(\"Enter a letter: \")\n",
    "for index, char in enumerate(s):\n",
    "    if char == x:\n",
    "        break\n",
    "if index < len(s) and s[index] == x:\n",
    "    print(f\"The first occurrence of {x} is at index {index}\")\n",
    "else:\n",
    "    print(f\"The string does not contain {x}\")"
   ]
  },
  {
   "cell_type": "markdown",
   "id": "90cb8e0f",
   "metadata": {},
   "source": [
    "### Questation number 8 with solutation"
   ]
  },
  {
   "cell_type": "code",
   "execution_count": 1,
   "id": "117814b9",
   "metadata": {},
   "outputs": [
    {
     "name": "stdout",
     "output_type": "stream",
     "text": [
      "2\n",
      "4\n",
      "6\n",
      "8\n",
      "10\n",
      "12\n",
      "14\n",
      "16\n",
      "18\n",
      "20\n",
      "The Sum of Even Numbers from 1 to 20 = 110\n"
     ]
    }
   ],
   "source": [
    "# \"Write a program to calculate the sum of first 10 number using for loop.\"\n",
    "sum= 0\n",
    "for i in range(1,21):\n",
    "    if(i % 2 == 0):\n",
    "        print(\"{0}\".format(i))\n",
    "        sum= sum + i\n",
    "\n",
    "print(\"The Sum of Even Numbers from 1 to {0} = {1}\".format(i,sum))"
   ]
  },
  {
   "cell_type": "markdown",
   "id": "9d1d1871",
   "metadata": {},
   "source": [
    "### Questation number 9 with solutation"
   ]
  },
  {
   "cell_type": "code",
   "execution_count": 6,
   "id": "da58888d",
   "metadata": {},
   "outputs": [
    {
     "name": "stdout",
     "output_type": "stream",
     "text": [
      " Enter a value 6\n",
      "factorial of 6 is 720\n"
     ]
    }
   ],
   "source": [
    "# \"Write a program that computes the factorial of a number. \n",
    "# The factorial, n!, of a number n is the product of all the integers between 1 and n, including n.\"\n",
    "n=int(input(\" Enter a value \"))\n",
    "factorial=1\n",
    "for i in range(1,n+1):\n",
    "    factorial=factorial*i\n",
    "    i=i+1\n",
    "print(\"factorial of\",n,\"is\",factorial)"
   ]
  },
  {
   "cell_type": "markdown",
   "id": "019b381d",
   "metadata": {},
   "source": [
    "### Questation number 10 with solutation"
   ]
  },
  {
   "cell_type": "code",
   "execution_count": 8,
   "id": "98188ebd",
   "metadata": {},
   "outputs": [
    {
     "name": "stdout",
     "output_type": "stream",
     "text": [
      "89 21\n",
      "89 22\n",
      "89 23\n",
      "89 24\n",
      "98 21\n",
      "98 22\n",
      "98 23\n",
      "98 24\n",
      "The largest palindrome is 8813200023188\n"
     ]
    }
   ],
   "source": [
    "# Adding certain numbers to their reversals sometimes produces a palindromic number. \n",
    "# For instance, 241 + 142 = 383. Sometimes, we have to repeat the process. \n",
    "# For instance, 84 + 48 = 132 and 132 + 231 = 363. \n",
    "# Write a program that finds both two-digit numbers for which this process must be repeated more than 20 times to obtain a palindromic number.\"\n",
    "max_palindrome = 0\n",
    "for num in range(10, 100):\n",
    "    current = num\n",
    "    count = 0\n",
    "    while str(current) != str(current)[::-1] and count < 1000:\n",
    "        current = current + int(str(current)[::-1])\n",
    "        count += 1\n",
    "        if count > 20:\n",
    "            max_palindrome = current\n",
    "            print(num, count)\n",
    "print(\"The largest palindrome is\", max_palindrome)"
   ]
  },
  {
   "cell_type": "markdown",
   "id": "f1118e48",
   "metadata": {},
   "source": [
    "### Questation number 11 with solutation"
   ]
  },
  {
   "cell_type": "code",
   "execution_count": 8,
   "id": "edf7a9e7",
   "metadata": {},
   "outputs": [
    {
     "name": "stdout",
     "output_type": "stream",
     "text": [
      "1\n",
      "2\n",
      "3\n",
      "4\n",
      "5\n",
      "6\n"
     ]
    }
   ],
   "source": [
    "# \"What is the difference between break and continue statement. Provide the solution with coding examples\"\n",
    "# (solutation: the difference between break and continue statement is the break statement terminates the current loop\n",
    "#  and resume the code beiond the loop where as in continue statement it will skip the current iteration of the loop\n",
    "# and countinue with the next iteration)\n",
    "for i in range(1,10):\n",
    "    if i==7:\n",
    "        break\n",
    "    print(i)\n",
    "    \n"
   ]
  },
  {
   "cell_type": "code",
   "execution_count": 16,
   "id": "89ad47bf",
   "metadata": {},
   "outputs": [
    {
     "name": "stdout",
     "output_type": "stream",
     "text": [
      "1\n",
      "3\n",
      "5\n",
      "7\n",
      "9\n"
     ]
    }
   ],
   "source": [
    "for i in range(1,10):\n",
    "    if i % 2 == 0:\n",
    "        continue\n",
    "    print(i)"
   ]
  },
  {
   "cell_type": "markdown",
   "id": "740a032d",
   "metadata": {},
   "source": [
    "### Questation number 12 with solutation"
   ]
  },
  {
   "cell_type": "code",
   "execution_count": 24,
   "id": "fed34dce",
   "metadata": {},
   "outputs": [
    {
     "name": "stdout",
     "output_type": "stream",
     "text": [
      "The final amount is 18354.38675022431\n",
      "The compound interest is 8354.386750224308\n"
     ]
    }
   ],
   "source": [
    "# \"Write a program to calculate the interest rate is 3%, \n",
    "# compound interest of each month increases by 0.4 up to 12 months and loan of 1,00,00.\"\n",
    "rate=0.03\n",
    "duration=12\n",
    "loan=10000\n",
    "amount = loan\n",
    "ci=0\n",
    "for i in range(1,duration+1):\n",
    "    intrest=amount*rate\n",
    "    amount=amount+intrest\n",
    "    ci=ci+intrest\n",
    "    rate=rate+0.004\n",
    "print(\"The final amount is\", amount)\n",
    "print(\"The compound interest is\", ci)\n",
    "\n"
   ]
  },
  {
   "cell_type": "markdown",
   "id": "8b91105b",
   "metadata": {},
   "source": [
    "### Questation number 13 with solutation"
   ]
  },
  {
   "cell_type": "code",
   "execution_count": 1,
   "id": "71e27916",
   "metadata": {},
   "outputs": [
    {
     "name": "stdout",
     "output_type": "stream",
     "text": [
      "Enter a choice (rock, paper, scissors): scissors\n",
      "You chose scissors.\n",
      "Computer chose rock.\n",
      "You lose.\n",
      "Your score: 0\n",
      "Computer score: 1\n",
      "Enter a choice (rock, paper, scissors): rock\n",
      "You chose rock.\n",
      "Computer chose rock.\n",
      "It's a tie.\n",
      "Your score: 0\n",
      "Computer score: 1\n",
      "Enter a choice (rock, paper, scissors): paper\n",
      "You chose paper.\n",
      "Computer chose paper.\n",
      "It's a tie.\n",
      "Your score: 0\n",
      "Computer score: 1\n",
      "Enter a choice (rock, paper, scissors): scissors\n",
      "You chose scissors.\n",
      "Computer chose scissors.\n",
      "It's a tie.\n",
      "Your score: 0\n",
      "Computer score: 1\n",
      "Enter a choice (rock, paper, scissors): scissors\n",
      "You chose scissors.\n",
      "Computer chose scissors.\n",
      "It's a tie.\n",
      "Your score: 0\n",
      "Computer score: 1\n",
      "Enter a choice (rock, paper, scissors): 1\n",
      "Invalid choice. Please try again: 2\n",
      "Invalid choice. Please try again: rock\n",
      "You chose rock.\n",
      "Computer chose scissors.\n",
      "You win!\n",
      "Your score: 1\n",
      "Computer score: 1\n",
      "Enter a choice (rock, paper, scissors): rock\n",
      "You chose rock.\n",
      "Computer chose scissors.\n",
      "You win!\n",
      "Your score: 2\n",
      "Computer score: 1\n",
      "Enter a choice (rock, paper, scissors): rock\n",
      "You chose rock.\n",
      "Computer chose scissors.\n",
      "You win!\n",
      "Your score: 3\n",
      "Computer score: 1\n",
      "You won the game!\n"
     ]
    }
   ],
   "source": [
    "# \"Write a program that lets the user play Rock-Paper-Scissors against the computer. In that program there were exactly five rounds. \n",
    "# Rewrite the program so that it is a best 3 out of 5. That is, the first player to win three times is the winne\n",
    "import random\n",
    "choices = [\"rock\", \"paper\", \"scissors\"]\n",
    "rules = { \"rock\": \"scissors\",\"paper\": \"rock\",\"scissors\": \"paper\" }\n",
    "user_score = 0\n",
    "computer_score = 0\n",
    "while user_score < 3 and computer_score < 3:\n",
    "    user_choice = input(\"Enter a choice (rock, paper, scissors): \").lower()\n",
    "    while user_choice not in choices:\n",
    "        user_choice = input(\"Invalid choice. Please try again: \").lower()\n",
    "    print(f\"You chose {user_choice}.\")\n",
    "    computer_choice = random.choice(choices)\n",
    "    print(f\"Computer chose {computer_choice}.\")\n",
    "    if user_choice == computer_choice:\n",
    "        print(\"It's a tie.\")\n",
    "    elif rules[user_choice] == computer_choice:\n",
    "        print(\"You win!\")\n",
    "        user_score += 1\n",
    "    else:\n",
    "        print(\"You lose.\")\n",
    "        computer_score += 1\n",
    "    print(f\"Your score: {user_score}\")\n",
    "    print(f\"Computer score: {computer_score}\")\n",
    "if user_score == 3:\n",
    "    print(\"You won the game!\")\n",
    "else:\n",
    "    print(\"You lost the game.\")\n"
   ]
  },
  {
   "cell_type": "markdown",
   "id": "7eb47071",
   "metadata": {},
   "source": [
    "### Questation number 14 with solutation"
   ]
  },
  {
   "cell_type": "code",
   "execution_count": 7,
   "id": "36c8c5b9",
   "metadata": {},
   "outputs": [
    {
     "name": "stdout",
     "output_type": "stream",
     "text": [
      "Enter the number of values : 6\n",
      "The sum of the series is 873.1\n"
     ]
    }
   ],
   "source": [
    "# \"Write a program to print to find the sum of series .1 + 2 + 6 + 24 +120 … n terms.\"\n",
    "n = int(input(\"Enter the number of values : \"))\n",
    "sum = 0.1\n",
    "fact = 1\n",
    "for i in range(1, n + 1):\n",
    "    fact = fact * i\n",
    "    sum = sum + fact\n",
    "print(\"The sum of the series is\", sum)\n"
   ]
  },
  {
   "cell_type": "markdown",
   "id": "6d7ce68a",
   "metadata": {},
   "source": [
    "### Questation number 15 with solutation"
   ]
  },
  {
   "cell_type": "code",
   "execution_count": 3,
   "id": "72119887",
   "metadata": {},
   "outputs": [
    {
     "name": "stdout",
     "output_type": "stream",
     "text": [
      "4 5 6 7 \n",
      "5 6 7 8 \n",
      "6 7 8 9 \n",
      "7 8 9 10 \n"
     ]
    }
   ],
   "source": [
    "# \"What is the nest loop explain by using an example\"\n",
    "# (A nested loop is a loop inside another loop .it means that the inside loop will execute all its iterations for each iteration of the outer loop\n",
    "# (nested loops are used for working with multidimensional data structures,such as arrays,lists,matrices etc)\n",
    "for i in range (1,5):\n",
    "    i=i+1\n",
    "    for j in range(1,5):\n",
    "        j=j+1\n",
    "        print(i+j,end=' ')\n",
    "    print()\n"
   ]
  },
  {
   "cell_type": "code",
   "execution_count": null,
   "id": "d397900b",
   "metadata": {},
   "outputs": [],
   "source": []
  }
 ],
 "metadata": {
  "kernelspec": {
   "display_name": "Python 3 (ipykernel)",
   "language": "python",
   "name": "python3"
  },
  "language_info": {
   "codemirror_mode": {
    "name": "ipython",
    "version": 3
   },
   "file_extension": ".py",
   "mimetype": "text/x-python",
   "name": "python",
   "nbconvert_exporter": "python",
   "pygments_lexer": "ipython3",
   "version": "3.11.4"
  }
 },
 "nbformat": 4,
 "nbformat_minor": 5
}
